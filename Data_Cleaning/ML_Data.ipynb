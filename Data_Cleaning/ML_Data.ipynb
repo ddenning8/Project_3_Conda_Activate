{
 "cells": [
  {
   "cell_type": "code",
   "execution_count": 1,
   "metadata": {},
   "outputs": [],
   "source": [
    "import pandas as pd"
   ]
  },
  {
   "cell_type": "code",
   "execution_count": 2,
   "metadata": {},
   "outputs": [],
   "source": [
    "data = pd.read_excel('FY_CombinedData_Clean.xlsx')"
   ]
  },
  {
   "cell_type": "code",
   "execution_count": 3,
   "metadata": {},
   "outputs": [
    {
     "data": {
      "text/plain": [
       "Certified            214239\n",
       "Certified-Expired    177790\n",
       "Denied                24227\n",
       "Withdrawn             16563\n",
       "Name: CASE_STATUS, dtype: int64"
      ]
     },
     "execution_count": 3,
     "metadata": {},
     "output_type": "execute_result"
    }
   ],
   "source": [
    "data['CASE_STATUS'].value_counts()"
   ]
  },
  {
   "cell_type": "code",
   "execution_count": 4,
   "metadata": {},
   "outputs": [],
   "source": [
    "data2 = data[data.CASE_STATUS != 'Certified-Expired']"
   ]
  },
  {
   "cell_type": "code",
   "execution_count": 5,
   "metadata": {},
   "outputs": [],
   "source": [
    "data3 = data2[data2.CASE_STATUS != 'Withdrawn']"
   ]
  },
  {
   "cell_type": "code",
   "execution_count": 6,
   "metadata": {},
   "outputs": [
    {
     "data": {
      "text/plain": [
       "Certified    214239\n",
       "Denied        24227\n",
       "Name: CASE_STATUS, dtype: int64"
      ]
     },
     "execution_count": 6,
     "metadata": {},
     "output_type": "execute_result"
    }
   ],
   "source": [
    "data3['CASE_STATUS'].value_counts()"
   ]
  },
  {
   "cell_type": "code",
   "execution_count": 7,
   "metadata": {},
   "outputs": [],
   "source": [
    "data4 = data3[data3.CLASS_OF_ADMISSION == 'H-1B']"
   ]
  },
  {
   "cell_type": "code",
   "execution_count": 8,
   "metadata": {},
   "outputs": [
    {
     "data": {
      "text/plain": [
       "H-1B    163774\n",
       "Name: CLASS_OF_ADMISSION, dtype: int64"
      ]
     },
     "execution_count": 8,
     "metadata": {},
     "output_type": "execute_result"
    }
   ],
   "source": [
    "data4['CLASS_OF_ADMISSION'].value_counts()"
   ]
  },
  {
   "cell_type": "code",
   "execution_count": 42,
   "metadata": {},
   "outputs": [
    {
     "data": {
      "text/plain": [
       "Year         161923\n",
       "Hour           1492\n",
       "Week             41\n",
       "Month            41\n",
       "Bi-Weekly         6\n",
       "Name: WAGE_OFFER_UNIT_OF_PAY_9089, dtype: int64"
      ]
     },
     "execution_count": 42,
     "metadata": {},
     "output_type": "execute_result"
    }
   ],
   "source": [
    "data4['WAGE_OFFER_UNIT_OF_PAY_9089'].value_counts()"
   ]
  },
  {
   "cell_type": "code",
   "execution_count": 43,
   "metadata": {},
   "outputs": [],
   "source": [
    "data4 = data4[data4.WAGE_OFFER_UNIT_OF_PAY_9089 == 'Year']"
   ]
  },
  {
   "cell_type": "code",
   "execution_count": 45,
   "metadata": {},
   "outputs": [
    {
     "data": {
      "text/plain": [
       "Year    161923\n",
       "Name: WAGE_OFFER_UNIT_OF_PAY_9089, dtype: int64"
      ]
     },
     "execution_count": 45,
     "metadata": {},
     "output_type": "execute_result"
    }
   ],
   "source": [
    "data4['WAGE_OFFER_UNIT_OF_PAY_9089'].value_counts()"
   ]
  },
  {
   "cell_type": "code",
   "execution_count": 59,
   "metadata": {},
   "outputs": [
    {
     "data": {
      "text/plain": [
       "Master's       81844\n",
       "Bachelor's     62912\n",
       "Doctorate       8494\n",
       "Other           6631\n",
       "None            1155\n",
       "Associate's      573\n",
       "High School      229\n",
       "Name: FOREIGN_WORKER_INFO_EDUCATION, dtype: int64"
      ]
     },
     "execution_count": 59,
     "metadata": {},
     "output_type": "execute_result"
    }
   ],
   "source": [
    "data4['FOREIGN_WORKER_INFO_EDUCATION'].value_counts()"
   ]
  },
  {
   "cell_type": "code",
   "execution_count": 60,
   "metadata": {
    "scrolled": true
   },
   "outputs": [
    {
     "data": {
      "text/plain": [
       "Unnamed: 0                               object\n",
       "Unnamed: 1                                int64\n",
       "CASE_NUMBER                              object\n",
       "DECISION_DATE                    datetime64[ns]\n",
       "CASE_STATUS                              object\n",
       "CASE_RECEIVED_DATE               datetime64[ns]\n",
       "DECISION_ELAPSED_DAYS                     int64\n",
       "DECISION_ELAPSED_YEARS                  float64\n",
       "EMPLOYER_NAME                            object\n",
       "EMPLOYER_CITY                            object\n",
       "EMPLOYER_STATE                           object\n",
       "EMPLOYER_POSTAL_CODE                     object\n",
       "EMPLOYER_NUM_EMPLOYEES                  float64\n",
       "AGENT_FIRM_NAME                          object\n",
       "AGENT_CITY                               object\n",
       "AGENT_STATE                              object\n",
       "PW_SOC_CODE                              object\n",
       "PW_SOC_TITLE                             object\n",
       "PW_AMOUNT_9089                          float64\n",
       "WAGE_OFFER_FROM_9089                    float64\n",
       "WAGE_OFFER_UNIT_OF_PAY_9089              object\n",
       "JOB_INFO_WORK_CITY                       object\n",
       "JOB_INFO_WORK_STATE                      object\n",
       "JOB_INFO_WORK_POSTAL_CODE                object\n",
       "JOB_INFO_JOB_TITLE                       object\n",
       "JOB_INFO_EDUCATION                       object\n",
       "JOB_INFO_EDUCATION_OTHER                 object\n",
       "FOREIGN_WORKER_INFO_CITY                 object\n",
       "FOREIGN_WORKER_INFO_STATE                object\n",
       "FW_INFO_POSTAL_CODE                      object\n",
       "COUNTRY_OF_CITIZENSHIP                   object\n",
       "FW_INFO_BIRTH_COUNTRY                    object\n",
       "CLASS_OF_ADMISSION                       object\n",
       "FOREIGN_WORKER_INFO_EDUCATION            object\n",
       "FW_INFO_EDUCATION_OTHER                  object\n",
       "DECISION_DATE_YEAR                        int64\n",
       "DECISION_DATE_MONTH                       int64\n",
       "CASE_RECEIVED_DATE_YEAR                 float64\n",
       "CASE_RECEIVED_DATE_MONTH                float64\n",
       "JOB_POSTAL_CODE                          object\n",
       "dtype: object"
      ]
     },
     "execution_count": 60,
     "metadata": {},
     "output_type": "execute_result"
    }
   ],
   "source": [
    "data4.dtypes"
   ]
  },
  {
   "cell_type": "code",
   "execution_count": 61,
   "metadata": {},
   "outputs": [
    {
     "name": "stderr",
     "output_type": "stream",
     "text": [
      "/anaconda3/envs/PythonData/lib/python3.6/site-packages/ipykernel_launcher.py:1: SettingWithCopyWarning: \n",
      "A value is trying to be set on a copy of a slice from a DataFrame.\n",
      "Try using .loc[row_indexer,col_indexer] = value instead\n",
      "\n",
      "See the caveats in the documentation: http://pandas.pydata.org/pandas-docs/stable/indexing.html#indexing-view-versus-copy\n",
      "  \"\"\"Entry point for launching an IPython kernel.\n"
     ]
    }
   ],
   "source": [
    "data4['JOB_POSTAL_CODE'] = data4['JOB_INFO_WORK_POSTAL_CODE'].str[:5]"
   ]
  },
  {
   "cell_type": "code",
   "execution_count": 62,
   "metadata": {
    "scrolled": true
   },
   "outputs": [
    {
     "data": {
      "text/plain": [
       "Unnamed: 0                               object\n",
       "Unnamed: 1                                int64\n",
       "CASE_NUMBER                              object\n",
       "DECISION_DATE                    datetime64[ns]\n",
       "CASE_STATUS                              object\n",
       "CASE_RECEIVED_DATE               datetime64[ns]\n",
       "DECISION_ELAPSED_DAYS                     int64\n",
       "DECISION_ELAPSED_YEARS                  float64\n",
       "EMPLOYER_NAME                            object\n",
       "EMPLOYER_CITY                            object\n",
       "EMPLOYER_STATE                           object\n",
       "EMPLOYER_POSTAL_CODE                     object\n",
       "EMPLOYER_NUM_EMPLOYEES                  float64\n",
       "AGENT_FIRM_NAME                          object\n",
       "AGENT_CITY                               object\n",
       "AGENT_STATE                              object\n",
       "PW_SOC_CODE                              object\n",
       "PW_SOC_TITLE                             object\n",
       "PW_AMOUNT_9089                          float64\n",
       "WAGE_OFFER_FROM_9089                    float64\n",
       "WAGE_OFFER_UNIT_OF_PAY_9089              object\n",
       "JOB_INFO_WORK_CITY                       object\n",
       "JOB_INFO_WORK_STATE                      object\n",
       "JOB_INFO_WORK_POSTAL_CODE                object\n",
       "JOB_INFO_JOB_TITLE                       object\n",
       "JOB_INFO_EDUCATION                       object\n",
       "JOB_INFO_EDUCATION_OTHER                 object\n",
       "FOREIGN_WORKER_INFO_CITY                 object\n",
       "FOREIGN_WORKER_INFO_STATE                object\n",
       "FW_INFO_POSTAL_CODE                      object\n",
       "COUNTRY_OF_CITIZENSHIP                   object\n",
       "FW_INFO_BIRTH_COUNTRY                    object\n",
       "CLASS_OF_ADMISSION                       object\n",
       "FOREIGN_WORKER_INFO_EDUCATION            object\n",
       "FW_INFO_EDUCATION_OTHER                  object\n",
       "DECISION_DATE_YEAR                        int64\n",
       "DECISION_DATE_MONTH                       int64\n",
       "CASE_RECEIVED_DATE_YEAR                 float64\n",
       "CASE_RECEIVED_DATE_MONTH                float64\n",
       "JOB_POSTAL_CODE                          object\n",
       "dtype: object"
      ]
     },
     "execution_count": 62,
     "metadata": {},
     "output_type": "execute_result"
    }
   ],
   "source": [
    "data4.dtypes"
   ]
  },
  {
   "cell_type": "code",
   "execution_count": 63,
   "metadata": {
    "scrolled": true
   },
   "outputs": [
    {
     "data": {
      "text/plain": [
       "<bound method IndexOpsMixin.nunique of 25        33309\n",
       "28        77845\n",
       "35        08512\n",
       "67        96913\n",
       "68        77070\n",
       "69        60563\n",
       "70        60188\n",
       "73        60196\n",
       "75        94555\n",
       "96        60654\n",
       "98        07666\n",
       "130       33134\n",
       "143       10282\n",
       "162       08817\n",
       "168       87313\n",
       "170       01581\n",
       "171       98004\n",
       "179       94945\n",
       "191       14626\n",
       "198       10017\n",
       "199       60654\n",
       "200       60154\n",
       "201       43240\n",
       "202       60606\n",
       "203       21046\n",
       "204       60018\n",
       "205       92121\n",
       "228       11788\n",
       "250       08902\n",
       "251       32317\n",
       "          ...  \n",
       "432741    14606\n",
       "432742    14606\n",
       "432743    78753\n",
       "432746    48105\n",
       "432748    08831\n",
       "432754    30067\n",
       "432756    19406\n",
       "432760    20147\n",
       "432761    20147\n",
       "432762    93308\n",
       "432765    10504\n",
       "432768    21043\n",
       "432776    33534\n",
       "432777    94108\n",
       "432778    78746\n",
       "432782    95131\n",
       "432789    48104\n",
       "432790    33321\n",
       "432791    27101\n",
       "432792    27107\n",
       "432793    43613\n",
       "432795    94043\n",
       "432797    60611\n",
       "432798    07032\n",
       "432799    32822\n",
       "432801    94588\n",
       "432802    77086\n",
       "432806    97331\n",
       "432810    97227\n",
       "432813    78746\n",
       "Name: JOB_POSTAL_CODE, Length: 161923, dtype: object>"
      ]
     },
     "execution_count": 63,
     "metadata": {},
     "output_type": "execute_result"
    }
   ],
   "source": [
    "data4[\"JOB_POSTAL_CODE\"].nunique"
   ]
  },
  {
   "cell_type": "code",
   "execution_count": 64,
   "metadata": {
    "scrolled": true
   },
   "outputs": [
    {
     "data": {
      "text/plain": [
       "25        33309\n",
       "28        77845\n",
       "35        08512\n",
       "67        96913\n",
       "68        77070\n",
       "69        60563\n",
       "70        60188\n",
       "73        60196\n",
       "75        94555\n",
       "96        60654\n",
       "98        07666\n",
       "130       33134\n",
       "143       10282\n",
       "162       08817\n",
       "168       87313\n",
       "170       01581\n",
       "171       98004\n",
       "179       94945\n",
       "191       14626\n",
       "198       10017\n",
       "199       60654\n",
       "200       60154\n",
       "201       43240\n",
       "202       60606\n",
       "203       21046\n",
       "204       60018\n",
       "205       92121\n",
       "228       11788\n",
       "250       08902\n",
       "251       32317\n",
       "          ...  \n",
       "432741    14606\n",
       "432742    14606\n",
       "432743    78753\n",
       "432746    48105\n",
       "432748    08831\n",
       "432754    30067\n",
       "432756    19406\n",
       "432760    20147\n",
       "432761    20147\n",
       "432762    93308\n",
       "432765    10504\n",
       "432768    21043\n",
       "432776    33534\n",
       "432777    94108\n",
       "432778    78746\n",
       "432782    95131\n",
       "432789    48104\n",
       "432790    33321\n",
       "432791    27101\n",
       "432792    27107\n",
       "432793    43613\n",
       "432795    94043\n",
       "432797    60611\n",
       "432798    07032\n",
       "432799    32822\n",
       "432801    94588\n",
       "432802    77086\n",
       "432806    97331\n",
       "432810    97227\n",
       "432813    78746\n",
       "Name: JOB_POSTAL_CODE, Length: 161923, dtype: object"
      ]
     },
     "execution_count": 64,
     "metadata": {},
     "output_type": "execute_result"
    }
   ],
   "source": [
    "data4['JOB_POSTAL_CODE'].astype(str)"
   ]
  },
  {
   "cell_type": "code",
   "execution_count": 65,
   "metadata": {
    "scrolled": true
   },
   "outputs": [
    {
     "data": {
      "text/plain": [
       "Unnamed: 0                               object\n",
       "Unnamed: 1                                int64\n",
       "CASE_NUMBER                              object\n",
       "DECISION_DATE                    datetime64[ns]\n",
       "CASE_STATUS                              object\n",
       "CASE_RECEIVED_DATE               datetime64[ns]\n",
       "DECISION_ELAPSED_DAYS                     int64\n",
       "DECISION_ELAPSED_YEARS                  float64\n",
       "EMPLOYER_NAME                            object\n",
       "EMPLOYER_CITY                            object\n",
       "EMPLOYER_STATE                           object\n",
       "EMPLOYER_POSTAL_CODE                     object\n",
       "EMPLOYER_NUM_EMPLOYEES                  float64\n",
       "AGENT_FIRM_NAME                          object\n",
       "AGENT_CITY                               object\n",
       "AGENT_STATE                              object\n",
       "PW_SOC_CODE                              object\n",
       "PW_SOC_TITLE                             object\n",
       "PW_AMOUNT_9089                          float64\n",
       "WAGE_OFFER_FROM_9089                    float64\n",
       "WAGE_OFFER_UNIT_OF_PAY_9089              object\n",
       "JOB_INFO_WORK_CITY                       object\n",
       "JOB_INFO_WORK_STATE                      object\n",
       "JOB_INFO_WORK_POSTAL_CODE                object\n",
       "JOB_INFO_JOB_TITLE                       object\n",
       "JOB_INFO_EDUCATION                       object\n",
       "JOB_INFO_EDUCATION_OTHER                 object\n",
       "FOREIGN_WORKER_INFO_CITY                 object\n",
       "FOREIGN_WORKER_INFO_STATE                object\n",
       "FW_INFO_POSTAL_CODE                      object\n",
       "COUNTRY_OF_CITIZENSHIP                   object\n",
       "FW_INFO_BIRTH_COUNTRY                    object\n",
       "CLASS_OF_ADMISSION                       object\n",
       "FOREIGN_WORKER_INFO_EDUCATION            object\n",
       "FW_INFO_EDUCATION_OTHER                  object\n",
       "DECISION_DATE_YEAR                        int64\n",
       "DECISION_DATE_MONTH                       int64\n",
       "CASE_RECEIVED_DATE_YEAR                 float64\n",
       "CASE_RECEIVED_DATE_MONTH                float64\n",
       "JOB_POSTAL_CODE                          object\n",
       "dtype: object"
      ]
     },
     "execution_count": 65,
     "metadata": {},
     "output_type": "execute_result"
    }
   ],
   "source": [
    "data4.dtypes"
   ]
  },
  {
   "cell_type": "code",
   "execution_count": 66,
   "metadata": {},
   "outputs": [],
   "source": [
    "data5 = data4[['CASE_RECEIVED_DATE_YEAR', \n",
    "               'CASE_RECEIVED_DATE_MONTH', \n",
    "               'DECISION_DATE_YEAR', \n",
    "               'DECISION_DATE_MONTH', \n",
    "               'DECISION_ELAPSED_DAYS', \n",
    "               'JOB_POSTAL_CODE', \n",
    "               'WAGE_OFFER_FROM_9089', \n",
    "               'EMPLOYER_NUM_EMPLOYEES', \n",
    "               'FOREIGN_WORKER_INFO_EDUCATION', \n",
    "               'COUNTRY_OF_CITIZENSHIP', \n",
    "               'CASE_STATUS']]"
   ]
  },
  {
   "cell_type": "code",
   "execution_count": 67,
   "metadata": {},
   "outputs": [
    {
     "data": {
      "text/html": [
       "<div>\n",
       "<style scoped>\n",
       "    .dataframe tbody tr th:only-of-type {\n",
       "        vertical-align: middle;\n",
       "    }\n",
       "\n",
       "    .dataframe tbody tr th {\n",
       "        vertical-align: top;\n",
       "    }\n",
       "\n",
       "    .dataframe thead th {\n",
       "        text-align: right;\n",
       "    }\n",
       "</style>\n",
       "<table border=\"1\" class=\"dataframe\">\n",
       "  <thead>\n",
       "    <tr style=\"text-align: right;\">\n",
       "      <th></th>\n",
       "      <th>CASE_RECEIVED_DATE_YEAR</th>\n",
       "      <th>CASE_RECEIVED_DATE_MONTH</th>\n",
       "      <th>DECISION_DATE_YEAR</th>\n",
       "      <th>DECISION_DATE_MONTH</th>\n",
       "      <th>DECISION_ELAPSED_DAYS</th>\n",
       "      <th>JOB_POSTAL_CODE</th>\n",
       "      <th>WAGE_OFFER_FROM_9089</th>\n",
       "      <th>EMPLOYER_NUM_EMPLOYEES</th>\n",
       "      <th>FOREIGN_WORKER_INFO_EDUCATION</th>\n",
       "      <th>COUNTRY_OF_CITIZENSHIP</th>\n",
       "      <th>CASE_STATUS</th>\n",
       "    </tr>\n",
       "  </thead>\n",
       "  <tbody>\n",
       "    <tr>\n",
       "      <th>25</th>\n",
       "      <td>2014.0</td>\n",
       "      <td>12.0</td>\n",
       "      <td>2015</td>\n",
       "      <td>6</td>\n",
       "      <td>185</td>\n",
       "      <td>33309</td>\n",
       "      <td>82000.0</td>\n",
       "      <td>5400.0</td>\n",
       "      <td>Master's</td>\n",
       "      <td>CHINA</td>\n",
       "      <td>Certified</td>\n",
       "    </tr>\n",
       "    <tr>\n",
       "      <th>28</th>\n",
       "      <td>2014.0</td>\n",
       "      <td>7.0</td>\n",
       "      <td>2015</td>\n",
       "      <td>4</td>\n",
       "      <td>262</td>\n",
       "      <td>77845</td>\n",
       "      <td>72467.0</td>\n",
       "      <td>29000.0</td>\n",
       "      <td>Bachelor's</td>\n",
       "      <td>INDIA</td>\n",
       "      <td>Certified</td>\n",
       "    </tr>\n",
       "    <tr>\n",
       "      <th>35</th>\n",
       "      <td>2014.0</td>\n",
       "      <td>12.0</td>\n",
       "      <td>2015</td>\n",
       "      <td>6</td>\n",
       "      <td>195</td>\n",
       "      <td>08512</td>\n",
       "      <td>77500.0</td>\n",
       "      <td>8.0</td>\n",
       "      <td>Bachelor's</td>\n",
       "      <td>INDIA</td>\n",
       "      <td>Certified</td>\n",
       "    </tr>\n",
       "    <tr>\n",
       "      <th>67</th>\n",
       "      <td>2014.0</td>\n",
       "      <td>2.0</td>\n",
       "      <td>2015</td>\n",
       "      <td>6</td>\n",
       "      <td>501</td>\n",
       "      <td>96913</td>\n",
       "      <td>68869.0</td>\n",
       "      <td>35.0</td>\n",
       "      <td>Associate's</td>\n",
       "      <td>PHILIPPINES</td>\n",
       "      <td>Certified</td>\n",
       "    </tr>\n",
       "    <tr>\n",
       "      <th>68</th>\n",
       "      <td>2013.0</td>\n",
       "      <td>11.0</td>\n",
       "      <td>2015</td>\n",
       "      <td>5</td>\n",
       "      <td>537</td>\n",
       "      <td>77070</td>\n",
       "      <td>118414.0</td>\n",
       "      <td>331000.0</td>\n",
       "      <td>Master's</td>\n",
       "      <td>CHINA</td>\n",
       "      <td>Certified</td>\n",
       "    </tr>\n",
       "  </tbody>\n",
       "</table>\n",
       "</div>"
      ],
      "text/plain": [
       "    CASE_RECEIVED_DATE_YEAR  CASE_RECEIVED_DATE_MONTH  DECISION_DATE_YEAR  \\\n",
       "25                   2014.0                      12.0                2015   \n",
       "28                   2014.0                       7.0                2015   \n",
       "35                   2014.0                      12.0                2015   \n",
       "67                   2014.0                       2.0                2015   \n",
       "68                   2013.0                      11.0                2015   \n",
       "\n",
       "    DECISION_DATE_MONTH  DECISION_ELAPSED_DAYS JOB_POSTAL_CODE  \\\n",
       "25                    6                    185           33309   \n",
       "28                    4                    262           77845   \n",
       "35                    6                    195           08512   \n",
       "67                    6                    501           96913   \n",
       "68                    5                    537           77070   \n",
       "\n",
       "    WAGE_OFFER_FROM_9089  EMPLOYER_NUM_EMPLOYEES  \\\n",
       "25               82000.0                  5400.0   \n",
       "28               72467.0                 29000.0   \n",
       "35               77500.0                     8.0   \n",
       "67               68869.0                    35.0   \n",
       "68              118414.0                331000.0   \n",
       "\n",
       "   FOREIGN_WORKER_INFO_EDUCATION COUNTRY_OF_CITIZENSHIP CASE_STATUS  \n",
       "25                      Master's                  CHINA   Certified  \n",
       "28                    Bachelor's                  INDIA   Certified  \n",
       "35                    Bachelor's                  INDIA   Certified  \n",
       "67                   Associate's            PHILIPPINES   Certified  \n",
       "68                      Master's                  CHINA   Certified  "
      ]
     },
     "execution_count": 67,
     "metadata": {},
     "output_type": "execute_result"
    }
   ],
   "source": [
    "data5.head()"
   ]
  },
  {
   "cell_type": "code",
   "execution_count": 68,
   "metadata": {},
   "outputs": [],
   "source": [
    "data5.to_excel('ml_data.xlsx', index = False)"
   ]
  },
  {
   "cell_type": "code",
   "execution_count": 69,
   "metadata": {},
   "outputs": [],
   "source": [
    "ml_data = pd.read_excel('ml_data.xlsx')"
   ]
  },
  {
   "cell_type": "code",
   "execution_count": 70,
   "metadata": {},
   "outputs": [
    {
     "data": {
      "text/html": [
       "<div>\n",
       "<style scoped>\n",
       "    .dataframe tbody tr th:only-of-type {\n",
       "        vertical-align: middle;\n",
       "    }\n",
       "\n",
       "    .dataframe tbody tr th {\n",
       "        vertical-align: top;\n",
       "    }\n",
       "\n",
       "    .dataframe thead th {\n",
       "        text-align: right;\n",
       "    }\n",
       "</style>\n",
       "<table border=\"1\" class=\"dataframe\">\n",
       "  <thead>\n",
       "    <tr style=\"text-align: right;\">\n",
       "      <th></th>\n",
       "      <th>CASE_RECEIVED_DATE_YEAR</th>\n",
       "      <th>CASE_RECEIVED_DATE_MONTH</th>\n",
       "      <th>DECISION_DATE_YEAR</th>\n",
       "      <th>DECISION_DATE_MONTH</th>\n",
       "      <th>DECISION_ELAPSED_DAYS</th>\n",
       "      <th>JOB_POSTAL_CODE</th>\n",
       "      <th>WAGE_OFFER_FROM_9089</th>\n",
       "      <th>EMPLOYER_NUM_EMPLOYEES</th>\n",
       "      <th>FOREIGN_WORKER_INFO_EDUCATION</th>\n",
       "      <th>COUNTRY_OF_CITIZENSHIP</th>\n",
       "      <th>CASE_STATUS</th>\n",
       "    </tr>\n",
       "  </thead>\n",
       "  <tbody>\n",
       "    <tr>\n",
       "      <th>0</th>\n",
       "      <td>2017</td>\n",
       "      <td>12</td>\n",
       "      <td>2018</td>\n",
       "      <td>4</td>\n",
       "      <td>140</td>\n",
       "      <td>99901.0</td>\n",
       "      <td>61547.0</td>\n",
       "      <td>40.0</td>\n",
       "      <td>Bachelor's</td>\n",
       "      <td>INDIA</td>\n",
       "      <td>Certified</td>\n",
       "    </tr>\n",
       "    <tr>\n",
       "      <th>1</th>\n",
       "      <td>2014</td>\n",
       "      <td>11</td>\n",
       "      <td>2015</td>\n",
       "      <td>5</td>\n",
       "      <td>172</td>\n",
       "      <td>99801.0</td>\n",
       "      <td>58800.0</td>\n",
       "      <td>1110.0</td>\n",
       "      <td>Bachelor's</td>\n",
       "      <td>PALESTINE</td>\n",
       "      <td>Certified</td>\n",
       "    </tr>\n",
       "    <tr>\n",
       "      <th>2</th>\n",
       "      <td>2015</td>\n",
       "      <td>8</td>\n",
       "      <td>2016</td>\n",
       "      <td>4</td>\n",
       "      <td>262</td>\n",
       "      <td>99801.0</td>\n",
       "      <td>74692.0</td>\n",
       "      <td>546.0</td>\n",
       "      <td>Bachelor's</td>\n",
       "      <td>PHILIPPINES</td>\n",
       "      <td>Certified</td>\n",
       "    </tr>\n",
       "    <tr>\n",
       "      <th>3</th>\n",
       "      <td>2016</td>\n",
       "      <td>7</td>\n",
       "      <td>2016</td>\n",
       "      <td>9</td>\n",
       "      <td>76</td>\n",
       "      <td>99801.0</td>\n",
       "      <td>76981.0</td>\n",
       "      <td>550.0</td>\n",
       "      <td>Bachelor's</td>\n",
       "      <td>PHILIPPINES</td>\n",
       "      <td>Certified</td>\n",
       "    </tr>\n",
       "    <tr>\n",
       "      <th>4</th>\n",
       "      <td>2015</td>\n",
       "      <td>1</td>\n",
       "      <td>2015</td>\n",
       "      <td>8</td>\n",
       "      <td>217</td>\n",
       "      <td>99776.0</td>\n",
       "      <td>105333.0</td>\n",
       "      <td>7439.0</td>\n",
       "      <td>Doctorate</td>\n",
       "      <td>INDIA</td>\n",
       "      <td>Certified</td>\n",
       "    </tr>\n",
       "  </tbody>\n",
       "</table>\n",
       "</div>"
      ],
      "text/plain": [
       "   CASE_RECEIVED_DATE_YEAR  CASE_RECEIVED_DATE_MONTH  DECISION_DATE_YEAR  \\\n",
       "0                     2017                        12                2018   \n",
       "1                     2014                        11                2015   \n",
       "2                     2015                         8                2016   \n",
       "3                     2016                         7                2016   \n",
       "4                     2015                         1                2015   \n",
       "\n",
       "   DECISION_DATE_MONTH  DECISION_ELAPSED_DAYS  JOB_POSTAL_CODE  \\\n",
       "0                    4                    140          99901.0   \n",
       "1                    5                    172          99801.0   \n",
       "2                    4                    262          99801.0   \n",
       "3                    9                     76          99801.0   \n",
       "4                    8                    217          99776.0   \n",
       "\n",
       "   WAGE_OFFER_FROM_9089  EMPLOYER_NUM_EMPLOYEES FOREIGN_WORKER_INFO_EDUCATION  \\\n",
       "0               61547.0                    40.0                    Bachelor's   \n",
       "1               58800.0                  1110.0                    Bachelor's   \n",
       "2               74692.0                   546.0                    Bachelor's   \n",
       "3               76981.0                   550.0                    Bachelor's   \n",
       "4              105333.0                  7439.0                     Doctorate   \n",
       "\n",
       "  COUNTRY_OF_CITIZENSHIP CASE_STATUS  \n",
       "0                  INDIA   Certified  \n",
       "1              PALESTINE   Certified  \n",
       "2            PHILIPPINES   Certified  \n",
       "3            PHILIPPINES   Certified  \n",
       "4                  INDIA   Certified  "
      ]
     },
     "execution_count": 70,
     "metadata": {},
     "output_type": "execute_result"
    }
   ],
   "source": [
    "ml_data.head()"
   ]
  },
  {
   "cell_type": "code",
   "execution_count": 71,
   "metadata": {},
   "outputs": [
    {
     "data": {
      "text/plain": [
       "CASE_RECEIVED_DATE_YEAR            int64\n",
       "CASE_RECEIVED_DATE_MONTH           int64\n",
       "DECISION_DATE_YEAR                 int64\n",
       "DECISION_DATE_MONTH                int64\n",
       "DECISION_ELAPSED_DAYS              int64\n",
       "JOB_POSTAL_CODE                  float64\n",
       "WAGE_OFFER_FROM_9089             float64\n",
       "EMPLOYER_NUM_EMPLOYEES           float64\n",
       "FOREIGN_WORKER_INFO_EDUCATION     object\n",
       "COUNTRY_OF_CITIZENSHIP            object\n",
       "CASE_STATUS                       object\n",
       "dtype: object"
      ]
     },
     "execution_count": 71,
     "metadata": {},
     "output_type": "execute_result"
    }
   ],
   "source": [
    "ml_data.dtypes"
   ]
  },
  {
   "cell_type": "code",
   "execution_count": 72,
   "metadata": {},
   "outputs": [
    {
     "data": {
      "text/plain": [
       "CASE_RECEIVED_DATE_YEAR          161910\n",
       "CASE_RECEIVED_DATE_MONTH         161910\n",
       "DECISION_DATE_YEAR               161910\n",
       "DECISION_DATE_MONTH              161910\n",
       "DECISION_ELAPSED_DAYS            161910\n",
       "JOB_POSTAL_CODE                  161906\n",
       "WAGE_OFFER_FROM_9089             161907\n",
       "EMPLOYER_NUM_EMPLOYEES           161899\n",
       "FOREIGN_WORKER_INFO_EDUCATION    161825\n",
       "COUNTRY_OF_CITIZENSHIP           161908\n",
       "CASE_STATUS                      161910\n",
       "dtype: int64"
      ]
     },
     "execution_count": 72,
     "metadata": {},
     "output_type": "execute_result"
    }
   ],
   "source": [
    "ml_data.count()"
   ]
  },
  {
   "cell_type": "code",
   "execution_count": 74,
   "metadata": {},
   "outputs": [],
   "source": [
    "ml_data.to_csv('ml_data.csv', index = False)"
   ]
  },
  {
   "cell_type": "code",
   "execution_count": null,
   "metadata": {},
   "outputs": [],
   "source": []
  }
 ],
 "metadata": {
  "kernelspec": {
   "display_name": "Python 3",
   "language": "python",
   "name": "python3"
  },
  "language_info": {
   "codemirror_mode": {
    "name": "ipython",
    "version": 3
   },
   "file_extension": ".py",
   "mimetype": "text/x-python",
   "name": "python",
   "nbconvert_exporter": "python",
   "pygments_lexer": "ipython3",
   "version": "3.6.8"
  }
 },
 "nbformat": 4,
 "nbformat_minor": 2
}
