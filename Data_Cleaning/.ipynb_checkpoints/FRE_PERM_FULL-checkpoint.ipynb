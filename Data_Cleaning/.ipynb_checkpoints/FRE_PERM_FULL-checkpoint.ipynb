{
 "cells": [
  {
   "cell_type": "code",
   "execution_count": 1,
   "metadata": {},
   "outputs": [],
   "source": [
    "import pandas as pd\n",
    "import numpy as np"
   ]
  },
  {
   "cell_type": "code",
   "execution_count": 2,
   "metadata": {},
   "outputs": [],
   "source": [
    "data = pd.read_csv('../Resources/GREEN_CARD_FULL.csv')"
   ]
  },
  {
   "cell_type": "code",
   "execution_count": 3,
   "metadata": {},
   "outputs": [
    {
     "data": {
      "text/html": [
       "<div>\n",
       "<style scoped>\n",
       "    .dataframe tbody tr th:only-of-type {\n",
       "        vertical-align: middle;\n",
       "    }\n",
       "\n",
       "    .dataframe tbody tr th {\n",
       "        vertical-align: top;\n",
       "    }\n",
       "\n",
       "    .dataframe thead th {\n",
       "        text-align: right;\n",
       "    }\n",
       "</style>\n",
       "<table border=\"1\" class=\"dataframe\">\n",
       "  <thead>\n",
       "    <tr style=\"text-align: right;\">\n",
       "      <th></th>\n",
       "      <th>CASE_STATUS</th>\n",
       "      <th>DECISION_DATE</th>\n",
       "      <th>CASE_RECEIVED_DATE</th>\n",
       "      <th>DAYS_TIL_DECISION</th>\n",
       "      <th>EMPLOYER_NAME</th>\n",
       "      <th>EMPLOYER_CITY</th>\n",
       "      <th>EMPLOYER_STATE</th>\n",
       "      <th>EMPLOYER_ZIP_CODE</th>\n",
       "      <th>EMPLOYER_NUM_EMPLOYEES</th>\n",
       "      <th>PW_AMOUNT_9089</th>\n",
       "      <th>WAGE_OFFER_FROM_9089</th>\n",
       "      <th>WAGE_OFFER_UNIT_OF_PAY_9089</th>\n",
       "      <th>JOB_INFO_JOB_TITLE</th>\n",
       "      <th>JOB_INFO_EDUCATION</th>\n",
       "      <th>DECISION_DATE_YEAR</th>\n",
       "      <th>DECISION_DATE_MONTH</th>\n",
       "      <th>CASE_RECEIVED_DATE_YEAR</th>\n",
       "      <th>CASE_RECEIVED_DATE_MONTH</th>\n",
       "      <th>COUNTRY_OF_CITIZENSHIP</th>\n",
       "      <th>CLASS_OF_ADMISSION</th>\n",
       "    </tr>\n",
       "  </thead>\n",
       "  <tbody>\n",
       "    <tr>\n",
       "      <th>0</th>\n",
       "      <td>CERTIFIED</td>\n",
       "      <td>2015-08-27</td>\n",
       "      <td>2015-02-02</td>\n",
       "      <td>206</td>\n",
       "      <td>DEUTSCHE BANK</td>\n",
       "      <td>NEW YORK</td>\n",
       "      <td>NEW YORK</td>\n",
       "      <td>10005</td>\n",
       "      <td>98000.0</td>\n",
       "      <td>220813.0</td>\n",
       "      <td>950000.0</td>\n",
       "      <td>Year</td>\n",
       "      <td>MANAGING DIRECTOR, FOREIGN EXCHANGE SALES</td>\n",
       "      <td>Master's</td>\n",
       "      <td>2015</td>\n",
       "      <td>8</td>\n",
       "      <td>2015.0</td>\n",
       "      <td>2.0</td>\n",
       "      <td>NETHERLANDS</td>\n",
       "      <td>H-1B</td>\n",
       "    </tr>\n",
       "    <tr>\n",
       "      <th>1</th>\n",
       "      <td>DENIED</td>\n",
       "      <td>2015-03-20</td>\n",
       "      <td>2014-10-27</td>\n",
       "      <td>144</td>\n",
       "      <td>ENKITEC L.P.</td>\n",
       "      <td>IRVING</td>\n",
       "      <td>TEXAS</td>\n",
       "      <td>75038</td>\n",
       "      <td>61.0</td>\n",
       "      <td>93870.0</td>\n",
       "      <td>938000.0</td>\n",
       "      <td>Year</td>\n",
       "      <td>SENIOR TECHNICAL CONSULTANT</td>\n",
       "      <td>Bachelor's</td>\n",
       "      <td>2015</td>\n",
       "      <td>3</td>\n",
       "      <td>2014.0</td>\n",
       "      <td>10.0</td>\n",
       "      <td>PHILIPPINES</td>\n",
       "      <td>H-1B</td>\n",
       "    </tr>\n",
       "    <tr>\n",
       "      <th>2</th>\n",
       "      <td>WITHDRAWN</td>\n",
       "      <td>2016-12-28</td>\n",
       "      <td>2016-12-12</td>\n",
       "      <td>16</td>\n",
       "      <td>ZIONS BANK / ZMSC</td>\n",
       "      <td>SALT LAKE CITY</td>\n",
       "      <td>UTAH</td>\n",
       "      <td>84133</td>\n",
       "      <td>10000.0</td>\n",
       "      <td>81536.0</td>\n",
       "      <td>930000.0</td>\n",
       "      <td>Year</td>\n",
       "      <td>INFORMATION SECURITY ANALYST</td>\n",
       "      <td>Master's</td>\n",
       "      <td>2016</td>\n",
       "      <td>12</td>\n",
       "      <td>2016.0</td>\n",
       "      <td>12.0</td>\n",
       "      <td>INDIA</td>\n",
       "      <td>H-1B</td>\n",
       "    </tr>\n",
       "    <tr>\n",
       "      <th>3</th>\n",
       "      <td>CERTIFIED-EXPIRED</td>\n",
       "      <td>2015-10-28</td>\n",
       "      <td>2015-04-13</td>\n",
       "      <td>198</td>\n",
       "      <td>XCEED TECHNOLOGIES, INC.</td>\n",
       "      <td>SOUTH RIDING</td>\n",
       "      <td>VIRGINIA</td>\n",
       "      <td>20152</td>\n",
       "      <td>64.0</td>\n",
       "      <td>91354.0</td>\n",
       "      <td>920000.0</td>\n",
       "      <td>Year</td>\n",
       "      <td>RF ENGINEER</td>\n",
       "      <td>Master's</td>\n",
       "      <td>2015</td>\n",
       "      <td>10</td>\n",
       "      <td>2015.0</td>\n",
       "      <td>4.0</td>\n",
       "      <td>INDIA</td>\n",
       "      <td>H-1B</td>\n",
       "    </tr>\n",
       "    <tr>\n",
       "      <th>4</th>\n",
       "      <td>CERTIFIED-EXPIRED</td>\n",
       "      <td>2014-10-14</td>\n",
       "      <td>2014-05-09</td>\n",
       "      <td>158</td>\n",
       "      <td>CENTRAL BUSINESS SOLUTIONS LLC</td>\n",
       "      <td>NEWARK</td>\n",
       "      <td>CALIFORNIA</td>\n",
       "      <td>94560</td>\n",
       "      <td>15.0</td>\n",
       "      <td>89502.0</td>\n",
       "      <td>889502.0</td>\n",
       "      <td>Year</td>\n",
       "      <td>QA ENGINEER</td>\n",
       "      <td>Master's</td>\n",
       "      <td>2014</td>\n",
       "      <td>10</td>\n",
       "      <td>2014.0</td>\n",
       "      <td>5.0</td>\n",
       "      <td>INDIA</td>\n",
       "      <td>H-1B</td>\n",
       "    </tr>\n",
       "  </tbody>\n",
       "</table>\n",
       "</div>"
      ],
      "text/plain": [
       "         CASE_STATUS DECISION_DATE CASE_RECEIVED_DATE  DAYS_TIL_DECISION  \\\n",
       "0          CERTIFIED    2015-08-27         2015-02-02                206   \n",
       "1             DENIED    2015-03-20         2014-10-27                144   \n",
       "2          WITHDRAWN    2016-12-28         2016-12-12                 16   \n",
       "3  CERTIFIED-EXPIRED    2015-10-28         2015-04-13                198   \n",
       "4  CERTIFIED-EXPIRED    2014-10-14         2014-05-09                158   \n",
       "\n",
       "                    EMPLOYER_NAME   EMPLOYER_CITY EMPLOYER_STATE  \\\n",
       "0                   DEUTSCHE BANK        NEW YORK       NEW YORK   \n",
       "1                    ENKITEC L.P.          IRVING          TEXAS   \n",
       "2               ZIONS BANK / ZMSC  SALT LAKE CITY           UTAH   \n",
       "3        XCEED TECHNOLOGIES, INC.    SOUTH RIDING       VIRGINIA   \n",
       "4  CENTRAL BUSINESS SOLUTIONS LLC          NEWARK     CALIFORNIA   \n",
       "\n",
       "   EMPLOYER_ZIP_CODE  EMPLOYER_NUM_EMPLOYEES  PW_AMOUNT_9089  \\\n",
       "0              10005                 98000.0        220813.0   \n",
       "1              75038                    61.0         93870.0   \n",
       "2              84133                 10000.0         81536.0   \n",
       "3              20152                    64.0         91354.0   \n",
       "4              94560                    15.0         89502.0   \n",
       "\n",
       "   WAGE_OFFER_FROM_9089 WAGE_OFFER_UNIT_OF_PAY_9089  \\\n",
       "0              950000.0                        Year   \n",
       "1              938000.0                        Year   \n",
       "2              930000.0                        Year   \n",
       "3              920000.0                        Year   \n",
       "4              889502.0                        Year   \n",
       "\n",
       "                          JOB_INFO_JOB_TITLE JOB_INFO_EDUCATION  \\\n",
       "0  MANAGING DIRECTOR, FOREIGN EXCHANGE SALES           Master's   \n",
       "1                SENIOR TECHNICAL CONSULTANT         Bachelor's   \n",
       "2               INFORMATION SECURITY ANALYST           Master's   \n",
       "3                                RF ENGINEER           Master's   \n",
       "4                                QA ENGINEER           Master's   \n",
       "\n",
       "   DECISION_DATE_YEAR  DECISION_DATE_MONTH  CASE_RECEIVED_DATE_YEAR  \\\n",
       "0                2015                    8                   2015.0   \n",
       "1                2015                    3                   2014.0   \n",
       "2                2016                   12                   2016.0   \n",
       "3                2015                   10                   2015.0   \n",
       "4                2014                   10                   2014.0   \n",
       "\n",
       "   CASE_RECEIVED_DATE_MONTH COUNTRY_OF_CITIZENSHIP CLASS_OF_ADMISSION  \n",
       "0                       2.0            NETHERLANDS               H-1B  \n",
       "1                      10.0            PHILIPPINES               H-1B  \n",
       "2                      12.0                  INDIA               H-1B  \n",
       "3                       4.0                  INDIA               H-1B  \n",
       "4                       5.0                  INDIA               H-1B  "
      ]
     },
     "execution_count": 3,
     "metadata": {},
     "output_type": "execute_result"
    }
   ],
   "source": [
    "data.head()"
   ]
  },
  {
   "cell_type": "code",
   "execution_count": 4,
   "metadata": {},
   "outputs": [
    {
     "data": {
      "text/html": [
       "<div>\n",
       "<style scoped>\n",
       "    .dataframe tbody tr th:only-of-type {\n",
       "        vertical-align: middle;\n",
       "    }\n",
       "\n",
       "    .dataframe tbody tr th {\n",
       "        vertical-align: top;\n",
       "    }\n",
       "\n",
       "    .dataframe thead th {\n",
       "        text-align: right;\n",
       "    }\n",
       "</style>\n",
       "<table border=\"1\" class=\"dataframe\">\n",
       "  <thead>\n",
       "    <tr style=\"text-align: right;\">\n",
       "      <th></th>\n",
       "      <th>DAYS_TIL_DECISION</th>\n",
       "      <th>EMPLOYER_ZIP_CODE</th>\n",
       "      <th>EMPLOYER_NUM_EMPLOYEES</th>\n",
       "      <th>PW_AMOUNT_9089</th>\n",
       "      <th>WAGE_OFFER_FROM_9089</th>\n",
       "      <th>DECISION_DATE_YEAR</th>\n",
       "      <th>DECISION_DATE_MONTH</th>\n",
       "      <th>CASE_RECEIVED_DATE_YEAR</th>\n",
       "      <th>CASE_RECEIVED_DATE_MONTH</th>\n",
       "    </tr>\n",
       "  </thead>\n",
       "  <tbody>\n",
       "    <tr>\n",
       "      <th>count</th>\n",
       "      <td>401771.000000</td>\n",
       "      <td>401771.000000</td>\n",
       "      <td>4.017710e+05</td>\n",
       "      <td>401771.000000</td>\n",
       "      <td>401771.000000</td>\n",
       "      <td>401771.000000</td>\n",
       "      <td>401771.000000</td>\n",
       "      <td>401771.000000</td>\n",
       "      <td>401771.000000</td>\n",
       "    </tr>\n",
       "    <tr>\n",
       "      <th>mean</th>\n",
       "      <td>180.090325</td>\n",
       "      <td>56530.469183</td>\n",
       "      <td>2.759337e+04</td>\n",
       "      <td>88618.504429</td>\n",
       "      <td>97639.580879</td>\n",
       "      <td>2016.369559</td>\n",
       "      <td>6.325379</td>\n",
       "      <td>2015.861381</td>\n",
       "      <td>6.496484</td>\n",
       "    </tr>\n",
       "    <tr>\n",
       "      <th>std</th>\n",
       "      <td>212.789134</td>\n",
       "      <td>34755.422443</td>\n",
       "      <td>8.631209e+04</td>\n",
       "      <td>34518.118152</td>\n",
       "      <td>43888.118229</td>\n",
       "      <td>1.188916</td>\n",
       "      <td>3.277771</td>\n",
       "      <td>1.445154</td>\n",
       "      <td>3.345308</td>\n",
       "    </tr>\n",
       "    <tr>\n",
       "      <th>min</th>\n",
       "      <td>0.000000</td>\n",
       "      <td>211.000000</td>\n",
       "      <td>0.000000e+00</td>\n",
       "      <td>6.140000</td>\n",
       "      <td>6.550000</td>\n",
       "      <td>2014.000000</td>\n",
       "      <td>1.000000</td>\n",
       "      <td>2006.000000</td>\n",
       "      <td>1.000000</td>\n",
       "    </tr>\n",
       "    <tr>\n",
       "      <th>25%</th>\n",
       "      <td>86.000000</td>\n",
       "      <td>20191.000000</td>\n",
       "      <td>9.000000e+01</td>\n",
       "      <td>70200.000000</td>\n",
       "      <td>75774.000000</td>\n",
       "      <td>2015.000000</td>\n",
       "      <td>4.000000</td>\n",
       "      <td>2015.000000</td>\n",
       "      <td>4.000000</td>\n",
       "    </tr>\n",
       "    <tr>\n",
       "      <th>50%</th>\n",
       "      <td>140.000000</td>\n",
       "      <td>60654.000000</td>\n",
       "      <td>1.736000e+03</td>\n",
       "      <td>89669.000000</td>\n",
       "      <td>96785.000000</td>\n",
       "      <td>2016.000000</td>\n",
       "      <td>6.000000</td>\n",
       "      <td>2016.000000</td>\n",
       "      <td>6.000000</td>\n",
       "    </tr>\n",
       "    <tr>\n",
       "      <th>75%</th>\n",
       "      <td>190.000000</td>\n",
       "      <td>94043.000000</td>\n",
       "      <td>2.000000e+04</td>\n",
       "      <td>108805.000000</td>\n",
       "      <td>118269.000000</td>\n",
       "      <td>2017.000000</td>\n",
       "      <td>9.000000</td>\n",
       "      <td>2017.000000</td>\n",
       "      <td>9.000000</td>\n",
       "    </tr>\n",
       "    <tr>\n",
       "      <th>max</th>\n",
       "      <td>4150.000000</td>\n",
       "      <td>99929.000000</td>\n",
       "      <td>4.000000e+06</td>\n",
       "      <td>885666.000000</td>\n",
       "      <td>950000.000000</td>\n",
       "      <td>2018.000000</td>\n",
       "      <td>12.000000</td>\n",
       "      <td>2018.000000</td>\n",
       "      <td>12.000000</td>\n",
       "    </tr>\n",
       "  </tbody>\n",
       "</table>\n",
       "</div>"
      ],
      "text/plain": [
       "       DAYS_TIL_DECISION  EMPLOYER_ZIP_CODE  EMPLOYER_NUM_EMPLOYEES  \\\n",
       "count      401771.000000      401771.000000            4.017710e+05   \n",
       "mean          180.090325       56530.469183            2.759337e+04   \n",
       "std           212.789134       34755.422443            8.631209e+04   \n",
       "min             0.000000         211.000000            0.000000e+00   \n",
       "25%            86.000000       20191.000000            9.000000e+01   \n",
       "50%           140.000000       60654.000000            1.736000e+03   \n",
       "75%           190.000000       94043.000000            2.000000e+04   \n",
       "max          4150.000000       99929.000000            4.000000e+06   \n",
       "\n",
       "       PW_AMOUNT_9089  WAGE_OFFER_FROM_9089  DECISION_DATE_YEAR  \\\n",
       "count   401771.000000         401771.000000       401771.000000   \n",
       "mean     88618.504429          97639.580879         2016.369559   \n",
       "std      34518.118152          43888.118229            1.188916   \n",
       "min          6.140000              6.550000         2014.000000   \n",
       "25%      70200.000000          75774.000000         2015.000000   \n",
       "50%      89669.000000          96785.000000         2016.000000   \n",
       "75%     108805.000000         118269.000000         2017.000000   \n",
       "max     885666.000000         950000.000000         2018.000000   \n",
       "\n",
       "       DECISION_DATE_MONTH  CASE_RECEIVED_DATE_YEAR  CASE_RECEIVED_DATE_MONTH  \n",
       "count        401771.000000            401771.000000             401771.000000  \n",
       "mean              6.325379              2015.861381                  6.496484  \n",
       "std               3.277771                 1.445154                  3.345308  \n",
       "min               1.000000              2006.000000                  1.000000  \n",
       "25%               4.000000              2015.000000                  4.000000  \n",
       "50%               6.000000              2016.000000                  6.000000  \n",
       "75%               9.000000              2017.000000                  9.000000  \n",
       "max              12.000000              2018.000000                 12.000000  "
      ]
     },
     "execution_count": 4,
     "metadata": {},
     "output_type": "execute_result"
    }
   ],
   "source": [
    "data.describe()"
   ]
  },
  {
   "cell_type": "code",
   "execution_count": 5,
   "metadata": {},
   "outputs": [
    {
     "data": {
      "text/plain": [
       "CASE_STATUS                    401771\n",
       "DECISION_DATE                  401771\n",
       "CASE_RECEIVED_DATE             401771\n",
       "DAYS_TIL_DECISION              401771\n",
       "EMPLOYER_NAME                  401771\n",
       "EMPLOYER_CITY                  401771\n",
       "EMPLOYER_STATE                 401771\n",
       "EMPLOYER_ZIP_CODE              401771\n",
       "EMPLOYER_NUM_EMPLOYEES         401771\n",
       "PW_AMOUNT_9089                 401771\n",
       "WAGE_OFFER_FROM_9089           401771\n",
       "WAGE_OFFER_UNIT_OF_PAY_9089    401771\n",
       "JOB_INFO_JOB_TITLE             401771\n",
       "JOB_INFO_EDUCATION             401771\n",
       "DECISION_DATE_YEAR             401771\n",
       "DECISION_DATE_MONTH            401771\n",
       "CASE_RECEIVED_DATE_YEAR        401771\n",
       "CASE_RECEIVED_DATE_MONTH       401771\n",
       "COUNTRY_OF_CITIZENSHIP         401771\n",
       "CLASS_OF_ADMISSION             401771\n",
       "dtype: int64"
      ]
     },
     "execution_count": 5,
     "metadata": {},
     "output_type": "execute_result"
    }
   ],
   "source": [
    "data.count()"
   ]
  },
  {
   "cell_type": "code",
   "execution_count": 6,
   "metadata": {
    "scrolled": true
   },
   "outputs": [
    {
     "data": {
      "text/plain": [
       "COGNIZANT TECHNOLOGY SOLUTIONS US CORPORATION      15653\n",
       "MICROSOFT CORPORATION                               8647\n",
       "INTEL CORPORATION                                   7407\n",
       "AMAZON CORPORATE LLC                                6227\n",
       "GOOGLE INC.                                         5824\n",
       "APPLE INC.                                          3467\n",
       "FACEBOOK, INC.                                      3269\n",
       "INFOSYS LTD.                                        3040\n",
       "HCL AMERICA INC.                                    2710\n",
       "ORACLE AMERICA, INC.                                2710\n",
       "CISCO SYSTEMS, INC.                                 2584\n",
       "DELOITTE CONSULTING LLP                             2174\n",
       "QUALCOMM TECHNOLOGIES INC.                          2019\n",
       "JP MORGAN CHASE & CO                                1564\n",
       "ERNST & YOUNG U.S. LLP                              1510\n",
       "GOOGLE LLC                                          1489\n",
       "HOUSE OF RAEFORD FARMS, INC.                        1424\n",
       "TATA CONSULTANCY SERVICES LIMITED                   1365\n",
       "DEFENDER SERVICES, INC.                             1337\n",
       "SALESFORCE.COM                                      1264\n",
       "YAHOO! INC.                                         1152\n",
       "WIPRO LIMITED                                       1144\n",
       "AMAZON FULFILLMENT SERVICES, INC.                   1105\n",
       "WAYNE FARMS LLC                                     1097\n",
       "IBM CORPORATION                                     1048\n",
       "LINKEDIN CORPORATION                                1026\n",
       "VMWARE, INC.                                        1015\n",
       "EBAY INC.                                            958\n",
       "AMAZON.COM SERVICES, INC.                            925\n",
       "BLOOMBERG L.P.                                       920\n",
       "                                                   ...  \n",
       "AMAZON WEB SERVICES, INC.                            499\n",
       "V-SOFT CONSULTING GROUP, INC.                        498\n",
       "EPIC SYSTEMS CORPORATION                             497\n",
       "INTEL MOBILE COMMUNICATIONS, INC.                    480\n",
       "SYNOPSYS, INC.                                       477\n",
       "EXPEDIA, INC.                                        463\n",
       "KPMG LLP                                             457\n",
       "MASTECH DIGITAL TECHNOLOGIES, INC.                   452\n",
       "INOVANT LLC                                          446\n",
       "HTC GLOBAL SERVICES, INC.                            439\n",
       "MICRON TECHNOLOGY, INC.                              432\n",
       "PURE BEAUTY FARMS, INC                               428\n",
       "MCKINSEY & COMPANY, INC UNITED STATES                427\n",
       "JUNIPER NETWORKS                                     420\n",
       "MASTECH, INC., A MASTECH HOLDINGS, INC. COMPANY      416\n",
       "QUALCOMM ATHEROS, INC.                               405\n",
       "TWITTER, INC.                                        402\n",
       "NETAPP, INC.                                         401\n",
       "ALCATEL LUCENT USA, INC.                             392\n",
       "TEXAS INSTRUMENTS INCORPORATED                       388\n",
       "COMCAST CABLE COMMUNICATIONS, LLC                    387\n",
       "THE MATHWORKS, INC.                                  380\n",
       "MINDTREE LIMITED                                     370\n",
       "RELIABLE SOFTWARE RESOURCES INC                      354\n",
       "RANDSTAD TECHNOLOGIES, LLC                           348\n",
       "CGI TECHNOLOGIES AND SOLUTIONS INC.                  347\n",
       "AMDOCS INC.                                          344\n",
       "THE BOSTON CONSULTING GROUP                          342\n",
       "GROUPON, INC.                                        338\n",
       "UST GLOBAL INC                                       338\n",
       "Name: EMPLOYER_NAME, Length: 100, dtype: int64"
      ]
     },
     "execution_count": 6,
     "metadata": {},
     "output_type": "execute_result"
    }
   ],
   "source": [
    "data[\"EMPLOYER_NAME\"].value_counts().head(100)"
   ]
  },
  {
   "cell_type": "code",
   "execution_count": 7,
   "metadata": {
    "scrolled": true
   },
   "outputs": [
    {
     "data": {
      "text/plain": [
       "68735"
      ]
     },
     "execution_count": 7,
     "metadata": {},
     "output_type": "execute_result"
    }
   ],
   "source": [
    "data[\"EMPLOYER_NAME\"].nunique()"
   ]
  },
  {
   "cell_type": "code",
   "execution_count": 8,
   "metadata": {},
   "outputs": [
    {
     "data": {
      "text/plain": [
       "199"
      ]
     },
     "execution_count": 8,
     "metadata": {},
     "output_type": "execute_result"
    }
   ],
   "source": [
    "data[\"COUNTRY_OF_CITIZENSHIP\"].nunique()"
   ]
  },
  {
   "cell_type": "code",
   "execution_count": 9,
   "metadata": {
    "scrolled": true
   },
   "outputs": [
    {
     "data": {
      "text/plain": [
       "INDIA              224175\n",
       "CHINA               36294\n",
       "SOUTH KOREA         21135\n",
       "CANADA              14858\n",
       "MEXICO               9301\n",
       "PHILIPPINES          6355\n",
       "UNITED KINGDOM       4823\n",
       "VIETNAM              4506\n",
       "TAIWAN               4399\n",
       "BRAZIL               3984\n",
       "FRANCE               3547\n",
       "PAKISTAN             3455\n",
       "NEPAL                3269\n",
       "VENEZUELA            2850\n",
       "JAPAN                2801\n",
       "RUSSIA               2774\n",
       "IRAN                 2599\n",
       "TURKEY               2597\n",
       "GERMANY              2418\n",
       "AUSTRALIA            2243\n",
       "ITALY                2108\n",
       "ISRAEL               1975\n",
       "UKRAINE              1871\n",
       "COLOMBIA             1827\n",
       "SPAIN                1646\n",
       "POLAND               1485\n",
       "BANGLADESH           1378\n",
       "ARGENTINA            1205\n",
       "NIGERIA              1182\n",
       "IRELAND              1098\n",
       "                    ...  \n",
       "AUSTRIA               229\n",
       "DENMARK               212\n",
       "CZECH REPUBLIC        207\n",
       "BOLIVIA               205\n",
       "MOROCCO               200\n",
       "ARMENIA               174\n",
       "ETHIOPIA              165\n",
       "UZBEKISTAN            163\n",
       "KAZAKHSTAN            155\n",
       "MOLDOVA               152\n",
       "LIBYA                 151\n",
       "SLOVAKIA              148\n",
       "CROATIA               148\n",
       "ALBANIA               136\n",
       "URUGUAY               129\n",
       "BAHAMAS               123\n",
       "CAMEROON              121\n",
       "LITHUANIA             112\n",
       "SAUDI ARABIA          106\n",
       "PANAMA                102\n",
       "NORWAY                 93\n",
       "BURMA (MYANMAR)        87\n",
       "TANZANIA               84\n",
       "UGANDA                 82\n",
       "GRENADA                81\n",
       "MACEDONIA              81\n",
       "PALESTINE              79\n",
       "NICARAGUA              79\n",
       "GEORGIA                77\n",
       "LATVIA                 75\n",
       "Name: COUNTRY_OF_CITIZENSHIP, Length: 100, dtype: int64"
      ]
     },
     "execution_count": 9,
     "metadata": {},
     "output_type": "execute_result"
    }
   ],
   "source": [
    "data[\"COUNTRY_OF_CITIZENSHIP\"].value_counts().head(100)"
   ]
  },
  {
   "cell_type": "code",
   "execution_count": 10,
   "metadata": {},
   "outputs": [
    {
     "data": {
      "text/plain": [
       "CERTIFIED            201015\n",
       "CERTIFIED-EXPIRED    167523\n",
       "DENIED                18802\n",
       "WITHDRAWN             14431\n",
       "Name: CASE_STATUS, dtype: int64"
      ]
     },
     "execution_count": 10,
     "metadata": {},
     "output_type": "execute_result"
    }
   ],
   "source": [
    "data[\"CASE_STATUS\"].value_counts()"
   ]
  },
  {
   "cell_type": "code",
   "execution_count": 11,
   "metadata": {},
   "outputs": [],
   "source": [
    "certified_cases = data.loc[data[\"CASE_STATUS\"] == \"CERTIFIED\"]"
   ]
  },
  {
   "cell_type": "code",
   "execution_count": 12,
   "metadata": {},
   "outputs": [],
   "source": [
    "# certified_cases.to_csv('../Resources/certified_cases.csv', index = False)"
   ]
  },
  {
   "cell_type": "code",
   "execution_count": 13,
   "metadata": {
    "scrolled": true
   },
   "outputs": [
    {
     "data": {
      "text/plain": [
       "CASE_STATUS                    201015\n",
       "DECISION_DATE                  201015\n",
       "CASE_RECEIVED_DATE             201015\n",
       "DAYS_TIL_DECISION              201015\n",
       "EMPLOYER_NAME                  201015\n",
       "EMPLOYER_CITY                  201015\n",
       "EMPLOYER_STATE                 201015\n",
       "EMPLOYER_ZIP_CODE              201015\n",
       "EMPLOYER_NUM_EMPLOYEES         201015\n",
       "PW_AMOUNT_9089                 201015\n",
       "WAGE_OFFER_FROM_9089           201015\n",
       "WAGE_OFFER_UNIT_OF_PAY_9089    201015\n",
       "JOB_INFO_JOB_TITLE             201015\n",
       "JOB_INFO_EDUCATION             201015\n",
       "DECISION_DATE_YEAR             201015\n",
       "DECISION_DATE_MONTH            201015\n",
       "CASE_RECEIVED_DATE_YEAR        201015\n",
       "CASE_RECEIVED_DATE_MONTH       201015\n",
       "COUNTRY_OF_CITIZENSHIP         201015\n",
       "CLASS_OF_ADMISSION             201015\n",
       "dtype: int64"
      ]
     },
     "execution_count": 13,
     "metadata": {},
     "output_type": "execute_result"
    }
   ],
   "source": [
    "\n",
    "certified_cases.count()"
   ]
  },
  {
   "cell_type": "code",
   "execution_count": 14,
   "metadata": {},
   "outputs": [],
   "source": [
    "countries_certified_cases = certified_cases.groupby(\"COUNTRY_OF_CITIZENSHIP\")\n",
    "case_status_country = pd.DataFrame(countries_certified_cases[\"CASE_STATUS\"].count())\n",
    "certified_cases[\"WAGE_OFFER_UNIT_OF_PAY_9089\"].value_counts()\n",
    "case_status_country.rename(columns={'CASE_STATUS':'NUM_OF_CERTIFIED_CASES'}, inplace=True)"
   ]
  },
  {
   "cell_type": "code",
   "execution_count": 15,
   "metadata": {},
   "outputs": [],
   "source": [
    "import country_codes_test_fre as cct"
   ]
  },
  {
   "cell_type": "code",
   "execution_count": 16,
   "metadata": {},
   "outputs": [
    {
     "data": {
      "text/plain": [
       "{0: {'region': 'Africa'},\n",
       " 1: {'region': 'Asia'},\n",
       " 2: {'region': 'Central America'},\n",
       " 3: {'region': 'Eastern Europe'},\n",
       " 4: {'region': 'European Union'},\n",
       " 5: {'region': 'Middle East'},\n",
       " 6: {'region': 'North America'},\n",
       " 7: {'region': 'Oceania'},\n",
       " 8: {'region': 'South America'},\n",
       " 9: {'region': 'The Caribbean'}}"
      ]
     },
     "execution_count": 16,
     "metadata": {},
     "output_type": "execute_result"
    }
   ],
   "source": [
    "cct.region"
   ]
  },
  {
   "cell_type": "code",
   "execution_count": 17,
   "metadata": {},
   "outputs": [
    {
     "data": {
      "text/plain": [
       "{0: {'COUNTRY_OF_CITIZENSHIP': 'AFGHANISTAN', 'region': 1},\n",
       " 1: {'COUNTRY_OF_CITIZENSHIP': 'ALBANIA', 'region': 3},\n",
       " 2: {'COUNTRY_OF_CITIZENSHIP': 'ALGERIA', 'region': 0},\n",
       " 3: {'COUNTRY_OF_CITIZENSHIP': 'ANDORRA', 'region': 3},\n",
       " 4: {'COUNTRY_OF_CITIZENSHIP': 'ANGOLA', 'region': 0},\n",
       " 5: {'COUNTRY_OF_CITIZENSHIP': 'ANTIGUA AND BARBUDA', 'region': 9},\n",
       " 6: {'COUNTRY_OF_CITIZENSHIP': 'ARGENTINA', 'region': 8},\n",
       " 7: {'COUNTRY_OF_CITIZENSHIP': 'ARMENIA', 'region': 1},\n",
       " 8: {'COUNTRY_OF_CITIZENSHIP': 'AUSTRALIA', 'region': 7},\n",
       " 9: {'COUNTRY_OF_CITIZENSHIP': 'AUSTRIA', 'region': 4},\n",
       " 10: {'COUNTRY_OF_CITIZENSHIP': 'AZERBAIJAN', 'region': 1},\n",
       " 11: {'COUNTRY_OF_CITIZENSHIP': 'BAHAMAS', 'region': 9},\n",
       " 12: {'COUNTRY_OF_CITIZENSHIP': 'BAHRAIN', 'region': 5},\n",
       " 13: {'COUNTRY_OF_CITIZENSHIP': 'BANGLADESH', 'region': 1},\n",
       " 14: {'COUNTRY_OF_CITIZENSHIP': 'BARBADOS', 'region': 9},\n",
       " 15: {'COUNTRY_OF_CITIZENSHIP': 'BELARUS', 'region': 3},\n",
       " 16: {'COUNTRY_OF_CITIZENSHIP': 'BELGIUM', 'region': 4},\n",
       " 17: {'COUNTRY_OF_CITIZENSHIP': 'BELIZE', 'region': 2},\n",
       " 18: {'COUNTRY_OF_CITIZENSHIP': 'BENIN', 'region': 0},\n",
       " 19: {'COUNTRY_OF_CITIZENSHIP': 'BERMUDA', 'region': 6},\n",
       " 20: {'COUNTRY_OF_CITIZENSHIP': 'BHUTAN', 'region': 1},\n",
       " 21: {'COUNTRY_OF_CITIZENSHIP': 'BOLIVIA', 'region': 8},\n",
       " 22: {'COUNTRY_OF_CITIZENSHIP': 'BOSNIA AND HERZEGOVINA', 'region': 3},\n",
       " 23: {'COUNTRY_OF_CITIZENSHIP': 'BOTSWANA', 'region': 0},\n",
       " 24: {'COUNTRY_OF_CITIZENSHIP': 'BRAZIL', 'region': 8},\n",
       " 25: {'COUNTRY_OF_CITIZENSHIP': 'BRITISH VIRGIN ISLANDS', 'region': 9},\n",
       " 26: {'COUNTRY_OF_CITIZENSHIP': 'BRUNEI', 'region': 1},\n",
       " 27: {'COUNTRY_OF_CITIZENSHIP': 'BULGARIA', 'region': 3},\n",
       " 28: {'COUNTRY_OF_CITIZENSHIP': 'BURKINA FASO', 'region': 0},\n",
       " 29: {'COUNTRY_OF_CITIZENSHIP': 'BURMA (MYANMAR)', 'region': 1},\n",
       " 30: {'COUNTRY_OF_CITIZENSHIP': 'BURUNDI', 'region': 0},\n",
       " 31: {'COUNTRY_OF_CITIZENSHIP': 'CAMBODIA', 'region': 1},\n",
       " 32: {'COUNTRY_OF_CITIZENSHIP': 'CAMEROON', 'region': 0},\n",
       " 33: {'COUNTRY_OF_CITIZENSHIP': 'CANADA', 'region': 6},\n",
       " 34: {'COUNTRY_OF_CITIZENSHIP': 'CAPE VERDE', 'region': 0},\n",
       " 35: {'COUNTRY_OF_CITIZENSHIP': 'CHILE', 'region': 8},\n",
       " 36: {'COUNTRY_OF_CITIZENSHIP': 'CHINA', 'region': 1},\n",
       " 37: {'COUNTRY_OF_CITIZENSHIP': 'COLOMBIA', 'region': 8},\n",
       " 38: {'COUNTRY_OF_CITIZENSHIP': 'COMOROS', 'region': 0},\n",
       " 39: {'COUNTRY_OF_CITIZENSHIP': 'COSTA RICA', 'region': 2},\n",
       " 40: {'COUNTRY_OF_CITIZENSHIP': \"COTE D'IVOIRE\", 'region': 0},\n",
       " 41: {'COUNTRY_OF_CITIZENSHIP': 'CROATIA', 'region': 3},\n",
       " 42: {'COUNTRY_OF_CITIZENSHIP': 'CUBA', 'region': 9},\n",
       " 43: {'COUNTRY_OF_CITIZENSHIP': 'CYPRUS', 'region': 3},\n",
       " 44: {'COUNTRY_OF_CITIZENSHIP': 'CZECH REPUBLIC', 'region': 4},\n",
       " 45: {'COUNTRY_OF_CITIZENSHIP': 'DEMOCRATIC REPUBLIC OF CONGO', 'region': 0},\n",
       " 46: {'COUNTRY_OF_CITIZENSHIP': 'DENMARK', 'region': 4},\n",
       " 47: {'COUNTRY_OF_CITIZENSHIP': 'DEPENDENT TERRITORY', 'region': 0},\n",
       " 48: {'COUNTRY_OF_CITIZENSHIP': 'DOMINICA', 'region': 9},\n",
       " 49: {'COUNTRY_OF_CITIZENSHIP': 'DOMINICAN REPUBLIC', 'region': 9},\n",
       " 50: {'COUNTRY_OF_CITIZENSHIP': 'ECUADOR', 'region': 8},\n",
       " 51: {'COUNTRY_OF_CITIZENSHIP': 'EGYPT', 'region': 0},\n",
       " 52: {'COUNTRY_OF_CITIZENSHIP': 'EL SALVADOR', 'region': 2},\n",
       " 53: {'COUNTRY_OF_CITIZENSHIP': 'EQUATORIAL GUINEA', 'region': 0},\n",
       " 54: {'COUNTRY_OF_CITIZENSHIP': 'ERITREA', 'region': 0},\n",
       " 55: {'COUNTRY_OF_CITIZENSHIP': 'ESTONIA', 'region': 3},\n",
       " 56: {'COUNTRY_OF_CITIZENSHIP': 'ETHIOPIA', 'region': 0},\n",
       " 57: {'COUNTRY_OF_CITIZENSHIP': 'FIJI', 'region': 7},\n",
       " 58: {'COUNTRY_OF_CITIZENSHIP': 'FINLAND', 'region': 4},\n",
       " 59: {'COUNTRY_OF_CITIZENSHIP': 'FRANCE', 'region': 4},\n",
       " 60: {'COUNTRY_OF_CITIZENSHIP': 'GABON', 'region': 0},\n",
       " 61: {'COUNTRY_OF_CITIZENSHIP': 'GAMBIA', 'region': 0},\n",
       " 62: {'COUNTRY_OF_CITIZENSHIP': 'GEORGIA', 'region': 1},\n",
       " 63: {'COUNTRY_OF_CITIZENSHIP': 'GERMANY', 'region': 4},\n",
       " 64: {'COUNTRY_OF_CITIZENSHIP': 'GHANA', 'region': 0},\n",
       " 65: {'COUNTRY_OF_CITIZENSHIP': 'GREECE', 'region': 4},\n",
       " 66: {'COUNTRY_OF_CITIZENSHIP': 'GRENADA', 'region': 9},\n",
       " 67: {'COUNTRY_OF_CITIZENSHIP': 'GUATEMALA', 'region': 2},\n",
       " 68: {'COUNTRY_OF_CITIZENSHIP': 'GUINEA', 'region': 0},\n",
       " 69: {'COUNTRY_OF_CITIZENSHIP': 'GUINEA-BISSAU', 'region': 0},\n",
       " 70: {'COUNTRY_OF_CITIZENSHIP': 'GUYANA', 'region': 0},\n",
       " 71: {'COUNTRY_OF_CITIZENSHIP': 'HAITI', 'region': 9},\n",
       " 72: {'COUNTRY_OF_CITIZENSHIP': 'HONDURAS', 'region': 2},\n",
       " 73: {'COUNTRY_OF_CITIZENSHIP': 'HONG KONG', 'region': 1},\n",
       " 74: {'COUNTRY_OF_CITIZENSHIP': 'HUNGARY', 'region': 4},\n",
       " 75: {'COUNTRY_OF_CITIZENSHIP': 'ICELAND', 'region': 3},\n",
       " 76: {'COUNTRY_OF_CITIZENSHIP': 'INDIA', 'region': 1},\n",
       " 77: {'COUNTRY_OF_CITIZENSHIP': 'INDONESIA', 'region': 1},\n",
       " 78: {'COUNTRY_OF_CITIZENSHIP': 'IRAN', 'region': 5},\n",
       " 79: {'COUNTRY_OF_CITIZENSHIP': 'IRAQ', 'region': 5},\n",
       " 80: {'COUNTRY_OF_CITIZENSHIP': 'IRELAND', 'region': 4},\n",
       " 81: {'COUNTRY_OF_CITIZENSHIP': 'ISRAEL', 'region': 5},\n",
       " 82: {'COUNTRY_OF_CITIZENSHIP': 'ITALY', 'region': 4},\n",
       " 83: {'COUNTRY_OF_CITIZENSHIP': 'IVORY COAST', 'region': 0},\n",
       " 84: {'COUNTRY_OF_CITIZENSHIP': 'JAMAICA', 'region': 9},\n",
       " 85: {'COUNTRY_OF_CITIZENSHIP': 'JAPAN', 'region': 1},\n",
       " 86: {'COUNTRY_OF_CITIZENSHIP': 'JORDAN', 'region': 5},\n",
       " 87: {'COUNTRY_OF_CITIZENSHIP': 'KAZAKHSTAN', 'region': 1},\n",
       " 88: {'COUNTRY_OF_CITIZENSHIP': 'KENYA', 'region': 0},\n",
       " 89: {'COUNTRY_OF_CITIZENSHIP': 'KIRIBATI', 'region': 7},\n",
       " 90: {'COUNTRY_OF_CITIZENSHIP': 'KOSOVO', 'region': 3},\n",
       " 91: {'COUNTRY_OF_CITIZENSHIP': 'KUWAIT', 'region': 5},\n",
       " 92: {'COUNTRY_OF_CITIZENSHIP': 'KYRGYZSTAN', 'region': 1},\n",
       " 93: {'COUNTRY_OF_CITIZENSHIP': 'LAOS', 'region': 1},\n",
       " 94: {'COUNTRY_OF_CITIZENSHIP': 'LATVIA', 'region': 4},\n",
       " 95: {'COUNTRY_OF_CITIZENSHIP': 'LEBANON', 'region': 5},\n",
       " 96: {'COUNTRY_OF_CITIZENSHIP': 'LIBERIA', 'region': 0},\n",
       " 97: {'COUNTRY_OF_CITIZENSHIP': 'LIBYA', 'region': 0},\n",
       " 98: {'COUNTRY_OF_CITIZENSHIP': 'LIECHTENSTEIN', 'region': 3},\n",
       " 99: {'COUNTRY_OF_CITIZENSHIP': 'LITHUANIA', 'region': 4},\n",
       " 100: {'COUNTRY_OF_CITIZENSHIP': 'LUXEMBOURG', 'region': 4},\n",
       " 101: {'COUNTRY_OF_CITIZENSHIP': 'MACAU', 'region': 1},\n",
       " 102: {'COUNTRY_OF_CITIZENSHIP': 'MACEDONIA', 'region': 3},\n",
       " 103: {'COUNTRY_OF_CITIZENSHIP': 'MADAGASCAR', 'region': 0},\n",
       " 104: {'COUNTRY_OF_CITIZENSHIP': 'MALAWI', 'region': 0},\n",
       " 105: {'COUNTRY_OF_CITIZENSHIP': 'MALAYSIA', 'region': 1},\n",
       " 106: {'COUNTRY_OF_CITIZENSHIP': 'MALDIVES', 'region': 1},\n",
       " 107: {'COUNTRY_OF_CITIZENSHIP': 'MALI', 'region': 0},\n",
       " 108: {'COUNTRY_OF_CITIZENSHIP': 'MALTA', 'region': 4},\n",
       " 109: {'COUNTRY_OF_CITIZENSHIP': 'MARSHALL ISLANDS', 'region': 7},\n",
       " 110: {'COUNTRY_OF_CITIZENSHIP': 'MAURITANIA', 'region': 0},\n",
       " 111: {'COUNTRY_OF_CITIZENSHIP': 'MAURITIUS', 'region': 1},\n",
       " 112: {'COUNTRY_OF_CITIZENSHIP': 'MEXICO', 'region': 2},\n",
       " 113: {'COUNTRY_OF_CITIZENSHIP': 'MOLDOVA', 'region': 3},\n",
       " 114: {'COUNTRY_OF_CITIZENSHIP': 'MONGOLIA', 'region': 1},\n",
       " 115: {'COUNTRY_OF_CITIZENSHIP': 'MONTENEGRO', 'region': 3},\n",
       " 116: {'COUNTRY_OF_CITIZENSHIP': 'MONTSERRAT', 'region': 9},\n",
       " 117: {'COUNTRY_OF_CITIZENSHIP': 'MOROCCO', 'region': 0},\n",
       " 118: {'COUNTRY_OF_CITIZENSHIP': 'NAMIBIA', 'region': 0},\n",
       " 119: {'COUNTRY_OF_CITIZENSHIP': 'NEPAL', 'region': 1},\n",
       " 120: {'COUNTRY_OF_CITIZENSHIP': 'NETHERLANDS', 'region': 4},\n",
       " 121: {'COUNTRY_OF_CITIZENSHIP': 'NEW ZEALAND', 'region': 7},\n",
       " 122: {'COUNTRY_OF_CITIZENSHIP': 'NICARAGUA', 'region': 2},\n",
       " 123: {'COUNTRY_OF_CITIZENSHIP': 'NIGER', 'region': 0},\n",
       " 124: {'COUNTRY_OF_CITIZENSHIP': 'NIGERIA', 'region': 0},\n",
       " 125: {'COUNTRY_OF_CITIZENSHIP': 'NORWAY', 'region': 4},\n",
       " 126: {'COUNTRY_OF_CITIZENSHIP': 'OMAN', 'region': 5},\n",
       " 127: {'COUNTRY_OF_CITIZENSHIP': 'PAKISTAN', 'region': 1},\n",
       " 128: {'COUNTRY_OF_CITIZENSHIP': 'PALESTINE', 'region': 5},\n",
       " 129: {'COUNTRY_OF_CITIZENSHIP': 'PALESTINIAN TERRITORIES', 'region': 5},\n",
       " 130: {'COUNTRY_OF_CITIZENSHIP': 'PANAMA', 'region': 2},\n",
       " 131: {'COUNTRY_OF_CITIZENSHIP': 'PARAGUAY', 'region': 8},\n",
       " 132: {'COUNTRY_OF_CITIZENSHIP': 'PERU', 'region': 8},\n",
       " 133: {'COUNTRY_OF_CITIZENSHIP': 'PHILIPPINES', 'region': 1},\n",
       " 134: {'COUNTRY_OF_CITIZENSHIP': 'POLAND', 'region': 4},\n",
       " 135: {'COUNTRY_OF_CITIZENSHIP': 'PORTUGAL', 'region': 4},\n",
       " 136: {'COUNTRY_OF_CITIZENSHIP': 'REPUBLIC OF CONGO', 'region': 0},\n",
       " 137: {'COUNTRY_OF_CITIZENSHIP': 'ROMANIA', 'region': 3},\n",
       " 138: {'COUNTRY_OF_CITIZENSHIP': 'RUSSIA', 'region': 3},\n",
       " 139: {'COUNTRY_OF_CITIZENSHIP': 'RWANDA', 'region': 0},\n",
       " 140: {'COUNTRY_OF_CITIZENSHIP': 'SAINT VINCENT AND THE GRENADINES',\n",
       "  'region': 9},\n",
       " 141: {'COUNTRY_OF_CITIZENSHIP': 'SAMOA', 'region': 7},\n",
       " 142: {'COUNTRY_OF_CITIZENSHIP': 'SAO TOME AND PRINCIPE', 'region': 0},\n",
       " 143: {'COUNTRY_OF_CITIZENSHIP': 'SAUDI ARABIA', 'region': 5},\n",
       " 144: {'COUNTRY_OF_CITIZENSHIP': 'SENEGAL', 'region': 0},\n",
       " 145: {'COUNTRY_OF_CITIZENSHIP': 'SERBIA', 'region': 3},\n",
       " 146: {'COUNTRY_OF_CITIZENSHIP': 'SERBIA AND MONTENEGRO', 'region': 3},\n",
       " 147: {'COUNTRY_OF_CITIZENSHIP': 'SEYCHELLES', 'region': 0},\n",
       " 148: {'COUNTRY_OF_CITIZENSHIP': 'SIERRA LEONE', 'region': 0},\n",
       " 149: {'COUNTRY_OF_CITIZENSHIP': 'SINGAPORE', 'region': 1},\n",
       " 150: {'COUNTRY_OF_CITIZENSHIP': 'SLOVAKIA', 'region': 4},\n",
       " 151: {'COUNTRY_OF_CITIZENSHIP': 'SLOVENIA', 'region': 4},\n",
       " 152: {'COUNTRY_OF_CITIZENSHIP': 'SOMALIA', 'region': 0},\n",
       " 153: {'COUNTRY_OF_CITIZENSHIP': 'SOUTH AFRICA', 'region': 0},\n",
       " 154: {'COUNTRY_OF_CITIZENSHIP': 'SOUTH KOREA', 'region': 1},\n",
       " 155: {'COUNTRY_OF_CITIZENSHIP': 'SOUTH SUDAN', 'region': 0},\n",
       " 156: {'COUNTRY_OF_CITIZENSHIP': 'SPAIN', 'region': 4},\n",
       " 157: {'COUNTRY_OF_CITIZENSHIP': 'SRI LANKA', 'region': 1},\n",
       " 158: {'COUNTRY_OF_CITIZENSHIP': 'ST LUCIA', 'region': 9},\n",
       " 159: {'COUNTRY_OF_CITIZENSHIP': 'ST VINCENT', 'region': 9},\n",
       " 160: {'COUNTRY_OF_CITIZENSHIP': 'SUDAN', 'region': 0},\n",
       " 161: {'COUNTRY_OF_CITIZENSHIP': 'SURINAME', 'region': 8},\n",
       " 162: {'COUNTRY_OF_CITIZENSHIP': 'SWEDEN', 'region': 4},\n",
       " 163: {'COUNTRY_OF_CITIZENSHIP': 'SWITZERLAND', 'region': 4},\n",
       " 164: {'COUNTRY_OF_CITIZENSHIP': 'SYRIA', 'region': 5},\n",
       " 165: {'COUNTRY_OF_CITIZENSHIP': 'TAIWAN', 'region': 1},\n",
       " 166: {'COUNTRY_OF_CITIZENSHIP': 'TAJIKISTAN', 'region': 1},\n",
       " 167: {'COUNTRY_OF_CITIZENSHIP': 'TANZANIA', 'region': 0},\n",
       " 168: {'COUNTRY_OF_CITIZENSHIP': 'THAILAND', 'region': 1},\n",
       " 169: {'COUNTRY_OF_CITIZENSHIP': 'TOGO', 'region': 0},\n",
       " 170: {'COUNTRY_OF_CITIZENSHIP': 'TRINIDAD AND TOBAGO', 'region': 9},\n",
       " 171: {'COUNTRY_OF_CITIZENSHIP': 'TUNISIA', 'region': 0},\n",
       " 172: {'COUNTRY_OF_CITIZENSHIP': 'TURKEY', 'region': 3},\n",
       " 173: {'COUNTRY_OF_CITIZENSHIP': 'TURKMENISTAN', 'region': 1},\n",
       " 174: {'COUNTRY_OF_CITIZENSHIP': 'TURKS AND CAICOS ISLANDS', 'region': 9},\n",
       " 175: {'COUNTRY_OF_CITIZENSHIP': 'UGANDA', 'region': 0},\n",
       " 176: {'COUNTRY_OF_CITIZENSHIP': 'UKRAINE', 'region': 3},\n",
       " 177: {'COUNTRY_OF_CITIZENSHIP': 'UNITED ARAB EMIRATES', 'region': 5},\n",
       " 178: {'COUNTRY_OF_CITIZENSHIP': 'UNITED KINGDOM', 'region': 4},\n",
       " 179: {'COUNTRY_OF_CITIZENSHIP': 'UNITED STATES OF AMERICA', 'region': 6},\n",
       " 180: {'COUNTRY_OF_CITIZENSHIP': 'URUGUAY', 'region': 8},\n",
       " 181: {'COUNTRY_OF_CITIZENSHIP': 'UZBEKISTAN', 'region': 1},\n",
       " 182: {'COUNTRY_OF_CITIZENSHIP': 'VANUATU', 'region': 7},\n",
       " 183: {'COUNTRY_OF_CITIZENSHIP': 'VENEZUELA', 'region': 8},\n",
       " 184: {'COUNTRY_OF_CITIZENSHIP': 'VIETNAM', 'region': 1},\n",
       " 185: {'COUNTRY_OF_CITIZENSHIP': 'YEMEN', 'region': 5},\n",
       " 186: {'COUNTRY_OF_CITIZENSHIP': 'ZAMBIA', 'region': 0},\n",
       " 187: {'COUNTRY_OF_CITIZENSHIP': 'ZIMBABWE', 'region': 0},\n",
       " 188: {'COUNTRY_OF_CITIZENSHIP': 'ST KITTS AND NEVIS', 'region': 9},\n",
       " 189: {'COUNTRY_OF_CITIZENSHIP': 'SWAZILAND', 'region': 0}}"
      ]
     },
     "execution_count": 17,
     "metadata": {},
     "output_type": "execute_result"
    }
   ],
   "source": [
    "cct.countries"
   ]
  },
  {
   "cell_type": "code",
   "execution_count": 18,
   "metadata": {},
   "outputs": [
    {
     "data": {
      "text/html": [
       "<div>\n",
       "<style scoped>\n",
       "    .dataframe tbody tr th:only-of-type {\n",
       "        vertical-align: middle;\n",
       "    }\n",
       "\n",
       "    .dataframe tbody tr th {\n",
       "        vertical-align: top;\n",
       "    }\n",
       "\n",
       "    .dataframe thead th {\n",
       "        text-align: right;\n",
       "    }\n",
       "</style>\n",
       "<table border=\"1\" class=\"dataframe\">\n",
       "  <thead>\n",
       "    <tr style=\"text-align: right;\">\n",
       "      <th></th>\n",
       "      <th>COUNTRY_OF_CITIZENSHIP</th>\n",
       "      <th>NUM_OF_CERTIFIED_CASES</th>\n",
       "    </tr>\n",
       "  </thead>\n",
       "  <tbody>\n",
       "    <tr>\n",
       "      <th>0</th>\n",
       "      <td>AFGHANISTAN</td>\n",
       "      <td>9</td>\n",
       "    </tr>\n",
       "    <tr>\n",
       "      <th>1</th>\n",
       "      <td>ALBANIA</td>\n",
       "      <td>60</td>\n",
       "    </tr>\n",
       "    <tr>\n",
       "      <th>2</th>\n",
       "      <td>ALGERIA</td>\n",
       "      <td>24</td>\n",
       "    </tr>\n",
       "    <tr>\n",
       "      <th>3</th>\n",
       "      <td>ANDORRA</td>\n",
       "      <td>1</td>\n",
       "    </tr>\n",
       "    <tr>\n",
       "      <th>4</th>\n",
       "      <td>ANGOLA</td>\n",
       "      <td>5</td>\n",
       "    </tr>\n",
       "  </tbody>\n",
       "</table>\n",
       "</div>"
      ],
      "text/plain": [
       "  COUNTRY_OF_CITIZENSHIP  NUM_OF_CERTIFIED_CASES\n",
       "0            AFGHANISTAN                       9\n",
       "1                ALBANIA                      60\n",
       "2                ALGERIA                      24\n",
       "3                ANDORRA                       1\n",
       "4                 ANGOLA                       5"
      ]
     },
     "execution_count": 18,
     "metadata": {},
     "output_type": "execute_result"
    }
   ],
   "source": [
    "case_status_country.reset_index(level=0, inplace=True)\n",
    "case_status_country.head()"
   ]
  },
  {
   "cell_type": "code",
   "execution_count": 19,
   "metadata": {},
   "outputs": [],
   "source": [
    "\n",
    "case_status_country['COUNTRY_OF_CITIZENSHIP'] = case_status_country['COUNTRY_OF_CITIZENSHIP'].astype(str)"
   ]
  },
  {
   "cell_type": "code",
   "execution_count": 20,
   "metadata": {},
   "outputs": [],
   "source": [
    "region_code_list=[]\n",
    "\n",
    "for country in case_status_country[\"COUNTRY_OF_CITIZENSHIP\"]:\n",
    "    region_code_list.append(cct.covertcountrytoRegion(country))\n",
    "    "
   ]
  },
  {
   "cell_type": "code",
   "execution_count": 21,
   "metadata": {},
   "outputs": [
    {
     "data": {
      "text/plain": [
       "186"
      ]
     },
     "execution_count": 21,
     "metadata": {},
     "output_type": "execute_result"
    }
   ],
   "source": [
    "len(region_code_list)"
   ]
  },
  {
   "cell_type": "code",
   "execution_count": 22,
   "metadata": {},
   "outputs": [
    {
     "data": {
      "text/html": [
       "<div>\n",
       "<style scoped>\n",
       "    .dataframe tbody tr th:only-of-type {\n",
       "        vertical-align: middle;\n",
       "    }\n",
       "\n",
       "    .dataframe tbody tr th {\n",
       "        vertical-align: top;\n",
       "    }\n",
       "\n",
       "    .dataframe thead th {\n",
       "        text-align: right;\n",
       "    }\n",
       "</style>\n",
       "<table border=\"1\" class=\"dataframe\">\n",
       "  <thead>\n",
       "    <tr style=\"text-align: right;\">\n",
       "      <th></th>\n",
       "      <th>COUNTRY_OF_CITIZENSHIP</th>\n",
       "      <th>NUM_OF_CERTIFIED_CASES</th>\n",
       "    </tr>\n",
       "  </thead>\n",
       "  <tbody>\n",
       "    <tr>\n",
       "      <th>0</th>\n",
       "      <td>AFGHANISTAN</td>\n",
       "      <td>9</td>\n",
       "    </tr>\n",
       "    <tr>\n",
       "      <th>1</th>\n",
       "      <td>ALBANIA</td>\n",
       "      <td>60</td>\n",
       "    </tr>\n",
       "    <tr>\n",
       "      <th>2</th>\n",
       "      <td>ALGERIA</td>\n",
       "      <td>24</td>\n",
       "    </tr>\n",
       "    <tr>\n",
       "      <th>3</th>\n",
       "      <td>ANDORRA</td>\n",
       "      <td>1</td>\n",
       "    </tr>\n",
       "    <tr>\n",
       "      <th>4</th>\n",
       "      <td>ANGOLA</td>\n",
       "      <td>5</td>\n",
       "    </tr>\n",
       "  </tbody>\n",
       "</table>\n",
       "</div>"
      ],
      "text/plain": [
       "  COUNTRY_OF_CITIZENSHIP  NUM_OF_CERTIFIED_CASES\n",
       "0            AFGHANISTAN                       9\n",
       "1                ALBANIA                      60\n",
       "2                ALGERIA                      24\n",
       "3                ANDORRA                       1\n",
       "4                 ANGOLA                       5"
      ]
     },
     "execution_count": 22,
     "metadata": {},
     "output_type": "execute_result"
    }
   ],
   "source": [
    "case_status_country.head()"
   ]
  },
  {
   "cell_type": "code",
   "execution_count": 24,
   "metadata": {},
   "outputs": [],
   "source": [
    "case_status_country[\"Region_Code\"]=region_code_list"
   ]
  },
  {
   "cell_type": "code",
   "execution_count": 25,
   "metadata": {},
   "outputs": [
    {
     "data": {
      "text/plain": [
       "0"
      ]
     },
     "execution_count": 25,
     "metadata": {},
     "output_type": "execute_result"
    }
   ],
   "source": [
    "case_status_country[\"Region_Code\"].isnull().sum()"
   ]
  },
  {
   "cell_type": "code",
   "execution_count": 26,
   "metadata": {
    "scrolled": true
   },
   "outputs": [
    {
     "data": {
      "text/html": [
       "<div>\n",
       "<style scoped>\n",
       "    .dataframe tbody tr th:only-of-type {\n",
       "        vertical-align: middle;\n",
       "    }\n",
       "\n",
       "    .dataframe tbody tr th {\n",
       "        vertical-align: top;\n",
       "    }\n",
       "\n",
       "    .dataframe thead th {\n",
       "        text-align: right;\n",
       "    }\n",
       "</style>\n",
       "<table border=\"1\" class=\"dataframe\">\n",
       "  <thead>\n",
       "    <tr style=\"text-align: right;\">\n",
       "      <th></th>\n",
       "      <th>COUNTRY_OF_CITIZENSHIP</th>\n",
       "      <th>NUM_OF_CERTIFIED_CASES</th>\n",
       "      <th>Region_Code</th>\n",
       "    </tr>\n",
       "  </thead>\n",
       "  <tbody>\n",
       "    <tr>\n",
       "      <th>0</th>\n",
       "      <td>AFGHANISTAN</td>\n",
       "      <td>9</td>\n",
       "      <td>1</td>\n",
       "    </tr>\n",
       "    <tr>\n",
       "      <th>1</th>\n",
       "      <td>ALBANIA</td>\n",
       "      <td>60</td>\n",
       "      <td>3</td>\n",
       "    </tr>\n",
       "    <tr>\n",
       "      <th>2</th>\n",
       "      <td>ALGERIA</td>\n",
       "      <td>24</td>\n",
       "      <td>0</td>\n",
       "    </tr>\n",
       "    <tr>\n",
       "      <th>3</th>\n",
       "      <td>ANDORRA</td>\n",
       "      <td>1</td>\n",
       "      <td>3</td>\n",
       "    </tr>\n",
       "    <tr>\n",
       "      <th>4</th>\n",
       "      <td>ANGOLA</td>\n",
       "      <td>5</td>\n",
       "      <td>0</td>\n",
       "    </tr>\n",
       "  </tbody>\n",
       "</table>\n",
       "</div>"
      ],
      "text/plain": [
       "  COUNTRY_OF_CITIZENSHIP  NUM_OF_CERTIFIED_CASES  Region_Code\n",
       "0            AFGHANISTAN                       9            1\n",
       "1                ALBANIA                      60            3\n",
       "2                ALGERIA                      24            0\n",
       "3                ANDORRA                       1            3\n",
       "4                 ANGOLA                       5            0"
      ]
     },
     "execution_count": 26,
     "metadata": {},
     "output_type": "execute_result"
    }
   ],
   "source": [
    "case_status_country.head()"
   ]
  },
  {
   "cell_type": "code",
   "execution_count": 27,
   "metadata": {
    "scrolled": true
   },
   "outputs": [],
   "source": [
    "case_status_country[\"Region_Name\"] = \"\"\n"
   ]
  },
  {
   "cell_type": "code",
   "execution_count": 28,
   "metadata": {},
   "outputs": [
    {
     "data": {
      "text/html": [
       "<div>\n",
       "<style scoped>\n",
       "    .dataframe tbody tr th:only-of-type {\n",
       "        vertical-align: middle;\n",
       "    }\n",
       "\n",
       "    .dataframe tbody tr th {\n",
       "        vertical-align: top;\n",
       "    }\n",
       "\n",
       "    .dataframe thead th {\n",
       "        text-align: right;\n",
       "    }\n",
       "</style>\n",
       "<table border=\"1\" class=\"dataframe\">\n",
       "  <thead>\n",
       "    <tr style=\"text-align: right;\">\n",
       "      <th></th>\n",
       "      <th>COUNTRY_OF_CITIZENSHIP</th>\n",
       "      <th>NUM_OF_CERTIFIED_CASES</th>\n",
       "      <th>Region_Code</th>\n",
       "      <th>Region_Name</th>\n",
       "    </tr>\n",
       "  </thead>\n",
       "  <tbody>\n",
       "    <tr>\n",
       "      <th>0</th>\n",
       "      <td>AFGHANISTAN</td>\n",
       "      <td>9</td>\n",
       "      <td>1</td>\n",
       "      <td></td>\n",
       "    </tr>\n",
       "    <tr>\n",
       "      <th>1</th>\n",
       "      <td>ALBANIA</td>\n",
       "      <td>60</td>\n",
       "      <td>3</td>\n",
       "      <td></td>\n",
       "    </tr>\n",
       "    <tr>\n",
       "      <th>2</th>\n",
       "      <td>ALGERIA</td>\n",
       "      <td>24</td>\n",
       "      <td>0</td>\n",
       "      <td></td>\n",
       "    </tr>\n",
       "    <tr>\n",
       "      <th>3</th>\n",
       "      <td>ANDORRA</td>\n",
       "      <td>1</td>\n",
       "      <td>3</td>\n",
       "      <td></td>\n",
       "    </tr>\n",
       "    <tr>\n",
       "      <th>4</th>\n",
       "      <td>ANGOLA</td>\n",
       "      <td>5</td>\n",
       "      <td>0</td>\n",
       "      <td></td>\n",
       "    </tr>\n",
       "  </tbody>\n",
       "</table>\n",
       "</div>"
      ],
      "text/plain": [
       "  COUNTRY_OF_CITIZENSHIP  NUM_OF_CERTIFIED_CASES  Region_Code Region_Name\n",
       "0            AFGHANISTAN                       9            1            \n",
       "1                ALBANIA                      60            3            \n",
       "2                ALGERIA                      24            0            \n",
       "3                ANDORRA                       1            3            \n",
       "4                 ANGOLA                       5            0            "
      ]
     },
     "execution_count": 28,
     "metadata": {},
     "output_type": "execute_result"
    }
   ],
   "source": [
    "case_status_country.head()"
   ]
  },
  {
   "cell_type": "code",
   "execution_count": 29,
   "metadata": {},
   "outputs": [],
   "source": [
    "Region_Name_List = []\n",
    "for code in case_status_country[\"Region_Code\"]:\n",
    "    for regioncode in cct.region:\n",
    "        if code == regioncode:\n",
    "            Region_Name_List.append(cct.region[code][\"region\"])"
   ]
  },
  {
   "cell_type": "code",
   "execution_count": 30,
   "metadata": {},
   "outputs": [
    {
     "data": {
      "text/plain": [
       "186"
      ]
     },
     "execution_count": 30,
     "metadata": {},
     "output_type": "execute_result"
    }
   ],
   "source": [
    "len(Region_Name_List)"
   ]
  },
  {
   "cell_type": "code",
   "execution_count": 32,
   "metadata": {},
   "outputs": [],
   "source": [
    "case_status_country[\"Region_Name\"]=Region_Name_List"
   ]
  },
  {
   "cell_type": "code",
   "execution_count": 33,
   "metadata": {},
   "outputs": [
    {
     "data": {
      "text/html": [
       "<div>\n",
       "<style scoped>\n",
       "    .dataframe tbody tr th:only-of-type {\n",
       "        vertical-align: middle;\n",
       "    }\n",
       "\n",
       "    .dataframe tbody tr th {\n",
       "        vertical-align: top;\n",
       "    }\n",
       "\n",
       "    .dataframe thead th {\n",
       "        text-align: right;\n",
       "    }\n",
       "</style>\n",
       "<table border=\"1\" class=\"dataframe\">\n",
       "  <thead>\n",
       "    <tr style=\"text-align: right;\">\n",
       "      <th></th>\n",
       "      <th>COUNTRY_OF_CITIZENSHIP</th>\n",
       "      <th>NUM_OF_CERTIFIED_CASES</th>\n",
       "      <th>Region_Code</th>\n",
       "      <th>Region_Name</th>\n",
       "    </tr>\n",
       "  </thead>\n",
       "  <tbody>\n",
       "    <tr>\n",
       "      <th>0</th>\n",
       "      <td>AFGHANISTAN</td>\n",
       "      <td>9</td>\n",
       "      <td>1</td>\n",
       "      <td>Asia</td>\n",
       "    </tr>\n",
       "    <tr>\n",
       "      <th>1</th>\n",
       "      <td>ALBANIA</td>\n",
       "      <td>60</td>\n",
       "      <td>3</td>\n",
       "      <td>Eastern Europe</td>\n",
       "    </tr>\n",
       "    <tr>\n",
       "      <th>2</th>\n",
       "      <td>ALGERIA</td>\n",
       "      <td>24</td>\n",
       "      <td>0</td>\n",
       "      <td>Africa</td>\n",
       "    </tr>\n",
       "    <tr>\n",
       "      <th>3</th>\n",
       "      <td>ANDORRA</td>\n",
       "      <td>1</td>\n",
       "      <td>3</td>\n",
       "      <td>Eastern Europe</td>\n",
       "    </tr>\n",
       "    <tr>\n",
       "      <th>4</th>\n",
       "      <td>ANGOLA</td>\n",
       "      <td>5</td>\n",
       "      <td>0</td>\n",
       "      <td>Africa</td>\n",
       "    </tr>\n",
       "  </tbody>\n",
       "</table>\n",
       "</div>"
      ],
      "text/plain": [
       "  COUNTRY_OF_CITIZENSHIP  NUM_OF_CERTIFIED_CASES  Region_Code     Region_Name\n",
       "0            AFGHANISTAN                       9            1            Asia\n",
       "1                ALBANIA                      60            3  Eastern Europe\n",
       "2                ALGERIA                      24            0          Africa\n",
       "3                ANDORRA                       1            3  Eastern Europe\n",
       "4                 ANGOLA                       5            0          Africa"
      ]
     },
     "execution_count": 33,
     "metadata": {},
     "output_type": "execute_result"
    }
   ],
   "source": [
    "case_status_country.head()"
   ]
  },
  {
   "cell_type": "code",
   "execution_count": 34,
   "metadata": {},
   "outputs": [],
   "source": [
    "case_status_country.to_csv('../Resources/certified_byregion_country.csv', index = False)"
   ]
  },
  {
   "cell_type": "code",
   "execution_count": null,
   "metadata": {},
   "outputs": [],
   "source": []
  }
 ],
 "metadata": {
  "kernelspec": {
   "display_name": "Python 3",
   "language": "python",
   "name": "python3"
  },
  "language_info": {
   "codemirror_mode": {
    "name": "ipython",
    "version": 3
   },
   "file_extension": ".py",
   "mimetype": "text/x-python",
   "name": "python",
   "nbconvert_exporter": "python",
   "pygments_lexer": "ipython3",
   "version": "3.6.7"
  }
 },
 "nbformat": 4,
 "nbformat_minor": 2
}
