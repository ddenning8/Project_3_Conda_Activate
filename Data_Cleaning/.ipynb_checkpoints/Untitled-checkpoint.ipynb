{
 "cells": [
  {
   "cell_type": "code",
   "execution_count": 392,
   "metadata": {},
   "outputs": [],
   "source": [
    "import pandas as pd"
   ]
  },
  {
   "cell_type": "code",
   "execution_count": 393,
   "metadata": {},
   "outputs": [],
   "source": [
    "data = pd.read_csv('../Resources/FY_CombinedData_Clean.csv')"
   ]
  },
  {
   "cell_type": "code",
   "execution_count": 394,
   "metadata": {},
   "outputs": [
    {
     "data": {
      "text/html": [
       "<div>\n",
       "<style scoped>\n",
       "    .dataframe tbody tr th:only-of-type {\n",
       "        vertical-align: middle;\n",
       "    }\n",
       "\n",
       "    .dataframe tbody tr th {\n",
       "        vertical-align: top;\n",
       "    }\n",
       "\n",
       "    .dataframe thead th {\n",
       "        text-align: right;\n",
       "    }\n",
       "</style>\n",
       "<table border=\"1\" class=\"dataframe\">\n",
       "  <thead>\n",
       "    <tr style=\"text-align: right;\">\n",
       "      <th></th>\n",
       "      <th>Unnamed: 0</th>\n",
       "      <th>Unnamed: 1</th>\n",
       "      <th>CASE_NUMBER</th>\n",
       "      <th>DECISION_DATE</th>\n",
       "      <th>CASE_STATUS</th>\n",
       "      <th>CASE_RECEIVED_DATE</th>\n",
       "      <th>EMPLOYER_NAME</th>\n",
       "      <th>EMPLOYER_CITY</th>\n",
       "      <th>EMPLOYER_STATE</th>\n",
       "      <th>EMPLOYER_POSTAL_CODE</th>\n",
       "      <th>...</th>\n",
       "      <th>FW_INFO_POSTAL_CODE</th>\n",
       "      <th>COUNTRY_OF_CITIZENSHIP</th>\n",
       "      <th>FW_INFO_BIRTH_COUNTRY</th>\n",
       "      <th>CLASS_OF_ADMISSION</th>\n",
       "      <th>FOREIGN_WORKER_INFO_EDUCATION</th>\n",
       "      <th>FW_INFO_EDUCATION_OTHER</th>\n",
       "      <th>DECISION_DATE_YEAR</th>\n",
       "      <th>DECISION_DATE_MONTH</th>\n",
       "      <th>CASE_RECEIVED_DATE_YEAR</th>\n",
       "      <th>CASE_RECEIVED_DATE_MONTH</th>\n",
       "    </tr>\n",
       "  </thead>\n",
       "  <tbody>\n",
       "    <tr>\n",
       "      <th>0</th>\n",
       "      <td>FY15</td>\n",
       "      <td>0</td>\n",
       "      <td>A-14220-96665</td>\n",
       "      <td>2015-02-03</td>\n",
       "      <td>Certified-Expired</td>\n",
       "      <td>2014-09-10</td>\n",
       "      <td>UNION PACIFIC RAILROAD</td>\n",
       "      <td>OMAHA</td>\n",
       "      <td>NEBRASKA</td>\n",
       "      <td>68179</td>\n",
       "      <td>...</td>\n",
       "      <td>68154</td>\n",
       "      <td>INDIA</td>\n",
       "      <td>INDIA</td>\n",
       "      <td>H-1B</td>\n",
       "      <td>Bachelor's</td>\n",
       "      <td>NaN</td>\n",
       "      <td>2015</td>\n",
       "      <td>2</td>\n",
       "      <td>2014.0</td>\n",
       "      <td>9.0</td>\n",
       "    </tr>\n",
       "    <tr>\n",
       "      <th>1</th>\n",
       "      <td>FY15</td>\n",
       "      <td>1</td>\n",
       "      <td>A-14220-96720</td>\n",
       "      <td>2015-01-12</td>\n",
       "      <td>Certified-Expired</td>\n",
       "      <td>2014-08-08</td>\n",
       "      <td>VST CONSULTING INC</td>\n",
       "      <td>ISELIN</td>\n",
       "      <td>NEW JERSEY</td>\n",
       "      <td>08830</td>\n",
       "      <td>...</td>\n",
       "      <td>19702</td>\n",
       "      <td>INDIA</td>\n",
       "      <td>INDIA</td>\n",
       "      <td>H-1B</td>\n",
       "      <td>Master's</td>\n",
       "      <td>NaN</td>\n",
       "      <td>2015</td>\n",
       "      <td>1</td>\n",
       "      <td>2014.0</td>\n",
       "      <td>8.0</td>\n",
       "    </tr>\n",
       "    <tr>\n",
       "      <th>2</th>\n",
       "      <td>FY15</td>\n",
       "      <td>2</td>\n",
       "      <td>A-14203-91167</td>\n",
       "      <td>2014-12-18</td>\n",
       "      <td>Certified-Expired</td>\n",
       "      <td>2014-07-28</td>\n",
       "      <td>GOOGLE INC.</td>\n",
       "      <td>MOUNTAIN VIEW</td>\n",
       "      <td>CALIFORNIA</td>\n",
       "      <td>94043</td>\n",
       "      <td>...</td>\n",
       "      <td>94306</td>\n",
       "      <td>SOUTH KOREA</td>\n",
       "      <td>SOUTH KOREA</td>\n",
       "      <td>L-1</td>\n",
       "      <td>Master's</td>\n",
       "      <td>NaN</td>\n",
       "      <td>2014</td>\n",
       "      <td>12</td>\n",
       "      <td>2014.0</td>\n",
       "      <td>7.0</td>\n",
       "    </tr>\n",
       "    <tr>\n",
       "      <th>3</th>\n",
       "      <td>FY15</td>\n",
       "      <td>3</td>\n",
       "      <td>A-14206-92509</td>\n",
       "      <td>2015-03-10</td>\n",
       "      <td>Certified-Expired</td>\n",
       "      <td>2014-10-19</td>\n",
       "      <td>INTEL CORPORATION</td>\n",
       "      <td>SANTA CLARA</td>\n",
       "      <td>CALIFORNIA</td>\n",
       "      <td>95052</td>\n",
       "      <td>...</td>\n",
       "      <td>95670</td>\n",
       "      <td>BANGLADESH</td>\n",
       "      <td>BANGLADESH</td>\n",
       "      <td>H-1B</td>\n",
       "      <td>Master's</td>\n",
       "      <td>NaN</td>\n",
       "      <td>2015</td>\n",
       "      <td>3</td>\n",
       "      <td>2014.0</td>\n",
       "      <td>10.0</td>\n",
       "    </tr>\n",
       "    <tr>\n",
       "      <th>4</th>\n",
       "      <td>FY15</td>\n",
       "      <td>4</td>\n",
       "      <td>A-14202-90786</td>\n",
       "      <td>2015-01-07</td>\n",
       "      <td>Certified-Expired</td>\n",
       "      <td>2014-08-25</td>\n",
       "      <td>NET ESOLUTIONS CORPORATION</td>\n",
       "      <td>MCLEAN</td>\n",
       "      <td>VIRGINIA</td>\n",
       "      <td>22102</td>\n",
       "      <td>...</td>\n",
       "      <td>2002-02-21 00:00:00</td>\n",
       "      <td>INDIA</td>\n",
       "      <td>INDIA</td>\n",
       "      <td>H-1B</td>\n",
       "      <td>Master's</td>\n",
       "      <td>NaN</td>\n",
       "      <td>2015</td>\n",
       "      <td>1</td>\n",
       "      <td>2014.0</td>\n",
       "      <td>8.0</td>\n",
       "    </tr>\n",
       "  </tbody>\n",
       "</table>\n",
       "<p>5 rows × 37 columns</p>\n",
       "</div>"
      ],
      "text/plain": [
       "  Unnamed: 0  Unnamed: 1    CASE_NUMBER DECISION_DATE        CASE_STATUS  \\\n",
       "0       FY15           0  A-14220-96665    2015-02-03  Certified-Expired   \n",
       "1       FY15           1  A-14220-96720    2015-01-12  Certified-Expired   \n",
       "2       FY15           2  A-14203-91167    2014-12-18  Certified-Expired   \n",
       "3       FY15           3  A-14206-92509    2015-03-10  Certified-Expired   \n",
       "4       FY15           4  A-14202-90786    2015-01-07  Certified-Expired   \n",
       "\n",
       "  CASE_RECEIVED_DATE               EMPLOYER_NAME  EMPLOYER_CITY  \\\n",
       "0         2014-09-10      UNION PACIFIC RAILROAD          OMAHA   \n",
       "1         2014-08-08          VST CONSULTING INC         ISELIN   \n",
       "2         2014-07-28                 GOOGLE INC.  MOUNTAIN VIEW   \n",
       "3         2014-10-19           INTEL CORPORATION    SANTA CLARA   \n",
       "4         2014-08-25  NET ESOLUTIONS CORPORATION         MCLEAN   \n",
       "\n",
       "  EMPLOYER_STATE EMPLOYER_POSTAL_CODE  ...  FW_INFO_POSTAL_CODE  \\\n",
       "0       NEBRASKA                68179  ...                68154   \n",
       "1     NEW JERSEY                08830  ...                19702   \n",
       "2     CALIFORNIA                94043  ...                94306   \n",
       "3     CALIFORNIA                95052  ...                95670   \n",
       "4       VIRGINIA                22102  ...  2002-02-21 00:00:00   \n",
       "\n",
       "  COUNTRY_OF_CITIZENSHIP FW_INFO_BIRTH_COUNTRY CLASS_OF_ADMISSION  \\\n",
       "0                  INDIA                 INDIA               H-1B   \n",
       "1                  INDIA                 INDIA               H-1B   \n",
       "2            SOUTH KOREA           SOUTH KOREA                L-1   \n",
       "3             BANGLADESH            BANGLADESH               H-1B   \n",
       "4                  INDIA                 INDIA               H-1B   \n",
       "\n",
       "  FOREIGN_WORKER_INFO_EDUCATION FW_INFO_EDUCATION_OTHER  DECISION_DATE_YEAR  \\\n",
       "0                    Bachelor's                     NaN                2015   \n",
       "1                      Master's                     NaN                2015   \n",
       "2                      Master's                     NaN                2014   \n",
       "3                      Master's                     NaN                2015   \n",
       "4                      Master's                     NaN                2015   \n",
       "\n",
       "   DECISION_DATE_MONTH CASE_RECEIVED_DATE_YEAR CASE_RECEIVED_DATE_MONTH  \n",
       "0                    2                  2014.0                      9.0  \n",
       "1                    1                  2014.0                      8.0  \n",
       "2                   12                  2014.0                      7.0  \n",
       "3                    3                  2014.0                     10.0  \n",
       "4                    1                  2014.0                      8.0  \n",
       "\n",
       "[5 rows x 37 columns]"
      ]
     },
     "execution_count": 394,
     "metadata": {},
     "output_type": "execute_result"
    }
   ],
   "source": [
    "data.head()"
   ]
  },
  {
   "cell_type": "code",
   "execution_count": 395,
   "metadata": {},
   "outputs": [
    {
     "data": {
      "text/plain": [
       "Index(['Unnamed: 0', 'Unnamed: 1', 'CASE_NUMBER', 'DECISION_DATE',\n",
       "       'CASE_STATUS', 'CASE_RECEIVED_DATE', 'EMPLOYER_NAME', 'EMPLOYER_CITY',\n",
       "       'EMPLOYER_STATE', 'EMPLOYER_POSTAL_CODE', 'EMPLOYER_NUM_EMPLOYEES',\n",
       "       'AGENT_FIRM_NAME', 'AGENT_CITY', 'AGENT_STATE', 'PW_SOC_CODE',\n",
       "       'PW_SOC_TITLE', 'PW_AMOUNT_9089', 'WAGE_OFFER_FROM_9089',\n",
       "       'WAGE_OFFER_UNIT_OF_PAY_9089', 'JOB_INFO_WORK_CITY',\n",
       "       'JOB_INFO_WORK_STATE', 'JOB_INFO_WORK_POSTAL_CODE',\n",
       "       'JOB_INFO_JOB_TITLE', 'JOB_INFO_EDUCATION', 'JOB_INFO_EDUCATION_OTHER',\n",
       "       'FOREIGN_WORKER_INFO_CITY', 'FOREIGN_WORKER_INFO_STATE',\n",
       "       'FW_INFO_POSTAL_CODE', 'COUNTRY_OF_CITIZENSHIP',\n",
       "       'FW_INFO_BIRTH_COUNTRY', 'CLASS_OF_ADMISSION',\n",
       "       'FOREIGN_WORKER_INFO_EDUCATION', 'FW_INFO_EDUCATION_OTHER',\n",
       "       'DECISION_DATE_YEAR', 'DECISION_DATE_MONTH', 'CASE_RECEIVED_DATE_YEAR',\n",
       "       'CASE_RECEIVED_DATE_MONTH'],\n",
       "      dtype='object')"
      ]
     },
     "execution_count": 395,
     "metadata": {},
     "output_type": "execute_result"
    }
   ],
   "source": [
    "data.columns"
   ]
  },
  {
   "cell_type": "code",
   "execution_count": 396,
   "metadata": {},
   "outputs": [],
   "source": [
    "data2 = data[['CASE_STATUS', \n",
    "              'CASE_RECEIVED_DATE', \n",
    "              'DECISION_DATE', \n",
    "              'CASE_RECEIVED_DATE_MONTH', \n",
    "              'CLASS_OF_ADMISSION', \n",
    "              'FOREIGN_WORKER_INFO_EDUCATION', \n",
    "              'COUNTRY_OF_CITIZENSHIP', \n",
    "              'EMPLOYER_POSTAL_CODE',\n",
    "              'EMPLOYER_STATE',\n",
    "              'EMPLOYER_NUM_EMPLOYEES', \n",
    "              'WAGE_OFFER_UNIT_OF_PAY_9089', \n",
    "              'WAGE_OFFER_FROM_9089']]"
   ]
  },
  {
   "cell_type": "code",
   "execution_count": 397,
   "metadata": {},
   "outputs": [
    {
     "data": {
      "text/html": [
       "<div>\n",
       "<style scoped>\n",
       "    .dataframe tbody tr th:only-of-type {\n",
       "        vertical-align: middle;\n",
       "    }\n",
       "\n",
       "    .dataframe tbody tr th {\n",
       "        vertical-align: top;\n",
       "    }\n",
       "\n",
       "    .dataframe thead th {\n",
       "        text-align: right;\n",
       "    }\n",
       "</style>\n",
       "<table border=\"1\" class=\"dataframe\">\n",
       "  <thead>\n",
       "    <tr style=\"text-align: right;\">\n",
       "      <th></th>\n",
       "      <th>CASE_STATUS</th>\n",
       "      <th>CASE_RECEIVED_DATE</th>\n",
       "      <th>DECISION_DATE</th>\n",
       "      <th>CASE_RECEIVED_DATE_MONTH</th>\n",
       "      <th>CLASS_OF_ADMISSION</th>\n",
       "      <th>FOREIGN_WORKER_INFO_EDUCATION</th>\n",
       "      <th>COUNTRY_OF_CITIZENSHIP</th>\n",
       "      <th>EMPLOYER_POSTAL_CODE</th>\n",
       "      <th>EMPLOYER_STATE</th>\n",
       "      <th>EMPLOYER_NUM_EMPLOYEES</th>\n",
       "      <th>WAGE_OFFER_UNIT_OF_PAY_9089</th>\n",
       "      <th>WAGE_OFFER_FROM_9089</th>\n",
       "    </tr>\n",
       "  </thead>\n",
       "  <tbody>\n",
       "    <tr>\n",
       "      <th>0</th>\n",
       "      <td>Certified-Expired</td>\n",
       "      <td>2014-09-10</td>\n",
       "      <td>2015-02-03</td>\n",
       "      <td>9.0</td>\n",
       "      <td>H-1B</td>\n",
       "      <td>Bachelor's</td>\n",
       "      <td>INDIA</td>\n",
       "      <td>68179</td>\n",
       "      <td>NEBRASKA</td>\n",
       "      <td>45000.0</td>\n",
       "      <td>Year</td>\n",
       "      <td>93000.0</td>\n",
       "    </tr>\n",
       "    <tr>\n",
       "      <th>1</th>\n",
       "      <td>Certified-Expired</td>\n",
       "      <td>2014-08-08</td>\n",
       "      <td>2015-01-12</td>\n",
       "      <td>8.0</td>\n",
       "      <td>H-1B</td>\n",
       "      <td>Master's</td>\n",
       "      <td>INDIA</td>\n",
       "      <td>08830</td>\n",
       "      <td>NEW JERSEY</td>\n",
       "      <td>80.0</td>\n",
       "      <td>Year</td>\n",
       "      <td>90459.0</td>\n",
       "    </tr>\n",
       "    <tr>\n",
       "      <th>2</th>\n",
       "      <td>Certified-Expired</td>\n",
       "      <td>2014-07-28</td>\n",
       "      <td>2014-12-18</td>\n",
       "      <td>7.0</td>\n",
       "      <td>L-1</td>\n",
       "      <td>Master's</td>\n",
       "      <td>SOUTH KOREA</td>\n",
       "      <td>94043</td>\n",
       "      <td>CALIFORNIA</td>\n",
       "      <td>53861.0</td>\n",
       "      <td>Year</td>\n",
       "      <td>140000.0</td>\n",
       "    </tr>\n",
       "    <tr>\n",
       "      <th>3</th>\n",
       "      <td>Certified-Expired</td>\n",
       "      <td>2014-10-19</td>\n",
       "      <td>2015-03-10</td>\n",
       "      <td>10.0</td>\n",
       "      <td>H-1B</td>\n",
       "      <td>Master's</td>\n",
       "      <td>BANGLADESH</td>\n",
       "      <td>95052</td>\n",
       "      <td>CALIFORNIA</td>\n",
       "      <td>46544.0</td>\n",
       "      <td>Year</td>\n",
       "      <td>80617.0</td>\n",
       "    </tr>\n",
       "    <tr>\n",
       "      <th>4</th>\n",
       "      <td>Certified-Expired</td>\n",
       "      <td>2014-08-25</td>\n",
       "      <td>2015-01-07</td>\n",
       "      <td>8.0</td>\n",
       "      <td>H-1B</td>\n",
       "      <td>Master's</td>\n",
       "      <td>INDIA</td>\n",
       "      <td>22102</td>\n",
       "      <td>VIRGINIA</td>\n",
       "      <td>82.0</td>\n",
       "      <td>Year</td>\n",
       "      <td>94016.0</td>\n",
       "    </tr>\n",
       "  </tbody>\n",
       "</table>\n",
       "</div>"
      ],
      "text/plain": [
       "         CASE_STATUS CASE_RECEIVED_DATE DECISION_DATE  \\\n",
       "0  Certified-Expired         2014-09-10    2015-02-03   \n",
       "1  Certified-Expired         2014-08-08    2015-01-12   \n",
       "2  Certified-Expired         2014-07-28    2014-12-18   \n",
       "3  Certified-Expired         2014-10-19    2015-03-10   \n",
       "4  Certified-Expired         2014-08-25    2015-01-07   \n",
       "\n",
       "   CASE_RECEIVED_DATE_MONTH CLASS_OF_ADMISSION FOREIGN_WORKER_INFO_EDUCATION  \\\n",
       "0                       9.0               H-1B                    Bachelor's   \n",
       "1                       8.0               H-1B                      Master's   \n",
       "2                       7.0                L-1                      Master's   \n",
       "3                      10.0               H-1B                      Master's   \n",
       "4                       8.0               H-1B                      Master's   \n",
       "\n",
       "  COUNTRY_OF_CITIZENSHIP EMPLOYER_POSTAL_CODE EMPLOYER_STATE  \\\n",
       "0                  INDIA                68179       NEBRASKA   \n",
       "1                  INDIA                08830     NEW JERSEY   \n",
       "2            SOUTH KOREA                94043     CALIFORNIA   \n",
       "3             BANGLADESH                95052     CALIFORNIA   \n",
       "4                  INDIA                22102       VIRGINIA   \n",
       "\n",
       "   EMPLOYER_NUM_EMPLOYEES WAGE_OFFER_UNIT_OF_PAY_9089  WAGE_OFFER_FROM_9089  \n",
       "0                 45000.0                        Year               93000.0  \n",
       "1                    80.0                        Year               90459.0  \n",
       "2                 53861.0                        Year              140000.0  \n",
       "3                 46544.0                        Year               80617.0  \n",
       "4                    82.0                        Year               94016.0  "
      ]
     },
     "execution_count": 397,
     "metadata": {},
     "output_type": "execute_result"
    }
   ],
   "source": [
    "data2.head()"
   ]
  },
  {
   "cell_type": "code",
   "execution_count": 398,
   "metadata": {},
   "outputs": [],
   "source": [
    "data3 = data2.loc[data2['WAGE_OFFER_UNIT_OF_PAY_9089'] == 'Year']"
   ]
  },
  {
   "cell_type": "code",
   "execution_count": 399,
   "metadata": {},
   "outputs": [
    {
     "data": {
      "text/plain": [
       "Year    416731\n",
       "Name: WAGE_OFFER_UNIT_OF_PAY_9089, dtype: int64"
      ]
     },
     "execution_count": 399,
     "metadata": {},
     "output_type": "execute_result"
    }
   ],
   "source": [
    "data3['WAGE_OFFER_UNIT_OF_PAY_9089'].value_counts()"
   ]
  },
  {
   "cell_type": "code",
   "execution_count": 400,
   "metadata": {},
   "outputs": [
    {
     "data": {
      "text/html": [
       "<div>\n",
       "<style scoped>\n",
       "    .dataframe tbody tr th:only-of-type {\n",
       "        vertical-align: middle;\n",
       "    }\n",
       "\n",
       "    .dataframe tbody tr th {\n",
       "        vertical-align: top;\n",
       "    }\n",
       "\n",
       "    .dataframe thead th {\n",
       "        text-align: right;\n",
       "    }\n",
       "</style>\n",
       "<table border=\"1\" class=\"dataframe\">\n",
       "  <thead>\n",
       "    <tr style=\"text-align: right;\">\n",
       "      <th></th>\n",
       "      <th>CASE_STATUS</th>\n",
       "      <th>CASE_RECEIVED_DATE</th>\n",
       "      <th>DECISION_DATE</th>\n",
       "      <th>CASE_RECEIVED_DATE_MONTH</th>\n",
       "      <th>CLASS_OF_ADMISSION</th>\n",
       "      <th>FOREIGN_WORKER_INFO_EDUCATION</th>\n",
       "      <th>COUNTRY_OF_CITIZENSHIP</th>\n",
       "      <th>EMPLOYER_POSTAL_CODE</th>\n",
       "      <th>EMPLOYER_STATE</th>\n",
       "      <th>EMPLOYER_NUM_EMPLOYEES</th>\n",
       "      <th>WAGE_OFFER_UNIT_OF_PAY_9089</th>\n",
       "      <th>WAGE_OFFER_FROM_9089</th>\n",
       "    </tr>\n",
       "  </thead>\n",
       "  <tbody>\n",
       "    <tr>\n",
       "      <th>25</th>\n",
       "      <td>Certified</td>\n",
       "      <td>2014-12-19</td>\n",
       "      <td>2015-06-22</td>\n",
       "      <td>12.0</td>\n",
       "      <td>H-1B</td>\n",
       "      <td>Master's</td>\n",
       "      <td>CHINA</td>\n",
       "      <td>33309</td>\n",
       "      <td>FLORIDA</td>\n",
       "      <td>5400.0</td>\n",
       "      <td>Year</td>\n",
       "      <td>82000.0</td>\n",
       "    </tr>\n",
       "    <tr>\n",
       "      <th>28</th>\n",
       "      <td>Certified</td>\n",
       "      <td>2014-07-18</td>\n",
       "      <td>2015-04-06</td>\n",
       "      <td>7.0</td>\n",
       "      <td>H-1B</td>\n",
       "      <td>Bachelor's</td>\n",
       "      <td>INDIA</td>\n",
       "      <td>77845</td>\n",
       "      <td>TEXAS</td>\n",
       "      <td>29000.0</td>\n",
       "      <td>Year</td>\n",
       "      <td>72467.0</td>\n",
       "    </tr>\n",
       "    <tr>\n",
       "      <th>35</th>\n",
       "      <td>Certified</td>\n",
       "      <td>2014-12-11</td>\n",
       "      <td>2015-06-24</td>\n",
       "      <td>12.0</td>\n",
       "      <td>H-1B</td>\n",
       "      <td>Bachelor's</td>\n",
       "      <td>INDIA</td>\n",
       "      <td>08831</td>\n",
       "      <td>NEW JERSEY</td>\n",
       "      <td>8.0</td>\n",
       "      <td>Year</td>\n",
       "      <td>77500.0</td>\n",
       "    </tr>\n",
       "    <tr>\n",
       "      <th>61</th>\n",
       "      <td>Certified</td>\n",
       "      <td>2013-08-05</td>\n",
       "      <td>2015-05-29</td>\n",
       "      <td>8.0</td>\n",
       "      <td>NaN</td>\n",
       "      <td>Associate's</td>\n",
       "      <td>CHINA</td>\n",
       "      <td>36108</td>\n",
       "      <td>ALABAMA</td>\n",
       "      <td>1400.0</td>\n",
       "      <td>Year</td>\n",
       "      <td>19843.0</td>\n",
       "    </tr>\n",
       "    <tr>\n",
       "      <th>63</th>\n",
       "      <td>Certified</td>\n",
       "      <td>2013-06-28</td>\n",
       "      <td>2015-04-20</td>\n",
       "      <td>6.0</td>\n",
       "      <td>NaN</td>\n",
       "      <td>Bachelor's</td>\n",
       "      <td>IRAN</td>\n",
       "      <td>20877</td>\n",
       "      <td>MARYLAND</td>\n",
       "      <td>6.0</td>\n",
       "      <td>Year</td>\n",
       "      <td>36754.0</td>\n",
       "    </tr>\n",
       "  </tbody>\n",
       "</table>\n",
       "</div>"
      ],
      "text/plain": [
       "   CASE_STATUS CASE_RECEIVED_DATE DECISION_DATE  CASE_RECEIVED_DATE_MONTH  \\\n",
       "25   Certified         2014-12-19    2015-06-22                      12.0   \n",
       "28   Certified         2014-07-18    2015-04-06                       7.0   \n",
       "35   Certified         2014-12-11    2015-06-24                      12.0   \n",
       "61   Certified         2013-08-05    2015-05-29                       8.0   \n",
       "63   Certified         2013-06-28    2015-04-20                       6.0   \n",
       "\n",
       "   CLASS_OF_ADMISSION FOREIGN_WORKER_INFO_EDUCATION COUNTRY_OF_CITIZENSHIP  \\\n",
       "25               H-1B                      Master's                  CHINA   \n",
       "28               H-1B                    Bachelor's                  INDIA   \n",
       "35               H-1B                    Bachelor's                  INDIA   \n",
       "61                NaN                   Associate's                  CHINA   \n",
       "63                NaN                    Bachelor's                   IRAN   \n",
       "\n",
       "   EMPLOYER_POSTAL_CODE EMPLOYER_STATE  EMPLOYER_NUM_EMPLOYEES  \\\n",
       "25                33309        FLORIDA                  5400.0   \n",
       "28                77845          TEXAS                 29000.0   \n",
       "35                08831     NEW JERSEY                     8.0   \n",
       "61                36108        ALABAMA                  1400.0   \n",
       "63                20877       MARYLAND                     6.0   \n",
       "\n",
       "   WAGE_OFFER_UNIT_OF_PAY_9089  WAGE_OFFER_FROM_9089  \n",
       "25                        Year               82000.0  \n",
       "28                        Year               72467.0  \n",
       "35                        Year               77500.0  \n",
       "61                        Year               19843.0  \n",
       "63                        Year               36754.0  "
      ]
     },
     "execution_count": 400,
     "metadata": {},
     "output_type": "execute_result"
    }
   ],
   "source": [
    "data4 = data3.loc[data3['CASE_STATUS'] == 'Certified']\n",
    "data4.head()"
   ]
  },
  {
   "cell_type": "code",
   "execution_count": 401,
   "metadata": {},
   "outputs": [
    {
     "data": {
      "text/plain": [
       "Certified    208427\n",
       "Name: CASE_STATUS, dtype: int64"
      ]
     },
     "execution_count": 401,
     "metadata": {},
     "output_type": "execute_result"
    }
   ],
   "source": [
    "data4['CASE_STATUS'].value_counts()"
   ]
  },
  {
   "cell_type": "code",
   "execution_count": 402,
   "metadata": {},
   "outputs": [
    {
     "data": {
      "text/html": [
       "<div>\n",
       "<style scoped>\n",
       "    .dataframe tbody tr th:only-of-type {\n",
       "        vertical-align: middle;\n",
       "    }\n",
       "\n",
       "    .dataframe tbody tr th {\n",
       "        vertical-align: top;\n",
       "    }\n",
       "\n",
       "    .dataframe thead th {\n",
       "        text-align: right;\n",
       "    }\n",
       "</style>\n",
       "<table border=\"1\" class=\"dataframe\">\n",
       "  <thead>\n",
       "    <tr style=\"text-align: right;\">\n",
       "      <th></th>\n",
       "      <th>CASE_STATUS</th>\n",
       "      <th>CASE_RECEIVED_DATE</th>\n",
       "      <th>DECISION_DATE</th>\n",
       "      <th>CASE_RECEIVED_DATE_MONTH</th>\n",
       "      <th>CLASS_OF_ADMISSION</th>\n",
       "      <th>FOREIGN_WORKER_INFO_EDUCATION</th>\n",
       "      <th>COUNTRY_OF_CITIZENSHIP</th>\n",
       "      <th>EMPLOYER_POSTAL_CODE</th>\n",
       "      <th>EMPLOYER_STATE</th>\n",
       "      <th>EMPLOYER_NUM_EMPLOYEES</th>\n",
       "      <th>WAGE_OFFER_UNIT_OF_PAY_9089</th>\n",
       "      <th>WAGE_OFFER_FROM_9089</th>\n",
       "    </tr>\n",
       "  </thead>\n",
       "  <tbody>\n",
       "    <tr>\n",
       "      <th>25</th>\n",
       "      <td>Certified</td>\n",
       "      <td>2014-12-19</td>\n",
       "      <td>2015-06-22</td>\n",
       "      <td>12.0</td>\n",
       "      <td>H-1B</td>\n",
       "      <td>Master's</td>\n",
       "      <td>CHINA</td>\n",
       "      <td>33309</td>\n",
       "      <td>FLORIDA</td>\n",
       "      <td>5400.0</td>\n",
       "      <td>Year</td>\n",
       "      <td>82000.0</td>\n",
       "    </tr>\n",
       "    <tr>\n",
       "      <th>28</th>\n",
       "      <td>Certified</td>\n",
       "      <td>2014-07-18</td>\n",
       "      <td>2015-04-06</td>\n",
       "      <td>7.0</td>\n",
       "      <td>H-1B</td>\n",
       "      <td>Bachelor's</td>\n",
       "      <td>INDIA</td>\n",
       "      <td>77845</td>\n",
       "      <td>TEXAS</td>\n",
       "      <td>29000.0</td>\n",
       "      <td>Year</td>\n",
       "      <td>72467.0</td>\n",
       "    </tr>\n",
       "    <tr>\n",
       "      <th>35</th>\n",
       "      <td>Certified</td>\n",
       "      <td>2014-12-11</td>\n",
       "      <td>2015-06-24</td>\n",
       "      <td>12.0</td>\n",
       "      <td>H-1B</td>\n",
       "      <td>Bachelor's</td>\n",
       "      <td>INDIA</td>\n",
       "      <td>08831</td>\n",
       "      <td>NEW JERSEY</td>\n",
       "      <td>8.0</td>\n",
       "      <td>Year</td>\n",
       "      <td>77500.0</td>\n",
       "    </tr>\n",
       "    <tr>\n",
       "      <th>67</th>\n",
       "      <td>Certified</td>\n",
       "      <td>2014-02-09</td>\n",
       "      <td>2015-06-25</td>\n",
       "      <td>2.0</td>\n",
       "      <td>H-1B</td>\n",
       "      <td>Associate's</td>\n",
       "      <td>PHILIPPINES</td>\n",
       "      <td>96931</td>\n",
       "      <td>GUAM</td>\n",
       "      <td>35.0</td>\n",
       "      <td>Year</td>\n",
       "      <td>68869.0</td>\n",
       "    </tr>\n",
       "    <tr>\n",
       "      <th>68</th>\n",
       "      <td>Certified</td>\n",
       "      <td>2013-11-15</td>\n",
       "      <td>2015-05-06</td>\n",
       "      <td>11.0</td>\n",
       "      <td>H-1B</td>\n",
       "      <td>Master's</td>\n",
       "      <td>CHINA</td>\n",
       "      <td>94304</td>\n",
       "      <td>CALIFORNIA</td>\n",
       "      <td>331000.0</td>\n",
       "      <td>Year</td>\n",
       "      <td>118414.0</td>\n",
       "    </tr>\n",
       "  </tbody>\n",
       "</table>\n",
       "</div>"
      ],
      "text/plain": [
       "   CASE_STATUS CASE_RECEIVED_DATE DECISION_DATE  CASE_RECEIVED_DATE_MONTH  \\\n",
       "25   Certified         2014-12-19    2015-06-22                      12.0   \n",
       "28   Certified         2014-07-18    2015-04-06                       7.0   \n",
       "35   Certified         2014-12-11    2015-06-24                      12.0   \n",
       "67   Certified         2014-02-09    2015-06-25                       2.0   \n",
       "68   Certified         2013-11-15    2015-05-06                      11.0   \n",
       "\n",
       "   CLASS_OF_ADMISSION FOREIGN_WORKER_INFO_EDUCATION COUNTRY_OF_CITIZENSHIP  \\\n",
       "25               H-1B                      Master's                  CHINA   \n",
       "28               H-1B                    Bachelor's                  INDIA   \n",
       "35               H-1B                    Bachelor's                  INDIA   \n",
       "67               H-1B                   Associate's            PHILIPPINES   \n",
       "68               H-1B                      Master's                  CHINA   \n",
       "\n",
       "   EMPLOYER_POSTAL_CODE EMPLOYER_STATE  EMPLOYER_NUM_EMPLOYEES  \\\n",
       "25                33309        FLORIDA                  5400.0   \n",
       "28                77845          TEXAS                 29000.0   \n",
       "35                08831     NEW JERSEY                     8.0   \n",
       "67                96931           GUAM                    35.0   \n",
       "68                94304     CALIFORNIA                331000.0   \n",
       "\n",
       "   WAGE_OFFER_UNIT_OF_PAY_9089  WAGE_OFFER_FROM_9089  \n",
       "25                        Year               82000.0  \n",
       "28                        Year               72467.0  \n",
       "35                        Year               77500.0  \n",
       "67                        Year               68869.0  \n",
       "68                        Year              118414.0  "
      ]
     },
     "execution_count": 402,
     "metadata": {},
     "output_type": "execute_result"
    }
   ],
   "source": [
    "data5 = data4.dropna(how='any')\n",
    "data5.head()"
   ]
  },
  {
   "cell_type": "code",
   "execution_count": 403,
   "metadata": {},
   "outputs": [
    {
     "name": "stderr",
     "output_type": "stream",
     "text": [
      "/anaconda3/envs/PythonData/lib/python3.6/site-packages/ipykernel_launcher.py:1: SettingWithCopyWarning: \n",
      "A value is trying to be set on a copy of a slice from a DataFrame.\n",
      "Try using .loc[row_indexer,col_indexer] = value instead\n",
      "\n",
      "See the caveats in the documentation: http://pandas.pydata.org/pandas-docs/stable/indexing.html#indexing-view-versus-copy\n",
      "  \"\"\"Entry point for launching an IPython kernel.\n"
     ]
    }
   ],
   "source": [
    "data5['ZIP_CODE'] = data5['EMPLOYER_POSTAL_CODE'].where(data5['EMPLOYER_POSTAL_CODE'].str.len() == 5)"
   ]
  },
  {
   "cell_type": "code",
   "execution_count": 404,
   "metadata": {},
   "outputs": [
    {
     "data": {
      "text/html": [
       "<div>\n",
       "<style scoped>\n",
       "    .dataframe tbody tr th:only-of-type {\n",
       "        vertical-align: middle;\n",
       "    }\n",
       "\n",
       "    .dataframe tbody tr th {\n",
       "        vertical-align: top;\n",
       "    }\n",
       "\n",
       "    .dataframe thead th {\n",
       "        text-align: right;\n",
       "    }\n",
       "</style>\n",
       "<table border=\"1\" class=\"dataframe\">\n",
       "  <thead>\n",
       "    <tr style=\"text-align: right;\">\n",
       "      <th></th>\n",
       "      <th>CASE_STATUS</th>\n",
       "      <th>CASE_RECEIVED_DATE</th>\n",
       "      <th>DECISION_DATE</th>\n",
       "      <th>CASE_RECEIVED_DATE_MONTH</th>\n",
       "      <th>CLASS_OF_ADMISSION</th>\n",
       "      <th>FOREIGN_WORKER_INFO_EDUCATION</th>\n",
       "      <th>COUNTRY_OF_CITIZENSHIP</th>\n",
       "      <th>EMPLOYER_POSTAL_CODE</th>\n",
       "      <th>EMPLOYER_STATE</th>\n",
       "      <th>EMPLOYER_NUM_EMPLOYEES</th>\n",
       "      <th>WAGE_OFFER_UNIT_OF_PAY_9089</th>\n",
       "      <th>WAGE_OFFER_FROM_9089</th>\n",
       "      <th>ZIP_CODE</th>\n",
       "    </tr>\n",
       "  </thead>\n",
       "  <tbody>\n",
       "    <tr>\n",
       "      <th>25</th>\n",
       "      <td>Certified</td>\n",
       "      <td>2014-12-19</td>\n",
       "      <td>2015-06-22</td>\n",
       "      <td>12.0</td>\n",
       "      <td>H-1B</td>\n",
       "      <td>Master's</td>\n",
       "      <td>CHINA</td>\n",
       "      <td>33309</td>\n",
       "      <td>FLORIDA</td>\n",
       "      <td>5400.0</td>\n",
       "      <td>Year</td>\n",
       "      <td>82000.0</td>\n",
       "      <td>33309</td>\n",
       "    </tr>\n",
       "    <tr>\n",
       "      <th>28</th>\n",
       "      <td>Certified</td>\n",
       "      <td>2014-07-18</td>\n",
       "      <td>2015-04-06</td>\n",
       "      <td>7.0</td>\n",
       "      <td>H-1B</td>\n",
       "      <td>Bachelor's</td>\n",
       "      <td>INDIA</td>\n",
       "      <td>77845</td>\n",
       "      <td>TEXAS</td>\n",
       "      <td>29000.0</td>\n",
       "      <td>Year</td>\n",
       "      <td>72467.0</td>\n",
       "      <td>77845</td>\n",
       "    </tr>\n",
       "    <tr>\n",
       "      <th>35</th>\n",
       "      <td>Certified</td>\n",
       "      <td>2014-12-11</td>\n",
       "      <td>2015-06-24</td>\n",
       "      <td>12.0</td>\n",
       "      <td>H-1B</td>\n",
       "      <td>Bachelor's</td>\n",
       "      <td>INDIA</td>\n",
       "      <td>08831</td>\n",
       "      <td>NEW JERSEY</td>\n",
       "      <td>8.0</td>\n",
       "      <td>Year</td>\n",
       "      <td>77500.0</td>\n",
       "      <td>08831</td>\n",
       "    </tr>\n",
       "    <tr>\n",
       "      <th>67</th>\n",
       "      <td>Certified</td>\n",
       "      <td>2014-02-09</td>\n",
       "      <td>2015-06-25</td>\n",
       "      <td>2.0</td>\n",
       "      <td>H-1B</td>\n",
       "      <td>Associate's</td>\n",
       "      <td>PHILIPPINES</td>\n",
       "      <td>96931</td>\n",
       "      <td>GUAM</td>\n",
       "      <td>35.0</td>\n",
       "      <td>Year</td>\n",
       "      <td>68869.0</td>\n",
       "      <td>96931</td>\n",
       "    </tr>\n",
       "    <tr>\n",
       "      <th>68</th>\n",
       "      <td>Certified</td>\n",
       "      <td>2013-11-15</td>\n",
       "      <td>2015-05-06</td>\n",
       "      <td>11.0</td>\n",
       "      <td>H-1B</td>\n",
       "      <td>Master's</td>\n",
       "      <td>CHINA</td>\n",
       "      <td>94304</td>\n",
       "      <td>CALIFORNIA</td>\n",
       "      <td>331000.0</td>\n",
       "      <td>Year</td>\n",
       "      <td>118414.0</td>\n",
       "      <td>94304</td>\n",
       "    </tr>\n",
       "  </tbody>\n",
       "</table>\n",
       "</div>"
      ],
      "text/plain": [
       "   CASE_STATUS CASE_RECEIVED_DATE DECISION_DATE  CASE_RECEIVED_DATE_MONTH  \\\n",
       "25   Certified         2014-12-19    2015-06-22                      12.0   \n",
       "28   Certified         2014-07-18    2015-04-06                       7.0   \n",
       "35   Certified         2014-12-11    2015-06-24                      12.0   \n",
       "67   Certified         2014-02-09    2015-06-25                       2.0   \n",
       "68   Certified         2013-11-15    2015-05-06                      11.0   \n",
       "\n",
       "   CLASS_OF_ADMISSION FOREIGN_WORKER_INFO_EDUCATION COUNTRY_OF_CITIZENSHIP  \\\n",
       "25               H-1B                      Master's                  CHINA   \n",
       "28               H-1B                    Bachelor's                  INDIA   \n",
       "35               H-1B                    Bachelor's                  INDIA   \n",
       "67               H-1B                   Associate's            PHILIPPINES   \n",
       "68               H-1B                      Master's                  CHINA   \n",
       "\n",
       "   EMPLOYER_POSTAL_CODE EMPLOYER_STATE  EMPLOYER_NUM_EMPLOYEES  \\\n",
       "25                33309        FLORIDA                  5400.0   \n",
       "28                77845          TEXAS                 29000.0   \n",
       "35                08831     NEW JERSEY                     8.0   \n",
       "67                96931           GUAM                    35.0   \n",
       "68                94304     CALIFORNIA                331000.0   \n",
       "\n",
       "   WAGE_OFFER_UNIT_OF_PAY_9089  WAGE_OFFER_FROM_9089 ZIP_CODE  \n",
       "25                        Year               82000.0    33309  \n",
       "28                        Year               72467.0    77845  \n",
       "35                        Year               77500.0    08831  \n",
       "67                        Year               68869.0    96931  \n",
       "68                        Year              118414.0    94304  "
      ]
     },
     "execution_count": 404,
     "metadata": {},
     "output_type": "execute_result"
    }
   ],
   "source": [
    "data5.head()"
   ]
  },
  {
   "cell_type": "code",
   "execution_count": 405,
   "metadata": {},
   "outputs": [
    {
     "data": {
      "text/plain": [
       "CASE_STATUS                      196569\n",
       "CASE_RECEIVED_DATE               196569\n",
       "DECISION_DATE                    196569\n",
       "CASE_RECEIVED_DATE_MONTH         196569\n",
       "CLASS_OF_ADMISSION               196569\n",
       "FOREIGN_WORKER_INFO_EDUCATION    196569\n",
       "COUNTRY_OF_CITIZENSHIP           196569\n",
       "EMPLOYER_POSTAL_CODE             196569\n",
       "EMPLOYER_STATE                   196569\n",
       "EMPLOYER_NUM_EMPLOYEES           196569\n",
       "WAGE_OFFER_UNIT_OF_PAY_9089      196569\n",
       "WAGE_OFFER_FROM_9089             196569\n",
       "ZIP_CODE                         193602\n",
       "dtype: int64"
      ]
     },
     "execution_count": 405,
     "metadata": {},
     "output_type": "execute_result"
    }
   ],
   "source": [
    "data5.count()"
   ]
  },
  {
   "cell_type": "code",
   "execution_count": 406,
   "metadata": {},
   "outputs": [
    {
     "data": {
      "text/plain": [
       "CASE_STATUS                       object\n",
       "CASE_RECEIVED_DATE                object\n",
       "DECISION_DATE                     object\n",
       "CASE_RECEIVED_DATE_MONTH         float64\n",
       "CLASS_OF_ADMISSION                object\n",
       "FOREIGN_WORKER_INFO_EDUCATION     object\n",
       "COUNTRY_OF_CITIZENSHIP            object\n",
       "EMPLOYER_POSTAL_CODE              object\n",
       "EMPLOYER_STATE                    object\n",
       "EMPLOYER_NUM_EMPLOYEES           float64\n",
       "WAGE_OFFER_UNIT_OF_PAY_9089       object\n",
       "WAGE_OFFER_FROM_9089             float64\n",
       "ZIP_CODE                          object\n",
       "dtype: object"
      ]
     },
     "execution_count": 406,
     "metadata": {},
     "output_type": "execute_result"
    }
   ],
   "source": [
    "data5.dtypes"
   ]
  },
  {
   "cell_type": "code",
   "execution_count": 407,
   "metadata": {},
   "outputs": [],
   "source": [
    "#additional cleaning in excel real quick\n",
    "# data5.to_excel('data5.xlsx', index = False)"
   ]
  },
  {
   "cell_type": "code",
   "execution_count": 408,
   "metadata": {},
   "outputs": [
    {
     "name": "stderr",
     "output_type": "stream",
     "text": [
      "/anaconda3/envs/PythonData/lib/python3.6/site-packages/IPython/core/interactiveshell.py:3057: DtypeWarning: Columns (8) have mixed types. Specify dtype option on import or set low_memory=False.\n",
      "  interactivity=interactivity, compiler=compiler, result=result)\n"
     ]
    }
   ],
   "source": [
    "data6 = pd.read_csv('data6.csv')"
   ]
  },
  {
   "cell_type": "code",
   "execution_count": 409,
   "metadata": {},
   "outputs": [
    {
     "data": {
      "text/html": [
       "<div>\n",
       "<style scoped>\n",
       "    .dataframe tbody tr th:only-of-type {\n",
       "        vertical-align: middle;\n",
       "    }\n",
       "\n",
       "    .dataframe tbody tr th {\n",
       "        vertical-align: top;\n",
       "    }\n",
       "\n",
       "    .dataframe thead th {\n",
       "        text-align: right;\n",
       "    }\n",
       "</style>\n",
       "<table border=\"1\" class=\"dataframe\">\n",
       "  <thead>\n",
       "    <tr style=\"text-align: right;\">\n",
       "      <th></th>\n",
       "      <th>CASE_STATUS</th>\n",
       "      <th>CASE_RECEIVED_DATE</th>\n",
       "      <th>DECISION_DATE</th>\n",
       "      <th>DAYS_TIL_DECISION</th>\n",
       "      <th>CASE_RECEIVED_DATE_MONTH</th>\n",
       "      <th>CLASS_OF_ADMISSION</th>\n",
       "      <th>FOREIGN_WORKER_INFO_EDUCATION</th>\n",
       "      <th>COUNTRY_OF_CITIZENSHIP</th>\n",
       "      <th>EMPLOYER_POSTAL_CODE</th>\n",
       "      <th>EMPLOYER_STATE</th>\n",
       "      <th>EMPLOYER_NUM_EMPLOYEES</th>\n",
       "      <th>WAGE_OFFER_UNIT_OF_PAY_9089</th>\n",
       "      <th>WAGE_OFFER_FROM_9089</th>\n",
       "      <th>ZIP_CODE</th>\n",
       "    </tr>\n",
       "  </thead>\n",
       "  <tbody>\n",
       "    <tr>\n",
       "      <th>0</th>\n",
       "      <td>Certified</td>\n",
       "      <td>2017-12-05</td>\n",
       "      <td>2018-04-24</td>\n",
       "      <td>140.0</td>\n",
       "      <td>12.0</td>\n",
       "      <td>H-1B</td>\n",
       "      <td>Bachelor's</td>\n",
       "      <td>INDIA</td>\n",
       "      <td>99901</td>\n",
       "      <td>AK</td>\n",
       "      <td>40.0</td>\n",
       "      <td>Year</td>\n",
       "      <td>61547.0</td>\n",
       "      <td>99901.0</td>\n",
       "    </tr>\n",
       "    <tr>\n",
       "      <th>1</th>\n",
       "      <td>Certified</td>\n",
       "      <td>2015-12-12</td>\n",
       "      <td>2016-06-02</td>\n",
       "      <td>173.0</td>\n",
       "      <td>12.0</td>\n",
       "      <td>H-1B</td>\n",
       "      <td>High School</td>\n",
       "      <td>MALAYSIA</td>\n",
       "      <td>99840</td>\n",
       "      <td>AK</td>\n",
       "      <td>20.0</td>\n",
       "      <td>Year</td>\n",
       "      <td>48000.0</td>\n",
       "      <td>99840.0</td>\n",
       "    </tr>\n",
       "    <tr>\n",
       "      <th>2</th>\n",
       "      <td>Certified</td>\n",
       "      <td>2015-08-03</td>\n",
       "      <td>2016-04-21</td>\n",
       "      <td>262.0</td>\n",
       "      <td>8.0</td>\n",
       "      <td>H-1B</td>\n",
       "      <td>Bachelor's</td>\n",
       "      <td>PHILIPPINES</td>\n",
       "      <td>99801</td>\n",
       "      <td>AK</td>\n",
       "      <td>546.0</td>\n",
       "      <td>Year</td>\n",
       "      <td>74692.0</td>\n",
       "      <td>99801.0</td>\n",
       "    </tr>\n",
       "    <tr>\n",
       "      <th>3</th>\n",
       "      <td>Certified</td>\n",
       "      <td>2016-07-14</td>\n",
       "      <td>2016-09-28</td>\n",
       "      <td>76.0</td>\n",
       "      <td>7.0</td>\n",
       "      <td>H-1B</td>\n",
       "      <td>Bachelor's</td>\n",
       "      <td>PHILIPPINES</td>\n",
       "      <td>99801</td>\n",
       "      <td>AK</td>\n",
       "      <td>550.0</td>\n",
       "      <td>Year</td>\n",
       "      <td>76981.0</td>\n",
       "      <td>99801.0</td>\n",
       "    </tr>\n",
       "    <tr>\n",
       "      <th>4</th>\n",
       "      <td>Certified</td>\n",
       "      <td>2014-11-20</td>\n",
       "      <td>2015-05-14</td>\n",
       "      <td>175.0</td>\n",
       "      <td>11.0</td>\n",
       "      <td>H-1B</td>\n",
       "      <td>Doctorate</td>\n",
       "      <td>INDIA</td>\n",
       "      <td>99775</td>\n",
       "      <td>AK</td>\n",
       "      <td>7400.0</td>\n",
       "      <td>Year</td>\n",
       "      <td>78000.0</td>\n",
       "      <td>99775.0</td>\n",
       "    </tr>\n",
       "  </tbody>\n",
       "</table>\n",
       "</div>"
      ],
      "text/plain": [
       "  CASE_STATUS CASE_RECEIVED_DATE DECISION_DATE  DAYS_TIL_DECISION  \\\n",
       "0   Certified         2017-12-05    2018-04-24              140.0   \n",
       "1   Certified         2015-12-12    2016-06-02              173.0   \n",
       "2   Certified         2015-08-03    2016-04-21              262.0   \n",
       "3   Certified         2016-07-14    2016-09-28               76.0   \n",
       "4   Certified         2014-11-20    2015-05-14              175.0   \n",
       "\n",
       "   CASE_RECEIVED_DATE_MONTH CLASS_OF_ADMISSION FOREIGN_WORKER_INFO_EDUCATION  \\\n",
       "0                      12.0               H-1B                    Bachelor's   \n",
       "1                      12.0               H-1B                   High School   \n",
       "2                       8.0               H-1B                    Bachelor's   \n",
       "3                       7.0               H-1B                    Bachelor's   \n",
       "4                      11.0               H-1B                     Doctorate   \n",
       "\n",
       "  COUNTRY_OF_CITIZENSHIP EMPLOYER_POSTAL_CODE EMPLOYER_STATE  \\\n",
       "0                  INDIA                99901             AK   \n",
       "1               MALAYSIA                99840             AK   \n",
       "2            PHILIPPINES                99801             AK   \n",
       "3            PHILIPPINES                99801             AK   \n",
       "4                  INDIA                99775             AK   \n",
       "\n",
       "   EMPLOYER_NUM_EMPLOYEES WAGE_OFFER_UNIT_OF_PAY_9089  WAGE_OFFER_FROM_9089  \\\n",
       "0                    40.0                        Year               61547.0   \n",
       "1                    20.0                        Year               48000.0   \n",
       "2                   546.0                        Year               74692.0   \n",
       "3                   550.0                        Year               76981.0   \n",
       "4                  7400.0                        Year               78000.0   \n",
       "\n",
       "   ZIP_CODE  \n",
       "0   99901.0  \n",
       "1   99840.0  \n",
       "2   99801.0  \n",
       "3   99801.0  \n",
       "4   99775.0  "
      ]
     },
     "execution_count": 409,
     "metadata": {},
     "output_type": "execute_result"
    }
   ],
   "source": [
    "data6.head()"
   ]
  },
  {
   "cell_type": "code",
   "execution_count": 410,
   "metadata": {},
   "outputs": [
    {
     "data": {
      "text/plain": [
       "CASE_STATUS                      196562\n",
       "CASE_RECEIVED_DATE               196562\n",
       "DECISION_DATE                    196562\n",
       "DAYS_TIL_DECISION                196562\n",
       "CASE_RECEIVED_DATE_MONTH         196562\n",
       "CLASS_OF_ADMISSION               196562\n",
       "FOREIGN_WORKER_INFO_EDUCATION    196562\n",
       "COUNTRY_OF_CITIZENSHIP           196562\n",
       "EMPLOYER_POSTAL_CODE             196562\n",
       "EMPLOYER_STATE                   196562\n",
       "EMPLOYER_NUM_EMPLOYEES           196562\n",
       "WAGE_OFFER_UNIT_OF_PAY_9089      196562\n",
       "WAGE_OFFER_FROM_9089             196562\n",
       "ZIP_CODE                         193604\n",
       "dtype: int64"
      ]
     },
     "execution_count": 410,
     "metadata": {},
     "output_type": "execute_result"
    }
   ],
   "source": [
    "data6.count()"
   ]
  },
  {
   "cell_type": "code",
   "execution_count": 411,
   "metadata": {},
   "outputs": [],
   "source": [
    "data7 = data6[['CASE_RECEIVED_DATE_MONTH',\n",
    "              'CLASS_OF_ADMISSION',\n",
    "              'FOREIGN_WORKER_INFO_EDUCATION',\n",
    "              'COUNTRY_OF_CITIZENSHIP',\n",
    "              'EMPLOYER_NUM_EMPLOYEES',\n",
    "              'WAGE_OFFER_FROM_9089',\n",
    "              'ZIP_CODE',\n",
    "               'EMPLOYER_STATE',\n",
    "              'DAYS_TIL_DECISION']]"
   ]
  },
  {
   "cell_type": "code",
   "execution_count": 412,
   "metadata": {},
   "outputs": [
    {
     "data": {
      "text/html": [
       "<div>\n",
       "<style scoped>\n",
       "    .dataframe tbody tr th:only-of-type {\n",
       "        vertical-align: middle;\n",
       "    }\n",
       "\n",
       "    .dataframe tbody tr th {\n",
       "        vertical-align: top;\n",
       "    }\n",
       "\n",
       "    .dataframe thead th {\n",
       "        text-align: right;\n",
       "    }\n",
       "</style>\n",
       "<table border=\"1\" class=\"dataframe\">\n",
       "  <thead>\n",
       "    <tr style=\"text-align: right;\">\n",
       "      <th></th>\n",
       "      <th>CASE_RECEIVED_DATE_MONTH</th>\n",
       "      <th>CLASS_OF_ADMISSION</th>\n",
       "      <th>FOREIGN_WORKER_INFO_EDUCATION</th>\n",
       "      <th>COUNTRY_OF_CITIZENSHIP</th>\n",
       "      <th>EMPLOYER_NUM_EMPLOYEES</th>\n",
       "      <th>WAGE_OFFER_FROM_9089</th>\n",
       "      <th>ZIP_CODE</th>\n",
       "      <th>EMPLOYER_STATE</th>\n",
       "      <th>DAYS_TIL_DECISION</th>\n",
       "    </tr>\n",
       "  </thead>\n",
       "  <tbody>\n",
       "    <tr>\n",
       "      <th>0</th>\n",
       "      <td>12.0</td>\n",
       "      <td>H-1B</td>\n",
       "      <td>Bachelor's</td>\n",
       "      <td>INDIA</td>\n",
       "      <td>40.0</td>\n",
       "      <td>61547.0</td>\n",
       "      <td>99901.0</td>\n",
       "      <td>AK</td>\n",
       "      <td>140.0</td>\n",
       "    </tr>\n",
       "    <tr>\n",
       "      <th>1</th>\n",
       "      <td>12.0</td>\n",
       "      <td>H-1B</td>\n",
       "      <td>High School</td>\n",
       "      <td>MALAYSIA</td>\n",
       "      <td>20.0</td>\n",
       "      <td>48000.0</td>\n",
       "      <td>99840.0</td>\n",
       "      <td>AK</td>\n",
       "      <td>173.0</td>\n",
       "    </tr>\n",
       "    <tr>\n",
       "      <th>2</th>\n",
       "      <td>8.0</td>\n",
       "      <td>H-1B</td>\n",
       "      <td>Bachelor's</td>\n",
       "      <td>PHILIPPINES</td>\n",
       "      <td>546.0</td>\n",
       "      <td>74692.0</td>\n",
       "      <td>99801.0</td>\n",
       "      <td>AK</td>\n",
       "      <td>262.0</td>\n",
       "    </tr>\n",
       "    <tr>\n",
       "      <th>3</th>\n",
       "      <td>7.0</td>\n",
       "      <td>H-1B</td>\n",
       "      <td>Bachelor's</td>\n",
       "      <td>PHILIPPINES</td>\n",
       "      <td>550.0</td>\n",
       "      <td>76981.0</td>\n",
       "      <td>99801.0</td>\n",
       "      <td>AK</td>\n",
       "      <td>76.0</td>\n",
       "    </tr>\n",
       "    <tr>\n",
       "      <th>4</th>\n",
       "      <td>11.0</td>\n",
       "      <td>H-1B</td>\n",
       "      <td>Doctorate</td>\n",
       "      <td>INDIA</td>\n",
       "      <td>7400.0</td>\n",
       "      <td>78000.0</td>\n",
       "      <td>99775.0</td>\n",
       "      <td>AK</td>\n",
       "      <td>175.0</td>\n",
       "    </tr>\n",
       "  </tbody>\n",
       "</table>\n",
       "</div>"
      ],
      "text/plain": [
       "   CASE_RECEIVED_DATE_MONTH CLASS_OF_ADMISSION FOREIGN_WORKER_INFO_EDUCATION  \\\n",
       "0                      12.0               H-1B                    Bachelor's   \n",
       "1                      12.0               H-1B                   High School   \n",
       "2                       8.0               H-1B                    Bachelor's   \n",
       "3                       7.0               H-1B                    Bachelor's   \n",
       "4                      11.0               H-1B                     Doctorate   \n",
       "\n",
       "  COUNTRY_OF_CITIZENSHIP  EMPLOYER_NUM_EMPLOYEES  WAGE_OFFER_FROM_9089  \\\n",
       "0                  INDIA                    40.0               61547.0   \n",
       "1               MALAYSIA                    20.0               48000.0   \n",
       "2            PHILIPPINES                   546.0               74692.0   \n",
       "3            PHILIPPINES                   550.0               76981.0   \n",
       "4                  INDIA                  7400.0               78000.0   \n",
       "\n",
       "   ZIP_CODE EMPLOYER_STATE  DAYS_TIL_DECISION  \n",
       "0   99901.0             AK              140.0  \n",
       "1   99840.0             AK              173.0  \n",
       "2   99801.0             AK              262.0  \n",
       "3   99801.0             AK               76.0  \n",
       "4   99775.0             AK              175.0  "
      ]
     },
     "execution_count": 412,
     "metadata": {},
     "output_type": "execute_result"
    }
   ],
   "source": [
    "data7.head()"
   ]
  },
  {
   "cell_type": "code",
   "execution_count": 413,
   "metadata": {},
   "outputs": [
    {
     "data": {
      "text/plain": [
       "CASE_RECEIVED_DATE_MONTH         196562\n",
       "CLASS_OF_ADMISSION               196562\n",
       "FOREIGN_WORKER_INFO_EDUCATION    196562\n",
       "COUNTRY_OF_CITIZENSHIP           196562\n",
       "EMPLOYER_NUM_EMPLOYEES           196562\n",
       "WAGE_OFFER_FROM_9089             196562\n",
       "ZIP_CODE                         193604\n",
       "EMPLOYER_STATE                   196562\n",
       "DAYS_TIL_DECISION                196562\n",
       "dtype: int64"
      ]
     },
     "execution_count": 413,
     "metadata": {},
     "output_type": "execute_result"
    }
   ],
   "source": [
    "data7.count()"
   ]
  },
  {
   "cell_type": "code",
   "execution_count": 414,
   "metadata": {},
   "outputs": [],
   "source": [
    "data8 = data7.dropna(how='any')"
   ]
  },
  {
   "cell_type": "code",
   "execution_count": 415,
   "metadata": {
    "scrolled": true
   },
   "outputs": [
    {
     "data": {
      "text/plain": [
       "CASE_RECEIVED_DATE_MONTH         193604\n",
       "CLASS_OF_ADMISSION               193604\n",
       "FOREIGN_WORKER_INFO_EDUCATION    193604\n",
       "COUNTRY_OF_CITIZENSHIP           193604\n",
       "EMPLOYER_NUM_EMPLOYEES           193604\n",
       "WAGE_OFFER_FROM_9089             193604\n",
       "ZIP_CODE                         193604\n",
       "EMPLOYER_STATE                   193604\n",
       "DAYS_TIL_DECISION                193604\n",
       "dtype: int64"
      ]
     },
     "execution_count": 415,
     "metadata": {},
     "output_type": "execute_result"
    }
   ],
   "source": [
    "data8.count()"
   ]
  },
  {
   "cell_type": "code",
   "execution_count": 416,
   "metadata": {},
   "outputs": [
    {
     "data": {
      "text/plain": [
       "CASE_RECEIVED_DATE_MONTH         float64\n",
       "CLASS_OF_ADMISSION                object\n",
       "FOREIGN_WORKER_INFO_EDUCATION     object\n",
       "COUNTRY_OF_CITIZENSHIP            object\n",
       "EMPLOYER_NUM_EMPLOYEES           float64\n",
       "WAGE_OFFER_FROM_9089             float64\n",
       "ZIP_CODE                         float64\n",
       "EMPLOYER_STATE                    object\n",
       "DAYS_TIL_DECISION                float64\n",
       "dtype: object"
      ]
     },
     "execution_count": 416,
     "metadata": {},
     "output_type": "execute_result"
    }
   ],
   "source": [
    "data8.dtypes"
   ]
  },
  {
   "cell_type": "code",
   "execution_count": 417,
   "metadata": {},
   "outputs": [
    {
     "data": {
      "text/plain": [
       "3566.0"
      ]
     },
     "execution_count": 417,
     "metadata": {},
     "output_type": "execute_result"
    }
   ],
   "source": [
    "data8['DAYS_TIL_DECISION'].max()"
   ]
  },
  {
   "cell_type": "code",
   "execution_count": 418,
   "metadata": {},
   "outputs": [
    {
     "data": {
      "text/plain": [
       "9582600.0"
      ]
     },
     "execution_count": 418,
     "metadata": {},
     "output_type": "execute_result"
    }
   ],
   "source": [
    "data8['WAGE_OFFER_FROM_9089'].max()"
   ]
  },
  {
   "cell_type": "code",
   "execution_count": 419,
   "metadata": {},
   "outputs": [
    {
     "data": {
      "text/plain": [
       "664005241.0"
      ]
     },
     "execution_count": 419,
     "metadata": {},
     "output_type": "execute_result"
    }
   ],
   "source": [
    "data8['EMPLOYER_NUM_EMPLOYEES'].max()"
   ]
  },
  {
   "cell_type": "code",
   "execution_count": 476,
   "metadata": {},
   "outputs": [
    {
     "name": "stderr",
     "output_type": "stream",
     "text": [
      "/anaconda3/envs/PythonData/lib/python3.6/site-packages/ipykernel_launcher.py:3: SettingWithCopyWarning: \n",
      "A value is trying to be set on a copy of a slice from a DataFrame.\n",
      "Try using .loc[row_indexer,col_indexer] = value instead\n",
      "\n",
      "See the caveats in the documentation: http://pandas.pydata.org/pandas-docs/stable/indexing.html#indexing-view-versus-copy\n",
      "  This is separate from the ipykernel package so we can avoid doing imports until\n"
     ]
    }
   ],
   "source": [
    "data8['DAY_BINS'] = pd.cut(x=data8['DAYS_TIL_DECISION'], \n",
    "                             bins=[0, 90, 180, 365, 3600],\n",
    "                           labels=['0-90', '91-180', '181-365', '366-3600'])"
   ]
  },
  {
   "cell_type": "code",
   "execution_count": 477,
   "metadata": {},
   "outputs": [
    {
     "name": "stderr",
     "output_type": "stream",
     "text": [
      "/anaconda3/envs/PythonData/lib/python3.6/site-packages/ipykernel_launcher.py:3: SettingWithCopyWarning: \n",
      "A value is trying to be set on a copy of a slice from a DataFrame.\n",
      "Try using .loc[row_indexer,col_indexer] = value instead\n",
      "\n",
      "See the caveats in the documentation: http://pandas.pydata.org/pandas-docs/stable/indexing.html#indexing-view-versus-copy\n",
      "  This is separate from the ipykernel package so we can avoid doing imports until\n"
     ]
    }
   ],
   "source": [
    "data8['WAGE_BINS'] = pd.cut(x=data8['WAGE_OFFER_FROM_9089'], \n",
    "                             bins=[0, 25000, 50000, 100000, 500000, 1000000, 10000000],\n",
    "                           labels=['0-25000', '25001-50000', '50001-100000', '100001-500000', '500001-1000000', '10000001-10000000'])"
   ]
  },
  {
   "cell_type": "code",
   "execution_count": 478,
   "metadata": {},
   "outputs": [
    {
     "name": "stderr",
     "output_type": "stream",
     "text": [
      "/anaconda3/envs/PythonData/lib/python3.6/site-packages/ipykernel_launcher.py:3: SettingWithCopyWarning: \n",
      "A value is trying to be set on a copy of a slice from a DataFrame.\n",
      "Try using .loc[row_indexer,col_indexer] = value instead\n",
      "\n",
      "See the caveats in the documentation: http://pandas.pydata.org/pandas-docs/stable/indexing.html#indexing-view-versus-copy\n",
      "  This is separate from the ipykernel package so we can avoid doing imports until\n"
     ]
    }
   ],
   "source": [
    "data8['EMPLOYEE_BINS'] = pd.cut(x=data8['EMPLOYER_NUM_EMPLOYEES'], \n",
    "                             bins=[0, 100, 500, 1000, 10000, 100000, 1000000, 1000000000],\n",
    "                           labels=['0-100', '101-500', '501-1000', '1001-10000', '10001-100000', '100001-1000000', '1000001-1000000000'])"
   ]
  },
  {
   "cell_type": "code",
   "execution_count": 479,
   "metadata": {},
   "outputs": [
    {
     "data": {
      "text/html": [
       "<div>\n",
       "<style scoped>\n",
       "    .dataframe tbody tr th:only-of-type {\n",
       "        vertical-align: middle;\n",
       "    }\n",
       "\n",
       "    .dataframe tbody tr th {\n",
       "        vertical-align: top;\n",
       "    }\n",
       "\n",
       "    .dataframe thead th {\n",
       "        text-align: right;\n",
       "    }\n",
       "</style>\n",
       "<table border=\"1\" class=\"dataframe\">\n",
       "  <thead>\n",
       "    <tr style=\"text-align: right;\">\n",
       "      <th></th>\n",
       "      <th>CASE_RECEIVED_DATE_MONTH</th>\n",
       "      <th>CLASS_OF_ADMISSION</th>\n",
       "      <th>FOREIGN_WORKER_INFO_EDUCATION</th>\n",
       "      <th>COUNTRY_OF_CITIZENSHIP</th>\n",
       "      <th>EMPLOYER_NUM_EMPLOYEES</th>\n",
       "      <th>WAGE_OFFER_FROM_9089</th>\n",
       "      <th>ZIP_CODE</th>\n",
       "      <th>EMPLOYER_STATE</th>\n",
       "      <th>DAYS_TIL_DECISION</th>\n",
       "      <th>DAY_BINS</th>\n",
       "      <th>WAGE_BINS</th>\n",
       "      <th>EMPLOYEE_BINS</th>\n",
       "      <th>CLASS_OF_ADMISSION_CODE</th>\n",
       "      <th>FOREIGN_WORKER_INFO_EDUCATION_CODE</th>\n",
       "      <th>COUNTRY_OF_CITIZENSHIP_CODE</th>\n",
       "      <th>EMPLOYER_STATE_CODE</th>\n",
       "      <th>DAY_BINS_CODE</th>\n",
       "      <th>WAGE_BINS_CODE</th>\n",
       "    </tr>\n",
       "  </thead>\n",
       "  <tbody>\n",
       "    <tr>\n",
       "      <th>0</th>\n",
       "      <td>12.0</td>\n",
       "      <td>H-1B</td>\n",
       "      <td>Bachelor's</td>\n",
       "      <td>INDIA</td>\n",
       "      <td>40.0</td>\n",
       "      <td>61547.0</td>\n",
       "      <td>99901.0</td>\n",
       "      <td>AK</td>\n",
       "      <td>140.0</td>\n",
       "      <td>91-180</td>\n",
       "      <td>50001-100000</td>\n",
       "      <td>0-100</td>\n",
       "      <td>17</td>\n",
       "      <td>1</td>\n",
       "      <td>75</td>\n",
       "      <td>0</td>\n",
       "      <td>7</td>\n",
       "      <td>5</td>\n",
       "    </tr>\n",
       "    <tr>\n",
       "      <th>1</th>\n",
       "      <td>12.0</td>\n",
       "      <td>H-1B</td>\n",
       "      <td>High School</td>\n",
       "      <td>MALAYSIA</td>\n",
       "      <td>20.0</td>\n",
       "      <td>48000.0</td>\n",
       "      <td>99840.0</td>\n",
       "      <td>AK</td>\n",
       "      <td>173.0</td>\n",
       "      <td>91-180</td>\n",
       "      <td>25001-50000</td>\n",
       "      <td>0-100</td>\n",
       "      <td>17</td>\n",
       "      <td>3</td>\n",
       "      <td>104</td>\n",
       "      <td>0</td>\n",
       "      <td>7</td>\n",
       "      <td>3</td>\n",
       "    </tr>\n",
       "    <tr>\n",
       "      <th>2</th>\n",
       "      <td>8.0</td>\n",
       "      <td>H-1B</td>\n",
       "      <td>Bachelor's</td>\n",
       "      <td>PHILIPPINES</td>\n",
       "      <td>546.0</td>\n",
       "      <td>74692.0</td>\n",
       "      <td>99801.0</td>\n",
       "      <td>AK</td>\n",
       "      <td>262.0</td>\n",
       "      <td>181-365</td>\n",
       "      <td>50001-100000</td>\n",
       "      <td>501-1000</td>\n",
       "      <td>17</td>\n",
       "      <td>1</td>\n",
       "      <td>132</td>\n",
       "      <td>0</td>\n",
       "      <td>3</td>\n",
       "      <td>5</td>\n",
       "    </tr>\n",
       "    <tr>\n",
       "      <th>3</th>\n",
       "      <td>7.0</td>\n",
       "      <td>H-1B</td>\n",
       "      <td>Bachelor's</td>\n",
       "      <td>PHILIPPINES</td>\n",
       "      <td>550.0</td>\n",
       "      <td>76981.0</td>\n",
       "      <td>99801.0</td>\n",
       "      <td>AK</td>\n",
       "      <td>76.0</td>\n",
       "      <td>0-90</td>\n",
       "      <td>50001-100000</td>\n",
       "      <td>501-1000</td>\n",
       "      <td>17</td>\n",
       "      <td>1</td>\n",
       "      <td>132</td>\n",
       "      <td>0</td>\n",
       "      <td>0</td>\n",
       "      <td>5</td>\n",
       "    </tr>\n",
       "    <tr>\n",
       "      <th>4</th>\n",
       "      <td>11.0</td>\n",
       "      <td>H-1B</td>\n",
       "      <td>Doctorate</td>\n",
       "      <td>INDIA</td>\n",
       "      <td>7400.0</td>\n",
       "      <td>78000.0</td>\n",
       "      <td>99775.0</td>\n",
       "      <td>AK</td>\n",
       "      <td>175.0</td>\n",
       "      <td>91-180</td>\n",
       "      <td>50001-100000</td>\n",
       "      <td>1001-10000</td>\n",
       "      <td>17</td>\n",
       "      <td>2</td>\n",
       "      <td>75</td>\n",
       "      <td>0</td>\n",
       "      <td>7</td>\n",
       "      <td>5</td>\n",
       "    </tr>\n",
       "  </tbody>\n",
       "</table>\n",
       "</div>"
      ],
      "text/plain": [
       "   CASE_RECEIVED_DATE_MONTH CLASS_OF_ADMISSION FOREIGN_WORKER_INFO_EDUCATION  \\\n",
       "0                      12.0               H-1B                    Bachelor's   \n",
       "1                      12.0               H-1B                   High School   \n",
       "2                       8.0               H-1B                    Bachelor's   \n",
       "3                       7.0               H-1B                    Bachelor's   \n",
       "4                      11.0               H-1B                     Doctorate   \n",
       "\n",
       "  COUNTRY_OF_CITIZENSHIP  EMPLOYER_NUM_EMPLOYEES  WAGE_OFFER_FROM_9089  \\\n",
       "0                  INDIA                    40.0               61547.0   \n",
       "1               MALAYSIA                    20.0               48000.0   \n",
       "2            PHILIPPINES                   546.0               74692.0   \n",
       "3            PHILIPPINES                   550.0               76981.0   \n",
       "4                  INDIA                  7400.0               78000.0   \n",
       "\n",
       "   ZIP_CODE EMPLOYER_STATE  DAYS_TIL_DECISION DAY_BINS     WAGE_BINS  \\\n",
       "0   99901.0             AK              140.0   91-180  50001-100000   \n",
       "1   99840.0             AK              173.0   91-180   25001-50000   \n",
       "2   99801.0             AK              262.0  181-365  50001-100000   \n",
       "3   99801.0             AK               76.0     0-90  50001-100000   \n",
       "4   99775.0             AK              175.0   91-180  50001-100000   \n",
       "\n",
       "  EMPLOYEE_BINS  CLASS_OF_ADMISSION_CODE  FOREIGN_WORKER_INFO_EDUCATION_CODE  \\\n",
       "0         0-100                       17                                   1   \n",
       "1         0-100                       17                                   3   \n",
       "2      501-1000                       17                                   1   \n",
       "3      501-1000                       17                                   1   \n",
       "4    1001-10000                       17                                   2   \n",
       "\n",
       "   COUNTRY_OF_CITIZENSHIP_CODE  EMPLOYER_STATE_CODE  DAY_BINS_CODE  \\\n",
       "0                           75                    0              7   \n",
       "1                          104                    0              7   \n",
       "2                          132                    0              3   \n",
       "3                          132                    0              0   \n",
       "4                           75                    0              7   \n",
       "\n",
       "   WAGE_BINS_CODE  \n",
       "0               5  \n",
       "1               3  \n",
       "2               5  \n",
       "3               5  \n",
       "4               5  "
      ]
     },
     "execution_count": 479,
     "metadata": {},
     "output_type": "execute_result"
    }
   ],
   "source": [
    "data8.head()"
   ]
  },
  {
   "cell_type": "code",
   "execution_count": 480,
   "metadata": {},
   "outputs": [
    {
     "data": {
      "text/plain": [
       "91-180      83311\n",
       "0-90        63080\n",
       "181-365     36902\n",
       "366-3600    10311\n",
       "Name: DAY_BINS, dtype: int64"
      ]
     },
     "execution_count": 480,
     "metadata": {},
     "output_type": "execute_result"
    }
   ],
   "source": [
    "data8['DAY_BINS'].value_counts()"
   ]
  },
  {
   "cell_type": "code",
   "execution_count": 481,
   "metadata": {},
   "outputs": [
    {
     "data": {
      "text/plain": [
       "100001-500000        95347\n",
       "50001-100000         84567\n",
       "25001-50000          10110\n",
       "0-25000               3516\n",
       "500001-1000000          53\n",
       "10000001-10000000       11\n",
       "Name: WAGE_BINS, dtype: int64"
      ]
     },
     "execution_count": 481,
     "metadata": {},
     "output_type": "execute_result"
    }
   ],
   "source": [
    "data8['WAGE_BINS'].value_counts()"
   ]
  },
  {
   "cell_type": "code",
   "execution_count": 482,
   "metadata": {
    "scrolled": true
   },
   "outputs": [
    {
     "data": {
      "text/plain": [
       "10001-100000          54102\n",
       "0-100                 47207\n",
       "1001-10000            40730\n",
       "101-500               26371\n",
       "100001-1000000        13943\n",
       "501-1000              11177\n",
       "1000001-1000000000       10\n",
       "Name: EMPLOYEE_BINS, dtype: int64"
      ]
     },
     "execution_count": 482,
     "metadata": {},
     "output_type": "execute_result"
    }
   ],
   "source": [
    "data8['EMPLOYEE_BINS'].value_counts()"
   ]
  },
  {
   "cell_type": "code",
   "execution_count": 483,
   "metadata": {},
   "outputs": [
    {
     "data": {
      "text/plain": [
       "CASE_RECEIVED_DATE_MONTH               float64\n",
       "CLASS_OF_ADMISSION                      object\n",
       "FOREIGN_WORKER_INFO_EDUCATION           object\n",
       "COUNTRY_OF_CITIZENSHIP                  object\n",
       "EMPLOYER_NUM_EMPLOYEES                 float64\n",
       "WAGE_OFFER_FROM_9089                   float64\n",
       "ZIP_CODE                               float64\n",
       "EMPLOYER_STATE                          object\n",
       "DAYS_TIL_DECISION                      float64\n",
       "DAY_BINS                              category\n",
       "WAGE_BINS                             category\n",
       "EMPLOYEE_BINS                         category\n",
       "CLASS_OF_ADMISSION_CODE                  int64\n",
       "FOREIGN_WORKER_INFO_EDUCATION_CODE       int64\n",
       "COUNTRY_OF_CITIZENSHIP_CODE              int64\n",
       "EMPLOYER_STATE_CODE                      int64\n",
       "DAY_BINS_CODE                            int64\n",
       "WAGE_BINS_CODE                           int64\n",
       "dtype: object"
      ]
     },
     "execution_count": 483,
     "metadata": {},
     "output_type": "execute_result"
    }
   ],
   "source": [
    "data8.dtypes"
   ]
  },
  {
   "cell_type": "code",
   "execution_count": 484,
   "metadata": {},
   "outputs": [],
   "source": [
    "from sklearn.preprocessing import LabelEncoder\n",
    "num_encode = LabelEncoder()"
   ]
  },
  {
   "cell_type": "code",
   "execution_count": 485,
   "metadata": {},
   "outputs": [
    {
     "name": "stderr",
     "output_type": "stream",
     "text": [
      "/anaconda3/envs/PythonData/lib/python3.6/site-packages/ipykernel_launcher.py:1: SettingWithCopyWarning: \n",
      "A value is trying to be set on a copy of a slice from a DataFrame.\n",
      "Try using .loc[row_indexer,col_indexer] = value instead\n",
      "\n",
      "See the caveats in the documentation: http://pandas.pydata.org/pandas-docs/stable/indexing.html#indexing-view-versus-copy\n",
      "  \"\"\"Entry point for launching an IPython kernel.\n",
      "/anaconda3/envs/PythonData/lib/python3.6/site-packages/ipykernel_launcher.py:2: SettingWithCopyWarning: \n",
      "A value is trying to be set on a copy of a slice from a DataFrame.\n",
      "Try using .loc[row_indexer,col_indexer] = value instead\n",
      "\n",
      "See the caveats in the documentation: http://pandas.pydata.org/pandas-docs/stable/indexing.html#indexing-view-versus-copy\n",
      "  \n",
      "/anaconda3/envs/PythonData/lib/python3.6/site-packages/ipykernel_launcher.py:3: SettingWithCopyWarning: \n",
      "A value is trying to be set on a copy of a slice from a DataFrame.\n",
      "Try using .loc[row_indexer,col_indexer] = value instead\n",
      "\n",
      "See the caveats in the documentation: http://pandas.pydata.org/pandas-docs/stable/indexing.html#indexing-view-versus-copy\n",
      "  This is separate from the ipykernel package so we can avoid doing imports until\n",
      "/anaconda3/envs/PythonData/lib/python3.6/site-packages/ipykernel_launcher.py:4: SettingWithCopyWarning: \n",
      "A value is trying to be set on a copy of a slice from a DataFrame.\n",
      "Try using .loc[row_indexer,col_indexer] = value instead\n",
      "\n",
      "See the caveats in the documentation: http://pandas.pydata.org/pandas-docs/stable/indexing.html#indexing-view-versus-copy\n",
      "  after removing the cwd from sys.path.\n",
      "/anaconda3/envs/PythonData/lib/python3.6/site-packages/ipykernel_launcher.py:5: SettingWithCopyWarning: \n",
      "A value is trying to be set on a copy of a slice from a DataFrame.\n",
      "Try using .loc[row_indexer,col_indexer] = value instead\n",
      "\n",
      "See the caveats in the documentation: http://pandas.pydata.org/pandas-docs/stable/indexing.html#indexing-view-versus-copy\n",
      "  \"\"\"\n",
      "/anaconda3/envs/PythonData/lib/python3.6/site-packages/ipykernel_launcher.py:6: SettingWithCopyWarning: \n",
      "A value is trying to be set on a copy of a slice from a DataFrame.\n",
      "Try using .loc[row_indexer,col_indexer] = value instead\n",
      "\n",
      "See the caveats in the documentation: http://pandas.pydata.org/pandas-docs/stable/indexing.html#indexing-view-versus-copy\n",
      "  \n"
     ]
    }
   ],
   "source": [
    "data8['CLASS_OF_ADMISSION_CODE'] = num_encode.fit_transform(data8['CLASS_OF_ADMISSION'])\n",
    "data8['FOREIGN_WORKER_INFO_EDUCATION_CODE'] = num_encode.fit_transform(data8['FOREIGN_WORKER_INFO_EDUCATION'])\n",
    "data8['COUNTRY_OF_CITIZENSHIP_CODE'] = num_encode.fit_transform(data8['COUNTRY_OF_CITIZENSHIP'])\n",
    "data8['EMPLOYER_STATE_CODE'] = num_encode.fit_transform(data8['EMPLOYER_STATE'])\n",
    "data8['DAY_BINS_CODE'] = num_encode.fit_transform(data8['DAY_BINS'])\n",
    "data8['WAGE_BINS_CODE'] = num_encode.fit_transform(data8['WAGE_BINS'])\n"
   ]
  },
  {
   "cell_type": "code",
   "execution_count": 486,
   "metadata": {},
   "outputs": [
    {
     "data": {
      "text/plain": [
       "CASE_RECEIVED_DATE_MONTH               float64\n",
       "CLASS_OF_ADMISSION                      object\n",
       "FOREIGN_WORKER_INFO_EDUCATION           object\n",
       "COUNTRY_OF_CITIZENSHIP                  object\n",
       "EMPLOYER_NUM_EMPLOYEES                 float64\n",
       "WAGE_OFFER_FROM_9089                   float64\n",
       "ZIP_CODE                               float64\n",
       "EMPLOYER_STATE                          object\n",
       "DAYS_TIL_DECISION                      float64\n",
       "DAY_BINS                              category\n",
       "WAGE_BINS                             category\n",
       "EMPLOYEE_BINS                         category\n",
       "CLASS_OF_ADMISSION_CODE                  int64\n",
       "FOREIGN_WORKER_INFO_EDUCATION_CODE       int64\n",
       "COUNTRY_OF_CITIZENSHIP_CODE              int64\n",
       "EMPLOYER_STATE_CODE                      int64\n",
       "DAY_BINS_CODE                            int64\n",
       "WAGE_BINS_CODE                           int64\n",
       "dtype: object"
      ]
     },
     "execution_count": 486,
     "metadata": {},
     "output_type": "execute_result"
    }
   ],
   "source": [
    "data8.dtypes"
   ]
  },
  {
   "cell_type": "code",
   "execution_count": 487,
   "metadata": {},
   "outputs": [],
   "source": [
    "data8.to_excel('ML_data.xlsx', index = False)"
   ]
  },
  {
   "cell_type": "code",
   "execution_count": 488,
   "metadata": {},
   "outputs": [
    {
     "data": {
      "text/html": [
       "<div>\n",
       "<style scoped>\n",
       "    .dataframe tbody tr th:only-of-type {\n",
       "        vertical-align: middle;\n",
       "    }\n",
       "\n",
       "    .dataframe tbody tr th {\n",
       "        vertical-align: top;\n",
       "    }\n",
       "\n",
       "    .dataframe thead th {\n",
       "        text-align: right;\n",
       "    }\n",
       "</style>\n",
       "<table border=\"1\" class=\"dataframe\">\n",
       "  <thead>\n",
       "    <tr style=\"text-align: right;\">\n",
       "      <th></th>\n",
       "      <th>CASE_RECEIVED_DATE_MONTH</th>\n",
       "      <th>CLASS_OF_ADMISSION</th>\n",
       "      <th>FOREIGN_WORKER_INFO_EDUCATION</th>\n",
       "      <th>COUNTRY_OF_CITIZENSHIP</th>\n",
       "      <th>EMPLOYER_NUM_EMPLOYEES</th>\n",
       "      <th>WAGE_OFFER_FROM_9089</th>\n",
       "      <th>ZIP_CODE</th>\n",
       "      <th>EMPLOYER_STATE</th>\n",
       "      <th>DAYS_TIL_DECISION</th>\n",
       "      <th>DAY_BINS</th>\n",
       "      <th>WAGE_BINS</th>\n",
       "      <th>EMPLOYEE_BINS</th>\n",
       "      <th>CLASS_OF_ADMISSION_CODE</th>\n",
       "      <th>FOREIGN_WORKER_INFO_EDUCATION_CODE</th>\n",
       "      <th>COUNTRY_OF_CITIZENSHIP_CODE</th>\n",
       "      <th>EMPLOYER_STATE_CODE</th>\n",
       "      <th>DAY_BINS_CODE</th>\n",
       "      <th>WAGE_BINS_CODE</th>\n",
       "    </tr>\n",
       "  </thead>\n",
       "  <tbody>\n",
       "    <tr>\n",
       "      <th>0</th>\n",
       "      <td>12.0</td>\n",
       "      <td>H-1B</td>\n",
       "      <td>Bachelor's</td>\n",
       "      <td>INDIA</td>\n",
       "      <td>40.0</td>\n",
       "      <td>61547.0</td>\n",
       "      <td>99901.0</td>\n",
       "      <td>AK</td>\n",
       "      <td>140.0</td>\n",
       "      <td>91-180</td>\n",
       "      <td>50001-100000</td>\n",
       "      <td>0-100</td>\n",
       "      <td>17</td>\n",
       "      <td>1</td>\n",
       "      <td>75</td>\n",
       "      <td>0</td>\n",
       "      <td>3</td>\n",
       "      <td>5</td>\n",
       "    </tr>\n",
       "    <tr>\n",
       "      <th>1</th>\n",
       "      <td>12.0</td>\n",
       "      <td>H-1B</td>\n",
       "      <td>High School</td>\n",
       "      <td>MALAYSIA</td>\n",
       "      <td>20.0</td>\n",
       "      <td>48000.0</td>\n",
       "      <td>99840.0</td>\n",
       "      <td>AK</td>\n",
       "      <td>173.0</td>\n",
       "      <td>91-180</td>\n",
       "      <td>25001-50000</td>\n",
       "      <td>0-100</td>\n",
       "      <td>17</td>\n",
       "      <td>3</td>\n",
       "      <td>104</td>\n",
       "      <td>0</td>\n",
       "      <td>3</td>\n",
       "      <td>3</td>\n",
       "    </tr>\n",
       "    <tr>\n",
       "      <th>2</th>\n",
       "      <td>8.0</td>\n",
       "      <td>H-1B</td>\n",
       "      <td>Bachelor's</td>\n",
       "      <td>PHILIPPINES</td>\n",
       "      <td>546.0</td>\n",
       "      <td>74692.0</td>\n",
       "      <td>99801.0</td>\n",
       "      <td>AK</td>\n",
       "      <td>262.0</td>\n",
       "      <td>181-365</td>\n",
       "      <td>50001-100000</td>\n",
       "      <td>501-1000</td>\n",
       "      <td>17</td>\n",
       "      <td>1</td>\n",
       "      <td>132</td>\n",
       "      <td>0</td>\n",
       "      <td>1</td>\n",
       "      <td>5</td>\n",
       "    </tr>\n",
       "    <tr>\n",
       "      <th>3</th>\n",
       "      <td>7.0</td>\n",
       "      <td>H-1B</td>\n",
       "      <td>Bachelor's</td>\n",
       "      <td>PHILIPPINES</td>\n",
       "      <td>550.0</td>\n",
       "      <td>76981.0</td>\n",
       "      <td>99801.0</td>\n",
       "      <td>AK</td>\n",
       "      <td>76.0</td>\n",
       "      <td>0-90</td>\n",
       "      <td>50001-100000</td>\n",
       "      <td>501-1000</td>\n",
       "      <td>17</td>\n",
       "      <td>1</td>\n",
       "      <td>132</td>\n",
       "      <td>0</td>\n",
       "      <td>0</td>\n",
       "      <td>5</td>\n",
       "    </tr>\n",
       "    <tr>\n",
       "      <th>4</th>\n",
       "      <td>11.0</td>\n",
       "      <td>H-1B</td>\n",
       "      <td>Doctorate</td>\n",
       "      <td>INDIA</td>\n",
       "      <td>7400.0</td>\n",
       "      <td>78000.0</td>\n",
       "      <td>99775.0</td>\n",
       "      <td>AK</td>\n",
       "      <td>175.0</td>\n",
       "      <td>91-180</td>\n",
       "      <td>50001-100000</td>\n",
       "      <td>1001-10000</td>\n",
       "      <td>17</td>\n",
       "      <td>2</td>\n",
       "      <td>75</td>\n",
       "      <td>0</td>\n",
       "      <td>3</td>\n",
       "      <td>5</td>\n",
       "    </tr>\n",
       "  </tbody>\n",
       "</table>\n",
       "</div>"
      ],
      "text/plain": [
       "   CASE_RECEIVED_DATE_MONTH CLASS_OF_ADMISSION FOREIGN_WORKER_INFO_EDUCATION  \\\n",
       "0                      12.0               H-1B                    Bachelor's   \n",
       "1                      12.0               H-1B                   High School   \n",
       "2                       8.0               H-1B                    Bachelor's   \n",
       "3                       7.0               H-1B                    Bachelor's   \n",
       "4                      11.0               H-1B                     Doctorate   \n",
       "\n",
       "  COUNTRY_OF_CITIZENSHIP  EMPLOYER_NUM_EMPLOYEES  WAGE_OFFER_FROM_9089  \\\n",
       "0                  INDIA                    40.0               61547.0   \n",
       "1               MALAYSIA                    20.0               48000.0   \n",
       "2            PHILIPPINES                   546.0               74692.0   \n",
       "3            PHILIPPINES                   550.0               76981.0   \n",
       "4                  INDIA                  7400.0               78000.0   \n",
       "\n",
       "   ZIP_CODE EMPLOYER_STATE  DAYS_TIL_DECISION DAY_BINS     WAGE_BINS  \\\n",
       "0   99901.0             AK              140.0   91-180  50001-100000   \n",
       "1   99840.0             AK              173.0   91-180   25001-50000   \n",
       "2   99801.0             AK              262.0  181-365  50001-100000   \n",
       "3   99801.0             AK               76.0     0-90  50001-100000   \n",
       "4   99775.0             AK              175.0   91-180  50001-100000   \n",
       "\n",
       "  EMPLOYEE_BINS  CLASS_OF_ADMISSION_CODE  FOREIGN_WORKER_INFO_EDUCATION_CODE  \\\n",
       "0         0-100                       17                                   1   \n",
       "1         0-100                       17                                   3   \n",
       "2      501-1000                       17                                   1   \n",
       "3      501-1000                       17                                   1   \n",
       "4    1001-10000                       17                                   2   \n",
       "\n",
       "   COUNTRY_OF_CITIZENSHIP_CODE  EMPLOYER_STATE_CODE  DAY_BINS_CODE  \\\n",
       "0                           75                    0              3   \n",
       "1                          104                    0              3   \n",
       "2                          132                    0              1   \n",
       "3                          132                    0              0   \n",
       "4                           75                    0              3   \n",
       "\n",
       "   WAGE_BINS_CODE  \n",
       "0               5  \n",
       "1               3  \n",
       "2               5  \n",
       "3               5  \n",
       "4               5  "
      ]
     },
     "execution_count": 488,
     "metadata": {},
     "output_type": "execute_result"
    }
   ],
   "source": [
    "data8.head()"
   ]
  },
  {
   "cell_type": "code",
   "execution_count": 531,
   "metadata": {},
   "outputs": [],
   "source": [
    "ml_data = data8[[\n",
    "    'CASE_RECEIVED_DATE_MONTH',\n",
    "    'WAGE_BINS_CODE',\n",
    "    'CLASS_OF_ADMISSION_CODE',\n",
    "    'FOREIGN_WORKER_INFO_EDUCATION_CODE',\n",
    "    'EMPLOYER_STATE_CODE',\n",
    "    'COUNTRY_OF_CITIZENSHIP_CODE',\n",
    "    'DAY_BINS_CODE'\n",
    "]]"
   ]
  },
  {
   "cell_type": "code",
   "execution_count": 532,
   "metadata": {},
   "outputs": [
    {
     "data": {
      "text/html": [
       "<div>\n",
       "<style scoped>\n",
       "    .dataframe tbody tr th:only-of-type {\n",
       "        vertical-align: middle;\n",
       "    }\n",
       "\n",
       "    .dataframe tbody tr th {\n",
       "        vertical-align: top;\n",
       "    }\n",
       "\n",
       "    .dataframe thead th {\n",
       "        text-align: right;\n",
       "    }\n",
       "</style>\n",
       "<table border=\"1\" class=\"dataframe\">\n",
       "  <thead>\n",
       "    <tr style=\"text-align: right;\">\n",
       "      <th></th>\n",
       "      <th>CASE_RECEIVED_DATE_MONTH</th>\n",
       "      <th>WAGE_BINS_CODE</th>\n",
       "      <th>CLASS_OF_ADMISSION_CODE</th>\n",
       "      <th>FOREIGN_WORKER_INFO_EDUCATION_CODE</th>\n",
       "      <th>EMPLOYER_STATE_CODE</th>\n",
       "      <th>COUNTRY_OF_CITIZENSHIP_CODE</th>\n",
       "      <th>DAY_BINS_CODE</th>\n",
       "    </tr>\n",
       "  </thead>\n",
       "  <tbody>\n",
       "    <tr>\n",
       "      <th>0</th>\n",
       "      <td>12.0</td>\n",
       "      <td>5</td>\n",
       "      <td>17</td>\n",
       "      <td>1</td>\n",
       "      <td>0</td>\n",
       "      <td>75</td>\n",
       "      <td>3</td>\n",
       "    </tr>\n",
       "    <tr>\n",
       "      <th>1</th>\n",
       "      <td>12.0</td>\n",
       "      <td>3</td>\n",
       "      <td>17</td>\n",
       "      <td>3</td>\n",
       "      <td>0</td>\n",
       "      <td>104</td>\n",
       "      <td>3</td>\n",
       "    </tr>\n",
       "    <tr>\n",
       "      <th>2</th>\n",
       "      <td>8.0</td>\n",
       "      <td>5</td>\n",
       "      <td>17</td>\n",
       "      <td>1</td>\n",
       "      <td>0</td>\n",
       "      <td>132</td>\n",
       "      <td>1</td>\n",
       "    </tr>\n",
       "    <tr>\n",
       "      <th>3</th>\n",
       "      <td>7.0</td>\n",
       "      <td>5</td>\n",
       "      <td>17</td>\n",
       "      <td>1</td>\n",
       "      <td>0</td>\n",
       "      <td>132</td>\n",
       "      <td>0</td>\n",
       "    </tr>\n",
       "    <tr>\n",
       "      <th>4</th>\n",
       "      <td>11.0</td>\n",
       "      <td>5</td>\n",
       "      <td>17</td>\n",
       "      <td>2</td>\n",
       "      <td>0</td>\n",
       "      <td>75</td>\n",
       "      <td>3</td>\n",
       "    </tr>\n",
       "  </tbody>\n",
       "</table>\n",
       "</div>"
      ],
      "text/plain": [
       "   CASE_RECEIVED_DATE_MONTH  WAGE_BINS_CODE  CLASS_OF_ADMISSION_CODE  \\\n",
       "0                      12.0               5                       17   \n",
       "1                      12.0               3                       17   \n",
       "2                       8.0               5                       17   \n",
       "3                       7.0               5                       17   \n",
       "4                      11.0               5                       17   \n",
       "\n",
       "   FOREIGN_WORKER_INFO_EDUCATION_CODE  EMPLOYER_STATE_CODE  \\\n",
       "0                                   1                    0   \n",
       "1                                   3                    0   \n",
       "2                                   1                    0   \n",
       "3                                   1                    0   \n",
       "4                                   2                    0   \n",
       "\n",
       "   COUNTRY_OF_CITIZENSHIP_CODE  DAY_BINS_CODE  \n",
       "0                           75              3  \n",
       "1                          104              3  \n",
       "2                          132              1  \n",
       "3                          132              0  \n",
       "4                           75              3  "
      ]
     },
     "execution_count": 532,
     "metadata": {},
     "output_type": "execute_result"
    }
   ],
   "source": [
    "ml_data.head()"
   ]
  },
  {
   "cell_type": "code",
   "execution_count": 533,
   "metadata": {},
   "outputs": [
    {
     "data": {
      "text/plain": [
       "CASE_RECEIVED_DATE_MONTH              193604\n",
       "WAGE_BINS_CODE                        193604\n",
       "CLASS_OF_ADMISSION_CODE               193604\n",
       "FOREIGN_WORKER_INFO_EDUCATION_CODE    193604\n",
       "EMPLOYER_STATE_CODE                   193604\n",
       "COUNTRY_OF_CITIZENSHIP_CODE           193604\n",
       "DAY_BINS_CODE                         193604\n",
       "dtype: int64"
      ]
     },
     "execution_count": 533,
     "metadata": {},
     "output_type": "execute_result"
    }
   ],
   "source": [
    "ml_data.count()"
   ]
  },
  {
   "cell_type": "code",
   "execution_count": 558,
   "metadata": {},
   "outputs": [
    {
     "data": {
      "text/plain": [
       "3    83311\n",
       "0    63080\n",
       "1    36902\n",
       "2    10311\n",
       "Name: DAY_BINS_CODE, dtype: int64"
      ]
     },
     "execution_count": 558,
     "metadata": {},
     "output_type": "execute_result"
    }
   ],
   "source": [
    "ml_data['DAY_BINS_CODE'].value_counts()"
   ]
  },
  {
   "cell_type": "code",
   "execution_count": 559,
   "metadata": {},
   "outputs": [
    {
     "name": "stdout",
     "output_type": "stream",
     "text": [
      "(193604, 6) (193604,)\n"
     ]
    }
   ],
   "source": [
    "X = ml_data.drop(\"DAY_BINS_CODE\", axis=1)\n",
    "y = ml_data[\"DAY_BINS_CODE\"]\n",
    "print(X.shape, y.shape)"
   ]
  },
  {
   "cell_type": "code",
   "execution_count": 566,
   "metadata": {},
   "outputs": [],
   "source": [
    "from sklearn.model_selection import train_test_split\n",
    "from sklearn.preprocessing import LabelEncoder, MinMaxScaler\n",
    "from tensorflow.keras.utils import to_categorical"
   ]
  },
  {
   "cell_type": "code",
   "execution_count": 576,
   "metadata": {},
   "outputs": [],
   "source": [
    "X_train, X_test, y_train, y_test = train_test_split(\n",
    "    X, y, random_state=42, stratify=y, test_size=0.20)"
   ]
  },
  {
   "cell_type": "code",
   "execution_count": 577,
   "metadata": {},
   "outputs": [],
   "source": [
    "X_scaler = MinMaxScaler().fit(X_train)\n",
    "X_train_scaled = X_scaler.transform(X_train)\n",
    "X_test_scaled = X_scaler.transform(X_test)"
   ]
  },
  {
   "cell_type": "code",
   "execution_count": 578,
   "metadata": {},
   "outputs": [],
   "source": [
    "# Step 1: Label-encode data set\n",
    "label_encoder = LabelEncoder()\n",
    "label_encoder.fit(y_train)\n",
    "encoded_y_train = label_encoder.transform(y_train)\n",
    "encoded_y_test = label_encoder.transform(y_test)"
   ]
  },
  {
   "cell_type": "code",
   "execution_count": 579,
   "metadata": {},
   "outputs": [],
   "source": [
    "# Step 2: Convert encoded labels to one-hot-encoding\n",
    "y_train_categorical = to_categorical(encoded_y_train)\n",
    "y_test_categorical = to_categorical(encoded_y_test)"
   ]
  },
  {
   "cell_type": "code",
   "execution_count": 580,
   "metadata": {},
   "outputs": [],
   "source": [
    "from tensorflow.keras.models import Sequential\n",
    "from tensorflow.keras.layers import Dense"
   ]
  },
  {
   "cell_type": "code",
   "execution_count": 581,
   "metadata": {},
   "outputs": [],
   "source": [
    "# Create model and add layers\n",
    "model = Sequential()\n",
    "model.add(Dense(units=100, activation='relu', input_dim=6))\n",
    "model.add(Dense(units=100, activation='relu'))\n",
    "model.add(Dense(units=4, activation='softmax'))"
   ]
  },
  {
   "cell_type": "code",
   "execution_count": 582,
   "metadata": {},
   "outputs": [],
   "source": [
    "# Compile and fit the model\n",
    "model.compile(optimizer='adam',\n",
    "              loss='categorical_crossentropy',\n",
    "              metrics=['accuracy'])"
   ]
  },
  {
   "cell_type": "code",
   "execution_count": 583,
   "metadata": {},
   "outputs": [
    {
     "name": "stdout",
     "output_type": "stream",
     "text": [
      "_________________________________________________________________\n",
      "Layer (type)                 Output Shape              Param #   \n",
      "=================================================================\n",
      "dense_45 (Dense)             (None, 100)               700       \n",
      "_________________________________________________________________\n",
      "dense_46 (Dense)             (None, 100)               10100     \n",
      "_________________________________________________________________\n",
      "dense_47 (Dense)             (None, 4)                 404       \n",
      "=================================================================\n",
      "Total params: 11,204\n",
      "Trainable params: 11,204\n",
      "Non-trainable params: 0\n",
      "_________________________________________________________________\n"
     ]
    }
   ],
   "source": [
    "model.summary()"
   ]
  },
  {
   "cell_type": "code",
   "execution_count": 584,
   "metadata": {},
   "outputs": [
    {
     "name": "stdout",
     "output_type": "stream",
     "text": [
      "Epoch 1/10\n",
      " - 16s - loss: 0.9629 - acc: 0.5637\n",
      "Epoch 2/10\n",
      " - 16s - loss: 0.9204 - acc: 0.5793\n",
      "Epoch 3/10\n"
     ]
    },
    {
     "ename": "KeyboardInterrupt",
     "evalue": "",
     "output_type": "error",
     "traceback": [
      "\u001b[0;31m---------------------------------------------------------------------------\u001b[0m",
      "\u001b[0;31mKeyboardInterrupt\u001b[0m                         Traceback (most recent call last)",
      "\u001b[0;32m<ipython-input-584-d56b0840709b>\u001b[0m in \u001b[0;36m<module>\u001b[0;34m\u001b[0m\n\u001b[1;32m      4\u001b[0m     \u001b[0mepochs\u001b[0m\u001b[0;34m=\u001b[0m\u001b[0;36m10\u001b[0m\u001b[0;34m,\u001b[0m\u001b[0;34m\u001b[0m\u001b[0;34m\u001b[0m\u001b[0m\n\u001b[1;32m      5\u001b[0m     \u001b[0mshuffle\u001b[0m\u001b[0;34m=\u001b[0m\u001b[0;32mTrue\u001b[0m\u001b[0;34m,\u001b[0m\u001b[0;34m\u001b[0m\u001b[0;34m\u001b[0m\u001b[0m\n\u001b[0;32m----> 6\u001b[0;31m     \u001b[0mverbose\u001b[0m\u001b[0;34m=\u001b[0m\u001b[0;36m2\u001b[0m\u001b[0;34m\u001b[0m\u001b[0;34m\u001b[0m\u001b[0m\n\u001b[0m\u001b[1;32m      7\u001b[0m )\n",
      "\u001b[0;32m/anaconda3/envs/PythonData/lib/python3.6/site-packages/tensorflow/python/keras/engine/training.py\u001b[0m in \u001b[0;36mfit\u001b[0;34m(self, x, y, batch_size, epochs, verbose, callbacks, validation_split, validation_data, shuffle, class_weight, sample_weight, initial_epoch, steps_per_epoch, validation_steps, max_queue_size, workers, use_multiprocessing, **kwargs)\u001b[0m\n\u001b[1;32m    878\u001b[0m           \u001b[0minitial_epoch\u001b[0m\u001b[0;34m=\u001b[0m\u001b[0minitial_epoch\u001b[0m\u001b[0;34m,\u001b[0m\u001b[0;34m\u001b[0m\u001b[0;34m\u001b[0m\u001b[0m\n\u001b[1;32m    879\u001b[0m           \u001b[0msteps_per_epoch\u001b[0m\u001b[0;34m=\u001b[0m\u001b[0msteps_per_epoch\u001b[0m\u001b[0;34m,\u001b[0m\u001b[0;34m\u001b[0m\u001b[0;34m\u001b[0m\u001b[0m\n\u001b[0;32m--> 880\u001b[0;31m           validation_steps=validation_steps)\n\u001b[0m\u001b[1;32m    881\u001b[0m \u001b[0;34m\u001b[0m\u001b[0m\n\u001b[1;32m    882\u001b[0m   def evaluate(self,\n",
      "\u001b[0;32m/anaconda3/envs/PythonData/lib/python3.6/site-packages/tensorflow/python/keras/engine/training_arrays.py\u001b[0m in \u001b[0;36mmodel_iteration\u001b[0;34m(model, inputs, targets, sample_weights, batch_size, epochs, verbose, callbacks, val_inputs, val_targets, val_sample_weights, shuffle, initial_epoch, steps_per_epoch, validation_steps, mode, validation_in_fit, **kwargs)\u001b[0m\n\u001b[1;32m    327\u001b[0m \u001b[0;34m\u001b[0m\u001b[0m\n\u001b[1;32m    328\u001b[0m         \u001b[0;31m# Get outputs.\u001b[0m\u001b[0;34m\u001b[0m\u001b[0;34m\u001b[0m\u001b[0;34m\u001b[0m\u001b[0m\n\u001b[0;32m--> 329\u001b[0;31m         \u001b[0mbatch_outs\u001b[0m \u001b[0;34m=\u001b[0m \u001b[0mf\u001b[0m\u001b[0;34m(\u001b[0m\u001b[0mins_batch\u001b[0m\u001b[0;34m)\u001b[0m\u001b[0;34m\u001b[0m\u001b[0;34m\u001b[0m\u001b[0m\n\u001b[0m\u001b[1;32m    330\u001b[0m         \u001b[0;32mif\u001b[0m \u001b[0;32mnot\u001b[0m \u001b[0misinstance\u001b[0m\u001b[0;34m(\u001b[0m\u001b[0mbatch_outs\u001b[0m\u001b[0;34m,\u001b[0m \u001b[0mlist\u001b[0m\u001b[0;34m)\u001b[0m\u001b[0;34m:\u001b[0m\u001b[0;34m\u001b[0m\u001b[0;34m\u001b[0m\u001b[0m\n\u001b[1;32m    331\u001b[0m           \u001b[0mbatch_outs\u001b[0m \u001b[0;34m=\u001b[0m \u001b[0;34m[\u001b[0m\u001b[0mbatch_outs\u001b[0m\u001b[0;34m]\u001b[0m\u001b[0;34m\u001b[0m\u001b[0;34m\u001b[0m\u001b[0m\n",
      "\u001b[0;32m/anaconda3/envs/PythonData/lib/python3.6/site-packages/tensorflow/python/keras/backend.py\u001b[0m in \u001b[0;36m__call__\u001b[0;34m(self, inputs)\u001b[0m\n\u001b[1;32m   3074\u001b[0m \u001b[0;34m\u001b[0m\u001b[0m\n\u001b[1;32m   3075\u001b[0m     fetched = self._callable_fn(*array_vals,\n\u001b[0;32m-> 3076\u001b[0;31m                                 run_metadata=self.run_metadata)\n\u001b[0m\u001b[1;32m   3077\u001b[0m     \u001b[0mself\u001b[0m\u001b[0;34m.\u001b[0m\u001b[0m_call_fetch_callbacks\u001b[0m\u001b[0;34m(\u001b[0m\u001b[0mfetched\u001b[0m\u001b[0;34m[\u001b[0m\u001b[0;34m-\u001b[0m\u001b[0mlen\u001b[0m\u001b[0;34m(\u001b[0m\u001b[0mself\u001b[0m\u001b[0;34m.\u001b[0m\u001b[0m_fetches\u001b[0m\u001b[0;34m)\u001b[0m\u001b[0;34m:\u001b[0m\u001b[0;34m]\u001b[0m\u001b[0;34m)\u001b[0m\u001b[0;34m\u001b[0m\u001b[0;34m\u001b[0m\u001b[0m\n\u001b[1;32m   3078\u001b[0m     return nest.pack_sequence_as(self._outputs_structure,\n",
      "\u001b[0;32m/anaconda3/envs/PythonData/lib/python3.6/site-packages/tensorflow/python/client/session.py\u001b[0m in \u001b[0;36m__call__\u001b[0;34m(self, *args, **kwargs)\u001b[0m\n\u001b[1;32m   1437\u001b[0m           ret = tf_session.TF_SessionRunCallable(\n\u001b[1;32m   1438\u001b[0m               \u001b[0mself\u001b[0m\u001b[0;34m.\u001b[0m\u001b[0m_session\u001b[0m\u001b[0;34m.\u001b[0m\u001b[0m_session\u001b[0m\u001b[0;34m,\u001b[0m \u001b[0mself\u001b[0m\u001b[0;34m.\u001b[0m\u001b[0m_handle\u001b[0m\u001b[0;34m,\u001b[0m \u001b[0margs\u001b[0m\u001b[0;34m,\u001b[0m \u001b[0mstatus\u001b[0m\u001b[0;34m,\u001b[0m\u001b[0;34m\u001b[0m\u001b[0;34m\u001b[0m\u001b[0m\n\u001b[0;32m-> 1439\u001b[0;31m               run_metadata_ptr)\n\u001b[0m\u001b[1;32m   1440\u001b[0m         \u001b[0;32mif\u001b[0m \u001b[0mrun_metadata\u001b[0m\u001b[0;34m:\u001b[0m\u001b[0;34m\u001b[0m\u001b[0;34m\u001b[0m\u001b[0m\n\u001b[1;32m   1441\u001b[0m           \u001b[0mproto_data\u001b[0m \u001b[0;34m=\u001b[0m \u001b[0mtf_session\u001b[0m\u001b[0;34m.\u001b[0m\u001b[0mTF_GetBuffer\u001b[0m\u001b[0;34m(\u001b[0m\u001b[0mrun_metadata_ptr\u001b[0m\u001b[0;34m)\u001b[0m\u001b[0;34m\u001b[0m\u001b[0;34m\u001b[0m\u001b[0m\n",
      "\u001b[0;31mKeyboardInterrupt\u001b[0m: "
     ]
    }
   ],
   "source": [
    "model.fit(\n",
    "    X_train_scaled,\n",
    "    y_train_categorical,\n",
    "    epochs=10,\n",
    "    shuffle=True,\n",
    "    verbose=2\n",
    ")"
   ]
  },
  {
   "cell_type": "code",
   "execution_count": 528,
   "metadata": {},
   "outputs": [
    {
     "name": "stdout",
     "output_type": "stream",
     "text": [
      "Normal Neural Network - Loss: 0.8912092786441547, Accuracy: 0.5936654210090637\n"
     ]
    }
   ],
   "source": [
    "model_loss, model_accuracy = model.evaluate(\n",
    "    X_test_scaled, y_test_categorical, verbose=4)\n",
    "print(\n",
    "    f\"Normal Neural Network - Loss: {model_loss}, Accuracy: {model_accuracy}\")"
   ]
  },
  {
   "cell_type": "code",
   "execution_count": 529,
   "metadata": {},
   "outputs": [],
   "source": [
    "encoded_predictions = model.predict_classes(X_test_scaled[:10])\n",
    "prediction_labels = label_encoder.inverse_transform(encoded_predictions)"
   ]
  },
  {
   "cell_type": "code",
   "execution_count": 530,
   "metadata": {},
   "outputs": [
    {
     "name": "stdout",
     "output_type": "stream",
     "text": [
      "Predicted classes: [0 0 3 1 3 1 3 0 3 3]\n",
      "Actual Labels: [0, 3, 3, 1, 3, 1, 0, 0, 0, 2]\n"
     ]
    }
   ],
   "source": [
    "print(f\"Predicted classes: {prediction_labels}\")\n",
    "print(f\"Actual Labels: {list(y_test[:10])}\")"
   ]
  },
  {
   "cell_type": "code",
   "execution_count": null,
   "metadata": {},
   "outputs": [],
   "source": []
  }
 ],
 "metadata": {
  "kernelspec": {
   "display_name": "Python 3",
   "language": "python",
   "name": "python3"
  },
  "language_info": {
   "codemirror_mode": {
    "name": "ipython",
    "version": 3
   },
   "file_extension": ".py",
   "mimetype": "text/x-python",
   "name": "python",
   "nbconvert_exporter": "python",
   "pygments_lexer": "ipython3",
   "version": "3.6.8"
  }
 },
 "nbformat": 4,
 "nbformat_minor": 2
}
