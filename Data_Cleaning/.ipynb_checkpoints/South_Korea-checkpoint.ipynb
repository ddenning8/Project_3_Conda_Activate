{
 "cells": [
  {
   "cell_type": "code",
   "execution_count": 1,
   "metadata": {},
   "outputs": [],
   "source": [
    "import pandas as pd\n",
    "import numpy as np"
   ]
  },
  {
   "cell_type": "code",
   "execution_count": 2,
   "metadata": {},
   "outputs": [],
   "source": [
    "data = pd.read_csv('../Resources/certified_denied.csv')"
   ]
  },
  {
   "cell_type": "code",
   "execution_count": 3,
   "metadata": {},
   "outputs": [
    {
     "data": {
      "text/html": [
       "<div>\n",
       "<style scoped>\n",
       "    .dataframe tbody tr th:only-of-type {\n",
       "        vertical-align: middle;\n",
       "    }\n",
       "\n",
       "    .dataframe tbody tr th {\n",
       "        vertical-align: top;\n",
       "    }\n",
       "\n",
       "    .dataframe thead th {\n",
       "        text-align: right;\n",
       "    }\n",
       "</style>\n",
       "<table border=\"1\" class=\"dataframe\">\n",
       "  <thead>\n",
       "    <tr style=\"text-align: right;\">\n",
       "      <th></th>\n",
       "      <th>Unnamed: 0</th>\n",
       "      <th>Unnamed: 1</th>\n",
       "      <th>CASE_NUMBER</th>\n",
       "      <th>DECISION_DATE</th>\n",
       "      <th>CASE_STATUS</th>\n",
       "      <th>CASE_RECEIVED_DATE</th>\n",
       "      <th>DECISION_ELAPSED_DAYS</th>\n",
       "      <th>DECISION_ELAPSED_YEARS</th>\n",
       "      <th>EMPLOYER_NAME</th>\n",
       "      <th>EMPLOYER_CITY</th>\n",
       "      <th>...</th>\n",
       "      <th>FW_INFO_POSTAL_CODE</th>\n",
       "      <th>COUNTRY_OF_CITIZENSHIP</th>\n",
       "      <th>FW_INFO_BIRTH_COUNTRY</th>\n",
       "      <th>CLASS_OF_ADMISSION</th>\n",
       "      <th>FOREIGN_WORKER_INFO_EDUCATION</th>\n",
       "      <th>FW_INFO_EDUCATION_OTHER</th>\n",
       "      <th>DECISION_DATE_YEAR</th>\n",
       "      <th>DECISION_DATE_MONTH</th>\n",
       "      <th>CASE_RECEIVED_DATE_YEAR</th>\n",
       "      <th>CASE_RECEIVED_DATE_MONTH</th>\n",
       "    </tr>\n",
       "  </thead>\n",
       "  <tbody>\n",
       "    <tr>\n",
       "      <th>0</th>\n",
       "      <td>NaN</td>\n",
       "      <td>25</td>\n",
       "      <td>A-14246-03533</td>\n",
       "      <td>2015-06-22</td>\n",
       "      <td>Certified</td>\n",
       "      <td>2014-12-19</td>\n",
       "      <td>185</td>\n",
       "      <td>0.506849</td>\n",
       "      <td>CITRIX SYSTEMS, INC.</td>\n",
       "      <td>FORT LAUDERDALE</td>\n",
       "      <td>...</td>\n",
       "      <td>1973-03-30 00:00:00</td>\n",
       "      <td>CHINA</td>\n",
       "      <td>CHINA</td>\n",
       "      <td>H-1B</td>\n",
       "      <td>Master's</td>\n",
       "      <td>NaN</td>\n",
       "      <td>2015</td>\n",
       "      <td>6</td>\n",
       "      <td>2014.0</td>\n",
       "      <td>12.0</td>\n",
       "    </tr>\n",
       "    <tr>\n",
       "      <th>1</th>\n",
       "      <td>NaN</td>\n",
       "      <td>28</td>\n",
       "      <td>A-14198-89806</td>\n",
       "      <td>2015-04-06</td>\n",
       "      <td>Certified</td>\n",
       "      <td>2014-07-18</td>\n",
       "      <td>262</td>\n",
       "      <td>0.717808</td>\n",
       "      <td>COGNIZANT TECHNOLOGY SOLUTIONS US CORPORATION</td>\n",
       "      <td>COLLEGE STATION</td>\n",
       "      <td>...</td>\n",
       "      <td>75063</td>\n",
       "      <td>INDIA</td>\n",
       "      <td>INDIA</td>\n",
       "      <td>H-1B</td>\n",
       "      <td>Bachelor's</td>\n",
       "      <td>NaN</td>\n",
       "      <td>2015</td>\n",
       "      <td>4</td>\n",
       "      <td>2014.0</td>\n",
       "      <td>7.0</td>\n",
       "    </tr>\n",
       "    <tr>\n",
       "      <th>2</th>\n",
       "      <td>NaN</td>\n",
       "      <td>35</td>\n",
       "      <td>A-14222-96825</td>\n",
       "      <td>2015-06-24</td>\n",
       "      <td>Certified</td>\n",
       "      <td>2014-12-11</td>\n",
       "      <td>195</td>\n",
       "      <td>0.534247</td>\n",
       "      <td>SAT SOLUTIONS LLC</td>\n",
       "      <td>MONROE</td>\n",
       "      <td>...</td>\n",
       "      <td>75001</td>\n",
       "      <td>INDIA</td>\n",
       "      <td>INDIA</td>\n",
       "      <td>H-1B</td>\n",
       "      <td>Bachelor's</td>\n",
       "      <td>NaN</td>\n",
       "      <td>2015</td>\n",
       "      <td>6</td>\n",
       "      <td>2014.0</td>\n",
       "      <td>12.0</td>\n",
       "    </tr>\n",
       "    <tr>\n",
       "      <th>3</th>\n",
       "      <td>NaN</td>\n",
       "      <td>61</td>\n",
       "      <td>A-13216-85505</td>\n",
       "      <td>2015-05-29</td>\n",
       "      <td>Certified</td>\n",
       "      <td>2013-08-05</td>\n",
       "      <td>662</td>\n",
       "      <td>1.813699</td>\n",
       "      <td>KOCH FOODS OF ALABAMA, LLC</td>\n",
       "      <td>MONTGOMERY</td>\n",
       "      <td>...</td>\n",
       "      <td>210001</td>\n",
       "      <td>CHINA</td>\n",
       "      <td>CHINA</td>\n",
       "      <td>NaN</td>\n",
       "      <td>Associate's</td>\n",
       "      <td>NaN</td>\n",
       "      <td>2015</td>\n",
       "      <td>5</td>\n",
       "      <td>2013.0</td>\n",
       "      <td>8.0</td>\n",
       "    </tr>\n",
       "    <tr>\n",
       "      <th>4</th>\n",
       "      <td>NaN</td>\n",
       "      <td>63</td>\n",
       "      <td>A-13179-76467</td>\n",
       "      <td>2015-04-20</td>\n",
       "      <td>Certified</td>\n",
       "      <td>2013-06-28</td>\n",
       "      <td>661</td>\n",
       "      <td>1.810959</td>\n",
       "      <td>FARROKH ERFAN</td>\n",
       "      <td>GAITHERSBURG</td>\n",
       "      <td>...</td>\n",
       "      <td>NaN</td>\n",
       "      <td>IRAN</td>\n",
       "      <td>IRAN</td>\n",
       "      <td>NaN</td>\n",
       "      <td>Bachelor's</td>\n",
       "      <td>NaN</td>\n",
       "      <td>2015</td>\n",
       "      <td>4</td>\n",
       "      <td>2013.0</td>\n",
       "      <td>6.0</td>\n",
       "    </tr>\n",
       "  </tbody>\n",
       "</table>\n",
       "<p>5 rows × 39 columns</p>\n",
       "</div>"
      ],
      "text/plain": [
       "   Unnamed: 0  Unnamed: 1    CASE_NUMBER DECISION_DATE CASE_STATUS  \\\n",
       "0         NaN          25  A-14246-03533    2015-06-22   Certified   \n",
       "1         NaN          28  A-14198-89806    2015-04-06   Certified   \n",
       "2         NaN          35  A-14222-96825    2015-06-24   Certified   \n",
       "3         NaN          61  A-13216-85505    2015-05-29   Certified   \n",
       "4         NaN          63  A-13179-76467    2015-04-20   Certified   \n",
       "\n",
       "  CASE_RECEIVED_DATE  DECISION_ELAPSED_DAYS  DECISION_ELAPSED_YEARS  \\\n",
       "0         2014-12-19                    185                0.506849   \n",
       "1         2014-07-18                    262                0.717808   \n",
       "2         2014-12-11                    195                0.534247   \n",
       "3         2013-08-05                    662                1.813699   \n",
       "4         2013-06-28                    661                1.810959   \n",
       "\n",
       "                                   EMPLOYER_NAME    EMPLOYER_CITY  ...  \\\n",
       "0                           CITRIX SYSTEMS, INC.  FORT LAUDERDALE  ...   \n",
       "1  COGNIZANT TECHNOLOGY SOLUTIONS US CORPORATION  COLLEGE STATION  ...   \n",
       "2                              SAT SOLUTIONS LLC           MONROE  ...   \n",
       "3                     KOCH FOODS OF ALABAMA, LLC       MONTGOMERY  ...   \n",
       "4                                  FARROKH ERFAN     GAITHERSBURG  ...   \n",
       "\n",
       "   FW_INFO_POSTAL_CODE COUNTRY_OF_CITIZENSHIP  FW_INFO_BIRTH_COUNTRY  \\\n",
       "0  1973-03-30 00:00:00                  CHINA                  CHINA   \n",
       "1                75063                  INDIA                  INDIA   \n",
       "2                75001                  INDIA                  INDIA   \n",
       "3               210001                  CHINA                  CHINA   \n",
       "4                  NaN                   IRAN                   IRAN   \n",
       "\n",
       "  CLASS_OF_ADMISSION FOREIGN_WORKER_INFO_EDUCATION FW_INFO_EDUCATION_OTHER  \\\n",
       "0               H-1B                      Master's                     NaN   \n",
       "1               H-1B                    Bachelor's                     NaN   \n",
       "2               H-1B                    Bachelor's                     NaN   \n",
       "3                NaN                   Associate's                     NaN   \n",
       "4                NaN                    Bachelor's                     NaN   \n",
       "\n",
       "  DECISION_DATE_YEAR DECISION_DATE_MONTH  CASE_RECEIVED_DATE_YEAR  \\\n",
       "0               2015                   6                   2014.0   \n",
       "1               2015                   4                   2014.0   \n",
       "2               2015                   6                   2014.0   \n",
       "3               2015                   5                   2013.0   \n",
       "4               2015                   4                   2013.0   \n",
       "\n",
       "   CASE_RECEIVED_DATE_MONTH  \n",
       "0                      12.0  \n",
       "1                       7.0  \n",
       "2                      12.0  \n",
       "3                       8.0  \n",
       "4                       6.0  \n",
       "\n",
       "[5 rows x 39 columns]"
      ]
     },
     "execution_count": 3,
     "metadata": {},
     "output_type": "execute_result"
    }
   ],
   "source": [
    "data.head()"
   ]
  },
  {
   "cell_type": "code",
   "execution_count": 4,
   "metadata": {},
   "outputs": [],
   "source": [
    "data2 = data.loc[data['COUNTRY_OF_CITIZENSHIP'] == 'SOUTH KOREA']"
   ]
  },
  {
   "cell_type": "code",
   "execution_count": 5,
   "metadata": {},
   "outputs": [
    {
     "data": {
      "text/plain": [
       "SOUTH KOREA    15123\n",
       "Name: COUNTRY_OF_CITIZENSHIP, dtype: int64"
      ]
     },
     "execution_count": 5,
     "metadata": {},
     "output_type": "execute_result"
    }
   ],
   "source": [
    "data2['COUNTRY_OF_CITIZENSHIP'].value_counts()"
   ]
  },
  {
   "cell_type": "code",
   "execution_count": 6,
   "metadata": {},
   "outputs": [],
   "source": [
    "data3 = data2.loc[data2['WAGE_OFFER_UNIT_OF_PAY_9089'] == 'Year']"
   ]
  },
  {
   "cell_type": "code",
   "execution_count": 7,
   "metadata": {},
   "outputs": [
    {
     "data": {
      "text/plain": [
       "Year    13830\n",
       "Name: WAGE_OFFER_UNIT_OF_PAY_9089, dtype: int64"
      ]
     },
     "execution_count": 7,
     "metadata": {},
     "output_type": "execute_result"
    }
   ],
   "source": [
    "data3['WAGE_OFFER_UNIT_OF_PAY_9089'].value_counts()"
   ]
  },
  {
   "cell_type": "code",
   "execution_count": 8,
   "metadata": {},
   "outputs": [
    {
     "data": {
      "text/plain": [
       "Index(['Unnamed: 0', 'Unnamed: 1', 'CASE_NUMBER', 'DECISION_DATE',\n",
       "       'CASE_STATUS', 'CASE_RECEIVED_DATE', 'DECISION_ELAPSED_DAYS',\n",
       "       'DECISION_ELAPSED_YEARS', 'EMPLOYER_NAME', 'EMPLOYER_CITY',\n",
       "       'EMPLOYER_STATE', 'EMPLOYER_POSTAL_CODE', 'EMPLOYER_NUM_EMPLOYEES',\n",
       "       'AGENT_FIRM_NAME', 'AGENT_CITY', 'AGENT_STATE', 'PW_SOC_CODE',\n",
       "       'PW_SOC_TITLE', 'PW_AMOUNT_9089', 'WAGE_OFFER_FROM_9089',\n",
       "       'WAGE_OFFER_UNIT_OF_PAY_9089', 'JOB_INFO_WORK_CITY',\n",
       "       'JOB_INFO_WORK_STATE', 'JOB_INFO_WORK_POSTAL_CODE',\n",
       "       'JOB_INFO_JOB_TITLE', 'JOB_INFO_EDUCATION', 'JOB_INFO_EDUCATION_OTHER',\n",
       "       'FOREIGN_WORKER_INFO_CITY', 'FOREIGN_WORKER_INFO_STATE',\n",
       "       'FW_INFO_POSTAL_CODE', 'COUNTRY_OF_CITIZENSHIP',\n",
       "       'FW_INFO_BIRTH_COUNTRY', 'CLASS_OF_ADMISSION',\n",
       "       'FOREIGN_WORKER_INFO_EDUCATION', 'FW_INFO_EDUCATION_OTHER',\n",
       "       'DECISION_DATE_YEAR', 'DECISION_DATE_MONTH', 'CASE_RECEIVED_DATE_YEAR',\n",
       "       'CASE_RECEIVED_DATE_MONTH'],\n",
       "      dtype='object')"
      ]
     },
     "execution_count": 8,
     "metadata": {},
     "output_type": "execute_result"
    }
   ],
   "source": [
    "data3.columns"
   ]
  },
  {
   "cell_type": "code",
   "execution_count": 9,
   "metadata": {},
   "outputs": [],
   "source": [
    "data4 = data3[[\n",
    "    'CASE_STATUS',\n",
    "    'DECISION_ELAPSED_DAYS',\n",
    "    'EMPLOYER_POSTAL_CODE',\n",
    "    'EMPLOYER_STATE',\n",
    "    'EMPLOYER_NUM_EMPLOYEES',\n",
    "    'WAGE_OFFER_FROM_9089',\n",
    "    'COUNTRY_OF_CITIZENSHIP',\n",
    "    'CLASS_OF_ADMISSION',\n",
    "    'FOREIGN_WORKER_INFO_EDUCATION',\n",
    "    'CASE_RECEIVED_DATE_MONTH'\n",
    "]]"
   ]
  },
  {
   "cell_type": "code",
   "execution_count": 10,
   "metadata": {},
   "outputs": [
    {
     "data": {
      "text/html": [
       "<div>\n",
       "<style scoped>\n",
       "    .dataframe tbody tr th:only-of-type {\n",
       "        vertical-align: middle;\n",
       "    }\n",
       "\n",
       "    .dataframe tbody tr th {\n",
       "        vertical-align: top;\n",
       "    }\n",
       "\n",
       "    .dataframe thead th {\n",
       "        text-align: right;\n",
       "    }\n",
       "</style>\n",
       "<table border=\"1\" class=\"dataframe\">\n",
       "  <thead>\n",
       "    <tr style=\"text-align: right;\">\n",
       "      <th></th>\n",
       "      <th>CASE_STATUS</th>\n",
       "      <th>DECISION_ELAPSED_DAYS</th>\n",
       "      <th>EMPLOYER_POSTAL_CODE</th>\n",
       "      <th>EMPLOYER_STATE</th>\n",
       "      <th>EMPLOYER_NUM_EMPLOYEES</th>\n",
       "      <th>WAGE_OFFER_FROM_9089</th>\n",
       "      <th>COUNTRY_OF_CITIZENSHIP</th>\n",
       "      <th>CLASS_OF_ADMISSION</th>\n",
       "      <th>FOREIGN_WORKER_INFO_EDUCATION</th>\n",
       "      <th>CASE_RECEIVED_DATE_MONTH</th>\n",
       "    </tr>\n",
       "  </thead>\n",
       "  <tbody>\n",
       "    <tr>\n",
       "      <th>11</th>\n",
       "      <td>Certified</td>\n",
       "      <td>201</td>\n",
       "      <td>06450</td>\n",
       "      <td>CONNECTICUT</td>\n",
       "      <td>5.0</td>\n",
       "      <td>47133.0</td>\n",
       "      <td>SOUTH KOREA</td>\n",
       "      <td>Not in USA</td>\n",
       "      <td>Bachelor's</td>\n",
       "      <td>2.0</td>\n",
       "    </tr>\n",
       "    <tr>\n",
       "      <th>17</th>\n",
       "      <td>Certified</td>\n",
       "      <td>857</td>\n",
       "      <td>36108</td>\n",
       "      <td>ALABAMA</td>\n",
       "      <td>1400.0</td>\n",
       "      <td>19843.0</td>\n",
       "      <td>SOUTH KOREA</td>\n",
       "      <td>NaN</td>\n",
       "      <td>Bachelor's</td>\n",
       "      <td>4.0</td>\n",
       "    </tr>\n",
       "    <tr>\n",
       "      <th>25</th>\n",
       "      <td>Certified</td>\n",
       "      <td>857</td>\n",
       "      <td>36108</td>\n",
       "      <td>ALABAMA</td>\n",
       "      <td>1400.0</td>\n",
       "      <td>19843.0</td>\n",
       "      <td>SOUTH KOREA</td>\n",
       "      <td>NaN</td>\n",
       "      <td>High School</td>\n",
       "      <td>4.0</td>\n",
       "    </tr>\n",
       "    <tr>\n",
       "      <th>43</th>\n",
       "      <td>Certified</td>\n",
       "      <td>558</td>\n",
       "      <td>85234</td>\n",
       "      <td>ARIZONA</td>\n",
       "      <td>210.0</td>\n",
       "      <td>47133.0</td>\n",
       "      <td>SOUTH KOREA</td>\n",
       "      <td>NaN</td>\n",
       "      <td>None</td>\n",
       "      <td>9.0</td>\n",
       "    </tr>\n",
       "    <tr>\n",
       "      <th>78</th>\n",
       "      <td>Certified</td>\n",
       "      <td>574</td>\n",
       "      <td>90027</td>\n",
       "      <td>CALIFORNIA</td>\n",
       "      <td>5.0</td>\n",
       "      <td>27726.0</td>\n",
       "      <td>SOUTH KOREA</td>\n",
       "      <td>NaN</td>\n",
       "      <td>None</td>\n",
       "      <td>9.0</td>\n",
       "    </tr>\n",
       "  </tbody>\n",
       "</table>\n",
       "</div>"
      ],
      "text/plain": [
       "   CASE_STATUS  DECISION_ELAPSED_DAYS EMPLOYER_POSTAL_CODE EMPLOYER_STATE  \\\n",
       "11   Certified                    201                06450    CONNECTICUT   \n",
       "17   Certified                    857                36108        ALABAMA   \n",
       "25   Certified                    857                36108        ALABAMA   \n",
       "43   Certified                    558                85234        ARIZONA   \n",
       "78   Certified                    574                90027     CALIFORNIA   \n",
       "\n",
       "    EMPLOYER_NUM_EMPLOYEES  WAGE_OFFER_FROM_9089 COUNTRY_OF_CITIZENSHIP  \\\n",
       "11                     5.0               47133.0            SOUTH KOREA   \n",
       "17                  1400.0               19843.0            SOUTH KOREA   \n",
       "25                  1400.0               19843.0            SOUTH KOREA   \n",
       "43                   210.0               47133.0            SOUTH KOREA   \n",
       "78                     5.0               27726.0            SOUTH KOREA   \n",
       "\n",
       "   CLASS_OF_ADMISSION FOREIGN_WORKER_INFO_EDUCATION  CASE_RECEIVED_DATE_MONTH  \n",
       "11         Not in USA                    Bachelor's                       2.0  \n",
       "17                NaN                    Bachelor's                       4.0  \n",
       "25                NaN                   High School                       4.0  \n",
       "43                NaN                          None                       9.0  \n",
       "78                NaN                          None                       9.0  "
      ]
     },
     "execution_count": 10,
     "metadata": {},
     "output_type": "execute_result"
    }
   ],
   "source": [
    "data4.head()"
   ]
  },
  {
   "cell_type": "code",
   "execution_count": 11,
   "metadata": {},
   "outputs": [
    {
     "name": "stderr",
     "output_type": "stream",
     "text": [
      "/anaconda3/envs/PythonData/lib/python3.6/site-packages/ipykernel_launcher.py:229: SettingWithCopyWarning: \n",
      "A value is trying to be set on a copy of a slice from a DataFrame.\n",
      "Try using .loc[row_indexer,col_indexer] = value instead\n",
      "\n",
      "See the caveats in the documentation: http://pandas.pydata.org/pandas-docs/stable/indexing.html#indexing-view-versus-copy\n"
     ]
    }
   ],
   "source": [
    "states = []\n",
    "\n",
    "for row in data4['EMPLOYER_STATE']:\n",
    "    if row == \"ME\":\n",
    "        states.append(\"MAINE\")\n",
    "    elif row == \"NH\":\n",
    "        states.append(\"NEW HAMPSHIRE\")\n",
    "    elif row == \"VT\":\n",
    "        states.append(\"VERMONT\")\n",
    "    elif row == \"MA\":\n",
    "        states.append(\"MASSACHUSETTS\")\n",
    "    elif row == \"RI\":\n",
    "        states.append(\"RHODE ISLAND\")\n",
    "    elif row == \"CT\":\n",
    "        states.append(\"CONNECTICUT\")\n",
    "    elif row == \"NY\":\n",
    "        states.append(\"NEW YORK\")\n",
    "    elif row == \"NJ\":\n",
    "        states.append(\"NEW JERSEY\")\n",
    "    elif row == \"PA\":\n",
    "        states.append(\"PENNSYLVANIA\")\n",
    "    elif row == \"DE\":\n",
    "        states.append(\"DELAWARE\")\n",
    "    elif row == \"MD\":\n",
    "        states.append(\"MARYLAND\")\n",
    "    elif row == \"DC\":\n",
    "        states.append(\"DISTRICT OF COLUMBIA\")\n",
    "    elif row == \"VA\":\n",
    "        states.append(\"VIRGINIA\")\n",
    "    elif row == \"WV\":\n",
    "        states.append(\"WEST VIRGINIA\")\n",
    "    elif row == \"NC\":\n",
    "        states.append(\"NORTH CAROLINA\")\n",
    "    elif row == \"SC\":\n",
    "        states.append(\"SOUTH CAROLINA\")\n",
    "    elif row == \"GA\":\n",
    "        states.append(\"GEORGIA\")\n",
    "    elif row == \"FL\":\n",
    "        states.append(\"FLORIDA\")\n",
    "    elif row == \"AL\":\n",
    "        states.append(\"ALABAMA\")\n",
    "    elif row == \"TN\":\n",
    "        states.append(\"TENNESSEE\")\n",
    "    elif row == \"TENNESSE\":\n",
    "        states.append(\"TENNESSEE\")\n",
    "    elif row == \"KY\":\n",
    "        states.append(\"KENTUCKY\")\n",
    "    elif row == \"OH\":\n",
    "        states.append(\"OHIO\")\n",
    "    elif row == \"MI\":\n",
    "        states.append(\"MICHIGAN\")\n",
    "    elif row == \"IN\":\n",
    "        states.append(\"INDIANA\")\n",
    "    elif row == \"MS\":\n",
    "        states.append(\"MISSISSIPPI\")\n",
    "    elif row == \"IL\":\n",
    "        states.append(\"ILLINOIS\")\n",
    "    elif row == \"WI\":\n",
    "        states.append(\"WISCONSIN\")\n",
    "    elif row == \"MN\":\n",
    "        states.append(\"MINNESOTA\")\n",
    "    elif row == \"IA\":\n",
    "        states.append(\"IOWA\")\n",
    "    elif row == \"MO\":\n",
    "        states.append(\"MISSOURI\")\n",
    "    elif row == \"AR\":\n",
    "        states.append(\"ARKANSAS\")\n",
    "    elif row == \"LA\":\n",
    "        states.append(\"LOUISIANA\")\n",
    "    elif row == \"ND\":\n",
    "        states.append(\"NORTH DAKOTA\")\n",
    "    elif row == \"SD\":\n",
    "        states.append(\"SOUTH DAKOTA\")\n",
    "    elif row == \"NE\":\n",
    "        states.append(\"NEBRASKA\")\n",
    "    elif row == \"KS\":\n",
    "        states.append(\"KANSAS\")\n",
    "    elif row == \"OK\":\n",
    "        states.append(\"OKLAHOMA\")\n",
    "    elif row == \"TX\":\n",
    "        states.append(\"TEXAS\")\n",
    "    elif row == \"MT\":\n",
    "        states.append(\"MONTANA\")\n",
    "    elif row == \"WY\":\n",
    "        states.append(\"WYOMING\")\n",
    "    elif row == \"CO\":\n",
    "        states.append(\"COLORADO\")\n",
    "    elif row == \"NM\":\n",
    "        states.append(\"NEW MEXICO\")\n",
    "    elif row == \"ID\":\n",
    "        states.append(\"IDAHO\")\n",
    "    elif row == \"UT\":\n",
    "        states.append(\"UTAH\")\n",
    "    elif row == \"AZ\":\n",
    "        states.append(\"ARIZONA\")\n",
    "    elif row == \"WA\":\n",
    "        states.append(\"WASHINGTON\")\n",
    "    elif row == \"OR\":\n",
    "        states.append(\"OREGON\")\n",
    "    elif row == \"NV\":\n",
    "        states.append(\"NEVADA\")\n",
    "    elif row == \"CA\":\n",
    "        states.append(\"CALIFORNIA\")\n",
    "    elif row == \"AK\":\n",
    "        states.append(\"ALASKA\")\n",
    "    elif row == \"HI\":\n",
    "        states.append(\"HAWAII\")\n",
    "    elif row == \"PR\":\n",
    "        states.append(\"PUERTO RICO\")\n",
    "    elif row == \"MP\":\n",
    "        states.append(\"NORTHERN MARIANA ISLANDS\")\n",
    "    elif row == \"VI\":\n",
    "        states.append(\"VIRGIN ISLANDS\")\n",
    "    elif row == \"GU\":\n",
    "        states.append(\"GUAM\")\n",
    "    elif row == \"NEW HAMPSHIRE\":\n",
    "        states.append(\"NEW HAMPSHIRE\")\n",
    "    elif row == \"VERMONT\":\n",
    "        states.append(\"VERMONT\")\n",
    "    elif row == \"MASSACHUSETTS\":\n",
    "        states.append(\"MASSACHUSETTS\")\n",
    "    elif row == \"RHODE ISLAND\":\n",
    "        states.append(\"RHODE ISLAND\")\n",
    "    elif row == \"CONNECTICUT\":\n",
    "        states.append(\"CONNECTICUT\")\n",
    "    elif row == \"NEW YORK\":\n",
    "        states.append(\"NEW YORK\")\n",
    "    elif row == \"NEW JERSEY\":\n",
    "        states.append(\"NEW JERSEY\")\n",
    "    elif row == \"PENNSYLVANIA\":\n",
    "        states.append(\"PENNSYLVANIA\")\n",
    "    elif row == \"DELAWARE\":\n",
    "        states.append(\"DELAWARE\")\n",
    "    elif row == \"MARYLAND\":\n",
    "        states.append(\"MARYLAND\")\n",
    "    elif row == \"DISTRICT OF COLUMBIA\":\n",
    "        states.append(\"DISTRICT OF COLUMBIA\")\n",
    "    elif row == \"VIRGINIA\":\n",
    "        states.append(\"VIRGINIA\")\n",
    "    elif row == \"WEST VIRGINIA\":\n",
    "        states.append(\"WEST VIRGINIA\")\n",
    "    elif row == \"NORTH CAROLINA\":\n",
    "        states.append(\"NORTH CAROLINA\")\n",
    "    elif row == \"SOUTH CAROLINA\":\n",
    "        states.append(\"SOUTH CAROLINA\")\n",
    "    elif row == \"GEORGIA\":\n",
    "        states.append(\"GEORGIA\")\n",
    "    elif row == \"FLORIDA\":\n",
    "        states.append(\"FLORIDA\")\n",
    "    elif row == \"ALABAMA\":\n",
    "        states.append(\"ALABAMA\")\n",
    "    elif row == \"TENNESSEE\":\n",
    "        states.append(\"TENNESSEE\")\n",
    "    elif row == \"TENNESSEE\":\n",
    "        states.append(\"TENNESSEE\")\n",
    "    elif row == \"KENTUCKY\":\n",
    "        states.append(\"KENTUCKY\")\n",
    "    elif row == \"OHIO\":\n",
    "        states.append(\"OHIO\")\n",
    "    elif row == \"MICHIGAN\":\n",
    "        states.append(\"MICHIGAN\")\n",
    "    elif row == \"INDIANA\":\n",
    "        states.append(\"INDIANA\")\n",
    "    elif row == \"MISSISSIPPI\":\n",
    "        states.append(\"MISSISSIPPI\")\n",
    "    elif row == \"ILLINOIS\":\n",
    "        states.append(\"ILLINOIS\")\n",
    "    elif row == \"WISCONSIN\":\n",
    "        states.append(\"WISCONSIN\")\n",
    "    elif row == \"MINNESOTA\":\n",
    "        states.append(\"MINNESOTA\")\n",
    "    elif row == \"IOWA\":\n",
    "        states.append(\"IOWA\")\n",
    "    elif row == \"MISSOURI\":\n",
    "        states.append(\"MISSOURI\")\n",
    "    elif row == \"ARKANSAS\":\n",
    "        states.append(\"ARKANSAS\")\n",
    "    elif row == \"LOUISIANA\":\n",
    "        states.append(\"LOUISIANA\")\n",
    "    elif row == \"NORTH DAKOTA\":\n",
    "        states.append(\"NORTH DAKOTA\")\n",
    "    elif row == \"SOUTH DAKOTA\":\n",
    "        states.append(\"SOUTH DAKOTA\")\n",
    "    elif row == \"NEBRASKA\":\n",
    "        states.append(\"NEBRASKA\")\n",
    "    elif row == \"KANSAS\":\n",
    "        states.append(\"KANSAS\")\n",
    "    elif row == \"OKLAHOMA\":\n",
    "        states.append(\"OKLAHOMA\")\n",
    "    elif row == \"TEXAS\":\n",
    "        states.append(\"TEXAS\")\n",
    "    elif row == \"MONTANA\":\n",
    "        states.append(\"MONTANA\")\n",
    "    elif row == \"WYOMING\":\n",
    "        states.append(\"WYOMING\")\n",
    "    elif row == \"COLORADO\":\n",
    "        states.append(\"COLORADO\")\n",
    "    elif row == \"NEW MEXICO\":\n",
    "        states.append(\"NEW MEXICO\")\n",
    "    elif row == \"IDAHO\":\n",
    "        states.append(\"IDAHO\")\n",
    "    elif row == \"UTAH\":\n",
    "        states.append(\"UTAH\")\n",
    "    elif row == \"ARIZONA\":\n",
    "        states.append(\"ARIZONA\")\n",
    "    elif row == \"WASHINGTON\":\n",
    "        states.append(\"WASHINGTON\")\n",
    "    elif row == \"OREGON\":\n",
    "        states.append(\"OREGON\")\n",
    "    elif row == \"NEVADA\":\n",
    "        states.append(\"NEVADA\")\n",
    "    elif row == \"CALIFORNIA\":\n",
    "        states.append(\"CALIFORNIA\")\n",
    "    elif row == \"ALASKA\":\n",
    "        states.append(\"ALASKA\")\n",
    "    elif row == \"HAWAII\":\n",
    "        states.append(\"HAWAII\")\n",
    "    elif row == \"PUERTO RICO\":\n",
    "        states.append(\"PUERTO RICO\")\n",
    "    elif row == \"NORTHERN MARIANA ISLANDS\":\n",
    "        states.append(\"NORTHERN MARIANA ISLANDS\")\n",
    "    elif row == \"VIRGIN ISLANDS\":\n",
    "        states.append(\"VIRGIN ISLANDS\")\n",
    "    elif row == \"GUAM\":\n",
    "        states.append(\"GUAM\")\n",
    "    else:\n",
    "        states.append(\"UNKNOWN\")\n",
    "        \n",
    "data4['EMPLOYER_STATES'] = states"
   ]
  },
  {
   "cell_type": "code",
   "execution_count": 12,
   "metadata": {},
   "outputs": [
    {
     "data": {
      "text/plain": [
       "CALIFORNIA                  4111\n",
       "NEW YORK                    1166\n",
       "GEORGIA                     1011\n",
       "TEXAS                        876\n",
       "NEW JERSEY                   718\n",
       "ALABAMA                      621\n",
       "NORTH CAROLINA               621\n",
       "VIRGINIA                     526\n",
       "ILLINOIS                     433\n",
       "WISCONSIN                    366\n",
       "OHIO                         349\n",
       "ARKANSAS                     316\n",
       "MISSOURI                     289\n",
       "WASHINGTON                   270\n",
       "PENNSYLVANIA                 215\n",
       "MICHIGAN                     212\n",
       "MARYLAND                     177\n",
       "FLORIDA                      143\n",
       "MASSACHUSETTS                129\n",
       "MISSISSIPPI                  112\n",
       "SOUTH CAROLINA               110\n",
       "ARIZONA                      100\n",
       "TENNESSEE                     83\n",
       "INDIANA                       78\n",
       "MINNESOTA                     75\n",
       "CONNECTICUT                   67\n",
       "UTAH                          61\n",
       "NEVADA                        60\n",
       "COLORADO                      58\n",
       "OREGON                        55\n",
       "HAWAII                        53\n",
       "LOUISIANA                     52\n",
       "DISTRICT OF COLUMBIA          51\n",
       "DELAWARE                      29\n",
       "KENTUCKY                      28\n",
       "OKLAHOMA                      27\n",
       "SOUTH DAKOTA                  22\n",
       "IOWA                          21\n",
       "ALASKA                        21\n",
       "KANSAS                        19\n",
       "GUAM                          17\n",
       "NEBRASKA                      16\n",
       "IDAHO                         15\n",
       "NEW MEXICO                    12\n",
       "NORTH DAKOTA                   8\n",
       "WEST VIRGINIA                  8\n",
       "RHODE ISLAND                   7\n",
       "NORTHERN MARIANA ISLANDS       7\n",
       "NEW HAMPSHIRE                  4\n",
       "MAINE                          3\n",
       "VERMONT                        1\n",
       "MONTANA                        1\n",
       "Name: EMPLOYER_STATES, dtype: int64"
      ]
     },
     "execution_count": 12,
     "metadata": {},
     "output_type": "execute_result"
    }
   ],
   "source": [
    "data4['EMPLOYER_STATES'].value_counts()"
   ]
  },
  {
   "cell_type": "code",
   "execution_count": 13,
   "metadata": {},
   "outputs": [],
   "source": [
    "data5 = data4.dropna(how='any')"
   ]
  },
  {
   "cell_type": "code",
   "execution_count": 14,
   "metadata": {},
   "outputs": [
    {
     "data": {
      "text/html": [
       "<div>\n",
       "<style scoped>\n",
       "    .dataframe tbody tr th:only-of-type {\n",
       "        vertical-align: middle;\n",
       "    }\n",
       "\n",
       "    .dataframe tbody tr th {\n",
       "        vertical-align: top;\n",
       "    }\n",
       "\n",
       "    .dataframe thead th {\n",
       "        text-align: right;\n",
       "    }\n",
       "</style>\n",
       "<table border=\"1\" class=\"dataframe\">\n",
       "  <thead>\n",
       "    <tr style=\"text-align: right;\">\n",
       "      <th></th>\n",
       "      <th>CASE_STATUS</th>\n",
       "      <th>DECISION_ELAPSED_DAYS</th>\n",
       "      <th>EMPLOYER_POSTAL_CODE</th>\n",
       "      <th>EMPLOYER_STATE</th>\n",
       "      <th>EMPLOYER_NUM_EMPLOYEES</th>\n",
       "      <th>WAGE_OFFER_FROM_9089</th>\n",
       "      <th>COUNTRY_OF_CITIZENSHIP</th>\n",
       "      <th>CLASS_OF_ADMISSION</th>\n",
       "      <th>FOREIGN_WORKER_INFO_EDUCATION</th>\n",
       "      <th>CASE_RECEIVED_DATE_MONTH</th>\n",
       "      <th>EMPLOYER_STATES</th>\n",
       "    </tr>\n",
       "  </thead>\n",
       "  <tbody>\n",
       "    <tr>\n",
       "      <th>11</th>\n",
       "      <td>Certified</td>\n",
       "      <td>201</td>\n",
       "      <td>06450</td>\n",
       "      <td>CONNECTICUT</td>\n",
       "      <td>5.0</td>\n",
       "      <td>47133.0</td>\n",
       "      <td>SOUTH KOREA</td>\n",
       "      <td>Not in USA</td>\n",
       "      <td>Bachelor's</td>\n",
       "      <td>2.0</td>\n",
       "      <td>CONNECTICUT</td>\n",
       "    </tr>\n",
       "    <tr>\n",
       "      <th>79</th>\n",
       "      <td>Certified</td>\n",
       "      <td>555</td>\n",
       "      <td>75205</td>\n",
       "      <td>TEXAS</td>\n",
       "      <td>5.0</td>\n",
       "      <td>48693.0</td>\n",
       "      <td>SOUTH KOREA</td>\n",
       "      <td>B-2</td>\n",
       "      <td>Associate's</td>\n",
       "      <td>10.0</td>\n",
       "      <td>TEXAS</td>\n",
       "    </tr>\n",
       "    <tr>\n",
       "      <th>95</th>\n",
       "      <td>Certified</td>\n",
       "      <td>565</td>\n",
       "      <td>90638</td>\n",
       "      <td>CALIFORNIA</td>\n",
       "      <td>3.0</td>\n",
       "      <td>63963.0</td>\n",
       "      <td>SOUTH KOREA</td>\n",
       "      <td>F-1</td>\n",
       "      <td>Master's</td>\n",
       "      <td>11.0</td>\n",
       "      <td>CALIFORNIA</td>\n",
       "    </tr>\n",
       "    <tr>\n",
       "      <th>96</th>\n",
       "      <td>Certified</td>\n",
       "      <td>586</td>\n",
       "      <td>90503</td>\n",
       "      <td>CALIFORNIA</td>\n",
       "      <td>5.0</td>\n",
       "      <td>99570.0</td>\n",
       "      <td>SOUTH KOREA</td>\n",
       "      <td>F-1</td>\n",
       "      <td>None</td>\n",
       "      <td>10.0</td>\n",
       "      <td>CALIFORNIA</td>\n",
       "    </tr>\n",
       "    <tr>\n",
       "      <th>101</th>\n",
       "      <td>Certified</td>\n",
       "      <td>788</td>\n",
       "      <td>31833</td>\n",
       "      <td>GEORGIA</td>\n",
       "      <td>8.0</td>\n",
       "      <td>62000.0</td>\n",
       "      <td>SOUTH KOREA</td>\n",
       "      <td>E-2</td>\n",
       "      <td>High School</td>\n",
       "      <td>5.0</td>\n",
       "      <td>GEORGIA</td>\n",
       "    </tr>\n",
       "  </tbody>\n",
       "</table>\n",
       "</div>"
      ],
      "text/plain": [
       "    CASE_STATUS  DECISION_ELAPSED_DAYS EMPLOYER_POSTAL_CODE EMPLOYER_STATE  \\\n",
       "11    Certified                    201                06450    CONNECTICUT   \n",
       "79    Certified                    555                75205          TEXAS   \n",
       "95    Certified                    565                90638     CALIFORNIA   \n",
       "96    Certified                    586                90503     CALIFORNIA   \n",
       "101   Certified                    788                31833        GEORGIA   \n",
       "\n",
       "     EMPLOYER_NUM_EMPLOYEES  WAGE_OFFER_FROM_9089 COUNTRY_OF_CITIZENSHIP  \\\n",
       "11                      5.0               47133.0            SOUTH KOREA   \n",
       "79                      5.0               48693.0            SOUTH KOREA   \n",
       "95                      3.0               63963.0            SOUTH KOREA   \n",
       "96                      5.0               99570.0            SOUTH KOREA   \n",
       "101                     8.0               62000.0            SOUTH KOREA   \n",
       "\n",
       "    CLASS_OF_ADMISSION FOREIGN_WORKER_INFO_EDUCATION  \\\n",
       "11          Not in USA                    Bachelor's   \n",
       "79                 B-2                   Associate's   \n",
       "95                 F-1                      Master's   \n",
       "96                 F-1                          None   \n",
       "101                E-2                   High School   \n",
       "\n",
       "     CASE_RECEIVED_DATE_MONTH EMPLOYER_STATES  \n",
       "11                        2.0     CONNECTICUT  \n",
       "79                       10.0           TEXAS  \n",
       "95                       11.0      CALIFORNIA  \n",
       "96                       10.0      CALIFORNIA  \n",
       "101                       5.0         GEORGIA  "
      ]
     },
     "execution_count": 14,
     "metadata": {},
     "output_type": "execute_result"
    }
   ],
   "source": [
    "data5.head()"
   ]
  },
  {
   "cell_type": "code",
   "execution_count": 15,
   "metadata": {},
   "outputs": [
    {
     "name": "stderr",
     "output_type": "stream",
     "text": [
      "/anaconda3/envs/PythonData/lib/python3.6/site-packages/ipykernel_launcher.py:119: SettingWithCopyWarning: \n",
      "A value is trying to be set on a copy of a slice from a DataFrame.\n",
      "Try using .loc[row_indexer,col_indexer] = value instead\n",
      "\n",
      "See the caveats in the documentation: http://pandas.pydata.org/pandas-docs/stable/indexing.html#indexing-view-versus-copy\n"
     ]
    }
   ],
   "source": [
    "states = []\n",
    "\n",
    "for row in data5['EMPLOYER_STATES']:\n",
    "    if row == \"MAINE\":\n",
    "        states.append(\"NORTHEAST\")\n",
    "    elif row == \"NEW HAMPSHIRE\":\n",
    "        states.append(\"NORTHEAST\")\n",
    "    elif row == \"VERMONT\":\n",
    "        states.append(\"NORTHEAST\")\n",
    "    elif row == \"MASSACHUSETTS\":\n",
    "        states.append(\"NORTHEAST\")\n",
    "    elif row == \"RHODE ISLAND\":\n",
    "        states.append(\"NORTHEAST\")\n",
    "    elif row == \"CONNECTICUT\":\n",
    "        states.append(\"NORTHEAST\")\n",
    "    elif row == \"NEW YORK\":\n",
    "        states.append(\"NORTHEAST\")\n",
    "    elif row == \"NEW JERSEY\":\n",
    "        states.append(\"NORTHEAST\")\n",
    "    elif row == \"PENNSYLVANIA\":\n",
    "        states.append(\"NORTHEAST\")\n",
    "    elif row == \"DELAWARE\":\n",
    "        states.append(\"SOUTH\")\n",
    "    elif row == \"MARYLAND\":\n",
    "        states.append(\"SOUTH\")\n",
    "    elif row == \"DISTRICT OF COLUMBIA\":\n",
    "        states.append(\"SOUTH\")\n",
    "    elif row == \"VIRGINIA\":\n",
    "        states.append(\"SOUTH\")\n",
    "    elif row == \"WEST VIRGINIA\":\n",
    "        states.append(\"SOUTH\")\n",
    "    elif row == \"NORTH CAROLINA\":\n",
    "        states.append(\"SOUTH\")\n",
    "    elif row == \"SOUTH CAROLINA\":\n",
    "        states.append(\"SOUTH\")\n",
    "    elif row == \"GEORGIA\":\n",
    "        states.append(\"SOUTH\")\n",
    "    elif row == \"FLORIDA\":\n",
    "        states.append(\"SOUTH\")\n",
    "    elif row == \"ALABAMA\":\n",
    "        states.append(\"SOUTH\")\n",
    "    elif row == \"TENNESSE\":\n",
    "        states.append(\"SOUTH\")\n",
    "    elif row == \"KENTUCKY\":\n",
    "        states.append(\"SOUTH\")\n",
    "    elif row == \"OHIO\":\n",
    "        states.append(\"MIDWEST\")\n",
    "    elif row == \"MICHIGAN\":\n",
    "        states.append(\"MIDWEST\")\n",
    "    elif row == \"INDIANA\":\n",
    "        states.append(\"MIDWEST\")\n",
    "    elif row == \"MISSISSIPPI\":\n",
    "        states.append(\"SOUTH\")\n",
    "    elif row == \"ILLINOIS\":\n",
    "        states.append(\"MIDWEST\")\n",
    "    elif row == \"WISCONSIN\":\n",
    "        states.append(\"MIDWEST\")\n",
    "    elif row == \"MINNESOTA\":\n",
    "        states.append(\"MIDWEST\")\n",
    "    elif row == \"IOWA\":\n",
    "        states.append(\"MIDWEST\")\n",
    "    elif row == \"MISSOURI\":\n",
    "        states.append(\"MIDWEST\")\n",
    "    elif row == \"ARKANSAS\":\n",
    "        states.append(\"SOUTH\")\n",
    "    elif row == \"LOUISIANA\":\n",
    "        states.append(\"SOUTH\")\n",
    "    elif row == \"NORTH DAKOTA\":\n",
    "        states.append(\"MIDWEST\")\n",
    "    elif row == \"SOUTH DAKOTA\":\n",
    "        states.append(\"MIDWEST\")\n",
    "    elif row == \"NEBRASKA\":\n",
    "        states.append(\"MIDWEST\")\n",
    "    elif row == \"KANSAS\":\n",
    "        states.append(\"MIDWEST\")\n",
    "    elif row == \"OKLAHOMA\":\n",
    "        states.append(\"SOUTH\")\n",
    "    elif row == \"TEXAS\":\n",
    "        states.append(\"SOUTH\")\n",
    "    elif row == \"MONTANA\":\n",
    "        states.append(\"WEST\")\n",
    "    elif row == \"WYOMING\":\n",
    "        states.append(\"WEST\")\n",
    "    elif row == \"COLORADO\":\n",
    "        states.append(\"WEST\")\n",
    "    elif row == \"NEW MEXICO\":\n",
    "        states.append(\"WEST\")\n",
    "    elif row == \"IDAHO\":\n",
    "        states.append(\"WEST\")\n",
    "    elif row == \"UTAH\":\n",
    "        states.append(\"WEST\")\n",
    "    elif row == \"ARIZONA\":\n",
    "        states.append(\"WEST\")\n",
    "    elif row == \"WASHINGTON\":\n",
    "        states.append(\"WEST\")\n",
    "    elif row == \"OREGON\":\n",
    "        states.append(\"WEST\")\n",
    "    elif row == \"NEVADA\":\n",
    "        states.append(\"WEST\")\n",
    "    elif row == \"CALIFORNIA\":\n",
    "        states.append(\"WEST\")\n",
    "    elif row == \"ALASKA\":\n",
    "        states.append(\"WEST\")\n",
    "    elif row == \"HAWAII\":\n",
    "        states.append(\"WEST\")\n",
    "    elif row == \"PUERTO RICO\":\n",
    "        states.append(\"OTHER\")\n",
    "    elif row == \"TENNESSEE\":\n",
    "        states.append(\"SOUTH\")\n",
    "    elif row == \"NORTHERN MARIANA ISLANDS\":\n",
    "        states.append(\"OTHER\")\n",
    "    elif row == \"VIRGIN ISLANDS\":\n",
    "        states.append(\"OTHER\")\n",
    "    elif row == \"GUAM\":\n",
    "        states.append(\"OTHER\")\n",
    "    else:\n",
    "        states.append(\"UNKNOWN\")\n",
    "        \n",
    "data5['EMPLOYER_REGIONS'] = states"
   ]
  },
  {
   "cell_type": "code",
   "execution_count": 16,
   "metadata": {},
   "outputs": [
    {
     "data": {
      "text/plain": [
       "WEST         3930\n",
       "SOUTH        3152\n",
       "NORTHEAST    1969\n",
       "MIDWEST      1033\n",
       "OTHER          17\n",
       "Name: EMPLOYER_REGIONS, dtype: int64"
      ]
     },
     "execution_count": 16,
     "metadata": {},
     "output_type": "execute_result"
    }
   ],
   "source": [
    "data5['EMPLOYER_REGIONS'].value_counts()"
   ]
  },
  {
   "cell_type": "code",
   "execution_count": 17,
   "metadata": {},
   "outputs": [
    {
     "data": {
      "text/plain": [
       "CASE_STATUS                      10101\n",
       "DECISION_ELAPSED_DAYS            10101\n",
       "EMPLOYER_POSTAL_CODE             10101\n",
       "EMPLOYER_STATE                   10101\n",
       "EMPLOYER_NUM_EMPLOYEES           10101\n",
       "WAGE_OFFER_FROM_9089             10101\n",
       "COUNTRY_OF_CITIZENSHIP           10101\n",
       "CLASS_OF_ADMISSION               10101\n",
       "FOREIGN_WORKER_INFO_EDUCATION    10101\n",
       "CASE_RECEIVED_DATE_MONTH         10101\n",
       "EMPLOYER_STATES                  10101\n",
       "EMPLOYER_REGIONS                 10101\n",
       "dtype: int64"
      ]
     },
     "execution_count": 17,
     "metadata": {},
     "output_type": "execute_result"
    }
   ],
   "source": [
    "data5.count()"
   ]
  },
  {
   "cell_type": "code",
   "execution_count": 18,
   "metadata": {},
   "outputs": [
    {
     "name": "stderr",
     "output_type": "stream",
     "text": [
      "/anaconda3/envs/PythonData/lib/python3.6/site-packages/ipykernel_launcher.py:3: SettingWithCopyWarning: \n",
      "A value is trying to be set on a copy of a slice from a DataFrame.\n",
      "Try using .loc[row_indexer,col_indexer] = value instead\n",
      "\n",
      "See the caveats in the documentation: http://pandas.pydata.org/pandas-docs/stable/indexing.html#indexing-view-versus-copy\n",
      "  This is separate from the ipykernel package so we can avoid doing imports until\n"
     ]
    }
   ],
   "source": [
    "data5['DAY_BINS'] = pd.cut(x=data5['DECISION_ELAPSED_DAYS'], \n",
    "                             bins=[0, 90, 180, 365, 3600],\n",
    "                           labels=['0-90', '91-180', '181-365', '366-3600'])"
   ]
  },
  {
   "cell_type": "code",
   "execution_count": 19,
   "metadata": {},
   "outputs": [
    {
     "data": {
      "text/plain": [
       "181-365     3309\n",
       "91-180      3054\n",
       "0-90        2202\n",
       "366-3600    1519\n",
       "Name: DAY_BINS, dtype: int64"
      ]
     },
     "execution_count": 19,
     "metadata": {},
     "output_type": "execute_result"
    }
   ],
   "source": [
    "data5['DAY_BINS'].value_counts()"
   ]
  },
  {
   "cell_type": "code",
   "execution_count": 20,
   "metadata": {},
   "outputs": [
    {
     "name": "stderr",
     "output_type": "stream",
     "text": [
      "/anaconda3/envs/PythonData/lib/python3.6/site-packages/ipykernel_launcher.py:3: SettingWithCopyWarning: \n",
      "A value is trying to be set on a copy of a slice from a DataFrame.\n",
      "Try using .loc[row_indexer,col_indexer] = value instead\n",
      "\n",
      "See the caveats in the documentation: http://pandas.pydata.org/pandas-docs/stable/indexing.html#indexing-view-versus-copy\n",
      "  This is separate from the ipykernel package so we can avoid doing imports until\n"
     ]
    }
   ],
   "source": [
    "data5['WAGE_BINS'] = pd.cut(x=data5['WAGE_OFFER_FROM_9089'], \n",
    "                             bins=[0, 25000, 50000, 75000, 100000, 500000],\n",
    "                           labels=['0-25000', '25001-50000', '50001-75000', '75001-100000', '100000-500000'])"
   ]
  },
  {
   "cell_type": "code",
   "execution_count": 21,
   "metadata": {},
   "outputs": [
    {
     "data": {
      "text/plain": [
       "25001-50000      3349\n",
       "50001-75000      2204\n",
       "0-25000          1990\n",
       "100000-500000    1348\n",
       "75001-100000     1210\n",
       "Name: WAGE_BINS, dtype: int64"
      ]
     },
     "execution_count": 21,
     "metadata": {},
     "output_type": "execute_result"
    }
   ],
   "source": [
    "data5['WAGE_BINS'].value_counts()"
   ]
  },
  {
   "cell_type": "code",
   "execution_count": 22,
   "metadata": {},
   "outputs": [
    {
     "name": "stderr",
     "output_type": "stream",
     "text": [
      "/anaconda3/envs/PythonData/lib/python3.6/site-packages/ipykernel_launcher.py:3: SettingWithCopyWarning: \n",
      "A value is trying to be set on a copy of a slice from a DataFrame.\n",
      "Try using .loc[row_indexer,col_indexer] = value instead\n",
      "\n",
      "See the caveats in the documentation: http://pandas.pydata.org/pandas-docs/stable/indexing.html#indexing-view-versus-copy\n",
      "  This is separate from the ipykernel package so we can avoid doing imports until\n"
     ]
    }
   ],
   "source": [
    "data5['EMPLOYEE_BINS'] = pd.cut(x=data5['EMPLOYER_NUM_EMPLOYEES'], \n",
    "                             bins=[0, 50, 100, 500, 1000, 10000, 1000000000],\n",
    "                           labels=['0-50', '51-100', '101-500', '501-1000', '1001-10000', '10001-1000000000'])"
   ]
  },
  {
   "cell_type": "code",
   "execution_count": 23,
   "metadata": {},
   "outputs": [
    {
     "data": {
      "text/plain": [
       "0-50                5708\n",
       "1001-10000          1429\n",
       "101-500             1103\n",
       "10001-1000000000     849\n",
       "51-100               518\n",
       "501-1000             491\n",
       "Name: EMPLOYEE_BINS, dtype: int64"
      ]
     },
     "execution_count": 23,
     "metadata": {},
     "output_type": "execute_result"
    }
   ],
   "source": [
    "data5['EMPLOYEE_BINS'].value_counts()"
   ]
  },
  {
   "cell_type": "code",
   "execution_count": 24,
   "metadata": {},
   "outputs": [
    {
     "data": {
      "text/plain": [
       "CASE_STATUS                      10101\n",
       "DECISION_ELAPSED_DAYS            10101\n",
       "EMPLOYER_POSTAL_CODE             10101\n",
       "EMPLOYER_STATE                   10101\n",
       "EMPLOYER_NUM_EMPLOYEES           10101\n",
       "WAGE_OFFER_FROM_9089             10101\n",
       "COUNTRY_OF_CITIZENSHIP           10101\n",
       "CLASS_OF_ADMISSION               10101\n",
       "FOREIGN_WORKER_INFO_EDUCATION    10101\n",
       "CASE_RECEIVED_DATE_MONTH         10101\n",
       "EMPLOYER_STATES                  10101\n",
       "EMPLOYER_REGIONS                 10101\n",
       "DAY_BINS                         10084\n",
       "WAGE_BINS                        10101\n",
       "EMPLOYEE_BINS                    10098\n",
       "dtype: int64"
      ]
     },
     "execution_count": 24,
     "metadata": {},
     "output_type": "execute_result"
    }
   ],
   "source": [
    "data5.count()"
   ]
  },
  {
   "cell_type": "code",
   "execution_count": 25,
   "metadata": {},
   "outputs": [],
   "source": [
    "data6 = data5[[\n",
    "    'CASE_STATUS',\n",
    "    'EMPLOYEE_BINS',\n",
    "    'WAGE_BINS',\n",
    "    'EMPLOYER_REGIONS',\n",
    "    'CASE_RECEIVED_DATE_MONTH',\n",
    "    'FOREIGN_WORKER_INFO_EDUCATION',\n",
    "    'CLASS_OF_ADMISSION',\n",
    "    'DAY_BINS'\n",
    "]]"
   ]
  },
  {
   "cell_type": "code",
   "execution_count": 26,
   "metadata": {},
   "outputs": [
    {
     "data": {
      "text/html": [
       "<div>\n",
       "<style scoped>\n",
       "    .dataframe tbody tr th:only-of-type {\n",
       "        vertical-align: middle;\n",
       "    }\n",
       "\n",
       "    .dataframe tbody tr th {\n",
       "        vertical-align: top;\n",
       "    }\n",
       "\n",
       "    .dataframe thead th {\n",
       "        text-align: right;\n",
       "    }\n",
       "</style>\n",
       "<table border=\"1\" class=\"dataframe\">\n",
       "  <thead>\n",
       "    <tr style=\"text-align: right;\">\n",
       "      <th></th>\n",
       "      <th>CASE_STATUS</th>\n",
       "      <th>EMPLOYEE_BINS</th>\n",
       "      <th>WAGE_BINS</th>\n",
       "      <th>EMPLOYER_REGIONS</th>\n",
       "      <th>CASE_RECEIVED_DATE_MONTH</th>\n",
       "      <th>FOREIGN_WORKER_INFO_EDUCATION</th>\n",
       "      <th>CLASS_OF_ADMISSION</th>\n",
       "      <th>DAY_BINS</th>\n",
       "    </tr>\n",
       "  </thead>\n",
       "  <tbody>\n",
       "    <tr>\n",
       "      <th>11</th>\n",
       "      <td>Certified</td>\n",
       "      <td>0-50</td>\n",
       "      <td>25001-50000</td>\n",
       "      <td>NORTHEAST</td>\n",
       "      <td>2.0</td>\n",
       "      <td>Bachelor's</td>\n",
       "      <td>Not in USA</td>\n",
       "      <td>181-365</td>\n",
       "    </tr>\n",
       "    <tr>\n",
       "      <th>79</th>\n",
       "      <td>Certified</td>\n",
       "      <td>0-50</td>\n",
       "      <td>25001-50000</td>\n",
       "      <td>SOUTH</td>\n",
       "      <td>10.0</td>\n",
       "      <td>Associate's</td>\n",
       "      <td>B-2</td>\n",
       "      <td>366-3600</td>\n",
       "    </tr>\n",
       "    <tr>\n",
       "      <th>95</th>\n",
       "      <td>Certified</td>\n",
       "      <td>0-50</td>\n",
       "      <td>50001-75000</td>\n",
       "      <td>WEST</td>\n",
       "      <td>11.0</td>\n",
       "      <td>Master's</td>\n",
       "      <td>F-1</td>\n",
       "      <td>366-3600</td>\n",
       "    </tr>\n",
       "    <tr>\n",
       "      <th>96</th>\n",
       "      <td>Certified</td>\n",
       "      <td>0-50</td>\n",
       "      <td>75001-100000</td>\n",
       "      <td>WEST</td>\n",
       "      <td>10.0</td>\n",
       "      <td>None</td>\n",
       "      <td>F-1</td>\n",
       "      <td>366-3600</td>\n",
       "    </tr>\n",
       "    <tr>\n",
       "      <th>101</th>\n",
       "      <td>Certified</td>\n",
       "      <td>0-50</td>\n",
       "      <td>50001-75000</td>\n",
       "      <td>SOUTH</td>\n",
       "      <td>5.0</td>\n",
       "      <td>High School</td>\n",
       "      <td>E-2</td>\n",
       "      <td>366-3600</td>\n",
       "    </tr>\n",
       "  </tbody>\n",
       "</table>\n",
       "</div>"
      ],
      "text/plain": [
       "    CASE_STATUS EMPLOYEE_BINS     WAGE_BINS EMPLOYER_REGIONS  \\\n",
       "11    Certified          0-50   25001-50000        NORTHEAST   \n",
       "79    Certified          0-50   25001-50000            SOUTH   \n",
       "95    Certified          0-50   50001-75000             WEST   \n",
       "96    Certified          0-50  75001-100000             WEST   \n",
       "101   Certified          0-50   50001-75000            SOUTH   \n",
       "\n",
       "     CASE_RECEIVED_DATE_MONTH FOREIGN_WORKER_INFO_EDUCATION  \\\n",
       "11                        2.0                    Bachelor's   \n",
       "79                       10.0                   Associate's   \n",
       "95                       11.0                      Master's   \n",
       "96                       10.0                          None   \n",
       "101                       5.0                   High School   \n",
       "\n",
       "    CLASS_OF_ADMISSION  DAY_BINS  \n",
       "11          Not in USA   181-365  \n",
       "79                 B-2  366-3600  \n",
       "95                 F-1  366-3600  \n",
       "96                 F-1  366-3600  \n",
       "101                E-2  366-3600  "
      ]
     },
     "execution_count": 26,
     "metadata": {},
     "output_type": "execute_result"
    }
   ],
   "source": [
    "data6.head()"
   ]
  },
  {
   "cell_type": "code",
   "execution_count": 27,
   "metadata": {},
   "outputs": [
    {
     "data": {
      "text/plain": [
       "CASE_STATUS                        object\n",
       "EMPLOYEE_BINS                    category\n",
       "WAGE_BINS                        category\n",
       "EMPLOYER_REGIONS                   object\n",
       "CASE_RECEIVED_DATE_MONTH          float64\n",
       "FOREIGN_WORKER_INFO_EDUCATION      object\n",
       "CLASS_OF_ADMISSION                 object\n",
       "DAY_BINS                         category\n",
       "dtype: object"
      ]
     },
     "execution_count": 27,
     "metadata": {},
     "output_type": "execute_result"
    }
   ],
   "source": [
    "data6.dtypes"
   ]
  },
  {
   "cell_type": "code",
   "execution_count": 28,
   "metadata": {},
   "outputs": [],
   "source": [
    "from sklearn.preprocessing import LabelEncoder\n",
    "num_encode = LabelEncoder()"
   ]
  },
  {
   "cell_type": "code",
   "execution_count": 29,
   "metadata": {},
   "outputs": [
    {
     "name": "stderr",
     "output_type": "stream",
     "text": [
      "/anaconda3/envs/PythonData/lib/python3.6/site-packages/ipykernel_launcher.py:1: SettingWithCopyWarning: \n",
      "A value is trying to be set on a copy of a slice from a DataFrame.\n",
      "Try using .loc[row_indexer,col_indexer] = value instead\n",
      "\n",
      "See the caveats in the documentation: http://pandas.pydata.org/pandas-docs/stable/indexing.html#indexing-view-versus-copy\n",
      "  \"\"\"Entry point for launching an IPython kernel.\n"
     ]
    }
   ],
   "source": [
    "data6['CLASS_OF_ADMISSION_CODE'] = num_encode.fit_transform(data6['CLASS_OF_ADMISSION'])"
   ]
  },
  {
   "cell_type": "code",
   "execution_count": 30,
   "metadata": {},
   "outputs": [
    {
     "name": "stderr",
     "output_type": "stream",
     "text": [
      "/anaconda3/envs/PythonData/lib/python3.6/site-packages/ipykernel_launcher.py:1: SettingWithCopyWarning: \n",
      "A value is trying to be set on a copy of a slice from a DataFrame.\n",
      "Try using .loc[row_indexer,col_indexer] = value instead\n",
      "\n",
      "See the caveats in the documentation: http://pandas.pydata.org/pandas-docs/stable/indexing.html#indexing-view-versus-copy\n",
      "  \"\"\"Entry point for launching an IPython kernel.\n"
     ]
    }
   ],
   "source": [
    "data6['FOREIGN_WORKER_INFO_EDUCATION_CODE'] = num_encode.fit_transform(data6['FOREIGN_WORKER_INFO_EDUCATION'])"
   ]
  },
  {
   "cell_type": "code",
   "execution_count": 31,
   "metadata": {},
   "outputs": [
    {
     "name": "stderr",
     "output_type": "stream",
     "text": [
      "/anaconda3/envs/PythonData/lib/python3.6/site-packages/ipykernel_launcher.py:1: SettingWithCopyWarning: \n",
      "A value is trying to be set on a copy of a slice from a DataFrame.\n",
      "Try using .loc[row_indexer,col_indexer] = value instead\n",
      "\n",
      "See the caveats in the documentation: http://pandas.pydata.org/pandas-docs/stable/indexing.html#indexing-view-versus-copy\n",
      "  \"\"\"Entry point for launching an IPython kernel.\n"
     ]
    }
   ],
   "source": [
    "data6['WAGE_BINS'] = data6['WAGE_BINS'].astype(str)"
   ]
  },
  {
   "cell_type": "code",
   "execution_count": 32,
   "metadata": {},
   "outputs": [
    {
     "name": "stderr",
     "output_type": "stream",
     "text": [
      "/anaconda3/envs/PythonData/lib/python3.6/site-packages/ipykernel_launcher.py:1: SettingWithCopyWarning: \n",
      "A value is trying to be set on a copy of a slice from a DataFrame.\n",
      "Try using .loc[row_indexer,col_indexer] = value instead\n",
      "\n",
      "See the caveats in the documentation: http://pandas.pydata.org/pandas-docs/stable/indexing.html#indexing-view-versus-copy\n",
      "  \"\"\"Entry point for launching an IPython kernel.\n"
     ]
    }
   ],
   "source": [
    "data6['WAGE_BINS_CODE'] = num_encode.fit_transform(data6['WAGE_BINS'])"
   ]
  },
  {
   "cell_type": "code",
   "execution_count": 33,
   "metadata": {},
   "outputs": [
    {
     "name": "stderr",
     "output_type": "stream",
     "text": [
      "/anaconda3/envs/PythonData/lib/python3.6/site-packages/ipykernel_launcher.py:1: SettingWithCopyWarning: \n",
      "A value is trying to be set on a copy of a slice from a DataFrame.\n",
      "Try using .loc[row_indexer,col_indexer] = value instead\n",
      "\n",
      "See the caveats in the documentation: http://pandas.pydata.org/pandas-docs/stable/indexing.html#indexing-view-versus-copy\n",
      "  \"\"\"Entry point for launching an IPython kernel.\n"
     ]
    }
   ],
   "source": [
    "data6['EMPLOYER_REGIONS_CODE'] = num_encode.fit_transform(data6['EMPLOYER_REGIONS'])"
   ]
  },
  {
   "cell_type": "code",
   "execution_count": 34,
   "metadata": {},
   "outputs": [
    {
     "name": "stderr",
     "output_type": "stream",
     "text": [
      "/anaconda3/envs/PythonData/lib/python3.6/site-packages/ipykernel_launcher.py:1: SettingWithCopyWarning: \n",
      "A value is trying to be set on a copy of a slice from a DataFrame.\n",
      "Try using .loc[row_indexer,col_indexer] = value instead\n",
      "\n",
      "See the caveats in the documentation: http://pandas.pydata.org/pandas-docs/stable/indexing.html#indexing-view-versus-copy\n",
      "  \"\"\"Entry point for launching an IPython kernel.\n"
     ]
    }
   ],
   "source": [
    "data6['DAY_BINS'] = data6['DAY_BINS'].astype(str)"
   ]
  },
  {
   "cell_type": "code",
   "execution_count": 35,
   "metadata": {},
   "outputs": [
    {
     "name": "stderr",
     "output_type": "stream",
     "text": [
      "/anaconda3/envs/PythonData/lib/python3.6/site-packages/ipykernel_launcher.py:1: SettingWithCopyWarning: \n",
      "A value is trying to be set on a copy of a slice from a DataFrame.\n",
      "Try using .loc[row_indexer,col_indexer] = value instead\n",
      "\n",
      "See the caveats in the documentation: http://pandas.pydata.org/pandas-docs/stable/indexing.html#indexing-view-versus-copy\n",
      "  \"\"\"Entry point for launching an IPython kernel.\n"
     ]
    }
   ],
   "source": [
    "data6['DAY_BINS_CODE'] = num_encode.fit_transform(data6['DAY_BINS'])"
   ]
  },
  {
   "cell_type": "code",
   "execution_count": 36,
   "metadata": {},
   "outputs": [
    {
     "name": "stderr",
     "output_type": "stream",
     "text": [
      "/anaconda3/envs/PythonData/lib/python3.6/site-packages/ipykernel_launcher.py:1: SettingWithCopyWarning: \n",
      "A value is trying to be set on a copy of a slice from a DataFrame.\n",
      "Try using .loc[row_indexer,col_indexer] = value instead\n",
      "\n",
      "See the caveats in the documentation: http://pandas.pydata.org/pandas-docs/stable/indexing.html#indexing-view-versus-copy\n",
      "  \"\"\"Entry point for launching an IPython kernel.\n"
     ]
    }
   ],
   "source": [
    "data6['EMPLOYEE_BINS'] = data6['EMPLOYEE_BINS'].astype(str)"
   ]
  },
  {
   "cell_type": "code",
   "execution_count": 37,
   "metadata": {},
   "outputs": [
    {
     "name": "stderr",
     "output_type": "stream",
     "text": [
      "/anaconda3/envs/PythonData/lib/python3.6/site-packages/ipykernel_launcher.py:1: SettingWithCopyWarning: \n",
      "A value is trying to be set on a copy of a slice from a DataFrame.\n",
      "Try using .loc[row_indexer,col_indexer] = value instead\n",
      "\n",
      "See the caveats in the documentation: http://pandas.pydata.org/pandas-docs/stable/indexing.html#indexing-view-versus-copy\n",
      "  \"\"\"Entry point for launching an IPython kernel.\n"
     ]
    }
   ],
   "source": [
    "data6['EMPLOYEE_BINS_CODE'] = num_encode.fit_transform(data6['EMPLOYEE_BINS'])"
   ]
  },
  {
   "cell_type": "code",
   "execution_count": 38,
   "metadata": {},
   "outputs": [
    {
     "data": {
      "text/html": [
       "<div>\n",
       "<style scoped>\n",
       "    .dataframe tbody tr th:only-of-type {\n",
       "        vertical-align: middle;\n",
       "    }\n",
       "\n",
       "    .dataframe tbody tr th {\n",
       "        vertical-align: top;\n",
       "    }\n",
       "\n",
       "    .dataframe thead th {\n",
       "        text-align: right;\n",
       "    }\n",
       "</style>\n",
       "<table border=\"1\" class=\"dataframe\">\n",
       "  <thead>\n",
       "    <tr style=\"text-align: right;\">\n",
       "      <th></th>\n",
       "      <th>CASE_STATUS</th>\n",
       "      <th>EMPLOYEE_BINS</th>\n",
       "      <th>WAGE_BINS</th>\n",
       "      <th>EMPLOYER_REGIONS</th>\n",
       "      <th>CASE_RECEIVED_DATE_MONTH</th>\n",
       "      <th>FOREIGN_WORKER_INFO_EDUCATION</th>\n",
       "      <th>CLASS_OF_ADMISSION</th>\n",
       "      <th>DAY_BINS</th>\n",
       "      <th>CLASS_OF_ADMISSION_CODE</th>\n",
       "      <th>FOREIGN_WORKER_INFO_EDUCATION_CODE</th>\n",
       "      <th>WAGE_BINS_CODE</th>\n",
       "      <th>EMPLOYER_REGIONS_CODE</th>\n",
       "      <th>DAY_BINS_CODE</th>\n",
       "      <th>EMPLOYEE_BINS_CODE</th>\n",
       "    </tr>\n",
       "  </thead>\n",
       "  <tbody>\n",
       "    <tr>\n",
       "      <th>11</th>\n",
       "      <td>Certified</td>\n",
       "      <td>0-50</td>\n",
       "      <td>25001-50000</td>\n",
       "      <td>NORTHEAST</td>\n",
       "      <td>2.0</td>\n",
       "      <td>Bachelor's</td>\n",
       "      <td>Not in USA</td>\n",
       "      <td>181-365</td>\n",
       "      <td>22</td>\n",
       "      <td>1</td>\n",
       "      <td>2</td>\n",
       "      <td>1</td>\n",
       "      <td>1</td>\n",
       "      <td>0</td>\n",
       "    </tr>\n",
       "    <tr>\n",
       "      <th>79</th>\n",
       "      <td>Certified</td>\n",
       "      <td>0-50</td>\n",
       "      <td>25001-50000</td>\n",
       "      <td>SOUTH</td>\n",
       "      <td>10.0</td>\n",
       "      <td>Associate's</td>\n",
       "      <td>B-2</td>\n",
       "      <td>366-3600</td>\n",
       "      <td>2</td>\n",
       "      <td>0</td>\n",
       "      <td>2</td>\n",
       "      <td>3</td>\n",
       "      <td>2</td>\n",
       "      <td>0</td>\n",
       "    </tr>\n",
       "    <tr>\n",
       "      <th>95</th>\n",
       "      <td>Certified</td>\n",
       "      <td>0-50</td>\n",
       "      <td>50001-75000</td>\n",
       "      <td>WEST</td>\n",
       "      <td>11.0</td>\n",
       "      <td>Master's</td>\n",
       "      <td>F-1</td>\n",
       "      <td>366-3600</td>\n",
       "      <td>7</td>\n",
       "      <td>4</td>\n",
       "      <td>3</td>\n",
       "      <td>4</td>\n",
       "      <td>2</td>\n",
       "      <td>0</td>\n",
       "    </tr>\n",
       "    <tr>\n",
       "      <th>96</th>\n",
       "      <td>Certified</td>\n",
       "      <td>0-50</td>\n",
       "      <td>75001-100000</td>\n",
       "      <td>WEST</td>\n",
       "      <td>10.0</td>\n",
       "      <td>None</td>\n",
       "      <td>F-1</td>\n",
       "      <td>366-3600</td>\n",
       "      <td>7</td>\n",
       "      <td>5</td>\n",
       "      <td>4</td>\n",
       "      <td>4</td>\n",
       "      <td>2</td>\n",
       "      <td>0</td>\n",
       "    </tr>\n",
       "    <tr>\n",
       "      <th>101</th>\n",
       "      <td>Certified</td>\n",
       "      <td>0-50</td>\n",
       "      <td>50001-75000</td>\n",
       "      <td>SOUTH</td>\n",
       "      <td>5.0</td>\n",
       "      <td>High School</td>\n",
       "      <td>E-2</td>\n",
       "      <td>366-3600</td>\n",
       "      <td>4</td>\n",
       "      <td>3</td>\n",
       "      <td>3</td>\n",
       "      <td>3</td>\n",
       "      <td>2</td>\n",
       "      <td>0</td>\n",
       "    </tr>\n",
       "  </tbody>\n",
       "</table>\n",
       "</div>"
      ],
      "text/plain": [
       "    CASE_STATUS EMPLOYEE_BINS     WAGE_BINS EMPLOYER_REGIONS  \\\n",
       "11    Certified          0-50   25001-50000        NORTHEAST   \n",
       "79    Certified          0-50   25001-50000            SOUTH   \n",
       "95    Certified          0-50   50001-75000             WEST   \n",
       "96    Certified          0-50  75001-100000             WEST   \n",
       "101   Certified          0-50   50001-75000            SOUTH   \n",
       "\n",
       "     CASE_RECEIVED_DATE_MONTH FOREIGN_WORKER_INFO_EDUCATION  \\\n",
       "11                        2.0                    Bachelor's   \n",
       "79                       10.0                   Associate's   \n",
       "95                       11.0                      Master's   \n",
       "96                       10.0                          None   \n",
       "101                       5.0                   High School   \n",
       "\n",
       "    CLASS_OF_ADMISSION  DAY_BINS  CLASS_OF_ADMISSION_CODE  \\\n",
       "11          Not in USA   181-365                       22   \n",
       "79                 B-2  366-3600                        2   \n",
       "95                 F-1  366-3600                        7   \n",
       "96                 F-1  366-3600                        7   \n",
       "101                E-2  366-3600                        4   \n",
       "\n",
       "     FOREIGN_WORKER_INFO_EDUCATION_CODE  WAGE_BINS_CODE  \\\n",
       "11                                    1               2   \n",
       "79                                    0               2   \n",
       "95                                    4               3   \n",
       "96                                    5               4   \n",
       "101                                   3               3   \n",
       "\n",
       "     EMPLOYER_REGIONS_CODE  DAY_BINS_CODE  EMPLOYEE_BINS_CODE  \n",
       "11                       1              1                   0  \n",
       "79                       3              2                   0  \n",
       "95                       4              2                   0  \n",
       "96                       4              2                   0  \n",
       "101                      3              2                   0  "
      ]
     },
     "execution_count": 38,
     "metadata": {},
     "output_type": "execute_result"
    }
   ],
   "source": [
    "data6.head()"
   ]
  },
  {
   "cell_type": "code",
   "execution_count": 39,
   "metadata": {},
   "outputs": [],
   "source": [
    "# data7.to_excel('../Resources/ML2_Philippenes.xlsx', index = False)"
   ]
  },
  {
   "cell_type": "code",
   "execution_count": 40,
   "metadata": {},
   "outputs": [
    {
     "data": {
      "text/plain": [
       "CASE_STATUS                           10101\n",
       "EMPLOYEE_BINS                         10101\n",
       "WAGE_BINS                             10101\n",
       "EMPLOYER_REGIONS                      10101\n",
       "CASE_RECEIVED_DATE_MONTH              10101\n",
       "FOREIGN_WORKER_INFO_EDUCATION         10101\n",
       "CLASS_OF_ADMISSION                    10101\n",
       "DAY_BINS                              10101\n",
       "CLASS_OF_ADMISSION_CODE               10101\n",
       "FOREIGN_WORKER_INFO_EDUCATION_CODE    10101\n",
       "WAGE_BINS_CODE                        10101\n",
       "EMPLOYER_REGIONS_CODE                 10101\n",
       "DAY_BINS_CODE                         10101\n",
       "EMPLOYEE_BINS_CODE                    10101\n",
       "dtype: int64"
      ]
     },
     "execution_count": 40,
     "metadata": {},
     "output_type": "execute_result"
    }
   ],
   "source": [
    "data6.count()"
   ]
  },
  {
   "cell_type": "code",
   "execution_count": 41,
   "metadata": {},
   "outputs": [],
   "source": [
    "data7 = data6[[\n",
    "    'CASE_STATUS',\n",
    "    'EMPLOYEE_BINS_CODE',\n",
    "    'WAGE_BINS_CODE',\n",
    "    'DAY_BINS_CODE',\n",
    "    'FOREIGN_WORKER_INFO_EDUCATION_CODE',\n",
    "    'CLASS_OF_ADMISSION_CODE',\n",
    "    'CASE_RECEIVED_DATE_MONTH',\n",
    "    'EMPLOYER_REGIONS_CODE'\n",
    "]]"
   ]
  },
  {
   "cell_type": "code",
   "execution_count": 42,
   "metadata": {},
   "outputs": [
    {
     "data": {
      "text/html": [
       "<div>\n",
       "<style scoped>\n",
       "    .dataframe tbody tr th:only-of-type {\n",
       "        vertical-align: middle;\n",
       "    }\n",
       "\n",
       "    .dataframe tbody tr th {\n",
       "        vertical-align: top;\n",
       "    }\n",
       "\n",
       "    .dataframe thead th {\n",
       "        text-align: right;\n",
       "    }\n",
       "</style>\n",
       "<table border=\"1\" class=\"dataframe\">\n",
       "  <thead>\n",
       "    <tr style=\"text-align: right;\">\n",
       "      <th></th>\n",
       "      <th>CASE_STATUS</th>\n",
       "      <th>EMPLOYEE_BINS_CODE</th>\n",
       "      <th>WAGE_BINS_CODE</th>\n",
       "      <th>DAY_BINS_CODE</th>\n",
       "      <th>FOREIGN_WORKER_INFO_EDUCATION_CODE</th>\n",
       "      <th>CLASS_OF_ADMISSION_CODE</th>\n",
       "      <th>CASE_RECEIVED_DATE_MONTH</th>\n",
       "      <th>EMPLOYER_REGIONS_CODE</th>\n",
       "    </tr>\n",
       "  </thead>\n",
       "  <tbody>\n",
       "    <tr>\n",
       "      <th>11</th>\n",
       "      <td>Certified</td>\n",
       "      <td>0</td>\n",
       "      <td>2</td>\n",
       "      <td>1</td>\n",
       "      <td>1</td>\n",
       "      <td>22</td>\n",
       "      <td>2.0</td>\n",
       "      <td>1</td>\n",
       "    </tr>\n",
       "    <tr>\n",
       "      <th>79</th>\n",
       "      <td>Certified</td>\n",
       "      <td>0</td>\n",
       "      <td>2</td>\n",
       "      <td>2</td>\n",
       "      <td>0</td>\n",
       "      <td>2</td>\n",
       "      <td>10.0</td>\n",
       "      <td>3</td>\n",
       "    </tr>\n",
       "    <tr>\n",
       "      <th>95</th>\n",
       "      <td>Certified</td>\n",
       "      <td>0</td>\n",
       "      <td>3</td>\n",
       "      <td>2</td>\n",
       "      <td>4</td>\n",
       "      <td>7</td>\n",
       "      <td>11.0</td>\n",
       "      <td>4</td>\n",
       "    </tr>\n",
       "    <tr>\n",
       "      <th>96</th>\n",
       "      <td>Certified</td>\n",
       "      <td>0</td>\n",
       "      <td>4</td>\n",
       "      <td>2</td>\n",
       "      <td>5</td>\n",
       "      <td>7</td>\n",
       "      <td>10.0</td>\n",
       "      <td>4</td>\n",
       "    </tr>\n",
       "    <tr>\n",
       "      <th>101</th>\n",
       "      <td>Certified</td>\n",
       "      <td>0</td>\n",
       "      <td>3</td>\n",
       "      <td>2</td>\n",
       "      <td>3</td>\n",
       "      <td>4</td>\n",
       "      <td>5.0</td>\n",
       "      <td>3</td>\n",
       "    </tr>\n",
       "  </tbody>\n",
       "</table>\n",
       "</div>"
      ],
      "text/plain": [
       "    CASE_STATUS  EMPLOYEE_BINS_CODE  WAGE_BINS_CODE  DAY_BINS_CODE  \\\n",
       "11    Certified                   0               2              1   \n",
       "79    Certified                   0               2              2   \n",
       "95    Certified                   0               3              2   \n",
       "96    Certified                   0               4              2   \n",
       "101   Certified                   0               3              2   \n",
       "\n",
       "     FOREIGN_WORKER_INFO_EDUCATION_CODE  CLASS_OF_ADMISSION_CODE  \\\n",
       "11                                    1                       22   \n",
       "79                                    0                        2   \n",
       "95                                    4                        7   \n",
       "96                                    5                        7   \n",
       "101                                   3                        4   \n",
       "\n",
       "     CASE_RECEIVED_DATE_MONTH  EMPLOYER_REGIONS_CODE  \n",
       "11                        2.0                      1  \n",
       "79                       10.0                      3  \n",
       "95                       11.0                      4  \n",
       "96                       10.0                      4  \n",
       "101                       5.0                      3  "
      ]
     },
     "execution_count": 42,
     "metadata": {},
     "output_type": "execute_result"
    }
   ],
   "source": [
    "data7.head()"
   ]
  },
  {
   "cell_type": "code",
   "execution_count": 43,
   "metadata": {},
   "outputs": [
    {
     "data": {
      "text/plain": [
       "CASE_STATUS                            object\n",
       "EMPLOYEE_BINS_CODE                      int64\n",
       "WAGE_BINS_CODE                          int64\n",
       "DAY_BINS_CODE                           int64\n",
       "FOREIGN_WORKER_INFO_EDUCATION_CODE      int64\n",
       "CLASS_OF_ADMISSION_CODE                 int64\n",
       "CASE_RECEIVED_DATE_MONTH              float64\n",
       "EMPLOYER_REGIONS_CODE                   int64\n",
       "dtype: object"
      ]
     },
     "execution_count": 43,
     "metadata": {},
     "output_type": "execute_result"
    }
   ],
   "source": [
    "data7.dtypes"
   ]
  },
  {
   "cell_type": "code",
   "execution_count": 44,
   "metadata": {},
   "outputs": [
    {
     "name": "stdout",
     "output_type": "stream",
     "text": [
      "(10101, 7) (10101,)\n"
     ]
    }
   ],
   "source": [
    "X = data7.drop(\"CASE_STATUS\", axis=1)\n",
    "y = data7[\"CASE_STATUS\"]\n",
    "print(X.shape, y.shape)"
   ]
  },
  {
   "cell_type": "code",
   "execution_count": 45,
   "metadata": {},
   "outputs": [],
   "source": [
    "from sklearn.model_selection import train_test_split\n",
    "from sklearn.preprocessing import LabelEncoder, MinMaxScaler\n",
    "from tensorflow.keras.utils import to_categorical"
   ]
  },
  {
   "cell_type": "code",
   "execution_count": 46,
   "metadata": {},
   "outputs": [],
   "source": [
    "X_train, X_test, y_train, y_test = train_test_split(\n",
    "    X, y, random_state=42, stratify=y)"
   ]
  },
  {
   "cell_type": "code",
   "execution_count": 47,
   "metadata": {},
   "outputs": [],
   "source": [
    "X_scaler = MinMaxScaler().fit(X_train)\n",
    "X_train_scaled = X_scaler.transform(X_train)\n",
    "X_test_scaled = X_scaler.transform(X_test)"
   ]
  },
  {
   "cell_type": "code",
   "execution_count": 48,
   "metadata": {},
   "outputs": [],
   "source": [
    "label_encoder = LabelEncoder()\n",
    "label_encoder.fit(y_train)\n",
    "encoded_y_train = label_encoder.transform(y_train)\n",
    "encoded_y_test = label_encoder.transform(y_test)"
   ]
  },
  {
   "cell_type": "code",
   "execution_count": 49,
   "metadata": {},
   "outputs": [],
   "source": [
    "y_train_categorical = to_categorical(encoded_y_train)\n",
    "y_test_categorical = to_categorical(encoded_y_test)"
   ]
  },
  {
   "cell_type": "code",
   "execution_count": 50,
   "metadata": {},
   "outputs": [],
   "source": [
    "from tensorflow.keras.models import Sequential\n",
    "from tensorflow.keras.layers import Dense"
   ]
  },
  {
   "cell_type": "code",
   "execution_count": 51,
   "metadata": {},
   "outputs": [
    {
     "name": "stdout",
     "output_type": "stream",
     "text": [
      "WARNING:tensorflow:From /anaconda3/envs/PythonData/lib/python3.6/site-packages/tensorflow/python/ops/resource_variable_ops.py:435: colocate_with (from tensorflow.python.framework.ops) is deprecated and will be removed in a future version.\n",
      "Instructions for updating:\n",
      "Colocations handled automatically by placer.\n"
     ]
    }
   ],
   "source": [
    "model = Sequential()\n",
    "model.add(Dense(units=100, activation='relu', input_dim=7))\n",
    "model.add(Dense(units=100, activation='relu'))\n",
    "model.add(Dense(units=2, activation='softmax'))"
   ]
  },
  {
   "cell_type": "code",
   "execution_count": 52,
   "metadata": {},
   "outputs": [],
   "source": [
    "model.compile(optimizer='adam',\n",
    "              loss='categorical_crossentropy',\n",
    "              metrics=['accuracy'])"
   ]
  },
  {
   "cell_type": "code",
   "execution_count": 55,
   "metadata": {
    "scrolled": true
   },
   "outputs": [
    {
     "name": "stdout",
     "output_type": "stream",
     "text": [
      "Epoch 1/100\n",
      " - 1s - loss: 0.2066 - acc: 0.9201\n",
      "Epoch 2/100\n",
      " - 1s - loss: 0.2057 - acc: 0.9167\n",
      "Epoch 3/100\n",
      " - 1s - loss: 0.2031 - acc: 0.9187\n",
      "Epoch 4/100\n",
      " - 1s - loss: 0.2065 - acc: 0.9170\n",
      "Epoch 5/100\n",
      " - 1s - loss: 0.2036 - acc: 0.9209\n",
      "Epoch 6/100\n",
      " - 1s - loss: 0.2025 - acc: 0.9189\n",
      "Epoch 7/100\n",
      " - 1s - loss: 0.2015 - acc: 0.9203\n",
      "Epoch 8/100\n",
      " - 1s - loss: 0.2041 - acc: 0.9192\n",
      "Epoch 9/100\n",
      " - 1s - loss: 0.2020 - acc: 0.9216\n",
      "Epoch 10/100\n",
      " - 1s - loss: 0.2036 - acc: 0.9218\n",
      "Epoch 11/100\n",
      " - 1s - loss: 0.2031 - acc: 0.9211\n",
      "Epoch 12/100\n",
      " - 1s - loss: 0.2021 - acc: 0.9187\n",
      "Epoch 13/100\n",
      " - 1s - loss: 0.1991 - acc: 0.9205\n",
      "Epoch 14/100\n",
      " - 1s - loss: 0.2007 - acc: 0.9203\n",
      "Epoch 15/100\n",
      " - 1s - loss: 0.2022 - acc: 0.9185\n",
      "Epoch 16/100\n",
      " - 1s - loss: 0.2017 - acc: 0.9217\n",
      "Epoch 17/100\n",
      " - 1s - loss: 0.1994 - acc: 0.9208\n",
      "Epoch 18/100\n",
      " - 1s - loss: 0.1975 - acc: 0.9221\n",
      "Epoch 19/100\n",
      " - 1s - loss: 0.1994 - acc: 0.9218\n",
      "Epoch 20/100\n",
      " - 1s - loss: 0.1969 - acc: 0.9205\n",
      "Epoch 21/100\n",
      " - 1s - loss: 0.1954 - acc: 0.9222\n",
      "Epoch 22/100\n",
      " - 1s - loss: 0.1974 - acc: 0.9221\n",
      "Epoch 23/100\n",
      " - 1s - loss: 0.1968 - acc: 0.9236\n",
      "Epoch 24/100\n",
      " - 1s - loss: 0.1945 - acc: 0.9221\n",
      "Epoch 25/100\n",
      " - 1s - loss: 0.1949 - acc: 0.9212\n",
      "Epoch 26/100\n",
      " - 1s - loss: 0.1973 - acc: 0.9213\n",
      "Epoch 27/100\n",
      " - 1s - loss: 0.1962 - acc: 0.9236\n",
      "Epoch 28/100\n",
      " - 1s - loss: 0.1923 - acc: 0.9226\n",
      "Epoch 29/100\n",
      " - 1s - loss: 0.1941 - acc: 0.9228\n",
      "Epoch 30/100\n",
      " - 1s - loss: 0.1944 - acc: 0.9226\n",
      "Epoch 31/100\n",
      " - 1s - loss: 0.1936 - acc: 0.9249\n",
      "Epoch 32/100\n",
      " - 1s - loss: 0.1935 - acc: 0.9234\n",
      "Epoch 33/100\n",
      " - 1s - loss: 0.1913 - acc: 0.9234\n",
      "Epoch 34/100\n",
      " - 1s - loss: 0.1905 - acc: 0.9255\n",
      "Epoch 35/100\n",
      " - 1s - loss: 0.1934 - acc: 0.9229\n",
      "Epoch 36/100\n",
      " - 1s - loss: 0.1913 - acc: 0.9212\n",
      "Epoch 37/100\n",
      " - 1s - loss: 0.1902 - acc: 0.9234\n",
      "Epoch 38/100\n",
      " - 1s - loss: 0.1904 - acc: 0.9249\n",
      "Epoch 39/100\n",
      " - 1s - loss: 0.1908 - acc: 0.9217\n",
      "Epoch 40/100\n",
      " - 1s - loss: 0.1917 - acc: 0.9233\n",
      "Epoch 41/100\n",
      " - 1s - loss: 0.1899 - acc: 0.9236\n",
      "Epoch 42/100\n",
      " - 1s - loss: 0.1883 - acc: 0.9240\n",
      "Epoch 43/100\n",
      " - 1s - loss: 0.1902 - acc: 0.9228\n",
      "Epoch 44/100\n",
      " - 1s - loss: 0.1892 - acc: 0.9225\n",
      "Epoch 45/100\n",
      " - 1s - loss: 0.1885 - acc: 0.9240\n",
      "Epoch 46/100\n",
      " - 1s - loss: 0.1898 - acc: 0.9244\n",
      "Epoch 47/100\n",
      " - 1s - loss: 0.1860 - acc: 0.9245\n",
      "Epoch 48/100\n",
      " - 1s - loss: 0.1889 - acc: 0.9246\n",
      "Epoch 49/100\n",
      " - 1s - loss: 0.1852 - acc: 0.9259\n",
      "Epoch 50/100\n",
      " - 1s - loss: 0.1850 - acc: 0.9257\n",
      "Epoch 51/100\n",
      " - 1s - loss: 0.1861 - acc: 0.9255\n",
      "Epoch 52/100\n",
      " - 1s - loss: 0.1834 - acc: 0.9254\n",
      "Epoch 53/100\n",
      " - 1s - loss: 0.1876 - acc: 0.9250\n",
      "Epoch 54/100\n",
      " - 1s - loss: 0.1856 - acc: 0.9257\n",
      "Epoch 55/100\n",
      " - 1s - loss: 0.1859 - acc: 0.9295\n",
      "Epoch 56/100\n",
      " - 1s - loss: 0.1851 - acc: 0.9246\n",
      "Epoch 57/100\n",
      " - 1s - loss: 0.1823 - acc: 0.9273\n",
      "Epoch 58/100\n",
      " - 1s - loss: 0.1851 - acc: 0.9271\n",
      "Epoch 59/100\n",
      " - 1s - loss: 0.1832 - acc: 0.9246\n",
      "Epoch 60/100\n",
      " - 1s - loss: 0.1838 - acc: 0.9265\n",
      "Epoch 61/100\n",
      " - 1s - loss: 0.1820 - acc: 0.9263\n",
      "Epoch 62/100\n",
      " - 1s - loss: 0.1826 - acc: 0.9270\n",
      "Epoch 63/100\n",
      " - 1s - loss: 0.1823 - acc: 0.9278\n",
      "Epoch 64/100\n",
      " - 1s - loss: 0.1836 - acc: 0.9253\n",
      "Epoch 65/100\n",
      " - 1s - loss: 0.1812 - acc: 0.9258\n",
      "Epoch 66/100\n",
      " - 1s - loss: 0.1827 - acc: 0.9267\n",
      "Epoch 67/100\n",
      " - 1s - loss: 0.1809 - acc: 0.9263\n",
      "Epoch 68/100\n",
      " - 1s - loss: 0.1804 - acc: 0.9238\n",
      "Epoch 69/100\n",
      " - 1s - loss: 0.1823 - acc: 0.9270\n",
      "Epoch 70/100\n",
      " - 1s - loss: 0.1810 - acc: 0.9282\n",
      "Epoch 71/100\n",
      " - 1s - loss: 0.1805 - acc: 0.9265\n",
      "Epoch 72/100\n",
      " - 1s - loss: 0.1820 - acc: 0.9275\n",
      "Epoch 73/100\n",
      " - 1s - loss: 0.1844 - acc: 0.9250\n",
      "Epoch 74/100\n",
      " - 1s - loss: 0.1768 - acc: 0.9304\n",
      "Epoch 75/100\n",
      " - 1s - loss: 0.1771 - acc: 0.9286\n",
      "Epoch 76/100\n",
      " - 1s - loss: 0.1777 - acc: 0.9315\n",
      "Epoch 77/100\n",
      " - 1s - loss: 0.1789 - acc: 0.9282\n",
      "Epoch 78/100\n",
      " - 1s - loss: 0.1753 - acc: 0.9288\n",
      "Epoch 79/100\n",
      " - 1s - loss: 0.1804 - acc: 0.9275\n",
      "Epoch 80/100\n",
      " - 1s - loss: 0.1767 - acc: 0.9284\n",
      "Epoch 81/100\n",
      " - 1s - loss: 0.1764 - acc: 0.9310\n",
      "Epoch 82/100\n",
      " - 1s - loss: 0.1764 - acc: 0.9303\n",
      "Epoch 83/100\n",
      " - 1s - loss: 0.1746 - acc: 0.9335\n",
      "Epoch 84/100\n",
      " - 1s - loss: 0.1746 - acc: 0.9295\n",
      "Epoch 85/100\n",
      " - 1s - loss: 0.1777 - acc: 0.9292\n",
      "Epoch 86/100\n",
      " - 1s - loss: 0.1769 - acc: 0.9314\n",
      "Epoch 87/100\n",
      " - 1s - loss: 0.1765 - acc: 0.9284\n",
      "Epoch 88/100\n",
      " - 1s - loss: 0.1734 - acc: 0.9317\n",
      "Epoch 89/100\n",
      " - 1s - loss: 0.1751 - acc: 0.9302\n",
      "Epoch 90/100\n",
      " - 1s - loss: 0.1738 - acc: 0.9300\n",
      "Epoch 91/100\n",
      " - 1s - loss: 0.1744 - acc: 0.9292\n",
      "Epoch 92/100\n",
      " - 1s - loss: 0.1720 - acc: 0.9292\n",
      "Epoch 93/100\n",
      " - 1s - loss: 0.1717 - acc: 0.9300\n",
      "Epoch 94/100\n",
      " - 1s - loss: 0.1730 - acc: 0.9294\n",
      "Epoch 95/100\n",
      " - 1s - loss: 0.1728 - acc: 0.9288\n",
      "Epoch 96/100\n",
      " - 1s - loss: 0.1718 - acc: 0.9303\n",
      "Epoch 97/100\n",
      " - 1s - loss: 0.1745 - acc: 0.9288\n",
      "Epoch 98/100\n",
      " - 1s - loss: 0.1706 - acc: 0.9323\n",
      "Epoch 99/100\n",
      " - 1s - loss: 0.1733 - acc: 0.9304\n",
      "Epoch 100/100\n",
      " - 1s - loss: 0.1733 - acc: 0.9311\n"
     ]
    },
    {
     "data": {
      "text/plain": [
       "<tensorflow.python.keras.callbacks.History at 0x124d11320>"
      ]
     },
     "execution_count": 55,
     "metadata": {},
     "output_type": "execute_result"
    }
   ],
   "source": [
    "model.fit(\n",
    "    X_train_scaled,\n",
    "    y_train_categorical,\n",
    "    epochs=100,\n",
    "    shuffle=True,\n",
    "    verbose=2\n",
    ")"
   ]
  },
  {
   "cell_type": "code",
   "execution_count": 56,
   "metadata": {},
   "outputs": [
    {
     "name": "stdout",
     "output_type": "stream",
     "text": [
      " - 0s - loss: 0.3738 - acc: 0.8812\n",
      "Normal Neural Network - Loss: 0.37382690041006694, Accuracy: 0.8812351822853088\n"
     ]
    }
   ],
   "source": [
    "model_loss, model_accuracy = model.evaluate(\n",
    "    X_test_scaled, y_test_categorical, verbose=2)\n",
    "print(\n",
    "    f\"Normal Neural Network - Loss: {model_loss}, Accuracy: {model_accuracy}\")"
   ]
  },
  {
   "cell_type": "code",
   "execution_count": 57,
   "metadata": {},
   "outputs": [],
   "source": [
    "encoded_predictions = model.predict_classes(X_test_scaled[:10])\n",
    "prediction_labels = label_encoder.inverse_transform(encoded_predictions)"
   ]
  },
  {
   "cell_type": "code",
   "execution_count": 58,
   "metadata": {},
   "outputs": [
    {
     "name": "stdout",
     "output_type": "stream",
     "text": [
      "Predicted classes: ['Certified' 'Certified' 'Certified' 'Certified' 'Certified' 'Certified'\n",
      " 'Certified' 'Certified' 'Certified' 'Certified']\n",
      "Actual Labels: ['Certified', 'Certified', 'Certified', 'Denied', 'Certified', 'Certified', 'Certified', 'Certified', 'Certified', 'Certified']\n"
     ]
    }
   ],
   "source": [
    "print(f\"Predicted classes: {prediction_labels}\")\n",
    "print(f\"Actual Labels: {list(y_test[:10])}\")"
   ]
  },
  {
   "cell_type": "code",
   "execution_count": null,
   "metadata": {},
   "outputs": [],
   "source": []
  }
 ],
 "metadata": {
  "kernelspec": {
   "display_name": "Python 3",
   "language": "python",
   "name": "python3"
  },
  "language_info": {
   "codemirror_mode": {
    "name": "ipython",
    "version": 3
   },
   "file_extension": ".py",
   "mimetype": "text/x-python",
   "name": "python",
   "nbconvert_exporter": "python",
   "pygments_lexer": "ipython3",
   "version": "3.6.8"
  }
 },
 "nbformat": 4,
 "nbformat_minor": 2
}
