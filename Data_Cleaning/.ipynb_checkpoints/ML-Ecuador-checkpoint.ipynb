{
 "cells": [
  {
   "cell_type": "code",
   "execution_count": 67,
   "metadata": {},
   "outputs": [],
   "source": [
    "import pandas as pd\n",
    "import numpy as np"
   ]
  },
  {
   "cell_type": "code",
   "execution_count": 68,
   "metadata": {},
   "outputs": [],
   "source": [
    "data = pd.read_csv('../Resources/certified_denied.csv')"
   ]
  },
  {
   "cell_type": "code",
   "execution_count": 69,
   "metadata": {},
   "outputs": [
    {
     "data": {
      "text/html": [
       "<div>\n",
       "<style scoped>\n",
       "    .dataframe tbody tr th:only-of-type {\n",
       "        vertical-align: middle;\n",
       "    }\n",
       "\n",
       "    .dataframe tbody tr th {\n",
       "        vertical-align: top;\n",
       "    }\n",
       "\n",
       "    .dataframe thead th {\n",
       "        text-align: right;\n",
       "    }\n",
       "</style>\n",
       "<table border=\"1\" class=\"dataframe\">\n",
       "  <thead>\n",
       "    <tr style=\"text-align: right;\">\n",
       "      <th></th>\n",
       "      <th>Unnamed: 0</th>\n",
       "      <th>Unnamed: 1</th>\n",
       "      <th>CASE_NUMBER</th>\n",
       "      <th>DECISION_DATE</th>\n",
       "      <th>CASE_STATUS</th>\n",
       "      <th>CASE_RECEIVED_DATE</th>\n",
       "      <th>DECISION_ELAPSED_DAYS</th>\n",
       "      <th>DECISION_ELAPSED_YEARS</th>\n",
       "      <th>EMPLOYER_NAME</th>\n",
       "      <th>EMPLOYER_CITY</th>\n",
       "      <th>...</th>\n",
       "      <th>FW_INFO_POSTAL_CODE</th>\n",
       "      <th>COUNTRY_OF_CITIZENSHIP</th>\n",
       "      <th>FW_INFO_BIRTH_COUNTRY</th>\n",
       "      <th>CLASS_OF_ADMISSION</th>\n",
       "      <th>FOREIGN_WORKER_INFO_EDUCATION</th>\n",
       "      <th>FW_INFO_EDUCATION_OTHER</th>\n",
       "      <th>DECISION_DATE_YEAR</th>\n",
       "      <th>DECISION_DATE_MONTH</th>\n",
       "      <th>CASE_RECEIVED_DATE_YEAR</th>\n",
       "      <th>CASE_RECEIVED_DATE_MONTH</th>\n",
       "    </tr>\n",
       "  </thead>\n",
       "  <tbody>\n",
       "    <tr>\n",
       "      <th>0</th>\n",
       "      <td>NaN</td>\n",
       "      <td>25</td>\n",
       "      <td>A-14246-03533</td>\n",
       "      <td>2015-06-22</td>\n",
       "      <td>Certified</td>\n",
       "      <td>2014-12-19</td>\n",
       "      <td>185</td>\n",
       "      <td>0.506849</td>\n",
       "      <td>CITRIX SYSTEMS, INC.</td>\n",
       "      <td>FORT LAUDERDALE</td>\n",
       "      <td>...</td>\n",
       "      <td>1973-03-30 00:00:00</td>\n",
       "      <td>CHINA</td>\n",
       "      <td>CHINA</td>\n",
       "      <td>H-1B</td>\n",
       "      <td>Master's</td>\n",
       "      <td>NaN</td>\n",
       "      <td>2015</td>\n",
       "      <td>6</td>\n",
       "      <td>2014.0</td>\n",
       "      <td>12.0</td>\n",
       "    </tr>\n",
       "    <tr>\n",
       "      <th>1</th>\n",
       "      <td>NaN</td>\n",
       "      <td>28</td>\n",
       "      <td>A-14198-89806</td>\n",
       "      <td>2015-04-06</td>\n",
       "      <td>Certified</td>\n",
       "      <td>2014-07-18</td>\n",
       "      <td>262</td>\n",
       "      <td>0.717808</td>\n",
       "      <td>COGNIZANT TECHNOLOGY SOLUTIONS US CORPORATION</td>\n",
       "      <td>COLLEGE STATION</td>\n",
       "      <td>...</td>\n",
       "      <td>75063</td>\n",
       "      <td>INDIA</td>\n",
       "      <td>INDIA</td>\n",
       "      <td>H-1B</td>\n",
       "      <td>Bachelor's</td>\n",
       "      <td>NaN</td>\n",
       "      <td>2015</td>\n",
       "      <td>4</td>\n",
       "      <td>2014.0</td>\n",
       "      <td>7.0</td>\n",
       "    </tr>\n",
       "    <tr>\n",
       "      <th>2</th>\n",
       "      <td>NaN</td>\n",
       "      <td>35</td>\n",
       "      <td>A-14222-96825</td>\n",
       "      <td>2015-06-24</td>\n",
       "      <td>Certified</td>\n",
       "      <td>2014-12-11</td>\n",
       "      <td>195</td>\n",
       "      <td>0.534247</td>\n",
       "      <td>SAT SOLUTIONS LLC</td>\n",
       "      <td>MONROE</td>\n",
       "      <td>...</td>\n",
       "      <td>75001</td>\n",
       "      <td>INDIA</td>\n",
       "      <td>INDIA</td>\n",
       "      <td>H-1B</td>\n",
       "      <td>Bachelor's</td>\n",
       "      <td>NaN</td>\n",
       "      <td>2015</td>\n",
       "      <td>6</td>\n",
       "      <td>2014.0</td>\n",
       "      <td>12.0</td>\n",
       "    </tr>\n",
       "    <tr>\n",
       "      <th>3</th>\n",
       "      <td>NaN</td>\n",
       "      <td>61</td>\n",
       "      <td>A-13216-85505</td>\n",
       "      <td>2015-05-29</td>\n",
       "      <td>Certified</td>\n",
       "      <td>2013-08-05</td>\n",
       "      <td>662</td>\n",
       "      <td>1.813699</td>\n",
       "      <td>KOCH FOODS OF ALABAMA, LLC</td>\n",
       "      <td>MONTGOMERY</td>\n",
       "      <td>...</td>\n",
       "      <td>210001</td>\n",
       "      <td>CHINA</td>\n",
       "      <td>CHINA</td>\n",
       "      <td>NaN</td>\n",
       "      <td>Associate's</td>\n",
       "      <td>NaN</td>\n",
       "      <td>2015</td>\n",
       "      <td>5</td>\n",
       "      <td>2013.0</td>\n",
       "      <td>8.0</td>\n",
       "    </tr>\n",
       "    <tr>\n",
       "      <th>4</th>\n",
       "      <td>NaN</td>\n",
       "      <td>63</td>\n",
       "      <td>A-13179-76467</td>\n",
       "      <td>2015-04-20</td>\n",
       "      <td>Certified</td>\n",
       "      <td>2013-06-28</td>\n",
       "      <td>661</td>\n",
       "      <td>1.810959</td>\n",
       "      <td>FARROKH ERFAN</td>\n",
       "      <td>GAITHERSBURG</td>\n",
       "      <td>...</td>\n",
       "      <td>NaN</td>\n",
       "      <td>IRAN</td>\n",
       "      <td>IRAN</td>\n",
       "      <td>NaN</td>\n",
       "      <td>Bachelor's</td>\n",
       "      <td>NaN</td>\n",
       "      <td>2015</td>\n",
       "      <td>4</td>\n",
       "      <td>2013.0</td>\n",
       "      <td>6.0</td>\n",
       "    </tr>\n",
       "  </tbody>\n",
       "</table>\n",
       "<p>5 rows × 39 columns</p>\n",
       "</div>"
      ],
      "text/plain": [
       "   Unnamed: 0  Unnamed: 1    CASE_NUMBER DECISION_DATE CASE_STATUS  \\\n",
       "0         NaN          25  A-14246-03533    2015-06-22   Certified   \n",
       "1         NaN          28  A-14198-89806    2015-04-06   Certified   \n",
       "2         NaN          35  A-14222-96825    2015-06-24   Certified   \n",
       "3         NaN          61  A-13216-85505    2015-05-29   Certified   \n",
       "4         NaN          63  A-13179-76467    2015-04-20   Certified   \n",
       "\n",
       "  CASE_RECEIVED_DATE  DECISION_ELAPSED_DAYS  DECISION_ELAPSED_YEARS  \\\n",
       "0         2014-12-19                    185                0.506849   \n",
       "1         2014-07-18                    262                0.717808   \n",
       "2         2014-12-11                    195                0.534247   \n",
       "3         2013-08-05                    662                1.813699   \n",
       "4         2013-06-28                    661                1.810959   \n",
       "\n",
       "                                   EMPLOYER_NAME    EMPLOYER_CITY  ...  \\\n",
       "0                           CITRIX SYSTEMS, INC.  FORT LAUDERDALE  ...   \n",
       "1  COGNIZANT TECHNOLOGY SOLUTIONS US CORPORATION  COLLEGE STATION  ...   \n",
       "2                              SAT SOLUTIONS LLC           MONROE  ...   \n",
       "3                     KOCH FOODS OF ALABAMA, LLC       MONTGOMERY  ...   \n",
       "4                                  FARROKH ERFAN     GAITHERSBURG  ...   \n",
       "\n",
       "   FW_INFO_POSTAL_CODE COUNTRY_OF_CITIZENSHIP  FW_INFO_BIRTH_COUNTRY  \\\n",
       "0  1973-03-30 00:00:00                  CHINA                  CHINA   \n",
       "1                75063                  INDIA                  INDIA   \n",
       "2                75001                  INDIA                  INDIA   \n",
       "3               210001                  CHINA                  CHINA   \n",
       "4                  NaN                   IRAN                   IRAN   \n",
       "\n",
       "  CLASS_OF_ADMISSION FOREIGN_WORKER_INFO_EDUCATION FW_INFO_EDUCATION_OTHER  \\\n",
       "0               H-1B                      Master's                     NaN   \n",
       "1               H-1B                    Bachelor's                     NaN   \n",
       "2               H-1B                    Bachelor's                     NaN   \n",
       "3                NaN                   Associate's                     NaN   \n",
       "4                NaN                    Bachelor's                     NaN   \n",
       "\n",
       "  DECISION_DATE_YEAR DECISION_DATE_MONTH  CASE_RECEIVED_DATE_YEAR  \\\n",
       "0               2015                   6                   2014.0   \n",
       "1               2015                   4                   2014.0   \n",
       "2               2015                   6                   2014.0   \n",
       "3               2015                   5                   2013.0   \n",
       "4               2015                   4                   2013.0   \n",
       "\n",
       "   CASE_RECEIVED_DATE_MONTH  \n",
       "0                      12.0  \n",
       "1                       7.0  \n",
       "2                      12.0  \n",
       "3                       8.0  \n",
       "4                       6.0  \n",
       "\n",
       "[5 rows x 39 columns]"
      ]
     },
     "execution_count": 69,
     "metadata": {},
     "output_type": "execute_result"
    }
   ],
   "source": [
    "data.head()"
   ]
  },
  {
   "cell_type": "code",
   "execution_count": 70,
   "metadata": {},
   "outputs": [],
   "source": [
    "data2 = data.loc[data['COUNTRY_OF_CITIZENSHIP'] == 'ECUADOR']"
   ]
  },
  {
   "cell_type": "code",
   "execution_count": 71,
   "metadata": {},
   "outputs": [
    {
     "data": {
      "text/plain": [
       "ECUADOR    548\n",
       "Name: COUNTRY_OF_CITIZENSHIP, dtype: int64"
      ]
     },
     "execution_count": 71,
     "metadata": {},
     "output_type": "execute_result"
    }
   ],
   "source": [
    "data2['COUNTRY_OF_CITIZENSHIP'].value_counts()"
   ]
  },
  {
   "cell_type": "code",
   "execution_count": 72,
   "metadata": {},
   "outputs": [],
   "source": [
    "data3 = data2.loc[data2['WAGE_OFFER_UNIT_OF_PAY_9089'] == 'Year']"
   ]
  },
  {
   "cell_type": "code",
   "execution_count": 73,
   "metadata": {},
   "outputs": [
    {
     "data": {
      "text/plain": [
       "Year    437\n",
       "Name: WAGE_OFFER_UNIT_OF_PAY_9089, dtype: int64"
      ]
     },
     "execution_count": 73,
     "metadata": {},
     "output_type": "execute_result"
    }
   ],
   "source": [
    "data3['WAGE_OFFER_UNIT_OF_PAY_9089'].value_counts()"
   ]
  },
  {
   "cell_type": "code",
   "execution_count": 74,
   "metadata": {},
   "outputs": [
    {
     "data": {
      "text/plain": [
       "Index(['Unnamed: 0', 'Unnamed: 1', 'CASE_NUMBER', 'DECISION_DATE',\n",
       "       'CASE_STATUS', 'CASE_RECEIVED_DATE', 'DECISION_ELAPSED_DAYS',\n",
       "       'DECISION_ELAPSED_YEARS', 'EMPLOYER_NAME', 'EMPLOYER_CITY',\n",
       "       'EMPLOYER_STATE', 'EMPLOYER_POSTAL_CODE', 'EMPLOYER_NUM_EMPLOYEES',\n",
       "       'AGENT_FIRM_NAME', 'AGENT_CITY', 'AGENT_STATE', 'PW_SOC_CODE',\n",
       "       'PW_SOC_TITLE', 'PW_AMOUNT_9089', 'WAGE_OFFER_FROM_9089',\n",
       "       'WAGE_OFFER_UNIT_OF_PAY_9089', 'JOB_INFO_WORK_CITY',\n",
       "       'JOB_INFO_WORK_STATE', 'JOB_INFO_WORK_POSTAL_CODE',\n",
       "       'JOB_INFO_JOB_TITLE', 'JOB_INFO_EDUCATION', 'JOB_INFO_EDUCATION_OTHER',\n",
       "       'FOREIGN_WORKER_INFO_CITY', 'FOREIGN_WORKER_INFO_STATE',\n",
       "       'FW_INFO_POSTAL_CODE', 'COUNTRY_OF_CITIZENSHIP',\n",
       "       'FW_INFO_BIRTH_COUNTRY', 'CLASS_OF_ADMISSION',\n",
       "       'FOREIGN_WORKER_INFO_EDUCATION', 'FW_INFO_EDUCATION_OTHER',\n",
       "       'DECISION_DATE_YEAR', 'DECISION_DATE_MONTH', 'CASE_RECEIVED_DATE_YEAR',\n",
       "       'CASE_RECEIVED_DATE_MONTH'],\n",
       "      dtype='object')"
      ]
     },
     "execution_count": 74,
     "metadata": {},
     "output_type": "execute_result"
    }
   ],
   "source": [
    "data3.columns"
   ]
  },
  {
   "cell_type": "code",
   "execution_count": 75,
   "metadata": {},
   "outputs": [],
   "source": [
    "data4 = data3[[\n",
    "    'CASE_STATUS',\n",
    "    'DECISION_ELAPSED_DAYS',\n",
    "    'EMPLOYER_POSTAL_CODE',\n",
    "    'EMPLOYER_STATE',\n",
    "    'EMPLOYER_NUM_EMPLOYEES',\n",
    "    'WAGE_OFFER_FROM_9089',\n",
    "    'COUNTRY_OF_CITIZENSHIP',\n",
    "    'CLASS_OF_ADMISSION',\n",
    "    'FOREIGN_WORKER_INFO_EDUCATION',\n",
    "    'CASE_RECEIVED_DATE_MONTH'\n",
    "]]"
   ]
  },
  {
   "cell_type": "code",
   "execution_count": 76,
   "metadata": {},
   "outputs": [
    {
     "data": {
      "text/html": [
       "<div>\n",
       "<style scoped>\n",
       "    .dataframe tbody tr th:only-of-type {\n",
       "        vertical-align: middle;\n",
       "    }\n",
       "\n",
       "    .dataframe tbody tr th {\n",
       "        vertical-align: top;\n",
       "    }\n",
       "\n",
       "    .dataframe thead th {\n",
       "        text-align: right;\n",
       "    }\n",
       "</style>\n",
       "<table border=\"1\" class=\"dataframe\">\n",
       "  <thead>\n",
       "    <tr style=\"text-align: right;\">\n",
       "      <th></th>\n",
       "      <th>CASE_STATUS</th>\n",
       "      <th>DECISION_ELAPSED_DAYS</th>\n",
       "      <th>EMPLOYER_POSTAL_CODE</th>\n",
       "      <th>EMPLOYER_STATE</th>\n",
       "      <th>EMPLOYER_NUM_EMPLOYEES</th>\n",
       "      <th>WAGE_OFFER_FROM_9089</th>\n",
       "      <th>COUNTRY_OF_CITIZENSHIP</th>\n",
       "      <th>CLASS_OF_ADMISSION</th>\n",
       "      <th>FOREIGN_WORKER_INFO_EDUCATION</th>\n",
       "      <th>CASE_RECEIVED_DATE_MONTH</th>\n",
       "    </tr>\n",
       "  </thead>\n",
       "  <tbody>\n",
       "    <tr>\n",
       "      <th>89</th>\n",
       "      <td>Certified</td>\n",
       "      <td>555</td>\n",
       "      <td>19102</td>\n",
       "      <td>PENNSYLVANIA</td>\n",
       "      <td>3100.0</td>\n",
       "      <td>169250.0</td>\n",
       "      <td>ECUADOR</td>\n",
       "      <td>H-1B</td>\n",
       "      <td>Bachelor's</td>\n",
       "      <td>11.0</td>\n",
       "    </tr>\n",
       "    <tr>\n",
       "      <th>100</th>\n",
       "      <td>Certified</td>\n",
       "      <td>744</td>\n",
       "      <td>10014</td>\n",
       "      <td>NEW YORK</td>\n",
       "      <td>10.0</td>\n",
       "      <td>40123.0</td>\n",
       "      <td>ECUADOR</td>\n",
       "      <td>EWI</td>\n",
       "      <td>None</td>\n",
       "      <td>7.0</td>\n",
       "    </tr>\n",
       "    <tr>\n",
       "      <th>186</th>\n",
       "      <td>Certified</td>\n",
       "      <td>556</td>\n",
       "      <td>95077</td>\n",
       "      <td>CALIFORNIA</td>\n",
       "      <td>778.0</td>\n",
       "      <td>118331.0</td>\n",
       "      <td>ECUADOR</td>\n",
       "      <td>H-1B</td>\n",
       "      <td>Master's</td>\n",
       "      <td>12.0</td>\n",
       "    </tr>\n",
       "    <tr>\n",
       "      <th>262</th>\n",
       "      <td>Certified</td>\n",
       "      <td>495</td>\n",
       "      <td>10019</td>\n",
       "      <td>NEW YORK</td>\n",
       "      <td>3883.0</td>\n",
       "      <td>180294.0</td>\n",
       "      <td>ECUADOR</td>\n",
       "      <td>H-1B</td>\n",
       "      <td>Bachelor's</td>\n",
       "      <td>3.0</td>\n",
       "    </tr>\n",
       "    <tr>\n",
       "      <th>1953</th>\n",
       "      <td>Certified</td>\n",
       "      <td>176</td>\n",
       "      <td>75063</td>\n",
       "      <td>TEXAS</td>\n",
       "      <td>520.0</td>\n",
       "      <td>80000.0</td>\n",
       "      <td>ECUADOR</td>\n",
       "      <td>H-1B</td>\n",
       "      <td>Master's</td>\n",
       "      <td>11.0</td>\n",
       "    </tr>\n",
       "  </tbody>\n",
       "</table>\n",
       "</div>"
      ],
      "text/plain": [
       "     CASE_STATUS  DECISION_ELAPSED_DAYS EMPLOYER_POSTAL_CODE EMPLOYER_STATE  \\\n",
       "89     Certified                    555                19102   PENNSYLVANIA   \n",
       "100    Certified                    744                10014       NEW YORK   \n",
       "186    Certified                    556                95077     CALIFORNIA   \n",
       "262    Certified                    495                10019       NEW YORK   \n",
       "1953   Certified                    176                75063          TEXAS   \n",
       "\n",
       "      EMPLOYER_NUM_EMPLOYEES  WAGE_OFFER_FROM_9089 COUNTRY_OF_CITIZENSHIP  \\\n",
       "89                    3100.0              169250.0                ECUADOR   \n",
       "100                     10.0               40123.0                ECUADOR   \n",
       "186                    778.0              118331.0                ECUADOR   \n",
       "262                   3883.0              180294.0                ECUADOR   \n",
       "1953                   520.0               80000.0                ECUADOR   \n",
       "\n",
       "     CLASS_OF_ADMISSION FOREIGN_WORKER_INFO_EDUCATION  \\\n",
       "89                 H-1B                    Bachelor's   \n",
       "100                 EWI                          None   \n",
       "186                H-1B                      Master's   \n",
       "262                H-1B                    Bachelor's   \n",
       "1953               H-1B                      Master's   \n",
       "\n",
       "      CASE_RECEIVED_DATE_MONTH  \n",
       "89                        11.0  \n",
       "100                        7.0  \n",
       "186                       12.0  \n",
       "262                        3.0  \n",
       "1953                      11.0  "
      ]
     },
     "execution_count": 76,
     "metadata": {},
     "output_type": "execute_result"
    }
   ],
   "source": [
    "data4.head()"
   ]
  },
  {
   "cell_type": "code",
   "execution_count": 77,
   "metadata": {},
   "outputs": [
    {
     "name": "stderr",
     "output_type": "stream",
     "text": [
      "/anaconda3/envs/PythonData/lib/python3.6/site-packages/ipykernel_launcher.py:119: SettingWithCopyWarning: \n",
      "A value is trying to be set on a copy of a slice from a DataFrame.\n",
      "Try using .loc[row_indexer,col_indexer] = value instead\n",
      "\n",
      "See the caveats in the documentation: http://pandas.pydata.org/pandas-docs/stable/indexing.html#indexing-view-versus-copy\n"
     ]
    }
   ],
   "source": [
    "states = []\n",
    "\n",
    "for row in data4['EMPLOYER_STATE']:\n",
    "    if row == \"ME\":\n",
    "        states.append(\"MAINE\")\n",
    "    elif row == \"NH\":\n",
    "        states.append(\"NEW HAMPSHIRE\")\n",
    "    elif row == \"VT\":\n",
    "        states.append(\"VERMONT\")\n",
    "    elif row == \"MA\":\n",
    "        states.append(\"MASSACHUSETTS\")\n",
    "    elif row == \"RI\":\n",
    "        states.append(\"RHODE ISLAND\")\n",
    "    elif row == \"CT\":\n",
    "        states.append(\"CONNECTICUT\")\n",
    "    elif row == \"NY\":\n",
    "        states.append(\"NEW YORK\")\n",
    "    elif row == \"NJ\":\n",
    "        states.append(\"NEW JERSEY\")\n",
    "    elif row == \"PA\":\n",
    "        states.append(\"PENNSYLVANIA\")\n",
    "    elif row == \"DE\":\n",
    "        states.append(\"DELAWARE\")\n",
    "    elif row == \"MD\":\n",
    "        states.append(\"MARYLAND\")\n",
    "    elif row == \"DC\":\n",
    "        states.append(\"DISTRICT OF COLUMBIA\")\n",
    "    elif row == \"VA\":\n",
    "        states.append(\"VIRGINIA\")\n",
    "    elif row == \"WV\":\n",
    "        states.append(\"WEST VIRGINIA\")\n",
    "    elif row == \"NC\":\n",
    "        states.append(\"NORTH CAROLINA\")\n",
    "    elif row == \"SC\":\n",
    "        states.append(\"SOUTH CAROLINA\")\n",
    "    elif row == \"GA\":\n",
    "        states.append(\"GEORGIA\")\n",
    "    elif row == \"FL\":\n",
    "        states.append(\"FLORIDA\")\n",
    "    elif row == \"AL\":\n",
    "        states.append(\"ALABAMA\")\n",
    "    elif row == \"TN\":\n",
    "        states.append(\"TENNESSEE\")\n",
    "    elif row == \"TENNESSE\":\n",
    "        states.append(\"TENNESSEE\")\n",
    "    elif row == \"KY\":\n",
    "        states.append(\"KENTUCKY\")\n",
    "    elif row == \"OH\":\n",
    "        states.append(\"OHIO\")\n",
    "    elif row == \"MI\":\n",
    "        states.append(\"MICHIGAN\")\n",
    "    elif row == \"IN\":\n",
    "        states.append(\"INDIANA\")\n",
    "    elif row == \"MS\":\n",
    "        states.append(\"MISSISSIPPI\")\n",
    "    elif row == \"IL\":\n",
    "        states.append(\"ILLINOIS\")\n",
    "    elif row == \"WI\":\n",
    "        states.append(\"WISCONSIN\")\n",
    "    elif row == \"MN\":\n",
    "        states.append(\"MINNESOTA\")\n",
    "    elif row == \"IA\":\n",
    "        states.append(\"IOWA\")\n",
    "    elif row == \"MO\":\n",
    "        states.append(\"MISSOURI\")\n",
    "    elif row == \"AR\":\n",
    "        states.append(\"ARKANSAS\")\n",
    "    elif row == \"LA\":\n",
    "        states.append(\"LOUISIANA\")\n",
    "    elif row == \"ND\":\n",
    "        states.append(\"NORTH DAKOTA\")\n",
    "    elif row == \"SD\":\n",
    "        states.append(\"SOUTH DAKOTA\")\n",
    "    elif row == \"NE\":\n",
    "        states.append(\"NEBRASKA\")\n",
    "    elif row == \"KS\":\n",
    "        states.append(\"KANSAS\")\n",
    "    elif row == \"OK\":\n",
    "        states.append(\"OKLAHOMA\")\n",
    "    elif row == \"TX\":\n",
    "        states.append(\"TEXAS\")\n",
    "    elif row == \"MT\":\n",
    "        states.append(\"MONTANA\")\n",
    "    elif row == \"WY\":\n",
    "        states.append(\"WYOMING\")\n",
    "    elif row == \"CO\":\n",
    "        states.append(\"COLORADO\")\n",
    "    elif row == \"NM\":\n",
    "        states.append(\"NEW MEXICO\")\n",
    "    elif row == \"ID\":\n",
    "        states.append(\"IDAHO\")\n",
    "    elif row == \"UT\":\n",
    "        states.append(\"UTAH\")\n",
    "    elif row == \"AZ\":\n",
    "        states.append(\"ARIZONA\")\n",
    "    elif row == \"WA\":\n",
    "        states.append(\"WASHINGTON\")\n",
    "    elif row == \"OR\":\n",
    "        states.append(\"OREGON\")\n",
    "    elif row == \"NV\":\n",
    "        states.append(\"NEVADA\")\n",
    "    elif row == \"CA\":\n",
    "        states.append(\"CALIFORNIA\")\n",
    "    elif row == \"AK\":\n",
    "        states.append(\"ALASKA\")\n",
    "    elif row == \"HI\":\n",
    "        states.append(\"HAWAII\")\n",
    "    elif row == \"PR\":\n",
    "        states.append(\"PUERTO RICO\")\n",
    "    elif row == \"MP\":\n",
    "        states.append(\"NORTHERN MARIANA ISLANDS\")\n",
    "    elif row == \"VI\":\n",
    "        states.append(\"VIRGIN ISLANDS\")\n",
    "    elif row == \"GU\":\n",
    "        states.append(\"GUAM\")\n",
    "    else:\n",
    "        states.append(\"UNKNOWN\")\n",
    "        \n",
    "data4['EMPLOYER_STATES'] = states"
   ]
  },
  {
   "cell_type": "code",
   "execution_count": 78,
   "metadata": {},
   "outputs": [
    {
     "data": {
      "text/plain": [
       "UNKNOWN                 121\n",
       "NEW YORK                105\n",
       "NEW JERSEY               44\n",
       "FLORIDA                  32\n",
       "CALIFORNIA               20\n",
       "TEXAS                    15\n",
       "CONNECTICUT              13\n",
       "NORTH CAROLINA            9\n",
       "MARYLAND                  9\n",
       "VIRGINIA                  8\n",
       "ILLINOIS                  7\n",
       "MISSOURI                  6\n",
       "INDIANA                   5\n",
       "MASSACHUSETTS             4\n",
       "WASHINGTON                4\n",
       "MINNESOTA                 4\n",
       "IOWA                      3\n",
       "LOUISIANA                 3\n",
       "MICHIGAN                  3\n",
       "TENNESSEE                 3\n",
       "PENNSYLVANIA              3\n",
       "RHODE ISLAND              2\n",
       "NEW MEXICO                2\n",
       "ARKANSAS                  2\n",
       "NEBRASKA                  2\n",
       "KANSAS                    1\n",
       "DISTRICT OF COLUMBIA      1\n",
       "OREGON                    1\n",
       "COLORADO                  1\n",
       "SOUTH DAKOTA              1\n",
       "HAWAII                    1\n",
       "ALABAMA                   1\n",
       "ARIZONA                   1\n",
       "Name: EMPLOYER_STATES, dtype: int64"
      ]
     },
     "execution_count": 78,
     "metadata": {},
     "output_type": "execute_result"
    }
   ],
   "source": [
    "data4['EMPLOYER_STATES'].value_counts()"
   ]
  },
  {
   "cell_type": "code",
   "execution_count": 79,
   "metadata": {},
   "outputs": [
    {
     "name": "stderr",
     "output_type": "stream",
     "text": [
      "/anaconda3/envs/PythonData/lib/python3.6/site-packages/ipykernel_launcher.py:1: SettingWithCopyWarning: \n",
      "A value is trying to be set on a copy of a slice from a DataFrame.\n",
      "Try using .loc[row_indexer,col_indexer] = value instead\n",
      "\n",
      "See the caveats in the documentation: http://pandas.pydata.org/pandas-docs/stable/indexing.html#indexing-view-versus-copy\n",
      "  \"\"\"Entry point for launching an IPython kernel.\n"
     ]
    }
   ],
   "source": [
    "data4['ZIP_CODE'] = data4['EMPLOYER_POSTAL_CODE'].where(data4['EMPLOYER_POSTAL_CODE'].str.len() == 5)"
   ]
  },
  {
   "cell_type": "code",
   "execution_count": 80,
   "metadata": {},
   "outputs": [],
   "source": [
    "data5 = data4.dropna(how='any')"
   ]
  },
  {
   "cell_type": "code",
   "execution_count": 81,
   "metadata": {},
   "outputs": [],
   "source": [
    "data5.to_excel('../Resources/ML_Ecuador.xlsx', index = False)"
   ]
  },
  {
   "cell_type": "code",
   "execution_count": 82,
   "metadata": {},
   "outputs": [],
   "source": [
    "data6 = pd.read_csv('../Resources/ML_Ecuador.csv')"
   ]
  },
  {
   "cell_type": "code",
   "execution_count": 83,
   "metadata": {},
   "outputs": [
    {
     "data": {
      "text/html": [
       "<div>\n",
       "<style scoped>\n",
       "    .dataframe tbody tr th:only-of-type {\n",
       "        vertical-align: middle;\n",
       "    }\n",
       "\n",
       "    .dataframe tbody tr th {\n",
       "        vertical-align: top;\n",
       "    }\n",
       "\n",
       "    .dataframe thead th {\n",
       "        text-align: right;\n",
       "    }\n",
       "</style>\n",
       "<table border=\"1\" class=\"dataframe\">\n",
       "  <thead>\n",
       "    <tr style=\"text-align: right;\">\n",
       "      <th></th>\n",
       "      <th>CASE_STATUS</th>\n",
       "      <th>DECISION_ELAPSED_DAYS</th>\n",
       "      <th>EMPLOYER_POSTAL_CODE</th>\n",
       "      <th>EMPLOYER_STATE</th>\n",
       "      <th>EMPLOYER_NUM_EMPLOYEES</th>\n",
       "      <th>WAGE_OFFER_FROM_9089</th>\n",
       "      <th>COUNTRY_OF_CITIZENSHIP</th>\n",
       "      <th>CLASS_OF_ADMISSION</th>\n",
       "      <th>FOREIGN_WORKER_INFO_EDUCATION</th>\n",
       "      <th>CASE_RECEIVED_DATE_MONTH</th>\n",
       "      <th>EMPLOYER_STATES</th>\n",
       "      <th>ZIP_CODE</th>\n",
       "    </tr>\n",
       "  </thead>\n",
       "  <tbody>\n",
       "    <tr>\n",
       "      <th>0</th>\n",
       "      <td>Certified</td>\n",
       "      <td>105</td>\n",
       "      <td>98121</td>\n",
       "      <td>WA</td>\n",
       "      <td>341400</td>\n",
       "      <td>120000.0</td>\n",
       "      <td>ECUADOR</td>\n",
       "      <td>H-1B</td>\n",
       "      <td>Master's</td>\n",
       "      <td>5</td>\n",
       "      <td>WASHINGTON</td>\n",
       "      <td>98121</td>\n",
       "    </tr>\n",
       "    <tr>\n",
       "      <th>1</th>\n",
       "      <td>Certified</td>\n",
       "      <td>143</td>\n",
       "      <td>98103</td>\n",
       "      <td>WA</td>\n",
       "      <td>2400</td>\n",
       "      <td>64688.0</td>\n",
       "      <td>ECUADOR</td>\n",
       "      <td>H-1B</td>\n",
       "      <td>Bachelor's</td>\n",
       "      <td>12</td>\n",
       "      <td>WASHINGTON</td>\n",
       "      <td>98103</td>\n",
       "    </tr>\n",
       "    <tr>\n",
       "      <th>2</th>\n",
       "      <td>Certified</td>\n",
       "      <td>435</td>\n",
       "      <td>98052</td>\n",
       "      <td>WASHINGTON</td>\n",
       "      <td>58000</td>\n",
       "      <td>137972.0</td>\n",
       "      <td>ECUADOR</td>\n",
       "      <td>H-1B</td>\n",
       "      <td>Bachelor's</td>\n",
       "      <td>6</td>\n",
       "      <td>WASHINGTON</td>\n",
       "      <td>98052</td>\n",
       "    </tr>\n",
       "    <tr>\n",
       "      <th>3</th>\n",
       "      <td>Certified</td>\n",
       "      <td>81</td>\n",
       "      <td>98052</td>\n",
       "      <td>WA</td>\n",
       "      <td>73172</td>\n",
       "      <td>119980.0</td>\n",
       "      <td>ECUADOR</td>\n",
       "      <td>H-1B</td>\n",
       "      <td>Bachelor's</td>\n",
       "      <td>4</td>\n",
       "      <td>WASHINGTON</td>\n",
       "      <td>98052</td>\n",
       "    </tr>\n",
       "    <tr>\n",
       "      <th>4</th>\n",
       "      <td>Certified</td>\n",
       "      <td>107</td>\n",
       "      <td>98052</td>\n",
       "      <td>WA</td>\n",
       "      <td>73172</td>\n",
       "      <td>93300.0</td>\n",
       "      <td>ECUADOR</td>\n",
       "      <td>L-1</td>\n",
       "      <td>Bachelor's</td>\n",
       "      <td>2</td>\n",
       "      <td>WASHINGTON</td>\n",
       "      <td>98052</td>\n",
       "    </tr>\n",
       "  </tbody>\n",
       "</table>\n",
       "</div>"
      ],
      "text/plain": [
       "  CASE_STATUS  DECISION_ELAPSED_DAYS  EMPLOYER_POSTAL_CODE EMPLOYER_STATE  \\\n",
       "0   Certified                    105                 98121             WA   \n",
       "1   Certified                    143                 98103             WA   \n",
       "2   Certified                    435                 98052     WASHINGTON   \n",
       "3   Certified                     81                 98052             WA   \n",
       "4   Certified                    107                 98052             WA   \n",
       "\n",
       "   EMPLOYER_NUM_EMPLOYEES  WAGE_OFFER_FROM_9089 COUNTRY_OF_CITIZENSHIP  \\\n",
       "0                  341400              120000.0                ECUADOR   \n",
       "1                    2400               64688.0                ECUADOR   \n",
       "2                   58000              137972.0                ECUADOR   \n",
       "3                   73172              119980.0                ECUADOR   \n",
       "4                   73172               93300.0                ECUADOR   \n",
       "\n",
       "  CLASS_OF_ADMISSION FOREIGN_WORKER_INFO_EDUCATION  CASE_RECEIVED_DATE_MONTH  \\\n",
       "0               H-1B                      Master's                         5   \n",
       "1               H-1B                    Bachelor's                        12   \n",
       "2               H-1B                    Bachelor's                         6   \n",
       "3               H-1B                    Bachelor's                         4   \n",
       "4                L-1                    Bachelor's                         2   \n",
       "\n",
       "  EMPLOYER_STATES  ZIP_CODE  \n",
       "0      WASHINGTON     98121  \n",
       "1      WASHINGTON     98103  \n",
       "2      WASHINGTON     98052  \n",
       "3      WASHINGTON     98052  \n",
       "4      WASHINGTON     98052  "
      ]
     },
     "execution_count": 83,
     "metadata": {},
     "output_type": "execute_result"
    }
   ],
   "source": [
    "data6.head()"
   ]
  },
  {
   "cell_type": "code",
   "execution_count": 84,
   "metadata": {},
   "outputs": [],
   "source": [
    "states = []\n",
    "\n",
    "for row in data6['EMPLOYER_STATES']:\n",
    "    if row == \"MAINE\":\n",
    "        states.append(\"NORTHEAST\")\n",
    "    elif row == \"NEW HAMPSHIRE\":\n",
    "        states.append(\"NORTHEAST\")\n",
    "    elif row == \"VERMONT\":\n",
    "        states.append(\"NORTHEAST\")\n",
    "    elif row == \"MASSACHUSETTS\":\n",
    "        states.append(\"NORTHEAST\")\n",
    "    elif row == \"RHODE ISLAND\":\n",
    "        states.append(\"NORTHEAST\")\n",
    "    elif row == \"CONNECTICUT\":\n",
    "        states.append(\"NORTHEAST\")\n",
    "    elif row == \"NEW YORK\":\n",
    "        states.append(\"NORTHEAST\")\n",
    "    elif row == \"NEW JERSEY\":\n",
    "        states.append(\"NORTHEAST\")\n",
    "    elif row == \"PENNSYLVANIA\":\n",
    "        states.append(\"NORTHEAST\")\n",
    "    elif row == \"DELAWARE\":\n",
    "        states.append(\"SOUTH\")\n",
    "    elif row == \"MARYLAND\":\n",
    "        states.append(\"SOUTH\")\n",
    "    elif row == \"DISTRICT OF COLUMBIA\":\n",
    "        states.append(\"SOUTH\")\n",
    "    elif row == \"VIRGINIA\":\n",
    "        states.append(\"SOUTH\")\n",
    "    elif row == \"WEST VIRGINIA\":\n",
    "        states.append(\"SOUTH\")\n",
    "    elif row == \"NORTH CAROLINA\":\n",
    "        states.append(\"SOUTH\")\n",
    "    elif row == \"SOUTH CAROLINA\":\n",
    "        states.append(\"SOUTH\")\n",
    "    elif row == \"GEORGIA\":\n",
    "        states.append(\"SOUTH\")\n",
    "    elif row == \"FLORIDA\":\n",
    "        states.append(\"SOUTH\")\n",
    "    elif row == \"ALABAMA\":\n",
    "        states.append(\"SOUTH\")\n",
    "    elif row == \"TENNESSE\":\n",
    "        states.append(\"SOUTH\")\n",
    "    elif row == \"KENTUCKY\":\n",
    "        states.append(\"SOUTH\")\n",
    "    elif row == \"OHIO\":\n",
    "        states.append(\"MIDWEST\")\n",
    "    elif row == \"MICHIGAN\":\n",
    "        states.append(\"MIDWEST\")\n",
    "    elif row == \"INDIANA\":\n",
    "        states.append(\"MIDWEST\")\n",
    "    elif row == \"MISSISSIPPI\":\n",
    "        states.append(\"SOUTH\")\n",
    "    elif row == \"ILLINOIS\":\n",
    "        states.append(\"MIDWEST\")\n",
    "    elif row == \"WISCONSIN\":\n",
    "        states.append(\"MIDWEST\")\n",
    "    elif row == \"MINNESOTA\":\n",
    "        states.append(\"MIDWEST\")\n",
    "    elif row == \"IOWA\":\n",
    "        states.append(\"MIDWEST\")\n",
    "    elif row == \"MISSOURI\":\n",
    "        states.append(\"MIDWEST\")\n",
    "    elif row == \"ARKANSAS\":\n",
    "        states.append(\"SOUTH\")\n",
    "    elif row == \"LOUISIANA\":\n",
    "        states.append(\"SOUTH\")\n",
    "    elif row == \"NORTH DAKOTA\":\n",
    "        states.append(\"MIDWEST\")\n",
    "    elif row == \"SOUTH DAKOTA\":\n",
    "        states.append(\"MIDWEST\")\n",
    "    elif row == \"NEBRASKA\":\n",
    "        states.append(\"MIDWEST\")\n",
    "    elif row == \"KANSAS\":\n",
    "        states.append(\"MIDWEST\")\n",
    "    elif row == \"OKLAHOMA\":\n",
    "        states.append(\"SOUTH\")\n",
    "    elif row == \"TEXAS\":\n",
    "        states.append(\"SOUTH\")\n",
    "    elif row == \"MONTANA\":\n",
    "        states.append(\"WEST\")\n",
    "    elif row == \"WYOMING\":\n",
    "        states.append(\"WEST\")\n",
    "    elif row == \"COLORADO\":\n",
    "        states.append(\"WEST\")\n",
    "    elif row == \"NEW MEXICO\":\n",
    "        states.append(\"WEST\")\n",
    "    elif row == \"IDAHO\":\n",
    "        states.append(\"WEST\")\n",
    "    elif row == \"UTAH\":\n",
    "        states.append(\"WEST\")\n",
    "    elif row == \"ARIZONA\":\n",
    "        states.append(\"WEST\")\n",
    "    elif row == \"WASHINGTON\":\n",
    "        states.append(\"WEST\")\n",
    "    elif row == \"OREGON\":\n",
    "        states.append(\"WEST\")\n",
    "    elif row == \"NEVADA\":\n",
    "        states.append(\"WEST\")\n",
    "    elif row == \"CALIFORNIA\":\n",
    "        states.append(\"WEST\")\n",
    "    elif row == \"ALASKA\":\n",
    "        states.append(\"WEST\")\n",
    "    elif row == \"HAWAII\":\n",
    "        states.append(\"WEST\")\n",
    "    elif row == \"PUERTO RICO\":\n",
    "        states.append(\"OTHER\")\n",
    "    elif row == \"TENNESSEE\":\n",
    "        states.append(\"SOUTH\")\n",
    "    elif row == \"NORTHERN MARIANA ISLANDS\":\n",
    "        states.append(\"OTHER\")\n",
    "    elif row == \"VIRGIN ISLANDS\":\n",
    "        states.append(\"OTHER\")\n",
    "    elif row == \"GUAM\":\n",
    "        states.append(\"OTHER\")\n",
    "    else:\n",
    "        states.append(\"UNKNOWN\")\n",
    "        \n",
    "data6['EMPLOYER_REGIONS'] = states"
   ]
  },
  {
   "cell_type": "code",
   "execution_count": 85,
   "metadata": {},
   "outputs": [
    {
     "data": {
      "text/plain": [
       "NORTHEAST    173\n",
       "SOUTH         86\n",
       "MIDWEST       40\n",
       "WEST          28\n",
       "OTHER          1\n",
       "Name: EMPLOYER_REGIONS, dtype: int64"
      ]
     },
     "execution_count": 85,
     "metadata": {},
     "output_type": "execute_result"
    }
   ],
   "source": [
    "data6['EMPLOYER_REGIONS'].value_counts()"
   ]
  },
  {
   "cell_type": "code",
   "execution_count": 86,
   "metadata": {},
   "outputs": [
    {
     "data": {
      "text/plain": [
       "CASE_STATUS                      328\n",
       "DECISION_ELAPSED_DAYS            328\n",
       "EMPLOYER_POSTAL_CODE             328\n",
       "EMPLOYER_STATE                   328\n",
       "EMPLOYER_NUM_EMPLOYEES           328\n",
       "WAGE_OFFER_FROM_9089             328\n",
       "COUNTRY_OF_CITIZENSHIP           328\n",
       "CLASS_OF_ADMISSION               328\n",
       "FOREIGN_WORKER_INFO_EDUCATION    328\n",
       "CASE_RECEIVED_DATE_MONTH         328\n",
       "EMPLOYER_STATES                  328\n",
       "ZIP_CODE                         328\n",
       "EMPLOYER_REGIONS                 328\n",
       "dtype: int64"
      ]
     },
     "execution_count": 86,
     "metadata": {},
     "output_type": "execute_result"
    }
   ],
   "source": [
    "data6.count()"
   ]
  },
  {
   "cell_type": "code",
   "execution_count": 87,
   "metadata": {},
   "outputs": [],
   "source": [
    "data6['DAY_BINS'] = pd.cut(x=data6['DECISION_ELAPSED_DAYS'], \n",
    "                             bins=[0, 90, 180, 365, 3600],\n",
    "                           labels=['0-90', '91-180', '181-365', '366-3600'])"
   ]
  },
  {
   "cell_type": "code",
   "execution_count": 88,
   "metadata": {},
   "outputs": [
    {
     "data": {
      "text/plain": [
       "91-180      97\n",
       "366-3600    89\n",
       "181-365     85\n",
       "0-90        56\n",
       "Name: DAY_BINS, dtype: int64"
      ]
     },
     "execution_count": 88,
     "metadata": {},
     "output_type": "execute_result"
    }
   ],
   "source": [
    "data6['DAY_BINS'].value_counts()"
   ]
  },
  {
   "cell_type": "code",
   "execution_count": 91,
   "metadata": {},
   "outputs": [],
   "source": [
    "data6['WAGE_BINS'] = pd.cut(x=data6['WAGE_OFFER_FROM_9089'], \n",
    "                             bins=[0, 25000, 50000, 75000, 100000, 500000],\n",
    "                           labels=['0-25000', '25001-50000', '50001-75000', '75001-100000', '100000-500000'])"
   ]
  },
  {
   "cell_type": "code",
   "execution_count": 92,
   "metadata": {},
   "outputs": [
    {
     "data": {
      "text/plain": [
       "25001-50000      118\n",
       "50001-75000       67\n",
       "100000-500000     61\n",
       "75001-100000      52\n",
       "0-25000           30\n",
       "Name: WAGE_BINS, dtype: int64"
      ]
     },
     "execution_count": 92,
     "metadata": {},
     "output_type": "execute_result"
    }
   ],
   "source": [
    "data6['WAGE_BINS'].value_counts()"
   ]
  },
  {
   "cell_type": "code",
   "execution_count": 95,
   "metadata": {},
   "outputs": [],
   "source": [
    "data6['EMPLOYEE_BINS'] = pd.cut(x=data6['EMPLOYER_NUM_EMPLOYEES'], \n",
    "                             bins=[0, 50, 100, 500, 1000, 10000, 1000000000],\n",
    "                           labels=['0-50', '51-100', '101-500', '501-1000', '1001-10000', '10001-1000000000'])"
   ]
  },
  {
   "cell_type": "code",
   "execution_count": 96,
   "metadata": {},
   "outputs": [
    {
     "data": {
      "text/plain": [
       "0-50                183\n",
       "10001-1000000000     38\n",
       "1001-10000           38\n",
       "101-500              38\n",
       "51-100               17\n",
       "501-1000             12\n",
       "Name: EMPLOYEE_BINS, dtype: int64"
      ]
     },
     "execution_count": 96,
     "metadata": {},
     "output_type": "execute_result"
    }
   ],
   "source": [
    "data6['EMPLOYEE_BINS'].value_counts()"
   ]
  },
  {
   "cell_type": "code",
   "execution_count": 97,
   "metadata": {},
   "outputs": [
    {
     "data": {
      "text/plain": [
       "CASE_STATUS                      328\n",
       "DECISION_ELAPSED_DAYS            328\n",
       "EMPLOYER_POSTAL_CODE             328\n",
       "EMPLOYER_STATE                   328\n",
       "EMPLOYER_NUM_EMPLOYEES           328\n",
       "WAGE_OFFER_FROM_9089             328\n",
       "COUNTRY_OF_CITIZENSHIP           328\n",
       "CLASS_OF_ADMISSION               328\n",
       "FOREIGN_WORKER_INFO_EDUCATION    328\n",
       "CASE_RECEIVED_DATE_MONTH         328\n",
       "EMPLOYER_STATES                  328\n",
       "ZIP_CODE                         328\n",
       "EMPLOYER_REGIONS                 328\n",
       "DAY_BINS                         327\n",
       "WAGE_BINS                        328\n",
       "EMPLOYEE_BINS                    326\n",
       "dtype: int64"
      ]
     },
     "execution_count": 97,
     "metadata": {},
     "output_type": "execute_result"
    }
   ],
   "source": [
    "data6.count()"
   ]
  },
  {
   "cell_type": "code",
   "execution_count": 98,
   "metadata": {},
   "outputs": [],
   "source": [
    "data7 = data6[[\n",
    "    'CASE_STATUS',\n",
    "    'EMPLOYEE_BINS',\n",
    "    'WAGE_BINS',\n",
    "    'EMPLOYER_REGIONS',\n",
    "    'CASE_RECEIVED_DATE_MONTH',\n",
    "    'FOREIGN_WORKER_INFO_EDUCATION',\n",
    "    'CLASS_OF_ADMISSION',\n",
    "    'DAY_BINS'\n",
    "]]"
   ]
  },
  {
   "cell_type": "code",
   "execution_count": 99,
   "metadata": {},
   "outputs": [
    {
     "data": {
      "text/html": [
       "<div>\n",
       "<style scoped>\n",
       "    .dataframe tbody tr th:only-of-type {\n",
       "        vertical-align: middle;\n",
       "    }\n",
       "\n",
       "    .dataframe tbody tr th {\n",
       "        vertical-align: top;\n",
       "    }\n",
       "\n",
       "    .dataframe thead th {\n",
       "        text-align: right;\n",
       "    }\n",
       "</style>\n",
       "<table border=\"1\" class=\"dataframe\">\n",
       "  <thead>\n",
       "    <tr style=\"text-align: right;\">\n",
       "      <th></th>\n",
       "      <th>CASE_STATUS</th>\n",
       "      <th>EMPLOYEE_BINS</th>\n",
       "      <th>WAGE_BINS</th>\n",
       "      <th>EMPLOYER_REGIONS</th>\n",
       "      <th>CASE_RECEIVED_DATE_MONTH</th>\n",
       "      <th>FOREIGN_WORKER_INFO_EDUCATION</th>\n",
       "      <th>CLASS_OF_ADMISSION</th>\n",
       "      <th>DAY_BINS</th>\n",
       "    </tr>\n",
       "  </thead>\n",
       "  <tbody>\n",
       "    <tr>\n",
       "      <th>0</th>\n",
       "      <td>Certified</td>\n",
       "      <td>10001-1000000000</td>\n",
       "      <td>100000-500000</td>\n",
       "      <td>WEST</td>\n",
       "      <td>5</td>\n",
       "      <td>Master's</td>\n",
       "      <td>H-1B</td>\n",
       "      <td>91-180</td>\n",
       "    </tr>\n",
       "    <tr>\n",
       "      <th>1</th>\n",
       "      <td>Certified</td>\n",
       "      <td>1001-10000</td>\n",
       "      <td>50001-75000</td>\n",
       "      <td>WEST</td>\n",
       "      <td>12</td>\n",
       "      <td>Bachelor's</td>\n",
       "      <td>H-1B</td>\n",
       "      <td>91-180</td>\n",
       "    </tr>\n",
       "    <tr>\n",
       "      <th>2</th>\n",
       "      <td>Certified</td>\n",
       "      <td>10001-1000000000</td>\n",
       "      <td>100000-500000</td>\n",
       "      <td>WEST</td>\n",
       "      <td>6</td>\n",
       "      <td>Bachelor's</td>\n",
       "      <td>H-1B</td>\n",
       "      <td>366-3600</td>\n",
       "    </tr>\n",
       "    <tr>\n",
       "      <th>3</th>\n",
       "      <td>Certified</td>\n",
       "      <td>10001-1000000000</td>\n",
       "      <td>100000-500000</td>\n",
       "      <td>WEST</td>\n",
       "      <td>4</td>\n",
       "      <td>Bachelor's</td>\n",
       "      <td>H-1B</td>\n",
       "      <td>0-90</td>\n",
       "    </tr>\n",
       "    <tr>\n",
       "      <th>4</th>\n",
       "      <td>Certified</td>\n",
       "      <td>10001-1000000000</td>\n",
       "      <td>75001-100000</td>\n",
       "      <td>WEST</td>\n",
       "      <td>2</td>\n",
       "      <td>Bachelor's</td>\n",
       "      <td>L-1</td>\n",
       "      <td>91-180</td>\n",
       "    </tr>\n",
       "  </tbody>\n",
       "</table>\n",
       "</div>"
      ],
      "text/plain": [
       "  CASE_STATUS     EMPLOYEE_BINS      WAGE_BINS EMPLOYER_REGIONS  \\\n",
       "0   Certified  10001-1000000000  100000-500000             WEST   \n",
       "1   Certified        1001-10000    50001-75000             WEST   \n",
       "2   Certified  10001-1000000000  100000-500000             WEST   \n",
       "3   Certified  10001-1000000000  100000-500000             WEST   \n",
       "4   Certified  10001-1000000000   75001-100000             WEST   \n",
       "\n",
       "   CASE_RECEIVED_DATE_MONTH FOREIGN_WORKER_INFO_EDUCATION CLASS_OF_ADMISSION  \\\n",
       "0                         5                      Master's               H-1B   \n",
       "1                        12                    Bachelor's               H-1B   \n",
       "2                         6                    Bachelor's               H-1B   \n",
       "3                         4                    Bachelor's               H-1B   \n",
       "4                         2                    Bachelor's                L-1   \n",
       "\n",
       "   DAY_BINS  \n",
       "0    91-180  \n",
       "1    91-180  \n",
       "2  366-3600  \n",
       "3      0-90  \n",
       "4    91-180  "
      ]
     },
     "execution_count": 99,
     "metadata": {},
     "output_type": "execute_result"
    }
   ],
   "source": [
    "data7.head()"
   ]
  },
  {
   "cell_type": "code",
   "execution_count": 100,
   "metadata": {},
   "outputs": [
    {
     "data": {
      "text/plain": [
       "CASE_STATUS                        object\n",
       "EMPLOYEE_BINS                    category\n",
       "WAGE_BINS                        category\n",
       "EMPLOYER_REGIONS                   object\n",
       "CASE_RECEIVED_DATE_MONTH            int64\n",
       "FOREIGN_WORKER_INFO_EDUCATION      object\n",
       "CLASS_OF_ADMISSION                 object\n",
       "DAY_BINS                         category\n",
       "dtype: object"
      ]
     },
     "execution_count": 100,
     "metadata": {},
     "output_type": "execute_result"
    }
   ],
   "source": [
    "data7.dtypes"
   ]
  },
  {
   "cell_type": "code",
   "execution_count": 101,
   "metadata": {},
   "outputs": [],
   "source": [
    "from sklearn.preprocessing import LabelEncoder\n",
    "num_encode = LabelEncoder()"
   ]
  },
  {
   "cell_type": "code",
   "execution_count": 102,
   "metadata": {},
   "outputs": [
    {
     "name": "stderr",
     "output_type": "stream",
     "text": [
      "/anaconda3/envs/PythonData/lib/python3.6/site-packages/ipykernel_launcher.py:1: SettingWithCopyWarning: \n",
      "A value is trying to be set on a copy of a slice from a DataFrame.\n",
      "Try using .loc[row_indexer,col_indexer] = value instead\n",
      "\n",
      "See the caveats in the documentation: http://pandas.pydata.org/pandas-docs/stable/indexing.html#indexing-view-versus-copy\n",
      "  \"\"\"Entry point for launching an IPython kernel.\n"
     ]
    }
   ],
   "source": [
    "data7['CLASS_OF_ADMISSION_CODE'] = num_encode.fit_transform(data7['CLASS_OF_ADMISSION'])"
   ]
  },
  {
   "cell_type": "code",
   "execution_count": 103,
   "metadata": {},
   "outputs": [
    {
     "name": "stderr",
     "output_type": "stream",
     "text": [
      "/anaconda3/envs/PythonData/lib/python3.6/site-packages/ipykernel_launcher.py:1: SettingWithCopyWarning: \n",
      "A value is trying to be set on a copy of a slice from a DataFrame.\n",
      "Try using .loc[row_indexer,col_indexer] = value instead\n",
      "\n",
      "See the caveats in the documentation: http://pandas.pydata.org/pandas-docs/stable/indexing.html#indexing-view-versus-copy\n",
      "  \"\"\"Entry point for launching an IPython kernel.\n"
     ]
    }
   ],
   "source": [
    "data7['FOREIGN_WORKER_INFO_EDUCATION_CODE'] = num_encode.fit_transform(data7['FOREIGN_WORKER_INFO_EDUCATION'])"
   ]
  },
  {
   "cell_type": "code",
   "execution_count": 105,
   "metadata": {},
   "outputs": [
    {
     "name": "stderr",
     "output_type": "stream",
     "text": [
      "/anaconda3/envs/PythonData/lib/python3.6/site-packages/ipykernel_launcher.py:1: SettingWithCopyWarning: \n",
      "A value is trying to be set on a copy of a slice from a DataFrame.\n",
      "Try using .loc[row_indexer,col_indexer] = value instead\n",
      "\n",
      "See the caveats in the documentation: http://pandas.pydata.org/pandas-docs/stable/indexing.html#indexing-view-versus-copy\n",
      "  \"\"\"Entry point for launching an IPython kernel.\n"
     ]
    }
   ],
   "source": [
    "data7['WAGE_BINS_CODE'] = num_encode.fit_transform(data7['WAGE_BINS'])"
   ]
  },
  {
   "cell_type": "code",
   "execution_count": 106,
   "metadata": {},
   "outputs": [
    {
     "name": "stderr",
     "output_type": "stream",
     "text": [
      "/anaconda3/envs/PythonData/lib/python3.6/site-packages/ipykernel_launcher.py:1: SettingWithCopyWarning: \n",
      "A value is trying to be set on a copy of a slice from a DataFrame.\n",
      "Try using .loc[row_indexer,col_indexer] = value instead\n",
      "\n",
      "See the caveats in the documentation: http://pandas.pydata.org/pandas-docs/stable/indexing.html#indexing-view-versus-copy\n",
      "  \"\"\"Entry point for launching an IPython kernel.\n"
     ]
    }
   ],
   "source": [
    "data7['EMPLOYER_REGIONS_CODE'] = num_encode.fit_transform(data7['EMPLOYER_REGIONS'])"
   ]
  },
  {
   "cell_type": "code",
   "execution_count": 111,
   "metadata": {},
   "outputs": [
    {
     "name": "stderr",
     "output_type": "stream",
     "text": [
      "/anaconda3/envs/PythonData/lib/python3.6/site-packages/ipykernel_launcher.py:1: SettingWithCopyWarning: \n",
      "A value is trying to be set on a copy of a slice from a DataFrame.\n",
      "Try using .loc[row_indexer,col_indexer] = value instead\n",
      "\n",
      "See the caveats in the documentation: http://pandas.pydata.org/pandas-docs/stable/indexing.html#indexing-view-versus-copy\n",
      "  \"\"\"Entry point for launching an IPython kernel.\n"
     ]
    }
   ],
   "source": [
    "data7['DAY_BINS'] = data7['DAY_BINS'].astype(str)"
   ]
  },
  {
   "cell_type": "code",
   "execution_count": 112,
   "metadata": {},
   "outputs": [
    {
     "name": "stderr",
     "output_type": "stream",
     "text": [
      "/anaconda3/envs/PythonData/lib/python3.6/site-packages/ipykernel_launcher.py:1: SettingWithCopyWarning: \n",
      "A value is trying to be set on a copy of a slice from a DataFrame.\n",
      "Try using .loc[row_indexer,col_indexer] = value instead\n",
      "\n",
      "See the caveats in the documentation: http://pandas.pydata.org/pandas-docs/stable/indexing.html#indexing-view-versus-copy\n",
      "  \"\"\"Entry point for launching an IPython kernel.\n"
     ]
    }
   ],
   "source": [
    "data7['DAY_BINS_CODE'] = num_encode.fit_transform(data7['DAY_BINS'])"
   ]
  },
  {
   "cell_type": "code",
   "execution_count": 113,
   "metadata": {},
   "outputs": [
    {
     "name": "stderr",
     "output_type": "stream",
     "text": [
      "/anaconda3/envs/PythonData/lib/python3.6/site-packages/ipykernel_launcher.py:1: SettingWithCopyWarning: \n",
      "A value is trying to be set on a copy of a slice from a DataFrame.\n",
      "Try using .loc[row_indexer,col_indexer] = value instead\n",
      "\n",
      "See the caveats in the documentation: http://pandas.pydata.org/pandas-docs/stable/indexing.html#indexing-view-versus-copy\n",
      "  \"\"\"Entry point for launching an IPython kernel.\n"
     ]
    }
   ],
   "source": [
    "data7['EMPLOYEE_BINS'] = data7['EMPLOYEE_BINS'].astype(str)"
   ]
  },
  {
   "cell_type": "code",
   "execution_count": 114,
   "metadata": {},
   "outputs": [
    {
     "name": "stderr",
     "output_type": "stream",
     "text": [
      "/anaconda3/envs/PythonData/lib/python3.6/site-packages/ipykernel_launcher.py:1: SettingWithCopyWarning: \n",
      "A value is trying to be set on a copy of a slice from a DataFrame.\n",
      "Try using .loc[row_indexer,col_indexer] = value instead\n",
      "\n",
      "See the caveats in the documentation: http://pandas.pydata.org/pandas-docs/stable/indexing.html#indexing-view-versus-copy\n",
      "  \"\"\"Entry point for launching an IPython kernel.\n"
     ]
    }
   ],
   "source": [
    "data7['EMPLOYEE_BINS_CODE'] = num_encode.fit_transform(data7['EMPLOYEE_BINS'])"
   ]
  },
  {
   "cell_type": "code",
   "execution_count": 115,
   "metadata": {},
   "outputs": [
    {
     "data": {
      "text/html": [
       "<div>\n",
       "<style scoped>\n",
       "    .dataframe tbody tr th:only-of-type {\n",
       "        vertical-align: middle;\n",
       "    }\n",
       "\n",
       "    .dataframe tbody tr th {\n",
       "        vertical-align: top;\n",
       "    }\n",
       "\n",
       "    .dataframe thead th {\n",
       "        text-align: right;\n",
       "    }\n",
       "</style>\n",
       "<table border=\"1\" class=\"dataframe\">\n",
       "  <thead>\n",
       "    <tr style=\"text-align: right;\">\n",
       "      <th></th>\n",
       "      <th>CASE_STATUS</th>\n",
       "      <th>EMPLOYEE_BINS</th>\n",
       "      <th>WAGE_BINS</th>\n",
       "      <th>EMPLOYER_REGIONS</th>\n",
       "      <th>CASE_RECEIVED_DATE_MONTH</th>\n",
       "      <th>FOREIGN_WORKER_INFO_EDUCATION</th>\n",
       "      <th>CLASS_OF_ADMISSION</th>\n",
       "      <th>DAY_BINS</th>\n",
       "      <th>CLASS_OF_ADMISSION_CODE</th>\n",
       "      <th>FOREIGN_WORKER_INFO_EDUCATION_CODE</th>\n",
       "      <th>WAGE_BINS_CODE</th>\n",
       "      <th>EMPLOYER_REGIONS_CODE</th>\n",
       "      <th>DAY_BINS_CODE</th>\n",
       "      <th>EMPLOYEE_BINS_CODE</th>\n",
       "    </tr>\n",
       "  </thead>\n",
       "  <tbody>\n",
       "    <tr>\n",
       "      <th>0</th>\n",
       "      <td>Certified</td>\n",
       "      <td>10001-1000000000</td>\n",
       "      <td>100000-500000</td>\n",
       "      <td>WEST</td>\n",
       "      <td>5</td>\n",
       "      <td>Master's</td>\n",
       "      <td>H-1B</td>\n",
       "      <td>91-180</td>\n",
       "      <td>7</td>\n",
       "      <td>4</td>\n",
       "      <td>1</td>\n",
       "      <td>4</td>\n",
       "      <td>3</td>\n",
       "      <td>1</td>\n",
       "    </tr>\n",
       "    <tr>\n",
       "      <th>1</th>\n",
       "      <td>Certified</td>\n",
       "      <td>1001-10000</td>\n",
       "      <td>50001-75000</td>\n",
       "      <td>WEST</td>\n",
       "      <td>12</td>\n",
       "      <td>Bachelor's</td>\n",
       "      <td>H-1B</td>\n",
       "      <td>91-180</td>\n",
       "      <td>7</td>\n",
       "      <td>1</td>\n",
       "      <td>3</td>\n",
       "      <td>4</td>\n",
       "      <td>3</td>\n",
       "      <td>2</td>\n",
       "    </tr>\n",
       "    <tr>\n",
       "      <th>2</th>\n",
       "      <td>Certified</td>\n",
       "      <td>10001-1000000000</td>\n",
       "      <td>100000-500000</td>\n",
       "      <td>WEST</td>\n",
       "      <td>6</td>\n",
       "      <td>Bachelor's</td>\n",
       "      <td>H-1B</td>\n",
       "      <td>366-3600</td>\n",
       "      <td>7</td>\n",
       "      <td>1</td>\n",
       "      <td>1</td>\n",
       "      <td>4</td>\n",
       "      <td>2</td>\n",
       "      <td>1</td>\n",
       "    </tr>\n",
       "    <tr>\n",
       "      <th>3</th>\n",
       "      <td>Certified</td>\n",
       "      <td>10001-1000000000</td>\n",
       "      <td>100000-500000</td>\n",
       "      <td>WEST</td>\n",
       "      <td>4</td>\n",
       "      <td>Bachelor's</td>\n",
       "      <td>H-1B</td>\n",
       "      <td>0-90</td>\n",
       "      <td>7</td>\n",
       "      <td>1</td>\n",
       "      <td>1</td>\n",
       "      <td>4</td>\n",
       "      <td>0</td>\n",
       "      <td>1</td>\n",
       "    </tr>\n",
       "    <tr>\n",
       "      <th>4</th>\n",
       "      <td>Certified</td>\n",
       "      <td>10001-1000000000</td>\n",
       "      <td>75001-100000</td>\n",
       "      <td>WEST</td>\n",
       "      <td>2</td>\n",
       "      <td>Bachelor's</td>\n",
       "      <td>L-1</td>\n",
       "      <td>91-180</td>\n",
       "      <td>10</td>\n",
       "      <td>1</td>\n",
       "      <td>4</td>\n",
       "      <td>4</td>\n",
       "      <td>3</td>\n",
       "      <td>1</td>\n",
       "    </tr>\n",
       "  </tbody>\n",
       "</table>\n",
       "</div>"
      ],
      "text/plain": [
       "  CASE_STATUS     EMPLOYEE_BINS      WAGE_BINS EMPLOYER_REGIONS  \\\n",
       "0   Certified  10001-1000000000  100000-500000             WEST   \n",
       "1   Certified        1001-10000    50001-75000             WEST   \n",
       "2   Certified  10001-1000000000  100000-500000             WEST   \n",
       "3   Certified  10001-1000000000  100000-500000             WEST   \n",
       "4   Certified  10001-1000000000   75001-100000             WEST   \n",
       "\n",
       "   CASE_RECEIVED_DATE_MONTH FOREIGN_WORKER_INFO_EDUCATION CLASS_OF_ADMISSION  \\\n",
       "0                         5                      Master's               H-1B   \n",
       "1                        12                    Bachelor's               H-1B   \n",
       "2                         6                    Bachelor's               H-1B   \n",
       "3                         4                    Bachelor's               H-1B   \n",
       "4                         2                    Bachelor's                L-1   \n",
       "\n",
       "   DAY_BINS  CLASS_OF_ADMISSION_CODE  FOREIGN_WORKER_INFO_EDUCATION_CODE  \\\n",
       "0    91-180                        7                                   4   \n",
       "1    91-180                        7                                   1   \n",
       "2  366-3600                        7                                   1   \n",
       "3      0-90                        7                                   1   \n",
       "4    91-180                       10                                   1   \n",
       "\n",
       "   WAGE_BINS_CODE  EMPLOYER_REGIONS_CODE  DAY_BINS_CODE  EMPLOYEE_BINS_CODE  \n",
       "0               1                      4              3                   1  \n",
       "1               3                      4              3                   2  \n",
       "2               1                      4              2                   1  \n",
       "3               1                      4              0                   1  \n",
       "4               4                      4              3                   1  "
      ]
     },
     "execution_count": 115,
     "metadata": {},
     "output_type": "execute_result"
    }
   ],
   "source": [
    "data7.head()"
   ]
  },
  {
   "cell_type": "code",
   "execution_count": 116,
   "metadata": {},
   "outputs": [],
   "source": [
    "data7.to_excel('../Resources/ML2_Ecuador.xlsx', index = False)"
   ]
  },
  {
   "cell_type": "code",
   "execution_count": 117,
   "metadata": {},
   "outputs": [
    {
     "data": {
      "text/plain": [
       "CASE_STATUS                           328\n",
       "EMPLOYEE_BINS                         328\n",
       "WAGE_BINS                             328\n",
       "EMPLOYER_REGIONS                      328\n",
       "CASE_RECEIVED_DATE_MONTH              328\n",
       "FOREIGN_WORKER_INFO_EDUCATION         328\n",
       "CLASS_OF_ADMISSION                    328\n",
       "DAY_BINS                              328\n",
       "CLASS_OF_ADMISSION_CODE               328\n",
       "FOREIGN_WORKER_INFO_EDUCATION_CODE    328\n",
       "WAGE_BINS_CODE                        328\n",
       "EMPLOYER_REGIONS_CODE                 328\n",
       "DAY_BINS_CODE                         328\n",
       "EMPLOYEE_BINS_CODE                    328\n",
       "dtype: int64"
      ]
     },
     "execution_count": 117,
     "metadata": {},
     "output_type": "execute_result"
    }
   ],
   "source": [
    "data7.count()"
   ]
  },
  {
   "cell_type": "code",
   "execution_count": 118,
   "metadata": {},
   "outputs": [],
   "source": [
    "data8 = data7[[\n",
    "    'CASE_STATUS',\n",
    "    'EMPLOYEE_BINS_CODE',\n",
    "    'WAGE_BINS_CODE',\n",
    "    'DAY_BINS_CODE',\n",
    "    'FOREIGN_WORKER_INFO_EDUCATION_CODE',\n",
    "    'CLASS_OF_ADMISSION_CODE',\n",
    "    'CASE_RECEIVED_DATE_MONTH',\n",
    "    'EMPLOYER_REGIONS_CODE'\n",
    "]]"
   ]
  },
  {
   "cell_type": "code",
   "execution_count": 119,
   "metadata": {},
   "outputs": [
    {
     "data": {
      "text/html": [
       "<div>\n",
       "<style scoped>\n",
       "    .dataframe tbody tr th:only-of-type {\n",
       "        vertical-align: middle;\n",
       "    }\n",
       "\n",
       "    .dataframe tbody tr th {\n",
       "        vertical-align: top;\n",
       "    }\n",
       "\n",
       "    .dataframe thead th {\n",
       "        text-align: right;\n",
       "    }\n",
       "</style>\n",
       "<table border=\"1\" class=\"dataframe\">\n",
       "  <thead>\n",
       "    <tr style=\"text-align: right;\">\n",
       "      <th></th>\n",
       "      <th>CASE_STATUS</th>\n",
       "      <th>EMPLOYEE_BINS_CODE</th>\n",
       "      <th>WAGE_BINS_CODE</th>\n",
       "      <th>DAY_BINS_CODE</th>\n",
       "      <th>FOREIGN_WORKER_INFO_EDUCATION_CODE</th>\n",
       "      <th>CLASS_OF_ADMISSION_CODE</th>\n",
       "      <th>CASE_RECEIVED_DATE_MONTH</th>\n",
       "      <th>EMPLOYER_REGIONS_CODE</th>\n",
       "    </tr>\n",
       "  </thead>\n",
       "  <tbody>\n",
       "    <tr>\n",
       "      <th>0</th>\n",
       "      <td>Certified</td>\n",
       "      <td>1</td>\n",
       "      <td>1</td>\n",
       "      <td>3</td>\n",
       "      <td>4</td>\n",
       "      <td>7</td>\n",
       "      <td>5</td>\n",
       "      <td>4</td>\n",
       "    </tr>\n",
       "    <tr>\n",
       "      <th>1</th>\n",
       "      <td>Certified</td>\n",
       "      <td>2</td>\n",
       "      <td>3</td>\n",
       "      <td>3</td>\n",
       "      <td>1</td>\n",
       "      <td>7</td>\n",
       "      <td>12</td>\n",
       "      <td>4</td>\n",
       "    </tr>\n",
       "    <tr>\n",
       "      <th>2</th>\n",
       "      <td>Certified</td>\n",
       "      <td>1</td>\n",
       "      <td>1</td>\n",
       "      <td>2</td>\n",
       "      <td>1</td>\n",
       "      <td>7</td>\n",
       "      <td>6</td>\n",
       "      <td>4</td>\n",
       "    </tr>\n",
       "    <tr>\n",
       "      <th>3</th>\n",
       "      <td>Certified</td>\n",
       "      <td>1</td>\n",
       "      <td>1</td>\n",
       "      <td>0</td>\n",
       "      <td>1</td>\n",
       "      <td>7</td>\n",
       "      <td>4</td>\n",
       "      <td>4</td>\n",
       "    </tr>\n",
       "    <tr>\n",
       "      <th>4</th>\n",
       "      <td>Certified</td>\n",
       "      <td>1</td>\n",
       "      <td>4</td>\n",
       "      <td>3</td>\n",
       "      <td>1</td>\n",
       "      <td>10</td>\n",
       "      <td>2</td>\n",
       "      <td>4</td>\n",
       "    </tr>\n",
       "  </tbody>\n",
       "</table>\n",
       "</div>"
      ],
      "text/plain": [
       "  CASE_STATUS  EMPLOYEE_BINS_CODE  WAGE_BINS_CODE  DAY_BINS_CODE  \\\n",
       "0   Certified                   1               1              3   \n",
       "1   Certified                   2               3              3   \n",
       "2   Certified                   1               1              2   \n",
       "3   Certified                   1               1              0   \n",
       "4   Certified                   1               4              3   \n",
       "\n",
       "   FOREIGN_WORKER_INFO_EDUCATION_CODE  CLASS_OF_ADMISSION_CODE  \\\n",
       "0                                   4                        7   \n",
       "1                                   1                        7   \n",
       "2                                   1                        7   \n",
       "3                                   1                        7   \n",
       "4                                   1                       10   \n",
       "\n",
       "   CASE_RECEIVED_DATE_MONTH  EMPLOYER_REGIONS_CODE  \n",
       "0                         5                      4  \n",
       "1                        12                      4  \n",
       "2                         6                      4  \n",
       "3                         4                      4  \n",
       "4                         2                      4  "
      ]
     },
     "execution_count": 119,
     "metadata": {},
     "output_type": "execute_result"
    }
   ],
   "source": [
    "data8.head()"
   ]
  },
  {
   "cell_type": "code",
   "execution_count": 120,
   "metadata": {},
   "outputs": [
    {
     "data": {
      "text/plain": [
       "CASE_STATUS                           object\n",
       "EMPLOYEE_BINS_CODE                     int64\n",
       "WAGE_BINS_CODE                         int64\n",
       "DAY_BINS_CODE                          int64\n",
       "FOREIGN_WORKER_INFO_EDUCATION_CODE     int64\n",
       "CLASS_OF_ADMISSION_CODE                int64\n",
       "CASE_RECEIVED_DATE_MONTH               int64\n",
       "EMPLOYER_REGIONS_CODE                  int64\n",
       "dtype: object"
      ]
     },
     "execution_count": 120,
     "metadata": {},
     "output_type": "execute_result"
    }
   ],
   "source": [
    "data8.dtypes"
   ]
  },
  {
   "cell_type": "code",
   "execution_count": null,
   "metadata": {},
   "outputs": [],
   "source": []
  }
 ],
 "metadata": {
  "kernelspec": {
   "display_name": "Python 3",
   "language": "python",
   "name": "python3"
  },
  "language_info": {
   "codemirror_mode": {
    "name": "ipython",
    "version": 3
   },
   "file_extension": ".py",
   "mimetype": "text/x-python",
   "name": "python",
   "nbconvert_exporter": "python",
   "pygments_lexer": "ipython3",
   "version": "3.6.8"
  }
 },
 "nbformat": 4,
 "nbformat_minor": 2
}
