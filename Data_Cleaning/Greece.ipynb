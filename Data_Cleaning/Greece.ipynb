{
 "cells": [
  {
   "cell_type": "code",
   "execution_count": 1,
   "metadata": {},
   "outputs": [],
   "source": [
    "import pandas as pd\n",
    "import numpy as np"
   ]
  },
  {
   "cell_type": "code",
   "execution_count": 2,
   "metadata": {},
   "outputs": [],
   "source": [
    "data = pd.read_csv('../Resources/certified_denied.csv')"
   ]
  },
  {
   "cell_type": "code",
   "execution_count": 3,
   "metadata": {},
   "outputs": [
    {
     "data": {
      "text/html": [
       "<div>\n",
       "<style scoped>\n",
       "    .dataframe tbody tr th:only-of-type {\n",
       "        vertical-align: middle;\n",
       "    }\n",
       "\n",
       "    .dataframe tbody tr th {\n",
       "        vertical-align: top;\n",
       "    }\n",
       "\n",
       "    .dataframe thead th {\n",
       "        text-align: right;\n",
       "    }\n",
       "</style>\n",
       "<table border=\"1\" class=\"dataframe\">\n",
       "  <thead>\n",
       "    <tr style=\"text-align: right;\">\n",
       "      <th></th>\n",
       "      <th>Unnamed: 0</th>\n",
       "      <th>Unnamed: 1</th>\n",
       "      <th>CASE_NUMBER</th>\n",
       "      <th>DECISION_DATE</th>\n",
       "      <th>CASE_STATUS</th>\n",
       "      <th>CASE_RECEIVED_DATE</th>\n",
       "      <th>DECISION_ELAPSED_DAYS</th>\n",
       "      <th>DECISION_ELAPSED_YEARS</th>\n",
       "      <th>EMPLOYER_NAME</th>\n",
       "      <th>EMPLOYER_CITY</th>\n",
       "      <th>...</th>\n",
       "      <th>FW_INFO_POSTAL_CODE</th>\n",
       "      <th>COUNTRY_OF_CITIZENSHIP</th>\n",
       "      <th>FW_INFO_BIRTH_COUNTRY</th>\n",
       "      <th>CLASS_OF_ADMISSION</th>\n",
       "      <th>FOREIGN_WORKER_INFO_EDUCATION</th>\n",
       "      <th>FW_INFO_EDUCATION_OTHER</th>\n",
       "      <th>DECISION_DATE_YEAR</th>\n",
       "      <th>DECISION_DATE_MONTH</th>\n",
       "      <th>CASE_RECEIVED_DATE_YEAR</th>\n",
       "      <th>CASE_RECEIVED_DATE_MONTH</th>\n",
       "    </tr>\n",
       "  </thead>\n",
       "  <tbody>\n",
       "    <tr>\n",
       "      <th>0</th>\n",
       "      <td>NaN</td>\n",
       "      <td>25</td>\n",
       "      <td>A-14246-03533</td>\n",
       "      <td>2015-06-22</td>\n",
       "      <td>Certified</td>\n",
       "      <td>2014-12-19</td>\n",
       "      <td>185</td>\n",
       "      <td>0.506849</td>\n",
       "      <td>CITRIX SYSTEMS, INC.</td>\n",
       "      <td>FORT LAUDERDALE</td>\n",
       "      <td>...</td>\n",
       "      <td>1973-03-30 00:00:00</td>\n",
       "      <td>CHINA</td>\n",
       "      <td>CHINA</td>\n",
       "      <td>H-1B</td>\n",
       "      <td>Master's</td>\n",
       "      <td>NaN</td>\n",
       "      <td>2015</td>\n",
       "      <td>6</td>\n",
       "      <td>2014.0</td>\n",
       "      <td>12.0</td>\n",
       "    </tr>\n",
       "    <tr>\n",
       "      <th>1</th>\n",
       "      <td>NaN</td>\n",
       "      <td>28</td>\n",
       "      <td>A-14198-89806</td>\n",
       "      <td>2015-04-06</td>\n",
       "      <td>Certified</td>\n",
       "      <td>2014-07-18</td>\n",
       "      <td>262</td>\n",
       "      <td>0.717808</td>\n",
       "      <td>COGNIZANT TECHNOLOGY SOLUTIONS US CORPORATION</td>\n",
       "      <td>COLLEGE STATION</td>\n",
       "      <td>...</td>\n",
       "      <td>75063</td>\n",
       "      <td>INDIA</td>\n",
       "      <td>INDIA</td>\n",
       "      <td>H-1B</td>\n",
       "      <td>Bachelor's</td>\n",
       "      <td>NaN</td>\n",
       "      <td>2015</td>\n",
       "      <td>4</td>\n",
       "      <td>2014.0</td>\n",
       "      <td>7.0</td>\n",
       "    </tr>\n",
       "    <tr>\n",
       "      <th>2</th>\n",
       "      <td>NaN</td>\n",
       "      <td>35</td>\n",
       "      <td>A-14222-96825</td>\n",
       "      <td>2015-06-24</td>\n",
       "      <td>Certified</td>\n",
       "      <td>2014-12-11</td>\n",
       "      <td>195</td>\n",
       "      <td>0.534247</td>\n",
       "      <td>SAT SOLUTIONS LLC</td>\n",
       "      <td>MONROE</td>\n",
       "      <td>...</td>\n",
       "      <td>75001</td>\n",
       "      <td>INDIA</td>\n",
       "      <td>INDIA</td>\n",
       "      <td>H-1B</td>\n",
       "      <td>Bachelor's</td>\n",
       "      <td>NaN</td>\n",
       "      <td>2015</td>\n",
       "      <td>6</td>\n",
       "      <td>2014.0</td>\n",
       "      <td>12.0</td>\n",
       "    </tr>\n",
       "    <tr>\n",
       "      <th>3</th>\n",
       "      <td>NaN</td>\n",
       "      <td>61</td>\n",
       "      <td>A-13216-85505</td>\n",
       "      <td>2015-05-29</td>\n",
       "      <td>Certified</td>\n",
       "      <td>2013-08-05</td>\n",
       "      <td>662</td>\n",
       "      <td>1.813699</td>\n",
       "      <td>KOCH FOODS OF ALABAMA, LLC</td>\n",
       "      <td>MONTGOMERY</td>\n",
       "      <td>...</td>\n",
       "      <td>210001</td>\n",
       "      <td>CHINA</td>\n",
       "      <td>CHINA</td>\n",
       "      <td>NaN</td>\n",
       "      <td>Associate's</td>\n",
       "      <td>NaN</td>\n",
       "      <td>2015</td>\n",
       "      <td>5</td>\n",
       "      <td>2013.0</td>\n",
       "      <td>8.0</td>\n",
       "    </tr>\n",
       "    <tr>\n",
       "      <th>4</th>\n",
       "      <td>NaN</td>\n",
       "      <td>63</td>\n",
       "      <td>A-13179-76467</td>\n",
       "      <td>2015-04-20</td>\n",
       "      <td>Certified</td>\n",
       "      <td>2013-06-28</td>\n",
       "      <td>661</td>\n",
       "      <td>1.810959</td>\n",
       "      <td>FARROKH ERFAN</td>\n",
       "      <td>GAITHERSBURG</td>\n",
       "      <td>...</td>\n",
       "      <td>NaN</td>\n",
       "      <td>IRAN</td>\n",
       "      <td>IRAN</td>\n",
       "      <td>NaN</td>\n",
       "      <td>Bachelor's</td>\n",
       "      <td>NaN</td>\n",
       "      <td>2015</td>\n",
       "      <td>4</td>\n",
       "      <td>2013.0</td>\n",
       "      <td>6.0</td>\n",
       "    </tr>\n",
       "  </tbody>\n",
       "</table>\n",
       "<p>5 rows × 39 columns</p>\n",
       "</div>"
      ],
      "text/plain": [
       "   Unnamed: 0  Unnamed: 1    CASE_NUMBER DECISION_DATE CASE_STATUS  \\\n",
       "0         NaN          25  A-14246-03533    2015-06-22   Certified   \n",
       "1         NaN          28  A-14198-89806    2015-04-06   Certified   \n",
       "2         NaN          35  A-14222-96825    2015-06-24   Certified   \n",
       "3         NaN          61  A-13216-85505    2015-05-29   Certified   \n",
       "4         NaN          63  A-13179-76467    2015-04-20   Certified   \n",
       "\n",
       "  CASE_RECEIVED_DATE  DECISION_ELAPSED_DAYS  DECISION_ELAPSED_YEARS  \\\n",
       "0         2014-12-19                    185                0.506849   \n",
       "1         2014-07-18                    262                0.717808   \n",
       "2         2014-12-11                    195                0.534247   \n",
       "3         2013-08-05                    662                1.813699   \n",
       "4         2013-06-28                    661                1.810959   \n",
       "\n",
       "                                   EMPLOYER_NAME    EMPLOYER_CITY  \\\n",
       "0                           CITRIX SYSTEMS, INC.  FORT LAUDERDALE   \n",
       "1  COGNIZANT TECHNOLOGY SOLUTIONS US CORPORATION  COLLEGE STATION   \n",
       "2                              SAT SOLUTIONS LLC           MONROE   \n",
       "3                     KOCH FOODS OF ALABAMA, LLC       MONTGOMERY   \n",
       "4                                  FARROKH ERFAN     GAITHERSBURG   \n",
       "\n",
       "             ...             FW_INFO_POSTAL_CODE COUNTRY_OF_CITIZENSHIP  \\\n",
       "0            ...             1973-03-30 00:00:00                  CHINA   \n",
       "1            ...                           75063                  INDIA   \n",
       "2            ...                           75001                  INDIA   \n",
       "3            ...                          210001                  CHINA   \n",
       "4            ...                             NaN                   IRAN   \n",
       "\n",
       "   FW_INFO_BIRTH_COUNTRY CLASS_OF_ADMISSION FOREIGN_WORKER_INFO_EDUCATION  \\\n",
       "0                  CHINA               H-1B                      Master's   \n",
       "1                  INDIA               H-1B                    Bachelor's   \n",
       "2                  INDIA               H-1B                    Bachelor's   \n",
       "3                  CHINA                NaN                   Associate's   \n",
       "4                   IRAN                NaN                    Bachelor's   \n",
       "\n",
       "  FW_INFO_EDUCATION_OTHER DECISION_DATE_YEAR DECISION_DATE_MONTH  \\\n",
       "0                     NaN               2015                   6   \n",
       "1                     NaN               2015                   4   \n",
       "2                     NaN               2015                   6   \n",
       "3                     NaN               2015                   5   \n",
       "4                     NaN               2015                   4   \n",
       "\n",
       "   CASE_RECEIVED_DATE_YEAR  CASE_RECEIVED_DATE_MONTH  \n",
       "0                   2014.0                      12.0  \n",
       "1                   2014.0                       7.0  \n",
       "2                   2014.0                      12.0  \n",
       "3                   2013.0                       8.0  \n",
       "4                   2013.0                       6.0  \n",
       "\n",
       "[5 rows x 39 columns]"
      ]
     },
     "execution_count": 3,
     "metadata": {},
     "output_type": "execute_result"
    }
   ],
   "source": [
    "data.head()"
   ]
  },
  {
   "cell_type": "code",
   "execution_count": 4,
   "metadata": {},
   "outputs": [],
   "source": [
    "data2 = data.loc[data['COUNTRY_OF_CITIZENSHIP'] == 'GREECE']"
   ]
  },
  {
   "cell_type": "code",
   "execution_count": 5,
   "metadata": {},
   "outputs": [
    {
     "data": {
      "text/plain": [
       "GREECE    401\n",
       "Name: COUNTRY_OF_CITIZENSHIP, dtype: int64"
      ]
     },
     "execution_count": 5,
     "metadata": {},
     "output_type": "execute_result"
    }
   ],
   "source": [
    "data2['COUNTRY_OF_CITIZENSHIP'].value_counts()"
   ]
  },
  {
   "cell_type": "code",
   "execution_count": 6,
   "metadata": {},
   "outputs": [],
   "source": [
    "data3 = data2.loc[data2['WAGE_OFFER_UNIT_OF_PAY_9089'] == 'Year']"
   ]
  },
  {
   "cell_type": "code",
   "execution_count": 7,
   "metadata": {},
   "outputs": [
    {
     "data": {
      "text/plain": [
       "Year    387\n",
       "Name: WAGE_OFFER_UNIT_OF_PAY_9089, dtype: int64"
      ]
     },
     "execution_count": 7,
     "metadata": {},
     "output_type": "execute_result"
    }
   ],
   "source": [
    "data3['WAGE_OFFER_UNIT_OF_PAY_9089'].value_counts()"
   ]
  },
  {
   "cell_type": "code",
   "execution_count": 8,
   "metadata": {},
   "outputs": [
    {
     "data": {
      "text/plain": [
       "Index(['Unnamed: 0', 'Unnamed: 1', 'CASE_NUMBER', 'DECISION_DATE',\n",
       "       'CASE_STATUS', 'CASE_RECEIVED_DATE', 'DECISION_ELAPSED_DAYS',\n",
       "       'DECISION_ELAPSED_YEARS', 'EMPLOYER_NAME', 'EMPLOYER_CITY',\n",
       "       'EMPLOYER_STATE', 'EMPLOYER_POSTAL_CODE', 'EMPLOYER_NUM_EMPLOYEES',\n",
       "       'AGENT_FIRM_NAME', 'AGENT_CITY', 'AGENT_STATE', 'PW_SOC_CODE',\n",
       "       'PW_SOC_TITLE', 'PW_AMOUNT_9089', 'WAGE_OFFER_FROM_9089',\n",
       "       'WAGE_OFFER_UNIT_OF_PAY_9089', 'JOB_INFO_WORK_CITY',\n",
       "       'JOB_INFO_WORK_STATE', 'JOB_INFO_WORK_POSTAL_CODE',\n",
       "       'JOB_INFO_JOB_TITLE', 'JOB_INFO_EDUCATION', 'JOB_INFO_EDUCATION_OTHER',\n",
       "       'FOREIGN_WORKER_INFO_CITY', 'FOREIGN_WORKER_INFO_STATE',\n",
       "       'FW_INFO_POSTAL_CODE', 'COUNTRY_OF_CITIZENSHIP',\n",
       "       'FW_INFO_BIRTH_COUNTRY', 'CLASS_OF_ADMISSION',\n",
       "       'FOREIGN_WORKER_INFO_EDUCATION', 'FW_INFO_EDUCATION_OTHER',\n",
       "       'DECISION_DATE_YEAR', 'DECISION_DATE_MONTH', 'CASE_RECEIVED_DATE_YEAR',\n",
       "       'CASE_RECEIVED_DATE_MONTH'],\n",
       "      dtype='object')"
      ]
     },
     "execution_count": 8,
     "metadata": {},
     "output_type": "execute_result"
    }
   ],
   "source": [
    "data3.columns"
   ]
  },
  {
   "cell_type": "code",
   "execution_count": 9,
   "metadata": {},
   "outputs": [],
   "source": [
    "data4 = data3[[\n",
    "    'CASE_STATUS',\n",
    "    'DECISION_ELAPSED_DAYS',\n",
    "    'EMPLOYER_POSTAL_CODE',\n",
    "    'EMPLOYER_STATE',\n",
    "    'EMPLOYER_NUM_EMPLOYEES',\n",
    "    'WAGE_OFFER_FROM_9089',\n",
    "    'COUNTRY_OF_CITIZENSHIP',\n",
    "    'CLASS_OF_ADMISSION',\n",
    "    'FOREIGN_WORKER_INFO_EDUCATION',\n",
    "    'CASE_RECEIVED_DATE_MONTH'\n",
    "]]"
   ]
  },
  {
   "cell_type": "code",
   "execution_count": 10,
   "metadata": {},
   "outputs": [
    {
     "data": {
      "text/html": [
       "<div>\n",
       "<style scoped>\n",
       "    .dataframe tbody tr th:only-of-type {\n",
       "        vertical-align: middle;\n",
       "    }\n",
       "\n",
       "    .dataframe tbody tr th {\n",
       "        vertical-align: top;\n",
       "    }\n",
       "\n",
       "    .dataframe thead th {\n",
       "        text-align: right;\n",
       "    }\n",
       "</style>\n",
       "<table border=\"1\" class=\"dataframe\">\n",
       "  <thead>\n",
       "    <tr style=\"text-align: right;\">\n",
       "      <th></th>\n",
       "      <th>CASE_STATUS</th>\n",
       "      <th>DECISION_ELAPSED_DAYS</th>\n",
       "      <th>EMPLOYER_POSTAL_CODE</th>\n",
       "      <th>EMPLOYER_STATE</th>\n",
       "      <th>EMPLOYER_NUM_EMPLOYEES</th>\n",
       "      <th>WAGE_OFFER_FROM_9089</th>\n",
       "      <th>COUNTRY_OF_CITIZENSHIP</th>\n",
       "      <th>CLASS_OF_ADMISSION</th>\n",
       "      <th>FOREIGN_WORKER_INFO_EDUCATION</th>\n",
       "      <th>CASE_RECEIVED_DATE_MONTH</th>\n",
       "    </tr>\n",
       "  </thead>\n",
       "  <tbody>\n",
       "    <tr>\n",
       "      <th>486</th>\n",
       "      <td>Certified</td>\n",
       "      <td>525</td>\n",
       "      <td>10013</td>\n",
       "      <td>NEW YORK</td>\n",
       "      <td>16.0</td>\n",
       "      <td>68536.0</td>\n",
       "      <td>GREECE</td>\n",
       "      <td>H-1B</td>\n",
       "      <td>Master's</td>\n",
       "      <td>1.0</td>\n",
       "    </tr>\n",
       "    <tr>\n",
       "      <th>1050</th>\n",
       "      <td>Certified</td>\n",
       "      <td>172</td>\n",
       "      <td>07107</td>\n",
       "      <td>NEW JERSEY</td>\n",
       "      <td>5.0</td>\n",
       "      <td>171330.0</td>\n",
       "      <td>GREECE</td>\n",
       "      <td>B-2</td>\n",
       "      <td>Bachelor's</td>\n",
       "      <td>11.0</td>\n",
       "    </tr>\n",
       "    <tr>\n",
       "      <th>1312</th>\n",
       "      <td>Certified</td>\n",
       "      <td>186</td>\n",
       "      <td>95054</td>\n",
       "      <td>CALIFORNIA</td>\n",
       "      <td>73.0</td>\n",
       "      <td>152776.0</td>\n",
       "      <td>GREECE</td>\n",
       "      <td>NaN</td>\n",
       "      <td>Bachelor's</td>\n",
       "      <td>3.0</td>\n",
       "    </tr>\n",
       "    <tr>\n",
       "      <th>1715</th>\n",
       "      <td>Certified</td>\n",
       "      <td>193</td>\n",
       "      <td>02472</td>\n",
       "      <td>MASSACHUSETTS</td>\n",
       "      <td>9.0</td>\n",
       "      <td>59259.0</td>\n",
       "      <td>GREECE</td>\n",
       "      <td>NaN</td>\n",
       "      <td>None</td>\n",
       "      <td>2.0</td>\n",
       "    </tr>\n",
       "    <tr>\n",
       "      <th>2112</th>\n",
       "      <td>Certified</td>\n",
       "      <td>174</td>\n",
       "      <td>10022</td>\n",
       "      <td>NEW YORK</td>\n",
       "      <td>4500.0</td>\n",
       "      <td>160000.0</td>\n",
       "      <td>GREECE</td>\n",
       "      <td>L-1</td>\n",
       "      <td>Master's</td>\n",
       "      <td>11.0</td>\n",
       "    </tr>\n",
       "  </tbody>\n",
       "</table>\n",
       "</div>"
      ],
      "text/plain": [
       "     CASE_STATUS  DECISION_ELAPSED_DAYS EMPLOYER_POSTAL_CODE EMPLOYER_STATE  \\\n",
       "486    Certified                    525                10013       NEW YORK   \n",
       "1050   Certified                    172                07107     NEW JERSEY   \n",
       "1312   Certified                    186                95054     CALIFORNIA   \n",
       "1715   Certified                    193                02472  MASSACHUSETTS   \n",
       "2112   Certified                    174                10022       NEW YORK   \n",
       "\n",
       "      EMPLOYER_NUM_EMPLOYEES  WAGE_OFFER_FROM_9089 COUNTRY_OF_CITIZENSHIP  \\\n",
       "486                     16.0               68536.0                 GREECE   \n",
       "1050                     5.0              171330.0                 GREECE   \n",
       "1312                    73.0              152776.0                 GREECE   \n",
       "1715                     9.0               59259.0                 GREECE   \n",
       "2112                  4500.0              160000.0                 GREECE   \n",
       "\n",
       "     CLASS_OF_ADMISSION FOREIGN_WORKER_INFO_EDUCATION  \\\n",
       "486                H-1B                      Master's   \n",
       "1050                B-2                    Bachelor's   \n",
       "1312                NaN                    Bachelor's   \n",
       "1715                NaN                          None   \n",
       "2112                L-1                      Master's   \n",
       "\n",
       "      CASE_RECEIVED_DATE_MONTH  \n",
       "486                        1.0  \n",
       "1050                      11.0  \n",
       "1312                       3.0  \n",
       "1715                       2.0  \n",
       "2112                      11.0  "
      ]
     },
     "execution_count": 10,
     "metadata": {},
     "output_type": "execute_result"
    }
   ],
   "source": [
    "data4.head()"
   ]
  },
  {
   "cell_type": "code",
   "execution_count": 11,
   "metadata": {},
   "outputs": [
    {
     "name": "stderr",
     "output_type": "stream",
     "text": [
      "C:\\Users\\kathleen.buckingham\\AppData\\Local\\Continuum\\anaconda3\\lib\\site-packages\\ipykernel_launcher.py:229: SettingWithCopyWarning: \n",
      "A value is trying to be set on a copy of a slice from a DataFrame.\n",
      "Try using .loc[row_indexer,col_indexer] = value instead\n",
      "\n",
      "See the caveats in the documentation: http://pandas.pydata.org/pandas-docs/stable/indexing.html#indexing-view-versus-copy\n"
     ]
    }
   ],
   "source": [
    "states = []\n",
    "\n",
    "for row in data4['EMPLOYER_STATE']:\n",
    "    if row == \"ME\":\n",
    "        states.append(\"MAINE\")\n",
    "    elif row == \"NH\":\n",
    "        states.append(\"NEW HAMPSHIRE\")\n",
    "    elif row == \"VT\":\n",
    "        states.append(\"VERMONT\")\n",
    "    elif row == \"MA\":\n",
    "        states.append(\"MASSACHUSETTS\")\n",
    "    elif row == \"RI\":\n",
    "        states.append(\"RHODE ISLAND\")\n",
    "    elif row == \"CT\":\n",
    "        states.append(\"CONNECTICUT\")\n",
    "    elif row == \"NY\":\n",
    "        states.append(\"NEW YORK\")\n",
    "    elif row == \"NJ\":\n",
    "        states.append(\"NEW JERSEY\")\n",
    "    elif row == \"PA\":\n",
    "        states.append(\"PENNSYLVANIA\")\n",
    "    elif row == \"DE\":\n",
    "        states.append(\"DELAWARE\")\n",
    "    elif row == \"MD\":\n",
    "        states.append(\"MARYLAND\")\n",
    "    elif row == \"DC\":\n",
    "        states.append(\"DISTRICT OF COLUMBIA\")\n",
    "    elif row == \"VA\":\n",
    "        states.append(\"VIRGINIA\")\n",
    "    elif row == \"WV\":\n",
    "        states.append(\"WEST VIRGINIA\")\n",
    "    elif row == \"NC\":\n",
    "        states.append(\"NORTH CAROLINA\")\n",
    "    elif row == \"SC\":\n",
    "        states.append(\"SOUTH CAROLINA\")\n",
    "    elif row == \"GA\":\n",
    "        states.append(\"GEORGIA\")\n",
    "    elif row == \"FL\":\n",
    "        states.append(\"FLORIDA\")\n",
    "    elif row == \"AL\":\n",
    "        states.append(\"ALABAMA\")\n",
    "    elif row == \"TN\":\n",
    "        states.append(\"TENNESSEE\")\n",
    "    elif row == \"TENNESSE\":\n",
    "        states.append(\"TENNESSEE\")\n",
    "    elif row == \"KY\":\n",
    "        states.append(\"KENTUCKY\")\n",
    "    elif row == \"OH\":\n",
    "        states.append(\"OHIO\")\n",
    "    elif row == \"MI\":\n",
    "        states.append(\"MICHIGAN\")\n",
    "    elif row == \"IN\":\n",
    "        states.append(\"INDIANA\")\n",
    "    elif row == \"MS\":\n",
    "        states.append(\"MISSISSIPPI\")\n",
    "    elif row == \"IL\":\n",
    "        states.append(\"ILLINOIS\")\n",
    "    elif row == \"WI\":\n",
    "        states.append(\"WISCONSIN\")\n",
    "    elif row == \"MN\":\n",
    "        states.append(\"MINNESOTA\")\n",
    "    elif row == \"IA\":\n",
    "        states.append(\"IOWA\")\n",
    "    elif row == \"MO\":\n",
    "        states.append(\"MISSOURI\")\n",
    "    elif row == \"AR\":\n",
    "        states.append(\"ARKANSAS\")\n",
    "    elif row == \"LA\":\n",
    "        states.append(\"LOUISIANA\")\n",
    "    elif row == \"ND\":\n",
    "        states.append(\"NORTH DAKOTA\")\n",
    "    elif row == \"SD\":\n",
    "        states.append(\"SOUTH DAKOTA\")\n",
    "    elif row == \"NE\":\n",
    "        states.append(\"NEBRASKA\")\n",
    "    elif row == \"KS\":\n",
    "        states.append(\"KANSAS\")\n",
    "    elif row == \"OK\":\n",
    "        states.append(\"OKLAHOMA\")\n",
    "    elif row == \"TX\":\n",
    "        states.append(\"TEXAS\")\n",
    "    elif row == \"MT\":\n",
    "        states.append(\"MONTANA\")\n",
    "    elif row == \"WY\":\n",
    "        states.append(\"WYOMING\")\n",
    "    elif row == \"CO\":\n",
    "        states.append(\"COLORADO\")\n",
    "    elif row == \"NM\":\n",
    "        states.append(\"NEW MEXICO\")\n",
    "    elif row == \"ID\":\n",
    "        states.append(\"IDAHO\")\n",
    "    elif row == \"UT\":\n",
    "        states.append(\"UTAH\")\n",
    "    elif row == \"AZ\":\n",
    "        states.append(\"ARIZONA\")\n",
    "    elif row == \"WA\":\n",
    "        states.append(\"WASHINGTON\")\n",
    "    elif row == \"OR\":\n",
    "        states.append(\"OREGON\")\n",
    "    elif row == \"NV\":\n",
    "        states.append(\"NEVADA\")\n",
    "    elif row == \"CA\":\n",
    "        states.append(\"CALIFORNIA\")\n",
    "    elif row == \"AK\":\n",
    "        states.append(\"ALASKA\")\n",
    "    elif row == \"HI\":\n",
    "        states.append(\"HAWAII\")\n",
    "    elif row == \"PR\":\n",
    "        states.append(\"PUERTO RICO\")\n",
    "    elif row == \"MP\":\n",
    "        states.append(\"NORTHERN MARIANA ISLANDS\")\n",
    "    elif row == \"VI\":\n",
    "        states.append(\"VIRGIN ISLANDS\")\n",
    "    elif row == \"GU\":\n",
    "        states.append(\"GUAM\")\n",
    "    elif row == \"NEW HAMPSHIRE\":\n",
    "        states.append(\"NEW HAMPSHIRE\")\n",
    "    elif row == \"VERMONT\":\n",
    "        states.append(\"VERMONT\")\n",
    "    elif row == \"MASSACHUSETTS\":\n",
    "        states.append(\"MASSACHUSETTS\")\n",
    "    elif row == \"RHODE ISLAND\":\n",
    "        states.append(\"RHODE ISLAND\")\n",
    "    elif row == \"CONNECTICUT\":\n",
    "        states.append(\"CONNECTICUT\")\n",
    "    elif row == \"NEW YORK\":\n",
    "        states.append(\"NEW YORK\")\n",
    "    elif row == \"NEW JERSEY\":\n",
    "        states.append(\"NEW JERSEY\")\n",
    "    elif row == \"PENNSYLVANIA\":\n",
    "        states.append(\"PENNSYLVANIA\")\n",
    "    elif row == \"DELAWARE\":\n",
    "        states.append(\"DELAWARE\")\n",
    "    elif row == \"MARYLAND\":\n",
    "        states.append(\"MARYLAND\")\n",
    "    elif row == \"DISTRICT OF COLUMBIA\":\n",
    "        states.append(\"DISTRICT OF COLUMBIA\")\n",
    "    elif row == \"VIRGINIA\":\n",
    "        states.append(\"VIRGINIA\")\n",
    "    elif row == \"WEST VIRGINIA\":\n",
    "        states.append(\"WEST VIRGINIA\")\n",
    "    elif row == \"NORTH CAROLINA\":\n",
    "        states.append(\"NORTH CAROLINA\")\n",
    "    elif row == \"SOUTH CAROLINA\":\n",
    "        states.append(\"SOUTH CAROLINA\")\n",
    "    elif row == \"GEORGIA\":\n",
    "        states.append(\"GEORGIA\")\n",
    "    elif row == \"FLORIDA\":\n",
    "        states.append(\"FLORIDA\")\n",
    "    elif row == \"ALABAMA\":\n",
    "        states.append(\"ALABAMA\")\n",
    "    elif row == \"TENNESSEE\":\n",
    "        states.append(\"TENNESSEE\")\n",
    "    elif row == \"TENNESSEE\":\n",
    "        states.append(\"TENNESSEE\")\n",
    "    elif row == \"KENTUCKY\":\n",
    "        states.append(\"KENTUCKY\")\n",
    "    elif row == \"OHIO\":\n",
    "        states.append(\"OHIO\")\n",
    "    elif row == \"MICHIGAN\":\n",
    "        states.append(\"MICHIGAN\")\n",
    "    elif row == \"INDIANA\":\n",
    "        states.append(\"INDIANA\")\n",
    "    elif row == \"MISSISSIPPI\":\n",
    "        states.append(\"MISSISSIPPI\")\n",
    "    elif row == \"ILLINOIS\":\n",
    "        states.append(\"ILLINOIS\")\n",
    "    elif row == \"WISCONSIN\":\n",
    "        states.append(\"WISCONSIN\")\n",
    "    elif row == \"MINNESOTA\":\n",
    "        states.append(\"MINNESOTA\")\n",
    "    elif row == \"IOWA\":\n",
    "        states.append(\"IOWA\")\n",
    "    elif row == \"MISSOURI\":\n",
    "        states.append(\"MISSOURI\")\n",
    "    elif row == \"ARKANSAS\":\n",
    "        states.append(\"ARKANSAS\")\n",
    "    elif row == \"LOUISIANA\":\n",
    "        states.append(\"LOUISIANA\")\n",
    "    elif row == \"NORTH DAKOTA\":\n",
    "        states.append(\"NORTH DAKOTA\")\n",
    "    elif row == \"SOUTH DAKOTA\":\n",
    "        states.append(\"SOUTH DAKOTA\")\n",
    "    elif row == \"NEBRASKA\":\n",
    "        states.append(\"NEBRASKA\")\n",
    "    elif row == \"KANSAS\":\n",
    "        states.append(\"KANSAS\")\n",
    "    elif row == \"OKLAHOMA\":\n",
    "        states.append(\"OKLAHOMA\")\n",
    "    elif row == \"TEXAS\":\n",
    "        states.append(\"TEXAS\")\n",
    "    elif row == \"MONTANA\":\n",
    "        states.append(\"MONTANA\")\n",
    "    elif row == \"WYOMING\":\n",
    "        states.append(\"WYOMING\")\n",
    "    elif row == \"COLORADO\":\n",
    "        states.append(\"COLORADO\")\n",
    "    elif row == \"NEW MEXICO\":\n",
    "        states.append(\"NEW MEXICO\")\n",
    "    elif row == \"IDAHO\":\n",
    "        states.append(\"IDAHO\")\n",
    "    elif row == \"UTAH\":\n",
    "        states.append(\"UTAH\")\n",
    "    elif row == \"ARIZONA\":\n",
    "        states.append(\"ARIZONA\")\n",
    "    elif row == \"WASHINGTON\":\n",
    "        states.append(\"WASHINGTON\")\n",
    "    elif row == \"OREGON\":\n",
    "        states.append(\"OREGON\")\n",
    "    elif row == \"NEVADA\":\n",
    "        states.append(\"NEVADA\")\n",
    "    elif row == \"CALIFORNIA\":\n",
    "        states.append(\"CALIFORNIA\")\n",
    "    elif row == \"ALASKA\":\n",
    "        states.append(\"ALASKA\")\n",
    "    elif row == \"HAWAII\":\n",
    "        states.append(\"HAWAII\")\n",
    "    elif row == \"PUERTO RICO\":\n",
    "        states.append(\"PUERTO RICO\")\n",
    "    elif row == \"NORTHERN MARIANA ISLANDS\":\n",
    "        states.append(\"NORTHERN MARIANA ISLANDS\")\n",
    "    elif row == \"VIRGIN ISLANDS\":\n",
    "        states.append(\"VIRGIN ISLANDS\")\n",
    "    elif row == \"GUAM\":\n",
    "        states.append(\"GUAM\")\n",
    "    else:\n",
    "        states.append(\"UNKNOWN\")\n",
    "        \n",
    "data4['EMPLOYER_STATES'] = states"
   ]
  },
  {
   "cell_type": "code",
   "execution_count": 12,
   "metadata": {},
   "outputs": [
    {
     "data": {
      "text/plain": [
       "NEW YORK                81\n",
       "CALIFORNIA              66\n",
       "PENNSYLVANIA            23\n",
       "NEW JERSEY              22\n",
       "TEXAS                   22\n",
       "ILLINOIS                19\n",
       "FLORIDA                 18\n",
       "WASHINGTON              18\n",
       "MASSACHUSETTS           17\n",
       "VIRGINIA                 9\n",
       "MICHIGAN                 9\n",
       "GEORGIA                  8\n",
       "CONNECTICUT              7\n",
       "MAINE                    5\n",
       "DISTRICT OF COLUMBIA     5\n",
       "SOUTH CAROLINA           5\n",
       "DELAWARE                 4\n",
       "INDIANA                  4\n",
       "WISCONSIN                4\n",
       "MARYLAND                 4\n",
       "IOWA                     3\n",
       "LOUISIANA                3\n",
       "ALABAMA                  3\n",
       "MINNESOTA                3\n",
       "NORTH CAROLINA           3\n",
       "MISSISSIPPI              2\n",
       "NEBRASKA                 2\n",
       "NORTH DAKOTA             2\n",
       "MISSOURI                 2\n",
       "ARIZONA                  2\n",
       "OHIO                     2\n",
       "UTAH                     2\n",
       "TENNESSEE                2\n",
       "COLORADO                 2\n",
       "KANSAS                   1\n",
       "UNKNOWN                  1\n",
       "KENTUCKY                 1\n",
       "MONTANA                  1\n",
       "Name: EMPLOYER_STATES, dtype: int64"
      ]
     },
     "execution_count": 12,
     "metadata": {},
     "output_type": "execute_result"
    }
   ],
   "source": [
    "data4['EMPLOYER_STATES'].value_counts()"
   ]
  },
  {
   "cell_type": "code",
   "execution_count": 13,
   "metadata": {},
   "outputs": [],
   "source": [
    "data5 = data4.dropna(how='any')"
   ]
  },
  {
   "cell_type": "code",
   "execution_count": 14,
   "metadata": {},
   "outputs": [
    {
     "data": {
      "text/html": [
       "<div>\n",
       "<style scoped>\n",
       "    .dataframe tbody tr th:only-of-type {\n",
       "        vertical-align: middle;\n",
       "    }\n",
       "\n",
       "    .dataframe tbody tr th {\n",
       "        vertical-align: top;\n",
       "    }\n",
       "\n",
       "    .dataframe thead th {\n",
       "        text-align: right;\n",
       "    }\n",
       "</style>\n",
       "<table border=\"1\" class=\"dataframe\">\n",
       "  <thead>\n",
       "    <tr style=\"text-align: right;\">\n",
       "      <th></th>\n",
       "      <th>CASE_STATUS</th>\n",
       "      <th>DECISION_ELAPSED_DAYS</th>\n",
       "      <th>EMPLOYER_POSTAL_CODE</th>\n",
       "      <th>EMPLOYER_STATE</th>\n",
       "      <th>EMPLOYER_NUM_EMPLOYEES</th>\n",
       "      <th>WAGE_OFFER_FROM_9089</th>\n",
       "      <th>COUNTRY_OF_CITIZENSHIP</th>\n",
       "      <th>CLASS_OF_ADMISSION</th>\n",
       "      <th>FOREIGN_WORKER_INFO_EDUCATION</th>\n",
       "      <th>CASE_RECEIVED_DATE_MONTH</th>\n",
       "      <th>EMPLOYER_STATES</th>\n",
       "    </tr>\n",
       "  </thead>\n",
       "  <tbody>\n",
       "    <tr>\n",
       "      <th>486</th>\n",
       "      <td>Certified</td>\n",
       "      <td>525</td>\n",
       "      <td>10013</td>\n",
       "      <td>NEW YORK</td>\n",
       "      <td>16.0</td>\n",
       "      <td>68536.0</td>\n",
       "      <td>GREECE</td>\n",
       "      <td>H-1B</td>\n",
       "      <td>Master's</td>\n",
       "      <td>1.0</td>\n",
       "      <td>NEW YORK</td>\n",
       "    </tr>\n",
       "    <tr>\n",
       "      <th>1050</th>\n",
       "      <td>Certified</td>\n",
       "      <td>172</td>\n",
       "      <td>07107</td>\n",
       "      <td>NEW JERSEY</td>\n",
       "      <td>5.0</td>\n",
       "      <td>171330.0</td>\n",
       "      <td>GREECE</td>\n",
       "      <td>B-2</td>\n",
       "      <td>Bachelor's</td>\n",
       "      <td>11.0</td>\n",
       "      <td>NEW JERSEY</td>\n",
       "    </tr>\n",
       "    <tr>\n",
       "      <th>2112</th>\n",
       "      <td>Certified</td>\n",
       "      <td>174</td>\n",
       "      <td>10022</td>\n",
       "      <td>NEW YORK</td>\n",
       "      <td>4500.0</td>\n",
       "      <td>160000.0</td>\n",
       "      <td>GREECE</td>\n",
       "      <td>L-1</td>\n",
       "      <td>Master's</td>\n",
       "      <td>11.0</td>\n",
       "      <td>NEW YORK</td>\n",
       "    </tr>\n",
       "    <tr>\n",
       "      <th>2262</th>\n",
       "      <td>Certified</td>\n",
       "      <td>167</td>\n",
       "      <td>68503-3610</td>\n",
       "      <td>NEBRASKA</td>\n",
       "      <td>354.0</td>\n",
       "      <td>405000.0</td>\n",
       "      <td>GREECE</td>\n",
       "      <td>H-1B</td>\n",
       "      <td>Other</td>\n",
       "      <td>10.0</td>\n",
       "      <td>NEBRASKA</td>\n",
       "    </tr>\n",
       "    <tr>\n",
       "      <th>2337</th>\n",
       "      <td>Certified</td>\n",
       "      <td>166</td>\n",
       "      <td>94105</td>\n",
       "      <td>CALIFORNIA</td>\n",
       "      <td>104.0</td>\n",
       "      <td>134650.0</td>\n",
       "      <td>GREECE</td>\n",
       "      <td>H-1B</td>\n",
       "      <td>Master's</td>\n",
       "      <td>10.0</td>\n",
       "      <td>CALIFORNIA</td>\n",
       "    </tr>\n",
       "  </tbody>\n",
       "</table>\n",
       "</div>"
      ],
      "text/plain": [
       "     CASE_STATUS  DECISION_ELAPSED_DAYS EMPLOYER_POSTAL_CODE EMPLOYER_STATE  \\\n",
       "486    Certified                    525                10013       NEW YORK   \n",
       "1050   Certified                    172                07107     NEW JERSEY   \n",
       "2112   Certified                    174                10022       NEW YORK   \n",
       "2262   Certified                    167           68503-3610       NEBRASKA   \n",
       "2337   Certified                    166                94105     CALIFORNIA   \n",
       "\n",
       "      EMPLOYER_NUM_EMPLOYEES  WAGE_OFFER_FROM_9089 COUNTRY_OF_CITIZENSHIP  \\\n",
       "486                     16.0               68536.0                 GREECE   \n",
       "1050                     5.0              171330.0                 GREECE   \n",
       "2112                  4500.0              160000.0                 GREECE   \n",
       "2262                   354.0              405000.0                 GREECE   \n",
       "2337                   104.0              134650.0                 GREECE   \n",
       "\n",
       "     CLASS_OF_ADMISSION FOREIGN_WORKER_INFO_EDUCATION  \\\n",
       "486                H-1B                      Master's   \n",
       "1050                B-2                    Bachelor's   \n",
       "2112                L-1                      Master's   \n",
       "2262               H-1B                         Other   \n",
       "2337               H-1B                      Master's   \n",
       "\n",
       "      CASE_RECEIVED_DATE_MONTH EMPLOYER_STATES  \n",
       "486                        1.0        NEW YORK  \n",
       "1050                      11.0      NEW JERSEY  \n",
       "2112                      11.0        NEW YORK  \n",
       "2262                      10.0        NEBRASKA  \n",
       "2337                      10.0      CALIFORNIA  "
      ]
     },
     "execution_count": 14,
     "metadata": {},
     "output_type": "execute_result"
    }
   ],
   "source": [
    "data5.head()"
   ]
  },
  {
   "cell_type": "code",
   "execution_count": 15,
   "metadata": {},
   "outputs": [
    {
     "name": "stderr",
     "output_type": "stream",
     "text": [
      "C:\\Users\\kathleen.buckingham\\AppData\\Local\\Continuum\\anaconda3\\lib\\site-packages\\ipykernel_launcher.py:119: SettingWithCopyWarning: \n",
      "A value is trying to be set on a copy of a slice from a DataFrame.\n",
      "Try using .loc[row_indexer,col_indexer] = value instead\n",
      "\n",
      "See the caveats in the documentation: http://pandas.pydata.org/pandas-docs/stable/indexing.html#indexing-view-versus-copy\n"
     ]
    }
   ],
   "source": [
    "states = []\n",
    "\n",
    "for row in data5['EMPLOYER_STATES']:\n",
    "    if row == \"MAINE\":\n",
    "        states.append(\"NORTHEAST\")\n",
    "    elif row == \"NEW HAMPSHIRE\":\n",
    "        states.append(\"NORTHEAST\")\n",
    "    elif row == \"VERMONT\":\n",
    "        states.append(\"NORTHEAST\")\n",
    "    elif row == \"MASSACHUSETTS\":\n",
    "        states.append(\"NORTHEAST\")\n",
    "    elif row == \"RHODE ISLAND\":\n",
    "        states.append(\"NORTHEAST\")\n",
    "    elif row == \"CONNECTICUT\":\n",
    "        states.append(\"NORTHEAST\")\n",
    "    elif row == \"NEW YORK\":\n",
    "        states.append(\"NORTHEAST\")\n",
    "    elif row == \"NEW JERSEY\":\n",
    "        states.append(\"NORTHEAST\")\n",
    "    elif row == \"PENNSYLVANIA\":\n",
    "        states.append(\"NORTHEAST\")\n",
    "    elif row == \"DELAWARE\":\n",
    "        states.append(\"SOUTH\")\n",
    "    elif row == \"MARYLAND\":\n",
    "        states.append(\"SOUTH\")\n",
    "    elif row == \"DISTRICT OF COLUMBIA\":\n",
    "        states.append(\"SOUTH\")\n",
    "    elif row == \"VIRGINIA\":\n",
    "        states.append(\"SOUTH\")\n",
    "    elif row == \"WEST VIRGINIA\":\n",
    "        states.append(\"SOUTH\")\n",
    "    elif row == \"NORTH CAROLINA\":\n",
    "        states.append(\"SOUTH\")\n",
    "    elif row == \"SOUTH CAROLINA\":\n",
    "        states.append(\"SOUTH\")\n",
    "    elif row == \"GEORGIA\":\n",
    "        states.append(\"SOUTH\")\n",
    "    elif row == \"FLORIDA\":\n",
    "        states.append(\"SOUTH\")\n",
    "    elif row == \"ALABAMA\":\n",
    "        states.append(\"SOUTH\")\n",
    "    elif row == \"TENNESSE\":\n",
    "        states.append(\"SOUTH\")\n",
    "    elif row == \"KENTUCKY\":\n",
    "        states.append(\"SOUTH\")\n",
    "    elif row == \"OHIO\":\n",
    "        states.append(\"MIDWEST\")\n",
    "    elif row == \"MICHIGAN\":\n",
    "        states.append(\"MIDWEST\")\n",
    "    elif row == \"INDIANA\":\n",
    "        states.append(\"MIDWEST\")\n",
    "    elif row == \"MISSISSIPPI\":\n",
    "        states.append(\"SOUTH\")\n",
    "    elif row == \"ILLINOIS\":\n",
    "        states.append(\"MIDWEST\")\n",
    "    elif row == \"WISCONSIN\":\n",
    "        states.append(\"MIDWEST\")\n",
    "    elif row == \"MINNESOTA\":\n",
    "        states.append(\"MIDWEST\")\n",
    "    elif row == \"IOWA\":\n",
    "        states.append(\"MIDWEST\")\n",
    "    elif row == \"MISSOURI\":\n",
    "        states.append(\"MIDWEST\")\n",
    "    elif row == \"ARKANSAS\":\n",
    "        states.append(\"SOUTH\")\n",
    "    elif row == \"LOUISIANA\":\n",
    "        states.append(\"SOUTH\")\n",
    "    elif row == \"NORTH DAKOTA\":\n",
    "        states.append(\"MIDWEST\")\n",
    "    elif row == \"SOUTH DAKOTA\":\n",
    "        states.append(\"MIDWEST\")\n",
    "    elif row == \"NEBRASKA\":\n",
    "        states.append(\"MIDWEST\")\n",
    "    elif row == \"KANSAS\":\n",
    "        states.append(\"MIDWEST\")\n",
    "    elif row == \"OKLAHOMA\":\n",
    "        states.append(\"SOUTH\")\n",
    "    elif row == \"TEXAS\":\n",
    "        states.append(\"SOUTH\")\n",
    "    elif row == \"MONTANA\":\n",
    "        states.append(\"WEST\")\n",
    "    elif row == \"WYOMING\":\n",
    "        states.append(\"WEST\")\n",
    "    elif row == \"COLORADO\":\n",
    "        states.append(\"WEST\")\n",
    "    elif row == \"NEW MEXICO\":\n",
    "        states.append(\"WEST\")\n",
    "    elif row == \"IDAHO\":\n",
    "        states.append(\"WEST\")\n",
    "    elif row == \"UTAH\":\n",
    "        states.append(\"WEST\")\n",
    "    elif row == \"ARIZONA\":\n",
    "        states.append(\"WEST\")\n",
    "    elif row == \"WASHINGTON\":\n",
    "        states.append(\"WEST\")\n",
    "    elif row == \"OREGON\":\n",
    "        states.append(\"WEST\")\n",
    "    elif row == \"NEVADA\":\n",
    "        states.append(\"WEST\")\n",
    "    elif row == \"CALIFORNIA\":\n",
    "        states.append(\"WEST\")\n",
    "    elif row == \"ALASKA\":\n",
    "        states.append(\"WEST\")\n",
    "    elif row == \"HAWAII\":\n",
    "        states.append(\"WEST\")\n",
    "    elif row == \"PUERTO RICO\":\n",
    "        states.append(\"OTHER\")\n",
    "    elif row == \"TENNESSEE\":\n",
    "        states.append(\"SOUTH\")\n",
    "    elif row == \"NORTHERN MARIANA ISLANDS\":\n",
    "        states.append(\"OTHER\")\n",
    "    elif row == \"VIRGIN ISLANDS\":\n",
    "        states.append(\"OTHER\")\n",
    "    elif row == \"GUAM\":\n",
    "        states.append(\"OTHER\")\n",
    "    else:\n",
    "        states.append(\"UNKNOWN\")\n",
    "        \n",
    "data5['EMPLOYER_REGIONS'] = states"
   ]
  },
  {
   "cell_type": "code",
   "execution_count": 16,
   "metadata": {},
   "outputs": [
    {
     "data": {
      "text/plain": [
       "NORTHEAST    119\n",
       "WEST          85\n",
       "SOUTH         82\n",
       "MIDWEST       50\n",
       "Name: EMPLOYER_REGIONS, dtype: int64"
      ]
     },
     "execution_count": 16,
     "metadata": {},
     "output_type": "execute_result"
    }
   ],
   "source": [
    "data5['EMPLOYER_REGIONS'].value_counts()"
   ]
  },
  {
   "cell_type": "code",
   "execution_count": 17,
   "metadata": {},
   "outputs": [
    {
     "data": {
      "text/plain": [
       "CASE_STATUS                      336\n",
       "DECISION_ELAPSED_DAYS            336\n",
       "EMPLOYER_POSTAL_CODE             336\n",
       "EMPLOYER_STATE                   336\n",
       "EMPLOYER_NUM_EMPLOYEES           336\n",
       "WAGE_OFFER_FROM_9089             336\n",
       "COUNTRY_OF_CITIZENSHIP           336\n",
       "CLASS_OF_ADMISSION               336\n",
       "FOREIGN_WORKER_INFO_EDUCATION    336\n",
       "CASE_RECEIVED_DATE_MONTH         336\n",
       "EMPLOYER_STATES                  336\n",
       "EMPLOYER_REGIONS                 336\n",
       "dtype: int64"
      ]
     },
     "execution_count": 17,
     "metadata": {},
     "output_type": "execute_result"
    }
   ],
   "source": [
    "data5.count()"
   ]
  },
  {
   "cell_type": "code",
   "execution_count": 18,
   "metadata": {},
   "outputs": [
    {
     "name": "stderr",
     "output_type": "stream",
     "text": [
      "C:\\Users\\kathleen.buckingham\\AppData\\Local\\Continuum\\anaconda3\\lib\\site-packages\\ipykernel_launcher.py:3: SettingWithCopyWarning: \n",
      "A value is trying to be set on a copy of a slice from a DataFrame.\n",
      "Try using .loc[row_indexer,col_indexer] = value instead\n",
      "\n",
      "See the caveats in the documentation: http://pandas.pydata.org/pandas-docs/stable/indexing.html#indexing-view-versus-copy\n",
      "  This is separate from the ipykernel package so we can avoid doing imports until\n"
     ]
    }
   ],
   "source": [
    "data5['DAY_BINS'] = pd.cut(x=data5['DECISION_ELAPSED_DAYS'], \n",
    "                             bins=[0, 90, 180, 365, 3600],\n",
    "                           labels=['0-90', '91-180', '181-365', '366-3600'])"
   ]
  },
  {
   "cell_type": "code",
   "execution_count": null,
   "metadata": {},
   "outputs": [
    {
     "data": {
      "text/plain": [
       "91-180      144\n",
       "0-90        105\n",
       "181-365      61\n",
       "366-3600     26\n",
       "Name: DAY_BINS, dtype: int64"
      ]
     },
     "execution_count": 19,
     "metadata": {},
     "output_type": "execute_result"
    }
   ],
   "source": [
    "data5['DAY_BINS'].value_counts()"
   ]
  },
  {
   "cell_type": "code",
   "execution_count": null,
   "metadata": {},
   "outputs": [
    {
     "name": "stderr",
     "output_type": "stream",
     "text": [
      "C:\\Users\\kathleen.buckingham\\AppData\\Local\\Continuum\\anaconda3\\lib\\site-packages\\ipykernel_launcher.py:3: SettingWithCopyWarning: \n",
      "A value is trying to be set on a copy of a slice from a DataFrame.\n",
      "Try using .loc[row_indexer,col_indexer] = value instead\n",
      "\n",
      "See the caveats in the documentation: http://pandas.pydata.org/pandas-docs/stable/indexing.html#indexing-view-versus-copy\n",
      "  This is separate from the ipykernel package so we can avoid doing imports until\n"
     ]
    }
   ],
   "source": [
    "data5['WAGE_BINS'] = pd.cut(x=data5['WAGE_OFFER_FROM_9089'], \n",
    "                             bins=[0, 25000, 50000, 75000, 100000, 500000],\n",
    "                           labels=['0-25000', '25001-50000', '50001-75000', '75001-100000', '100000-500000'])"
   ]
  },
  {
   "cell_type": "code",
   "execution_count": null,
   "metadata": {},
   "outputs": [
    {
     "data": {
      "text/plain": [
       "100000-500000    156\n",
       "75001-100000      92\n",
       "50001-75000       63\n",
       "25001-50000       21\n",
       "0-25000            2\n",
       "Name: WAGE_BINS, dtype: int64"
      ]
     },
     "execution_count": 21,
     "metadata": {},
     "output_type": "execute_result"
    }
   ],
   "source": [
    "data5['WAGE_BINS'].value_counts()"
   ]
  },
  {
   "cell_type": "code",
   "execution_count": null,
   "metadata": {},
   "outputs": [
    {
     "name": "stderr",
     "output_type": "stream",
     "text": [
      "C:\\Users\\kathleen.buckingham\\AppData\\Local\\Continuum\\anaconda3\\lib\\site-packages\\ipykernel_launcher.py:3: SettingWithCopyWarning: \n",
      "A value is trying to be set on a copy of a slice from a DataFrame.\n",
      "Try using .loc[row_indexer,col_indexer] = value instead\n",
      "\n",
      "See the caveats in the documentation: http://pandas.pydata.org/pandas-docs/stable/indexing.html#indexing-view-versus-copy\n",
      "  This is separate from the ipykernel package so we can avoid doing imports until\n"
     ]
    }
   ],
   "source": [
    "data5['EMPLOYEE_BINS'] = pd.cut(x=data5['EMPLOYER_NUM_EMPLOYEES'], \n",
    "                             bins=[0, 50, 100, 500, 1000, 10000, 1000000000],\n",
    "                           labels=['0-50', '51-100', '101-500', '501-1000', '1001-10000', '10001-1000000000'])"
   ]
  },
  {
   "cell_type": "code",
   "execution_count": null,
   "metadata": {},
   "outputs": [
    {
     "data": {
      "text/plain": [
       "10001-1000000000    88\n",
       "1001-10000          82\n",
       "0-50                81\n",
       "101-500             47\n",
       "51-100              22\n",
       "501-1000            16\n",
       "Name: EMPLOYEE_BINS, dtype: int64"
      ]
     },
     "execution_count": 23,
     "metadata": {},
     "output_type": "execute_result"
    }
   ],
   "source": [
    "data5['EMPLOYEE_BINS'].value_counts()"
   ]
  },
  {
   "cell_type": "code",
   "execution_count": null,
   "metadata": {},
   "outputs": [
    {
     "data": {
      "text/plain": [
       "CASE_STATUS                      336\n",
       "DECISION_ELAPSED_DAYS            336\n",
       "EMPLOYER_POSTAL_CODE             336\n",
       "EMPLOYER_STATE                   336\n",
       "EMPLOYER_NUM_EMPLOYEES           336\n",
       "WAGE_OFFER_FROM_9089             336\n",
       "COUNTRY_OF_CITIZENSHIP           336\n",
       "CLASS_OF_ADMISSION               336\n",
       "FOREIGN_WORKER_INFO_EDUCATION    336\n",
       "CASE_RECEIVED_DATE_MONTH         336\n",
       "EMPLOYER_STATES                  336\n",
       "EMPLOYER_REGIONS                 336\n",
       "DAY_BINS                         336\n",
       "WAGE_BINS                        334\n",
       "EMPLOYEE_BINS                    336\n",
       "dtype: int64"
      ]
     },
     "execution_count": 24,
     "metadata": {},
     "output_type": "execute_result"
    }
   ],
   "source": [
    "data5.count()"
   ]
  },
  {
   "cell_type": "code",
   "execution_count": null,
   "metadata": {},
   "outputs": [],
   "source": [
    "data6 = data5[[\n",
    "    'CASE_STATUS',\n",
    "    'EMPLOYEE_BINS',\n",
    "    'WAGE_BINS',\n",
    "    'EMPLOYER_REGIONS',\n",
    "    'CASE_RECEIVED_DATE_MONTH',\n",
    "    'FOREIGN_WORKER_INFO_EDUCATION',\n",
    "    'CLASS_OF_ADMISSION',\n",
    "    'DAY_BINS'\n",
    "]]"
   ]
  },
  {
   "cell_type": "code",
   "execution_count": null,
   "metadata": {},
   "outputs": [
    {
     "data": {
      "text/html": [
       "<div>\n",
       "<style scoped>\n",
       "    .dataframe tbody tr th:only-of-type {\n",
       "        vertical-align: middle;\n",
       "    }\n",
       "\n",
       "    .dataframe tbody tr th {\n",
       "        vertical-align: top;\n",
       "    }\n",
       "\n",
       "    .dataframe thead th {\n",
       "        text-align: right;\n",
       "    }\n",
       "</style>\n",
       "<table border=\"1\" class=\"dataframe\">\n",
       "  <thead>\n",
       "    <tr style=\"text-align: right;\">\n",
       "      <th></th>\n",
       "      <th>CASE_STATUS</th>\n",
       "      <th>EMPLOYEE_BINS</th>\n",
       "      <th>WAGE_BINS</th>\n",
       "      <th>EMPLOYER_REGIONS</th>\n",
       "      <th>CASE_RECEIVED_DATE_MONTH</th>\n",
       "      <th>FOREIGN_WORKER_INFO_EDUCATION</th>\n",
       "      <th>CLASS_OF_ADMISSION</th>\n",
       "      <th>DAY_BINS</th>\n",
       "    </tr>\n",
       "  </thead>\n",
       "  <tbody>\n",
       "    <tr>\n",
       "      <th>486</th>\n",
       "      <td>Certified</td>\n",
       "      <td>0-50</td>\n",
       "      <td>50001-75000</td>\n",
       "      <td>NORTHEAST</td>\n",
       "      <td>1.0</td>\n",
       "      <td>Master's</td>\n",
       "      <td>H-1B</td>\n",
       "      <td>366-3600</td>\n",
       "    </tr>\n",
       "    <tr>\n",
       "      <th>1050</th>\n",
       "      <td>Certified</td>\n",
       "      <td>0-50</td>\n",
       "      <td>100000-500000</td>\n",
       "      <td>NORTHEAST</td>\n",
       "      <td>11.0</td>\n",
       "      <td>Bachelor's</td>\n",
       "      <td>B-2</td>\n",
       "      <td>91-180</td>\n",
       "    </tr>\n",
       "    <tr>\n",
       "      <th>2112</th>\n",
       "      <td>Certified</td>\n",
       "      <td>1001-10000</td>\n",
       "      <td>100000-500000</td>\n",
       "      <td>NORTHEAST</td>\n",
       "      <td>11.0</td>\n",
       "      <td>Master's</td>\n",
       "      <td>L-1</td>\n",
       "      <td>91-180</td>\n",
       "    </tr>\n",
       "    <tr>\n",
       "      <th>2262</th>\n",
       "      <td>Certified</td>\n",
       "      <td>101-500</td>\n",
       "      <td>100000-500000</td>\n",
       "      <td>MIDWEST</td>\n",
       "      <td>10.0</td>\n",
       "      <td>Other</td>\n",
       "      <td>H-1B</td>\n",
       "      <td>91-180</td>\n",
       "    </tr>\n",
       "    <tr>\n",
       "      <th>2337</th>\n",
       "      <td>Certified</td>\n",
       "      <td>101-500</td>\n",
       "      <td>100000-500000</td>\n",
       "      <td>WEST</td>\n",
       "      <td>10.0</td>\n",
       "      <td>Master's</td>\n",
       "      <td>H-1B</td>\n",
       "      <td>91-180</td>\n",
       "    </tr>\n",
       "  </tbody>\n",
       "</table>\n",
       "</div>"
      ],
      "text/plain": [
       "     CASE_STATUS EMPLOYEE_BINS      WAGE_BINS EMPLOYER_REGIONS  \\\n",
       "486    Certified          0-50    50001-75000        NORTHEAST   \n",
       "1050   Certified          0-50  100000-500000        NORTHEAST   \n",
       "2112   Certified    1001-10000  100000-500000        NORTHEAST   \n",
       "2262   Certified       101-500  100000-500000          MIDWEST   \n",
       "2337   Certified       101-500  100000-500000             WEST   \n",
       "\n",
       "      CASE_RECEIVED_DATE_MONTH FOREIGN_WORKER_INFO_EDUCATION  \\\n",
       "486                        1.0                      Master's   \n",
       "1050                      11.0                    Bachelor's   \n",
       "2112                      11.0                      Master's   \n",
       "2262                      10.0                         Other   \n",
       "2337                      10.0                      Master's   \n",
       "\n",
       "     CLASS_OF_ADMISSION  DAY_BINS  \n",
       "486                H-1B  366-3600  \n",
       "1050                B-2    91-180  \n",
       "2112                L-1    91-180  \n",
       "2262               H-1B    91-180  \n",
       "2337               H-1B    91-180  "
      ]
     },
     "execution_count": 26,
     "metadata": {},
     "output_type": "execute_result"
    }
   ],
   "source": [
    "data6.head()"
   ]
  },
  {
   "cell_type": "code",
   "execution_count": null,
   "metadata": {},
   "outputs": [
    {
     "data": {
      "text/plain": [
       "CASE_STATUS                        object\n",
       "EMPLOYEE_BINS                    category\n",
       "WAGE_BINS                        category\n",
       "EMPLOYER_REGIONS                   object\n",
       "CASE_RECEIVED_DATE_MONTH          float64\n",
       "FOREIGN_WORKER_INFO_EDUCATION      object\n",
       "CLASS_OF_ADMISSION                 object\n",
       "DAY_BINS                         category\n",
       "dtype: object"
      ]
     },
     "execution_count": 27,
     "metadata": {},
     "output_type": "execute_result"
    }
   ],
   "source": [
    "data6.dtypes"
   ]
  },
  {
   "cell_type": "code",
   "execution_count": null,
   "metadata": {},
   "outputs": [],
   "source": [
    "from sklearn.preprocessing import LabelEncoder\n",
    "num_encode = LabelEncoder()"
   ]
  },
  {
   "cell_type": "code",
   "execution_count": null,
   "metadata": {},
   "outputs": [],
   "source": [
    "data6['CLASS_OF_ADMISSION_CODE'] = num_encode.fit_transform(data6['CLASS_OF_ADMISSION'])"
   ]
  },
  {
   "cell_type": "code",
   "execution_count": null,
   "metadata": {},
   "outputs": [],
   "source": [
    "data6['FOREIGN_WORKER_INFO_EDUCATION_CODE'] = num_encode.fit_transform(data6['FOREIGN_WORKER_INFO_EDUCATION'])"
   ]
  },
  {
   "cell_type": "code",
   "execution_count": null,
   "metadata": {},
   "outputs": [],
   "source": [
    "data6['WAGE_BINS'] = data6['WAGE_BINS'].astype(str)"
   ]
  },
  {
   "cell_type": "code",
   "execution_count": null,
   "metadata": {},
   "outputs": [],
   "source": [
    "data6['WAGE_BINS_CODE'] = num_encode.fit_transform(data6['WAGE_BINS'])"
   ]
  },
  {
   "cell_type": "code",
   "execution_count": null,
   "metadata": {},
   "outputs": [],
   "source": [
    "data6['EMPLOYER_REGIONS_CODE'] = num_encode.fit_transform(data6['EMPLOYER_REGIONS'])"
   ]
  },
  {
   "cell_type": "code",
   "execution_count": null,
   "metadata": {},
   "outputs": [],
   "source": [
    "data6['DAY_BINS'] = data6['DAY_BINS'].astype(str)"
   ]
  },
  {
   "cell_type": "code",
   "execution_count": null,
   "metadata": {},
   "outputs": [],
   "source": [
    "data6['DAY_BINS_CODE'] = num_encode.fit_transform(data6['DAY_BINS'])"
   ]
  },
  {
   "cell_type": "code",
   "execution_count": null,
   "metadata": {},
   "outputs": [],
   "source": [
    "data6['EMPLOYEE_BINS'] = data6['EMPLOYEE_BINS'].astype(str)"
   ]
  },
  {
   "cell_type": "code",
   "execution_count": null,
   "metadata": {},
   "outputs": [],
   "source": [
    "data6['EMPLOYEE_BINS_CODE'] = num_encode.fit_transform(data6['EMPLOYEE_BINS'])"
   ]
  },
  {
   "cell_type": "code",
   "execution_count": null,
   "metadata": {},
   "outputs": [],
   "source": [
    "data6.head()"
   ]
  },
  {
   "cell_type": "code",
   "execution_count": null,
   "metadata": {},
   "outputs": [],
   "source": [
    "# data7.to_excel('../Resources/ML2_Philippenes.xlsx', index = False)"
   ]
  },
  {
   "cell_type": "code",
   "execution_count": null,
   "metadata": {},
   "outputs": [],
   "source": [
    "data6.count()"
   ]
  },
  {
   "cell_type": "code",
   "execution_count": null,
   "metadata": {},
   "outputs": [],
   "source": [
    "data7 = data6[[\n",
    "    'CASE_STATUS',\n",
    "    'EMPLOYEE_BINS_CODE',\n",
    "    'WAGE_BINS_CODE',\n",
    "    'DAY_BINS_CODE',\n",
    "    'FOREIGN_WORKER_INFO_EDUCATION_CODE',\n",
    "    'CLASS_OF_ADMISSION_CODE',\n",
    "    'CASE_RECEIVED_DATE_MONTH',\n",
    "    'EMPLOYER_REGIONS_CODE'\n",
    "]]"
   ]
  },
  {
   "cell_type": "code",
   "execution_count": null,
   "metadata": {},
   "outputs": [],
   "source": [
    "data7.head()"
   ]
  },
  {
   "cell_type": "code",
   "execution_count": null,
   "metadata": {},
   "outputs": [],
   "source": [
    "data7.dtypes"
   ]
  },
  {
   "cell_type": "code",
   "execution_count": null,
   "metadata": {},
   "outputs": [],
   "source": [
    "X = data7.drop(\"CASE_STATUS\", axis=1)\n",
    "y = data7[\"CASE_STATUS\"]\n",
    "print(X.shape, y.shape)"
   ]
  },
  {
   "cell_type": "code",
   "execution_count": null,
   "metadata": {},
   "outputs": [],
   "source": [
    "from sklearn.model_selection import train_test_split\n",
    "from sklearn.preprocessing import LabelEncoder, MinMaxScaler\n",
    "from tensorflow.keras.utils import to_categorical"
   ]
  },
  {
   "cell_type": "code",
   "execution_count": null,
   "metadata": {},
   "outputs": [],
   "source": [
    "X_train, X_test, y_train, y_test = train_test_split(\n",
    "    X, y, random_state=42, stratify=y)"
   ]
  },
  {
   "cell_type": "code",
   "execution_count": null,
   "metadata": {},
   "outputs": [],
   "source": [
    "X_scaler = MinMaxScaler().fit(X_train)\n",
    "X_train_scaled = X_scaler.transform(X_train)\n",
    "X_test_scaled = X_scaler.transform(X_test)"
   ]
  },
  {
   "cell_type": "code",
   "execution_count": null,
   "metadata": {},
   "outputs": [],
   "source": [
    "label_encoder = LabelEncoder()\n",
    "label_encoder.fit(y_train)\n",
    "encoded_y_train = label_encoder.transform(y_train)\n",
    "encoded_y_test = label_encoder.transform(y_test)"
   ]
  },
  {
   "cell_type": "code",
   "execution_count": null,
   "metadata": {},
   "outputs": [],
   "source": [
    "y_train_categorical = to_categorical(encoded_y_train)\n",
    "y_test_categorical = to_categorical(encoded_y_test)"
   ]
  },
  {
   "cell_type": "code",
   "execution_count": null,
   "metadata": {},
   "outputs": [],
   "source": [
    "from tensorflow.keras.models import Sequential\n",
    "from tensorflow.keras.layers import Dense"
   ]
  },
  {
   "cell_type": "code",
   "execution_count": null,
   "metadata": {},
   "outputs": [],
   "source": [
    "model = Sequential()\n",
    "model.add(Dense(units=100, activation='relu', input_dim=7))\n",
    "model.add(Dense(units=100, activation='relu'))\n",
    "model.add(Dense(units=2, activation='softmax'))"
   ]
  },
  {
   "cell_type": "code",
   "execution_count": null,
   "metadata": {},
   "outputs": [],
   "source": [
    "model.compile(optimizer='adam',\n",
    "              loss='categorical_crossentropy',\n",
    "              metrics=['accuracy'])"
   ]
  },
  {
   "cell_type": "code",
   "execution_count": null,
   "metadata": {
    "scrolled": true
   },
   "outputs": [],
   "source": [
    "model.fit(\n",
    "    X_train_scaled,\n",
    "    y_train_categorical,\n",
    "    epochs=500,\n",
    "    shuffle=True,\n",
    "    verbose=2\n",
    ")"
   ]
  },
  {
   "cell_type": "code",
   "execution_count": null,
   "metadata": {},
   "outputs": [],
   "source": [
    "model_loss, model_accuracy = model.evaluate(\n",
    "    X_test_scaled, y_test_categorical, verbose=2)\n",
    "print(\n",
    "    f\"Normal Neural Network - Loss: {model_loss}, Accuracy: {model_accuracy}\")"
   ]
  },
  {
   "cell_type": "code",
   "execution_count": null,
   "metadata": {},
   "outputs": [],
   "source": [
    "encoded_predictions = model.predict_classes(X_test_scaled[:10])\n",
    "prediction_labels = label_encoder.inverse_transform(encoded_predictions)"
   ]
  },
  {
   "cell_type": "code",
   "execution_count": null,
   "metadata": {},
   "outputs": [],
   "source": [
    "print(f\"Predicted classes: {prediction_labels}\")\n",
    "print(f\"Actual Labels: {list(y_test[:10])}\")"
   ]
  },
  {
   "cell_type": "code",
   "execution_count": null,
   "metadata": {},
   "outputs": [],
   "source": []
  }
 ],
 "metadata": {
  "kernelspec": {
   "display_name": "Python 3",
   "language": "python",
   "name": "python3"
  },
  "language_info": {
   "codemirror_mode": {
    "name": "ipython",
    "version": 3
   },
   "file_extension": ".py",
   "mimetype": "text/x-python",
   "name": "python",
   "nbconvert_exporter": "python",
   "pygments_lexer": "ipython3",
   "version": "3.7.1"
  }
 },
 "nbformat": 4,
 "nbformat_minor": 2
}
